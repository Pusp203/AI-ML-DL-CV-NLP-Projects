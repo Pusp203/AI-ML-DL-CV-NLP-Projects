{
  "nbformat": 4,
  "nbformat_minor": 0,
  "metadata": {
    "colab": {
      "provenance": [],
      "gpuType": "T4",
      "authorship_tag": "ABX9TyOyN3Vd30iOF8O8JoLwEIbg",
      "include_colab_link": true
    },
    "kernelspec": {
      "name": "python3",
      "display_name": "Python 3"
    },
    "language_info": {
      "name": "python"
    },
    "accelerator": "GPU"
  },
  "cells": [
    {
      "cell_type": "markdown",
      "metadata": {
        "id": "view-in-github",
        "colab_type": "text"
      },
      "source": [
        "<a href=\"https://colab.research.google.com/github/Pusp203/AI-ML-DL-CV-NLP-Projects/blob/main/CIFAR_10_Object_Recognition_using_ResNet50_.ipynb\" target=\"_parent\"><img src=\"https://colab.research.google.com/assets/colab-badge.svg\" alt=\"Open In Colab\"/></a>"
      ]
    },
    {
      "cell_type": "code",
      "execution_count": 16,
      "metadata": {
        "colab": {
          "base_uri": "https://localhost:8080/"
        },
        "id": "-doBibukDQ6T",
        "outputId": "3bfb347f-7ea1-4c1d-da7a-b4cda2a99f79"
      },
      "outputs": [
        {
          "output_type": "stream",
          "name": "stdout",
          "text": [
            "Requirement already satisfied: kaggle in /usr/local/lib/python3.11/dist-packages (1.7.4.2)\n",
            "Requirement already satisfied: bleach in /usr/local/lib/python3.11/dist-packages (from kaggle) (6.2.0)\n",
            "Requirement already satisfied: certifi>=14.05.14 in /usr/local/lib/python3.11/dist-packages (from kaggle) (2025.1.31)\n",
            "Requirement already satisfied: charset-normalizer in /usr/local/lib/python3.11/dist-packages (from kaggle) (3.4.1)\n",
            "Requirement already satisfied: idna in /usr/local/lib/python3.11/dist-packages (from kaggle) (3.10)\n",
            "Requirement already satisfied: protobuf in /usr/local/lib/python3.11/dist-packages (from kaggle) (5.29.3)\n",
            "Requirement already satisfied: python-dateutil>=2.5.3 in /usr/local/lib/python3.11/dist-packages (from kaggle) (2.8.2)\n",
            "Requirement already satisfied: python-slugify in /usr/local/lib/python3.11/dist-packages (from kaggle) (8.0.4)\n",
            "Requirement already satisfied: requests in /usr/local/lib/python3.11/dist-packages (from kaggle) (2.32.3)\n",
            "Requirement already satisfied: setuptools>=21.0.0 in /usr/local/lib/python3.11/dist-packages (from kaggle) (75.1.0)\n",
            "Requirement already satisfied: six>=1.10 in /usr/local/lib/python3.11/dist-packages (from kaggle) (1.17.0)\n",
            "Requirement already satisfied: text-unidecode in /usr/local/lib/python3.11/dist-packages (from kaggle) (1.3)\n",
            "Requirement already satisfied: tqdm in /usr/local/lib/python3.11/dist-packages (from kaggle) (4.67.1)\n",
            "Requirement already satisfied: urllib3>=1.15.1 in /usr/local/lib/python3.11/dist-packages (from kaggle) (2.3.0)\n",
            "Requirement already satisfied: webencodings in /usr/local/lib/python3.11/dist-packages (from kaggle) (0.5.1)\n"
          ]
        }
      ],
      "source": [
        "!pip install kaggle"
      ]
    },
    {
      "cell_type": "code",
      "source": [
        "# configuring the path of Kaggle.json file\n",
        "!mkdir -p ~/.kaggle\n",
        "!cp kaggle.json ~/.kaggle/\n",
        "!chmod 600 ~/.kaggle/kaggle.json"
      ],
      "metadata": {
        "id": "sc4pR0aLD5X2"
      },
      "execution_count": 21,
      "outputs": []
    },
    {
      "cell_type": "code",
      "source": [
        "# daatset api\n",
        "!kaggle competitions download -c cifar-10"
      ],
      "metadata": {
        "id": "FqPhtYwEErii"
      },
      "execution_count": 22,
      "outputs": []
    },
    {
      "cell_type": "code",
      "source": [
        "!ls"
      ],
      "metadata": {
        "colab": {
          "base_uri": "https://localhost:8080/"
        },
        "id": "uBlpzREnExv_",
        "outputId": "d230dfb2-ffb9-4891-8272-ce6f1b3c3662"
      },
      "execution_count": 23,
      "outputs": [
        {
          "output_type": "stream",
          "name": "stdout",
          "text": [
            "cifar-10.zip  kaggle.json  sample_data\n"
          ]
        }
      ]
    },
    {
      "cell_type": "code",
      "source": [
        "#extracting the compressed dataset\n",
        "from zipfile import ZipFile\n",
        "dataset='/content/cifar-10.zip'\n",
        "\n",
        "with ZipFile(dataset,'r')as zip:\n",
        "  zip.extractall()\n",
        "  print('The dataset is extracted')"
      ],
      "metadata": {
        "colab": {
          "base_uri": "https://localhost:8080/"
        },
        "id": "PV2ghgQnE-2c",
        "outputId": "2f2e1973-0dfa-4b56-8a6b-236a25e47241"
      },
      "execution_count": 24,
      "outputs": [
        {
          "output_type": "stream",
          "name": "stdout",
          "text": [
            "The dataset is extracted\n"
          ]
        }
      ]
    },
    {
      "cell_type": "code",
      "source": [
        "!ls"
      ],
      "metadata": {
        "id": "_yF1yPtJFy2N",
        "colab": {
          "base_uri": "https://localhost:8080/"
        },
        "outputId": "6d9cef7c-0023-494f-ff52-1beb41fa3d74"
      },
      "execution_count": 25,
      "outputs": [
        {
          "output_type": "stream",
          "name": "stdout",
          "text": [
            "cifar-10.zip  kaggle.json  sample_data\tsampleSubmission.csv  test.7z  train.7z  trainLabels.csv\n"
          ]
        }
      ]
    },
    {
      "cell_type": "code",
      "source": [
        "!pip install py7zr"
      ],
      "metadata": {
        "id": "npdBgPHSF0xn",
        "colab": {
          "base_uri": "https://localhost:8080/"
        },
        "outputId": "949e0a4e-e003-4445-f212-15ae6979dbe5"
      },
      "execution_count": 26,
      "outputs": [
        {
          "output_type": "stream",
          "name": "stdout",
          "text": [
            "Collecting py7zr\n",
            "  Downloading py7zr-0.22.0-py3-none-any.whl.metadata (16 kB)\n",
            "Collecting texttable (from py7zr)\n",
            "  Downloading texttable-1.7.0-py2.py3-none-any.whl.metadata (9.8 kB)\n",
            "Collecting pycryptodomex>=3.16.0 (from py7zr)\n",
            "  Downloading pycryptodomex-3.22.0-cp37-abi3-manylinux_2_17_x86_64.manylinux2014_x86_64.whl.metadata (3.4 kB)\n",
            "Collecting pyzstd>=0.15.9 (from py7zr)\n",
            "  Downloading pyzstd-0.16.2-cp311-cp311-manylinux_2_17_x86_64.manylinux2014_x86_64.whl.metadata (2.4 kB)\n",
            "Collecting pyppmd<1.2.0,>=1.1.0 (from py7zr)\n",
            "  Downloading pyppmd-1.1.1-cp311-cp311-manylinux_2_17_x86_64.manylinux2014_x86_64.whl.metadata (5.5 kB)\n",
            "Collecting pybcj<1.1.0,>=1.0.0 (from py7zr)\n",
            "  Downloading pybcj-1.0.3-cp311-cp311-manylinux_2_17_x86_64.manylinux2014_x86_64.whl.metadata (3.9 kB)\n",
            "Collecting multivolumefile>=0.2.3 (from py7zr)\n",
            "  Downloading multivolumefile-0.2.3-py3-none-any.whl.metadata (6.3 kB)\n",
            "Collecting inflate64<1.1.0,>=1.0.0 (from py7zr)\n",
            "  Downloading inflate64-1.0.1-cp311-cp311-manylinux_2_17_x86_64.manylinux2014_x86_64.whl.metadata (3.8 kB)\n",
            "Collecting brotli>=1.1.0 (from py7zr)\n",
            "  Downloading Brotli-1.1.0-cp311-cp311-manylinux_2_17_x86_64.manylinux2014_x86_64.whl.metadata (5.5 kB)\n",
            "Requirement already satisfied: psutil in /usr/local/lib/python3.11/dist-packages (from py7zr) (5.9.5)\n",
            "Downloading py7zr-0.22.0-py3-none-any.whl (67 kB)\n",
            "\u001b[2K   \u001b[90m━━━━━━━━━━━━━━━━━━━━━━━━━━━━━━━━━━━━━━━━\u001b[0m \u001b[32m67.9/67.9 kB\u001b[0m \u001b[31m7.4 MB/s\u001b[0m eta \u001b[36m0:00:00\u001b[0m\n",
            "\u001b[?25hDownloading Brotli-1.1.0-cp311-cp311-manylinux_2_17_x86_64.manylinux2014_x86_64.whl (2.9 MB)\n",
            "\u001b[2K   \u001b[90m━━━━━━━━━━━━━━━━━━━━━━━━━━━━━━━━━━━━━━━━\u001b[0m \u001b[32m2.9/2.9 MB\u001b[0m \u001b[31m77.5 MB/s\u001b[0m eta \u001b[36m0:00:00\u001b[0m\n",
            "\u001b[?25hDownloading inflate64-1.0.1-cp311-cp311-manylinux_2_17_x86_64.manylinux2014_x86_64.whl (96 kB)\n",
            "\u001b[2K   \u001b[90m━━━━━━━━━━━━━━━━━━━━━━━━━━━━━━━━━━━━━━━━\u001b[0m \u001b[32m96.2/96.2 kB\u001b[0m \u001b[31m9.9 MB/s\u001b[0m eta \u001b[36m0:00:00\u001b[0m\n",
            "\u001b[?25hDownloading multivolumefile-0.2.3-py3-none-any.whl (17 kB)\n",
            "Downloading pybcj-1.0.3-cp311-cp311-manylinux_2_17_x86_64.manylinux2014_x86_64.whl (50 kB)\n",
            "\u001b[2K   \u001b[90m━━━━━━━━━━━━━━━━━━━━━━━━━━━━━━━━━━━━━━━━\u001b[0m \u001b[32m50.6/50.6 kB\u001b[0m \u001b[31m5.3 MB/s\u001b[0m eta \u001b[36m0:00:00\u001b[0m\n",
            "\u001b[?25hDownloading pycryptodomex-3.22.0-cp37-abi3-manylinux_2_17_x86_64.manylinux2014_x86_64.whl (2.3 MB)\n",
            "\u001b[2K   \u001b[90m━━━━━━━━━━━━━━━━━━━━━━━━━━━━━━━━━━━━━━━━\u001b[0m \u001b[32m2.3/2.3 MB\u001b[0m \u001b[31m80.2 MB/s\u001b[0m eta \u001b[36m0:00:00\u001b[0m\n",
            "\u001b[?25hDownloading pyppmd-1.1.1-cp311-cp311-manylinux_2_17_x86_64.manylinux2014_x86_64.whl (141 kB)\n",
            "\u001b[2K   \u001b[90m━━━━━━━━━━━━━━━━━━━━━━━━━━━━━━━━━━━━━━━━\u001b[0m \u001b[32m141.3/141.3 kB\u001b[0m \u001b[31m14.7 MB/s\u001b[0m eta \u001b[36m0:00:00\u001b[0m\n",
            "\u001b[?25hDownloading pyzstd-0.16.2-cp311-cp311-manylinux_2_17_x86_64.manylinux2014_x86_64.whl (413 kB)\n",
            "\u001b[2K   \u001b[90m━━━━━━━━━━━━━━━━━━━━━━━━━━━━━━━━━━━━━━━━\u001b[0m \u001b[32m413.7/413.7 kB\u001b[0m \u001b[31m39.4 MB/s\u001b[0m eta \u001b[36m0:00:00\u001b[0m\n",
            "\u001b[?25hDownloading texttable-1.7.0-py2.py3-none-any.whl (10 kB)\n",
            "Installing collected packages: texttable, brotli, pyzstd, pyppmd, pycryptodomex, pybcj, multivolumefile, inflate64, py7zr\n",
            "Successfully installed brotli-1.1.0 inflate64-1.0.1 multivolumefile-0.2.3 py7zr-0.22.0 pybcj-1.0.3 pycryptodomex-3.22.0 pyppmd-1.1.1 pyzstd-0.16.2 texttable-1.7.0\n"
          ]
        }
      ]
    },
    {
      "cell_type": "code",
      "source": [
        "import py7zr\n",
        "archive=py7zr.SevenZipFile('/content/train.7z',mode='r')\n",
        "archive.extractall()\n",
        "archive.close()"
      ],
      "metadata": {
        "id": "7uO4JCWrGGf9"
      },
      "execution_count": 27,
      "outputs": []
    },
    {
      "cell_type": "code",
      "source": [
        "!ls"
      ],
      "metadata": {
        "id": "JcQUvLScHfoc",
        "colab": {
          "base_uri": "https://localhost:8080/"
        },
        "outputId": "457daaa4-bf41-4e07-cef7-bdca05923234"
      },
      "execution_count": 28,
      "outputs": [
        {
          "output_type": "stream",
          "name": "stdout",
          "text": [
            "cifar-10.zip  sample_data\t    test.7z  train.7z\n",
            "kaggle.json   sampleSubmission.csv  train    trainLabels.csv\n"
          ]
        }
      ]
    },
    {
      "cell_type": "code",
      "source": [],
      "metadata": {
        "id": "TfUDa8VnHmQv"
      },
      "execution_count": 28,
      "outputs": []
    },
    {
      "cell_type": "markdown",
      "source": [
        "Importing the Dependencies\n"
      ],
      "metadata": {
        "id": "8_HdNp6xmyeG"
      }
    },
    {
      "cell_type": "code",
      "source": [
        "import os\n",
        "import numpy as np\n",
        "import pandas as pd\n",
        "from PIL import Image\n",
        "import matplotlib.pyplot as plt\n",
        "import matplotlib.image as mpimg\n",
        "from sklearn.model_selection import train_test_split\n"
      ],
      "metadata": {
        "id": "gGTjroXsm0mp"
      },
      "execution_count": 29,
      "outputs": []
    },
    {
      "cell_type": "code",
      "source": [
        "filenames=os.listdir('/content/train')\n"
      ],
      "metadata": {
        "id": "x8z3WTqFnNnG"
      },
      "execution_count": 30,
      "outputs": []
    },
    {
      "cell_type": "code",
      "source": [
        "type(filenames)"
      ],
      "metadata": {
        "id": "aoxfmJTwncP_",
        "colab": {
          "base_uri": "https://localhost:8080/"
        },
        "outputId": "430ba477-0f3a-47db-b4de-70f0ef41ed89"
      },
      "execution_count": 31,
      "outputs": [
        {
          "output_type": "execute_result",
          "data": {
            "text/plain": [
              "list"
            ]
          },
          "metadata": {},
          "execution_count": 31
        }
      ]
    },
    {
      "cell_type": "code",
      "source": [
        "len(filenames)"
      ],
      "metadata": {
        "id": "-CHgKeSgneIi",
        "colab": {
          "base_uri": "https://localhost:8080/"
        },
        "outputId": "a38abe42-589f-457f-8ece-2455cca0c853"
      },
      "execution_count": 32,
      "outputs": [
        {
          "output_type": "execute_result",
          "data": {
            "text/plain": [
              "50000"
            ]
          },
          "metadata": {},
          "execution_count": 32
        }
      ]
    },
    {
      "cell_type": "code",
      "source": [
        "print(filenames[0:5])"
      ],
      "metadata": {
        "id": "0lRcz1A1nhvz",
        "colab": {
          "base_uri": "https://localhost:8080/"
        },
        "outputId": "02a8fde7-0cbf-47fd-98de-35dc2fb9d66f"
      },
      "execution_count": 33,
      "outputs": [
        {
          "output_type": "stream",
          "name": "stdout",
          "text": [
            "['18730.png', '14736.png', '49379.png', '26419.png', '14513.png']\n"
          ]
        }
      ]
    },
    {
      "cell_type": "code",
      "source": [
        "print(filenames[-5:])\n"
      ],
      "metadata": {
        "id": "V6okraQIn1HK",
        "colab": {
          "base_uri": "https://localhost:8080/"
        },
        "outputId": "91b8269f-3163-405a-8ebd-3ea2be4c512d"
      },
      "execution_count": 34,
      "outputs": [
        {
          "output_type": "stream",
          "name": "stdout",
          "text": [
            "['25261.png', '2916.png', '5390.png', '31986.png', '23388.png']\n"
          ]
        }
      ]
    },
    {
      "cell_type": "markdown",
      "source": [
        "Labels Processing\n"
      ],
      "metadata": {
        "id": "9tB_dWC-oCeg"
      }
    },
    {
      "cell_type": "code",
      "source": [
        "labels_df=pd.read_csv(\"/content/trainLabels.csv\")"
      ],
      "metadata": {
        "id": "dyqYYiDhoKwz"
      },
      "execution_count": 35,
      "outputs": []
    },
    {
      "cell_type": "code",
      "source": [
        "labels_df.shape"
      ],
      "metadata": {
        "id": "IsmGXbpvoaFs",
        "colab": {
          "base_uri": "https://localhost:8080/"
        },
        "outputId": "08c94da3-05d6-42fc-ed74-9b2f6d2f97de"
      },
      "execution_count": 36,
      "outputs": [
        {
          "output_type": "execute_result",
          "data": {
            "text/plain": [
              "(50000, 2)"
            ]
          },
          "metadata": {},
          "execution_count": 36
        }
      ]
    },
    {
      "cell_type": "code",
      "source": [
        "labels_df.head()"
      ],
      "metadata": {
        "id": "OkIwTGGlocqk",
        "colab": {
          "base_uri": "https://localhost:8080/",
          "height": 206
        },
        "outputId": "137c200a-9eb5-4a8b-fa2c-41a4fe20ea8d"
      },
      "execution_count": 37,
      "outputs": [
        {
          "output_type": "execute_result",
          "data": {
            "text/plain": [
              "   id       label\n",
              "0   1        frog\n",
              "1   2       truck\n",
              "2   3       truck\n",
              "3   4        deer\n",
              "4   5  automobile"
            ],
            "text/html": [
              "\n",
              "  <div id=\"df-134f6440-650f-4c81-8788-d3e0178b94db\" class=\"colab-df-container\">\n",
              "    <div>\n",
              "<style scoped>\n",
              "    .dataframe tbody tr th:only-of-type {\n",
              "        vertical-align: middle;\n",
              "    }\n",
              "\n",
              "    .dataframe tbody tr th {\n",
              "        vertical-align: top;\n",
              "    }\n",
              "\n",
              "    .dataframe thead th {\n",
              "        text-align: right;\n",
              "    }\n",
              "</style>\n",
              "<table border=\"1\" class=\"dataframe\">\n",
              "  <thead>\n",
              "    <tr style=\"text-align: right;\">\n",
              "      <th></th>\n",
              "      <th>id</th>\n",
              "      <th>label</th>\n",
              "    </tr>\n",
              "  </thead>\n",
              "  <tbody>\n",
              "    <tr>\n",
              "      <th>0</th>\n",
              "      <td>1</td>\n",
              "      <td>frog</td>\n",
              "    </tr>\n",
              "    <tr>\n",
              "      <th>1</th>\n",
              "      <td>2</td>\n",
              "      <td>truck</td>\n",
              "    </tr>\n",
              "    <tr>\n",
              "      <th>2</th>\n",
              "      <td>3</td>\n",
              "      <td>truck</td>\n",
              "    </tr>\n",
              "    <tr>\n",
              "      <th>3</th>\n",
              "      <td>4</td>\n",
              "      <td>deer</td>\n",
              "    </tr>\n",
              "    <tr>\n",
              "      <th>4</th>\n",
              "      <td>5</td>\n",
              "      <td>automobile</td>\n",
              "    </tr>\n",
              "  </tbody>\n",
              "</table>\n",
              "</div>\n",
              "    <div class=\"colab-df-buttons\">\n",
              "\n",
              "  <div class=\"colab-df-container\">\n",
              "    <button class=\"colab-df-convert\" onclick=\"convertToInteractive('df-134f6440-650f-4c81-8788-d3e0178b94db')\"\n",
              "            title=\"Convert this dataframe to an interactive table.\"\n",
              "            style=\"display:none;\">\n",
              "\n",
              "  <svg xmlns=\"http://www.w3.org/2000/svg\" height=\"24px\" viewBox=\"0 -960 960 960\">\n",
              "    <path d=\"M120-120v-720h720v720H120Zm60-500h600v-160H180v160Zm220 220h160v-160H400v160Zm0 220h160v-160H400v160ZM180-400h160v-160H180v160Zm440 0h160v-160H620v160ZM180-180h160v-160H180v160Zm440 0h160v-160H620v160Z\"/>\n",
              "  </svg>\n",
              "    </button>\n",
              "\n",
              "  <style>\n",
              "    .colab-df-container {\n",
              "      display:flex;\n",
              "      gap: 12px;\n",
              "    }\n",
              "\n",
              "    .colab-df-convert {\n",
              "      background-color: #E8F0FE;\n",
              "      border: none;\n",
              "      border-radius: 50%;\n",
              "      cursor: pointer;\n",
              "      display: none;\n",
              "      fill: #1967D2;\n",
              "      height: 32px;\n",
              "      padding: 0 0 0 0;\n",
              "      width: 32px;\n",
              "    }\n",
              "\n",
              "    .colab-df-convert:hover {\n",
              "      background-color: #E2EBFA;\n",
              "      box-shadow: 0px 1px 2px rgba(60, 64, 67, 0.3), 0px 1px 3px 1px rgba(60, 64, 67, 0.15);\n",
              "      fill: #174EA6;\n",
              "    }\n",
              "\n",
              "    .colab-df-buttons div {\n",
              "      margin-bottom: 4px;\n",
              "    }\n",
              "\n",
              "    [theme=dark] .colab-df-convert {\n",
              "      background-color: #3B4455;\n",
              "      fill: #D2E3FC;\n",
              "    }\n",
              "\n",
              "    [theme=dark] .colab-df-convert:hover {\n",
              "      background-color: #434B5C;\n",
              "      box-shadow: 0px 1px 3px 1px rgba(0, 0, 0, 0.15);\n",
              "      filter: drop-shadow(0px 1px 2px rgba(0, 0, 0, 0.3));\n",
              "      fill: #FFFFFF;\n",
              "    }\n",
              "  </style>\n",
              "\n",
              "    <script>\n",
              "      const buttonEl =\n",
              "        document.querySelector('#df-134f6440-650f-4c81-8788-d3e0178b94db button.colab-df-convert');\n",
              "      buttonEl.style.display =\n",
              "        google.colab.kernel.accessAllowed ? 'block' : 'none';\n",
              "\n",
              "      async function convertToInteractive(key) {\n",
              "        const element = document.querySelector('#df-134f6440-650f-4c81-8788-d3e0178b94db');\n",
              "        const dataTable =\n",
              "          await google.colab.kernel.invokeFunction('convertToInteractive',\n",
              "                                                    [key], {});\n",
              "        if (!dataTable) return;\n",
              "\n",
              "        const docLinkHtml = 'Like what you see? Visit the ' +\n",
              "          '<a target=\"_blank\" href=https://colab.research.google.com/notebooks/data_table.ipynb>data table notebook</a>'\n",
              "          + ' to learn more about interactive tables.';\n",
              "        element.innerHTML = '';\n",
              "        dataTable['output_type'] = 'display_data';\n",
              "        await google.colab.output.renderOutput(dataTable, element);\n",
              "        const docLink = document.createElement('div');\n",
              "        docLink.innerHTML = docLinkHtml;\n",
              "        element.appendChild(docLink);\n",
              "      }\n",
              "    </script>\n",
              "  </div>\n",
              "\n",
              "\n",
              "<div id=\"df-4ecc0902-7265-4b7a-8c81-0be610eab6d2\">\n",
              "  <button class=\"colab-df-quickchart\" onclick=\"quickchart('df-4ecc0902-7265-4b7a-8c81-0be610eab6d2')\"\n",
              "            title=\"Suggest charts\"\n",
              "            style=\"display:none;\">\n",
              "\n",
              "<svg xmlns=\"http://www.w3.org/2000/svg\" height=\"24px\"viewBox=\"0 0 24 24\"\n",
              "     width=\"24px\">\n",
              "    <g>\n",
              "        <path d=\"M19 3H5c-1.1 0-2 .9-2 2v14c0 1.1.9 2 2 2h14c1.1 0 2-.9 2-2V5c0-1.1-.9-2-2-2zM9 17H7v-7h2v7zm4 0h-2V7h2v10zm4 0h-2v-4h2v4z\"/>\n",
              "    </g>\n",
              "</svg>\n",
              "  </button>\n",
              "\n",
              "<style>\n",
              "  .colab-df-quickchart {\n",
              "      --bg-color: #E8F0FE;\n",
              "      --fill-color: #1967D2;\n",
              "      --hover-bg-color: #E2EBFA;\n",
              "      --hover-fill-color: #174EA6;\n",
              "      --disabled-fill-color: #AAA;\n",
              "      --disabled-bg-color: #DDD;\n",
              "  }\n",
              "\n",
              "  [theme=dark] .colab-df-quickchart {\n",
              "      --bg-color: #3B4455;\n",
              "      --fill-color: #D2E3FC;\n",
              "      --hover-bg-color: #434B5C;\n",
              "      --hover-fill-color: #FFFFFF;\n",
              "      --disabled-bg-color: #3B4455;\n",
              "      --disabled-fill-color: #666;\n",
              "  }\n",
              "\n",
              "  .colab-df-quickchart {\n",
              "    background-color: var(--bg-color);\n",
              "    border: none;\n",
              "    border-radius: 50%;\n",
              "    cursor: pointer;\n",
              "    display: none;\n",
              "    fill: var(--fill-color);\n",
              "    height: 32px;\n",
              "    padding: 0;\n",
              "    width: 32px;\n",
              "  }\n",
              "\n",
              "  .colab-df-quickchart:hover {\n",
              "    background-color: var(--hover-bg-color);\n",
              "    box-shadow: 0 1px 2px rgba(60, 64, 67, 0.3), 0 1px 3px 1px rgba(60, 64, 67, 0.15);\n",
              "    fill: var(--button-hover-fill-color);\n",
              "  }\n",
              "\n",
              "  .colab-df-quickchart-complete:disabled,\n",
              "  .colab-df-quickchart-complete:disabled:hover {\n",
              "    background-color: var(--disabled-bg-color);\n",
              "    fill: var(--disabled-fill-color);\n",
              "    box-shadow: none;\n",
              "  }\n",
              "\n",
              "  .colab-df-spinner {\n",
              "    border: 2px solid var(--fill-color);\n",
              "    border-color: transparent;\n",
              "    border-bottom-color: var(--fill-color);\n",
              "    animation:\n",
              "      spin 1s steps(1) infinite;\n",
              "  }\n",
              "\n",
              "  @keyframes spin {\n",
              "    0% {\n",
              "      border-color: transparent;\n",
              "      border-bottom-color: var(--fill-color);\n",
              "      border-left-color: var(--fill-color);\n",
              "    }\n",
              "    20% {\n",
              "      border-color: transparent;\n",
              "      border-left-color: var(--fill-color);\n",
              "      border-top-color: var(--fill-color);\n",
              "    }\n",
              "    30% {\n",
              "      border-color: transparent;\n",
              "      border-left-color: var(--fill-color);\n",
              "      border-top-color: var(--fill-color);\n",
              "      border-right-color: var(--fill-color);\n",
              "    }\n",
              "    40% {\n",
              "      border-color: transparent;\n",
              "      border-right-color: var(--fill-color);\n",
              "      border-top-color: var(--fill-color);\n",
              "    }\n",
              "    60% {\n",
              "      border-color: transparent;\n",
              "      border-right-color: var(--fill-color);\n",
              "    }\n",
              "    80% {\n",
              "      border-color: transparent;\n",
              "      border-right-color: var(--fill-color);\n",
              "      border-bottom-color: var(--fill-color);\n",
              "    }\n",
              "    90% {\n",
              "      border-color: transparent;\n",
              "      border-bottom-color: var(--fill-color);\n",
              "    }\n",
              "  }\n",
              "</style>\n",
              "\n",
              "  <script>\n",
              "    async function quickchart(key) {\n",
              "      const quickchartButtonEl =\n",
              "        document.querySelector('#' + key + ' button');\n",
              "      quickchartButtonEl.disabled = true;  // To prevent multiple clicks.\n",
              "      quickchartButtonEl.classList.add('colab-df-spinner');\n",
              "      try {\n",
              "        const charts = await google.colab.kernel.invokeFunction(\n",
              "            'suggestCharts', [key], {});\n",
              "      } catch (error) {\n",
              "        console.error('Error during call to suggestCharts:', error);\n",
              "      }\n",
              "      quickchartButtonEl.classList.remove('colab-df-spinner');\n",
              "      quickchartButtonEl.classList.add('colab-df-quickchart-complete');\n",
              "    }\n",
              "    (() => {\n",
              "      let quickchartButtonEl =\n",
              "        document.querySelector('#df-4ecc0902-7265-4b7a-8c81-0be610eab6d2 button');\n",
              "      quickchartButtonEl.style.display =\n",
              "        google.colab.kernel.accessAllowed ? 'block' : 'none';\n",
              "    })();\n",
              "  </script>\n",
              "</div>\n",
              "\n",
              "    </div>\n",
              "  </div>\n"
            ],
            "application/vnd.google.colaboratory.intrinsic+json": {
              "type": "dataframe",
              "variable_name": "labels_df",
              "summary": "{\n  \"name\": \"labels_df\",\n  \"rows\": 50000,\n  \"fields\": [\n    {\n      \"column\": \"id\",\n      \"properties\": {\n        \"dtype\": \"number\",\n        \"std\": 14433,\n        \"min\": 1,\n        \"max\": 50000,\n        \"num_unique_values\": 50000,\n        \"samples\": [\n          33554,\n          9428,\n          200\n        ],\n        \"semantic_type\": \"\",\n        \"description\": \"\"\n      }\n    },\n    {\n      \"column\": \"label\",\n      \"properties\": {\n        \"dtype\": \"category\",\n        \"num_unique_values\": 10,\n        \"samples\": [\n          \"dog\",\n          \"truck\",\n          \"horse\"\n        ],\n        \"semantic_type\": \"\",\n        \"description\": \"\"\n      }\n    }\n  ]\n}"
            }
          },
          "metadata": {},
          "execution_count": 37
        }
      ]
    },
    {
      "cell_type": "code",
      "source": [
        "labels_df[labels_df['id']==18730]"
      ],
      "metadata": {
        "id": "7ZpLtMFQofRl",
        "colab": {
          "base_uri": "https://localhost:8080/",
          "height": 81
        },
        "outputId": "49879860-f112-4053-960b-83091a67c11b"
      },
      "execution_count": 38,
      "outputs": [
        {
          "output_type": "execute_result",
          "data": {
            "text/plain": [
              "          id label\n",
              "18729  18730   dog"
            ],
            "text/html": [
              "\n",
              "  <div id=\"df-9e22e54f-0363-4474-b2b8-053d1f0809a4\" class=\"colab-df-container\">\n",
              "    <div>\n",
              "<style scoped>\n",
              "    .dataframe tbody tr th:only-of-type {\n",
              "        vertical-align: middle;\n",
              "    }\n",
              "\n",
              "    .dataframe tbody tr th {\n",
              "        vertical-align: top;\n",
              "    }\n",
              "\n",
              "    .dataframe thead th {\n",
              "        text-align: right;\n",
              "    }\n",
              "</style>\n",
              "<table border=\"1\" class=\"dataframe\">\n",
              "  <thead>\n",
              "    <tr style=\"text-align: right;\">\n",
              "      <th></th>\n",
              "      <th>id</th>\n",
              "      <th>label</th>\n",
              "    </tr>\n",
              "  </thead>\n",
              "  <tbody>\n",
              "    <tr>\n",
              "      <th>18729</th>\n",
              "      <td>18730</td>\n",
              "      <td>dog</td>\n",
              "    </tr>\n",
              "  </tbody>\n",
              "</table>\n",
              "</div>\n",
              "    <div class=\"colab-df-buttons\">\n",
              "\n",
              "  <div class=\"colab-df-container\">\n",
              "    <button class=\"colab-df-convert\" onclick=\"convertToInteractive('df-9e22e54f-0363-4474-b2b8-053d1f0809a4')\"\n",
              "            title=\"Convert this dataframe to an interactive table.\"\n",
              "            style=\"display:none;\">\n",
              "\n",
              "  <svg xmlns=\"http://www.w3.org/2000/svg\" height=\"24px\" viewBox=\"0 -960 960 960\">\n",
              "    <path d=\"M120-120v-720h720v720H120Zm60-500h600v-160H180v160Zm220 220h160v-160H400v160Zm0 220h160v-160H400v160ZM180-400h160v-160H180v160Zm440 0h160v-160H620v160ZM180-180h160v-160H180v160Zm440 0h160v-160H620v160Z\"/>\n",
              "  </svg>\n",
              "    </button>\n",
              "\n",
              "  <style>\n",
              "    .colab-df-container {\n",
              "      display:flex;\n",
              "      gap: 12px;\n",
              "    }\n",
              "\n",
              "    .colab-df-convert {\n",
              "      background-color: #E8F0FE;\n",
              "      border: none;\n",
              "      border-radius: 50%;\n",
              "      cursor: pointer;\n",
              "      display: none;\n",
              "      fill: #1967D2;\n",
              "      height: 32px;\n",
              "      padding: 0 0 0 0;\n",
              "      width: 32px;\n",
              "    }\n",
              "\n",
              "    .colab-df-convert:hover {\n",
              "      background-color: #E2EBFA;\n",
              "      box-shadow: 0px 1px 2px rgba(60, 64, 67, 0.3), 0px 1px 3px 1px rgba(60, 64, 67, 0.15);\n",
              "      fill: #174EA6;\n",
              "    }\n",
              "\n",
              "    .colab-df-buttons div {\n",
              "      margin-bottom: 4px;\n",
              "    }\n",
              "\n",
              "    [theme=dark] .colab-df-convert {\n",
              "      background-color: #3B4455;\n",
              "      fill: #D2E3FC;\n",
              "    }\n",
              "\n",
              "    [theme=dark] .colab-df-convert:hover {\n",
              "      background-color: #434B5C;\n",
              "      box-shadow: 0px 1px 3px 1px rgba(0, 0, 0, 0.15);\n",
              "      filter: drop-shadow(0px 1px 2px rgba(0, 0, 0, 0.3));\n",
              "      fill: #FFFFFF;\n",
              "    }\n",
              "  </style>\n",
              "\n",
              "    <script>\n",
              "      const buttonEl =\n",
              "        document.querySelector('#df-9e22e54f-0363-4474-b2b8-053d1f0809a4 button.colab-df-convert');\n",
              "      buttonEl.style.display =\n",
              "        google.colab.kernel.accessAllowed ? 'block' : 'none';\n",
              "\n",
              "      async function convertToInteractive(key) {\n",
              "        const element = document.querySelector('#df-9e22e54f-0363-4474-b2b8-053d1f0809a4');\n",
              "        const dataTable =\n",
              "          await google.colab.kernel.invokeFunction('convertToInteractive',\n",
              "                                                    [key], {});\n",
              "        if (!dataTable) return;\n",
              "\n",
              "        const docLinkHtml = 'Like what you see? Visit the ' +\n",
              "          '<a target=\"_blank\" href=https://colab.research.google.com/notebooks/data_table.ipynb>data table notebook</a>'\n",
              "          + ' to learn more about interactive tables.';\n",
              "        element.innerHTML = '';\n",
              "        dataTable['output_type'] = 'display_data';\n",
              "        await google.colab.output.renderOutput(dataTable, element);\n",
              "        const docLink = document.createElement('div');\n",
              "        docLink.innerHTML = docLinkHtml;\n",
              "        element.appendChild(docLink);\n",
              "      }\n",
              "    </script>\n",
              "  </div>\n",
              "\n",
              "\n",
              "    </div>\n",
              "  </div>\n"
            ],
            "application/vnd.google.colaboratory.intrinsic+json": {
              "type": "dataframe",
              "summary": "{\n  \"name\": \"labels_df[labels_df['id']==18730]\",\n  \"rows\": 1,\n  \"fields\": [\n    {\n      \"column\": \"id\",\n      \"properties\": {\n        \"dtype\": \"number\",\n        \"std\": null,\n        \"min\": 18730,\n        \"max\": 18730,\n        \"num_unique_values\": 1,\n        \"samples\": [\n          18730\n        ],\n        \"semantic_type\": \"\",\n        \"description\": \"\"\n      }\n    },\n    {\n      \"column\": \"label\",\n      \"properties\": {\n        \"dtype\": \"string\",\n        \"num_unique_values\": 1,\n        \"samples\": [\n          \"dog\"\n        ],\n        \"semantic_type\": \"\",\n        \"description\": \"\"\n      }\n    }\n  ]\n}"
            }
          },
          "metadata": {},
          "execution_count": 38
        }
      ]
    },
    {
      "cell_type": "code",
      "source": [
        "labels_df.head(10)"
      ],
      "metadata": {
        "id": "GxJV6v_JoxX3",
        "colab": {
          "base_uri": "https://localhost:8080/",
          "height": 363
        },
        "outputId": "f3507053-9e42-49a8-92b0-060acfb0b8d2"
      },
      "execution_count": 39,
      "outputs": [
        {
          "output_type": "execute_result",
          "data": {
            "text/plain": [
              "   id       label\n",
              "0   1        frog\n",
              "1   2       truck\n",
              "2   3       truck\n",
              "3   4        deer\n",
              "4   5  automobile\n",
              "5   6  automobile\n",
              "6   7        bird\n",
              "7   8       horse\n",
              "8   9        ship\n",
              "9  10         cat"
            ],
            "text/html": [
              "\n",
              "  <div id=\"df-97b8545e-bf71-4d83-aa62-627ae1d0c4ca\" class=\"colab-df-container\">\n",
              "    <div>\n",
              "<style scoped>\n",
              "    .dataframe tbody tr th:only-of-type {\n",
              "        vertical-align: middle;\n",
              "    }\n",
              "\n",
              "    .dataframe tbody tr th {\n",
              "        vertical-align: top;\n",
              "    }\n",
              "\n",
              "    .dataframe thead th {\n",
              "        text-align: right;\n",
              "    }\n",
              "</style>\n",
              "<table border=\"1\" class=\"dataframe\">\n",
              "  <thead>\n",
              "    <tr style=\"text-align: right;\">\n",
              "      <th></th>\n",
              "      <th>id</th>\n",
              "      <th>label</th>\n",
              "    </tr>\n",
              "  </thead>\n",
              "  <tbody>\n",
              "    <tr>\n",
              "      <th>0</th>\n",
              "      <td>1</td>\n",
              "      <td>frog</td>\n",
              "    </tr>\n",
              "    <tr>\n",
              "      <th>1</th>\n",
              "      <td>2</td>\n",
              "      <td>truck</td>\n",
              "    </tr>\n",
              "    <tr>\n",
              "      <th>2</th>\n",
              "      <td>3</td>\n",
              "      <td>truck</td>\n",
              "    </tr>\n",
              "    <tr>\n",
              "      <th>3</th>\n",
              "      <td>4</td>\n",
              "      <td>deer</td>\n",
              "    </tr>\n",
              "    <tr>\n",
              "      <th>4</th>\n",
              "      <td>5</td>\n",
              "      <td>automobile</td>\n",
              "    </tr>\n",
              "    <tr>\n",
              "      <th>5</th>\n",
              "      <td>6</td>\n",
              "      <td>automobile</td>\n",
              "    </tr>\n",
              "    <tr>\n",
              "      <th>6</th>\n",
              "      <td>7</td>\n",
              "      <td>bird</td>\n",
              "    </tr>\n",
              "    <tr>\n",
              "      <th>7</th>\n",
              "      <td>8</td>\n",
              "      <td>horse</td>\n",
              "    </tr>\n",
              "    <tr>\n",
              "      <th>8</th>\n",
              "      <td>9</td>\n",
              "      <td>ship</td>\n",
              "    </tr>\n",
              "    <tr>\n",
              "      <th>9</th>\n",
              "      <td>10</td>\n",
              "      <td>cat</td>\n",
              "    </tr>\n",
              "  </tbody>\n",
              "</table>\n",
              "</div>\n",
              "    <div class=\"colab-df-buttons\">\n",
              "\n",
              "  <div class=\"colab-df-container\">\n",
              "    <button class=\"colab-df-convert\" onclick=\"convertToInteractive('df-97b8545e-bf71-4d83-aa62-627ae1d0c4ca')\"\n",
              "            title=\"Convert this dataframe to an interactive table.\"\n",
              "            style=\"display:none;\">\n",
              "\n",
              "  <svg xmlns=\"http://www.w3.org/2000/svg\" height=\"24px\" viewBox=\"0 -960 960 960\">\n",
              "    <path d=\"M120-120v-720h720v720H120Zm60-500h600v-160H180v160Zm220 220h160v-160H400v160Zm0 220h160v-160H400v160ZM180-400h160v-160H180v160Zm440 0h160v-160H620v160ZM180-180h160v-160H180v160Zm440 0h160v-160H620v160Z\"/>\n",
              "  </svg>\n",
              "    </button>\n",
              "\n",
              "  <style>\n",
              "    .colab-df-container {\n",
              "      display:flex;\n",
              "      gap: 12px;\n",
              "    }\n",
              "\n",
              "    .colab-df-convert {\n",
              "      background-color: #E8F0FE;\n",
              "      border: none;\n",
              "      border-radius: 50%;\n",
              "      cursor: pointer;\n",
              "      display: none;\n",
              "      fill: #1967D2;\n",
              "      height: 32px;\n",
              "      padding: 0 0 0 0;\n",
              "      width: 32px;\n",
              "    }\n",
              "\n",
              "    .colab-df-convert:hover {\n",
              "      background-color: #E2EBFA;\n",
              "      box-shadow: 0px 1px 2px rgba(60, 64, 67, 0.3), 0px 1px 3px 1px rgba(60, 64, 67, 0.15);\n",
              "      fill: #174EA6;\n",
              "    }\n",
              "\n",
              "    .colab-df-buttons div {\n",
              "      margin-bottom: 4px;\n",
              "    }\n",
              "\n",
              "    [theme=dark] .colab-df-convert {\n",
              "      background-color: #3B4455;\n",
              "      fill: #D2E3FC;\n",
              "    }\n",
              "\n",
              "    [theme=dark] .colab-df-convert:hover {\n",
              "      background-color: #434B5C;\n",
              "      box-shadow: 0px 1px 3px 1px rgba(0, 0, 0, 0.15);\n",
              "      filter: drop-shadow(0px 1px 2px rgba(0, 0, 0, 0.3));\n",
              "      fill: #FFFFFF;\n",
              "    }\n",
              "  </style>\n",
              "\n",
              "    <script>\n",
              "      const buttonEl =\n",
              "        document.querySelector('#df-97b8545e-bf71-4d83-aa62-627ae1d0c4ca button.colab-df-convert');\n",
              "      buttonEl.style.display =\n",
              "        google.colab.kernel.accessAllowed ? 'block' : 'none';\n",
              "\n",
              "      async function convertToInteractive(key) {\n",
              "        const element = document.querySelector('#df-97b8545e-bf71-4d83-aa62-627ae1d0c4ca');\n",
              "        const dataTable =\n",
              "          await google.colab.kernel.invokeFunction('convertToInteractive',\n",
              "                                                    [key], {});\n",
              "        if (!dataTable) return;\n",
              "\n",
              "        const docLinkHtml = 'Like what you see? Visit the ' +\n",
              "          '<a target=\"_blank\" href=https://colab.research.google.com/notebooks/data_table.ipynb>data table notebook</a>'\n",
              "          + ' to learn more about interactive tables.';\n",
              "        element.innerHTML = '';\n",
              "        dataTable['output_type'] = 'display_data';\n",
              "        await google.colab.output.renderOutput(dataTable, element);\n",
              "        const docLink = document.createElement('div');\n",
              "        docLink.innerHTML = docLinkHtml;\n",
              "        element.appendChild(docLink);\n",
              "      }\n",
              "    </script>\n",
              "  </div>\n",
              "\n",
              "\n",
              "<div id=\"df-a68d31dd-7758-4a0a-88e0-5fcbcfdcff23\">\n",
              "  <button class=\"colab-df-quickchart\" onclick=\"quickchart('df-a68d31dd-7758-4a0a-88e0-5fcbcfdcff23')\"\n",
              "            title=\"Suggest charts\"\n",
              "            style=\"display:none;\">\n",
              "\n",
              "<svg xmlns=\"http://www.w3.org/2000/svg\" height=\"24px\"viewBox=\"0 0 24 24\"\n",
              "     width=\"24px\">\n",
              "    <g>\n",
              "        <path d=\"M19 3H5c-1.1 0-2 .9-2 2v14c0 1.1.9 2 2 2h14c1.1 0 2-.9 2-2V5c0-1.1-.9-2-2-2zM9 17H7v-7h2v7zm4 0h-2V7h2v10zm4 0h-2v-4h2v4z\"/>\n",
              "    </g>\n",
              "</svg>\n",
              "  </button>\n",
              "\n",
              "<style>\n",
              "  .colab-df-quickchart {\n",
              "      --bg-color: #E8F0FE;\n",
              "      --fill-color: #1967D2;\n",
              "      --hover-bg-color: #E2EBFA;\n",
              "      --hover-fill-color: #174EA6;\n",
              "      --disabled-fill-color: #AAA;\n",
              "      --disabled-bg-color: #DDD;\n",
              "  }\n",
              "\n",
              "  [theme=dark] .colab-df-quickchart {\n",
              "      --bg-color: #3B4455;\n",
              "      --fill-color: #D2E3FC;\n",
              "      --hover-bg-color: #434B5C;\n",
              "      --hover-fill-color: #FFFFFF;\n",
              "      --disabled-bg-color: #3B4455;\n",
              "      --disabled-fill-color: #666;\n",
              "  }\n",
              "\n",
              "  .colab-df-quickchart {\n",
              "    background-color: var(--bg-color);\n",
              "    border: none;\n",
              "    border-radius: 50%;\n",
              "    cursor: pointer;\n",
              "    display: none;\n",
              "    fill: var(--fill-color);\n",
              "    height: 32px;\n",
              "    padding: 0;\n",
              "    width: 32px;\n",
              "  }\n",
              "\n",
              "  .colab-df-quickchart:hover {\n",
              "    background-color: var(--hover-bg-color);\n",
              "    box-shadow: 0 1px 2px rgba(60, 64, 67, 0.3), 0 1px 3px 1px rgba(60, 64, 67, 0.15);\n",
              "    fill: var(--button-hover-fill-color);\n",
              "  }\n",
              "\n",
              "  .colab-df-quickchart-complete:disabled,\n",
              "  .colab-df-quickchart-complete:disabled:hover {\n",
              "    background-color: var(--disabled-bg-color);\n",
              "    fill: var(--disabled-fill-color);\n",
              "    box-shadow: none;\n",
              "  }\n",
              "\n",
              "  .colab-df-spinner {\n",
              "    border: 2px solid var(--fill-color);\n",
              "    border-color: transparent;\n",
              "    border-bottom-color: var(--fill-color);\n",
              "    animation:\n",
              "      spin 1s steps(1) infinite;\n",
              "  }\n",
              "\n",
              "  @keyframes spin {\n",
              "    0% {\n",
              "      border-color: transparent;\n",
              "      border-bottom-color: var(--fill-color);\n",
              "      border-left-color: var(--fill-color);\n",
              "    }\n",
              "    20% {\n",
              "      border-color: transparent;\n",
              "      border-left-color: var(--fill-color);\n",
              "      border-top-color: var(--fill-color);\n",
              "    }\n",
              "    30% {\n",
              "      border-color: transparent;\n",
              "      border-left-color: var(--fill-color);\n",
              "      border-top-color: var(--fill-color);\n",
              "      border-right-color: var(--fill-color);\n",
              "    }\n",
              "    40% {\n",
              "      border-color: transparent;\n",
              "      border-right-color: var(--fill-color);\n",
              "      border-top-color: var(--fill-color);\n",
              "    }\n",
              "    60% {\n",
              "      border-color: transparent;\n",
              "      border-right-color: var(--fill-color);\n",
              "    }\n",
              "    80% {\n",
              "      border-color: transparent;\n",
              "      border-right-color: var(--fill-color);\n",
              "      border-bottom-color: var(--fill-color);\n",
              "    }\n",
              "    90% {\n",
              "      border-color: transparent;\n",
              "      border-bottom-color: var(--fill-color);\n",
              "    }\n",
              "  }\n",
              "</style>\n",
              "\n",
              "  <script>\n",
              "    async function quickchart(key) {\n",
              "      const quickchartButtonEl =\n",
              "        document.querySelector('#' + key + ' button');\n",
              "      quickchartButtonEl.disabled = true;  // To prevent multiple clicks.\n",
              "      quickchartButtonEl.classList.add('colab-df-spinner');\n",
              "      try {\n",
              "        const charts = await google.colab.kernel.invokeFunction(\n",
              "            'suggestCharts', [key], {});\n",
              "      } catch (error) {\n",
              "        console.error('Error during call to suggestCharts:', error);\n",
              "      }\n",
              "      quickchartButtonEl.classList.remove('colab-df-spinner');\n",
              "      quickchartButtonEl.classList.add('colab-df-quickchart-complete');\n",
              "    }\n",
              "    (() => {\n",
              "      let quickchartButtonEl =\n",
              "        document.querySelector('#df-a68d31dd-7758-4a0a-88e0-5fcbcfdcff23 button');\n",
              "      quickchartButtonEl.style.display =\n",
              "        google.colab.kernel.accessAllowed ? 'block' : 'none';\n",
              "    })();\n",
              "  </script>\n",
              "</div>\n",
              "\n",
              "    </div>\n",
              "  </div>\n"
            ],
            "application/vnd.google.colaboratory.intrinsic+json": {
              "type": "dataframe",
              "variable_name": "labels_df",
              "summary": "{\n  \"name\": \"labels_df\",\n  \"rows\": 50000,\n  \"fields\": [\n    {\n      \"column\": \"id\",\n      \"properties\": {\n        \"dtype\": \"number\",\n        \"std\": 14433,\n        \"min\": 1,\n        \"max\": 50000,\n        \"num_unique_values\": 50000,\n        \"samples\": [\n          33554,\n          9428,\n          200\n        ],\n        \"semantic_type\": \"\",\n        \"description\": \"\"\n      }\n    },\n    {\n      \"column\": \"label\",\n      \"properties\": {\n        \"dtype\": \"category\",\n        \"num_unique_values\": 10,\n        \"samples\": [\n          \"dog\",\n          \"truck\",\n          \"horse\"\n        ],\n        \"semantic_type\": \"\",\n        \"description\": \"\"\n      }\n    }\n  ]\n}"
            }
          },
          "metadata": {},
          "execution_count": 39
        }
      ]
    },
    {
      "cell_type": "code",
      "source": [
        "labels_df.tail(10)"
      ],
      "metadata": {
        "id": "fgWG1DSfo3Lg",
        "colab": {
          "base_uri": "https://localhost:8080/",
          "height": 363
        },
        "outputId": "cd785fc7-2385-4eaa-f18b-40ac90ffd3c3"
      },
      "execution_count": 40,
      "outputs": [
        {
          "output_type": "execute_result",
          "data": {
            "text/plain": [
              "          id       label\n",
              "49990  49991        deer\n",
              "49991  49992        bird\n",
              "49992  49993    airplane\n",
              "49993  49994  automobile\n",
              "49994  49995    airplane\n",
              "49995  49996        bird\n",
              "49996  49997        frog\n",
              "49997  49998       truck\n",
              "49998  49999  automobile\n",
              "49999  50000  automobile"
            ],
            "text/html": [
              "\n",
              "  <div id=\"df-52b27cf8-ff8a-4144-b331-14c5144ce5d1\" class=\"colab-df-container\">\n",
              "    <div>\n",
              "<style scoped>\n",
              "    .dataframe tbody tr th:only-of-type {\n",
              "        vertical-align: middle;\n",
              "    }\n",
              "\n",
              "    .dataframe tbody tr th {\n",
              "        vertical-align: top;\n",
              "    }\n",
              "\n",
              "    .dataframe thead th {\n",
              "        text-align: right;\n",
              "    }\n",
              "</style>\n",
              "<table border=\"1\" class=\"dataframe\">\n",
              "  <thead>\n",
              "    <tr style=\"text-align: right;\">\n",
              "      <th></th>\n",
              "      <th>id</th>\n",
              "      <th>label</th>\n",
              "    </tr>\n",
              "  </thead>\n",
              "  <tbody>\n",
              "    <tr>\n",
              "      <th>49990</th>\n",
              "      <td>49991</td>\n",
              "      <td>deer</td>\n",
              "    </tr>\n",
              "    <tr>\n",
              "      <th>49991</th>\n",
              "      <td>49992</td>\n",
              "      <td>bird</td>\n",
              "    </tr>\n",
              "    <tr>\n",
              "      <th>49992</th>\n",
              "      <td>49993</td>\n",
              "      <td>airplane</td>\n",
              "    </tr>\n",
              "    <tr>\n",
              "      <th>49993</th>\n",
              "      <td>49994</td>\n",
              "      <td>automobile</td>\n",
              "    </tr>\n",
              "    <tr>\n",
              "      <th>49994</th>\n",
              "      <td>49995</td>\n",
              "      <td>airplane</td>\n",
              "    </tr>\n",
              "    <tr>\n",
              "      <th>49995</th>\n",
              "      <td>49996</td>\n",
              "      <td>bird</td>\n",
              "    </tr>\n",
              "    <tr>\n",
              "      <th>49996</th>\n",
              "      <td>49997</td>\n",
              "      <td>frog</td>\n",
              "    </tr>\n",
              "    <tr>\n",
              "      <th>49997</th>\n",
              "      <td>49998</td>\n",
              "      <td>truck</td>\n",
              "    </tr>\n",
              "    <tr>\n",
              "      <th>49998</th>\n",
              "      <td>49999</td>\n",
              "      <td>automobile</td>\n",
              "    </tr>\n",
              "    <tr>\n",
              "      <th>49999</th>\n",
              "      <td>50000</td>\n",
              "      <td>automobile</td>\n",
              "    </tr>\n",
              "  </tbody>\n",
              "</table>\n",
              "</div>\n",
              "    <div class=\"colab-df-buttons\">\n",
              "\n",
              "  <div class=\"colab-df-container\">\n",
              "    <button class=\"colab-df-convert\" onclick=\"convertToInteractive('df-52b27cf8-ff8a-4144-b331-14c5144ce5d1')\"\n",
              "            title=\"Convert this dataframe to an interactive table.\"\n",
              "            style=\"display:none;\">\n",
              "\n",
              "  <svg xmlns=\"http://www.w3.org/2000/svg\" height=\"24px\" viewBox=\"0 -960 960 960\">\n",
              "    <path d=\"M120-120v-720h720v720H120Zm60-500h600v-160H180v160Zm220 220h160v-160H400v160Zm0 220h160v-160H400v160ZM180-400h160v-160H180v160Zm440 0h160v-160H620v160ZM180-180h160v-160H180v160Zm440 0h160v-160H620v160Z\"/>\n",
              "  </svg>\n",
              "    </button>\n",
              "\n",
              "  <style>\n",
              "    .colab-df-container {\n",
              "      display:flex;\n",
              "      gap: 12px;\n",
              "    }\n",
              "\n",
              "    .colab-df-convert {\n",
              "      background-color: #E8F0FE;\n",
              "      border: none;\n",
              "      border-radius: 50%;\n",
              "      cursor: pointer;\n",
              "      display: none;\n",
              "      fill: #1967D2;\n",
              "      height: 32px;\n",
              "      padding: 0 0 0 0;\n",
              "      width: 32px;\n",
              "    }\n",
              "\n",
              "    .colab-df-convert:hover {\n",
              "      background-color: #E2EBFA;\n",
              "      box-shadow: 0px 1px 2px rgba(60, 64, 67, 0.3), 0px 1px 3px 1px rgba(60, 64, 67, 0.15);\n",
              "      fill: #174EA6;\n",
              "    }\n",
              "\n",
              "    .colab-df-buttons div {\n",
              "      margin-bottom: 4px;\n",
              "    }\n",
              "\n",
              "    [theme=dark] .colab-df-convert {\n",
              "      background-color: #3B4455;\n",
              "      fill: #D2E3FC;\n",
              "    }\n",
              "\n",
              "    [theme=dark] .colab-df-convert:hover {\n",
              "      background-color: #434B5C;\n",
              "      box-shadow: 0px 1px 3px 1px rgba(0, 0, 0, 0.15);\n",
              "      filter: drop-shadow(0px 1px 2px rgba(0, 0, 0, 0.3));\n",
              "      fill: #FFFFFF;\n",
              "    }\n",
              "  </style>\n",
              "\n",
              "    <script>\n",
              "      const buttonEl =\n",
              "        document.querySelector('#df-52b27cf8-ff8a-4144-b331-14c5144ce5d1 button.colab-df-convert');\n",
              "      buttonEl.style.display =\n",
              "        google.colab.kernel.accessAllowed ? 'block' : 'none';\n",
              "\n",
              "      async function convertToInteractive(key) {\n",
              "        const element = document.querySelector('#df-52b27cf8-ff8a-4144-b331-14c5144ce5d1');\n",
              "        const dataTable =\n",
              "          await google.colab.kernel.invokeFunction('convertToInteractive',\n",
              "                                                    [key], {});\n",
              "        if (!dataTable) return;\n",
              "\n",
              "        const docLinkHtml = 'Like what you see? Visit the ' +\n",
              "          '<a target=\"_blank\" href=https://colab.research.google.com/notebooks/data_table.ipynb>data table notebook</a>'\n",
              "          + ' to learn more about interactive tables.';\n",
              "        element.innerHTML = '';\n",
              "        dataTable['output_type'] = 'display_data';\n",
              "        await google.colab.output.renderOutput(dataTable, element);\n",
              "        const docLink = document.createElement('div');\n",
              "        docLink.innerHTML = docLinkHtml;\n",
              "        element.appendChild(docLink);\n",
              "      }\n",
              "    </script>\n",
              "  </div>\n",
              "\n",
              "\n",
              "<div id=\"df-c2d99fda-7858-4bbe-b744-fdc162fa467f\">\n",
              "  <button class=\"colab-df-quickchart\" onclick=\"quickchart('df-c2d99fda-7858-4bbe-b744-fdc162fa467f')\"\n",
              "            title=\"Suggest charts\"\n",
              "            style=\"display:none;\">\n",
              "\n",
              "<svg xmlns=\"http://www.w3.org/2000/svg\" height=\"24px\"viewBox=\"0 0 24 24\"\n",
              "     width=\"24px\">\n",
              "    <g>\n",
              "        <path d=\"M19 3H5c-1.1 0-2 .9-2 2v14c0 1.1.9 2 2 2h14c1.1 0 2-.9 2-2V5c0-1.1-.9-2-2-2zM9 17H7v-7h2v7zm4 0h-2V7h2v10zm4 0h-2v-4h2v4z\"/>\n",
              "    </g>\n",
              "</svg>\n",
              "  </button>\n",
              "\n",
              "<style>\n",
              "  .colab-df-quickchart {\n",
              "      --bg-color: #E8F0FE;\n",
              "      --fill-color: #1967D2;\n",
              "      --hover-bg-color: #E2EBFA;\n",
              "      --hover-fill-color: #174EA6;\n",
              "      --disabled-fill-color: #AAA;\n",
              "      --disabled-bg-color: #DDD;\n",
              "  }\n",
              "\n",
              "  [theme=dark] .colab-df-quickchart {\n",
              "      --bg-color: #3B4455;\n",
              "      --fill-color: #D2E3FC;\n",
              "      --hover-bg-color: #434B5C;\n",
              "      --hover-fill-color: #FFFFFF;\n",
              "      --disabled-bg-color: #3B4455;\n",
              "      --disabled-fill-color: #666;\n",
              "  }\n",
              "\n",
              "  .colab-df-quickchart {\n",
              "    background-color: var(--bg-color);\n",
              "    border: none;\n",
              "    border-radius: 50%;\n",
              "    cursor: pointer;\n",
              "    display: none;\n",
              "    fill: var(--fill-color);\n",
              "    height: 32px;\n",
              "    padding: 0;\n",
              "    width: 32px;\n",
              "  }\n",
              "\n",
              "  .colab-df-quickchart:hover {\n",
              "    background-color: var(--hover-bg-color);\n",
              "    box-shadow: 0 1px 2px rgba(60, 64, 67, 0.3), 0 1px 3px 1px rgba(60, 64, 67, 0.15);\n",
              "    fill: var(--button-hover-fill-color);\n",
              "  }\n",
              "\n",
              "  .colab-df-quickchart-complete:disabled,\n",
              "  .colab-df-quickchart-complete:disabled:hover {\n",
              "    background-color: var(--disabled-bg-color);\n",
              "    fill: var(--disabled-fill-color);\n",
              "    box-shadow: none;\n",
              "  }\n",
              "\n",
              "  .colab-df-spinner {\n",
              "    border: 2px solid var(--fill-color);\n",
              "    border-color: transparent;\n",
              "    border-bottom-color: var(--fill-color);\n",
              "    animation:\n",
              "      spin 1s steps(1) infinite;\n",
              "  }\n",
              "\n",
              "  @keyframes spin {\n",
              "    0% {\n",
              "      border-color: transparent;\n",
              "      border-bottom-color: var(--fill-color);\n",
              "      border-left-color: var(--fill-color);\n",
              "    }\n",
              "    20% {\n",
              "      border-color: transparent;\n",
              "      border-left-color: var(--fill-color);\n",
              "      border-top-color: var(--fill-color);\n",
              "    }\n",
              "    30% {\n",
              "      border-color: transparent;\n",
              "      border-left-color: var(--fill-color);\n",
              "      border-top-color: var(--fill-color);\n",
              "      border-right-color: var(--fill-color);\n",
              "    }\n",
              "    40% {\n",
              "      border-color: transparent;\n",
              "      border-right-color: var(--fill-color);\n",
              "      border-top-color: var(--fill-color);\n",
              "    }\n",
              "    60% {\n",
              "      border-color: transparent;\n",
              "      border-right-color: var(--fill-color);\n",
              "    }\n",
              "    80% {\n",
              "      border-color: transparent;\n",
              "      border-right-color: var(--fill-color);\n",
              "      border-bottom-color: var(--fill-color);\n",
              "    }\n",
              "    90% {\n",
              "      border-color: transparent;\n",
              "      border-bottom-color: var(--fill-color);\n",
              "    }\n",
              "  }\n",
              "</style>\n",
              "\n",
              "  <script>\n",
              "    async function quickchart(key) {\n",
              "      const quickchartButtonEl =\n",
              "        document.querySelector('#' + key + ' button');\n",
              "      quickchartButtonEl.disabled = true;  // To prevent multiple clicks.\n",
              "      quickchartButtonEl.classList.add('colab-df-spinner');\n",
              "      try {\n",
              "        const charts = await google.colab.kernel.invokeFunction(\n",
              "            'suggestCharts', [key], {});\n",
              "      } catch (error) {\n",
              "        console.error('Error during call to suggestCharts:', error);\n",
              "      }\n",
              "      quickchartButtonEl.classList.remove('colab-df-spinner');\n",
              "      quickchartButtonEl.classList.add('colab-df-quickchart-complete');\n",
              "    }\n",
              "    (() => {\n",
              "      let quickchartButtonEl =\n",
              "        document.querySelector('#df-c2d99fda-7858-4bbe-b744-fdc162fa467f button');\n",
              "      quickchartButtonEl.style.display =\n",
              "        google.colab.kernel.accessAllowed ? 'block' : 'none';\n",
              "    })();\n",
              "  </script>\n",
              "</div>\n",
              "\n",
              "    </div>\n",
              "  </div>\n"
            ],
            "application/vnd.google.colaboratory.intrinsic+json": {
              "type": "dataframe",
              "summary": "{\n  \"name\": \"labels_df\",\n  \"rows\": 10,\n  \"fields\": [\n    {\n      \"column\": \"id\",\n      \"properties\": {\n        \"dtype\": \"number\",\n        \"std\": 3,\n        \"min\": 49991,\n        \"max\": 50000,\n        \"num_unique_values\": 10,\n        \"samples\": [\n          49999,\n          49992,\n          49996\n        ],\n        \"semantic_type\": \"\",\n        \"description\": \"\"\n      }\n    },\n    {\n      \"column\": \"label\",\n      \"properties\": {\n        \"dtype\": \"string\",\n        \"num_unique_values\": 6,\n        \"samples\": [\n          \"deer\",\n          \"bird\",\n          \"truck\"\n        ],\n        \"semantic_type\": \"\",\n        \"description\": \"\"\n      }\n    }\n  ]\n}"
            }
          },
          "metadata": {},
          "execution_count": 40
        }
      ]
    },
    {
      "cell_type": "code",
      "source": [
        "labels_df['label'].value_counts()"
      ],
      "metadata": {
        "id": "SnmhPiyJo5oR",
        "colab": {
          "base_uri": "https://localhost:8080/",
          "height": 429
        },
        "outputId": "c83adf2a-83e5-439f-8ca5-832fb5f589f2"
      },
      "execution_count": 41,
      "outputs": [
        {
          "output_type": "execute_result",
          "data": {
            "text/plain": [
              "label\n",
              "frog          5000\n",
              "truck         5000\n",
              "deer          5000\n",
              "automobile    5000\n",
              "bird          5000\n",
              "horse         5000\n",
              "ship          5000\n",
              "cat           5000\n",
              "dog           5000\n",
              "airplane      5000\n",
              "Name: count, dtype: int64"
            ],
            "text/html": [
              "<div>\n",
              "<style scoped>\n",
              "    .dataframe tbody tr th:only-of-type {\n",
              "        vertical-align: middle;\n",
              "    }\n",
              "\n",
              "    .dataframe tbody tr th {\n",
              "        vertical-align: top;\n",
              "    }\n",
              "\n",
              "    .dataframe thead th {\n",
              "        text-align: right;\n",
              "    }\n",
              "</style>\n",
              "<table border=\"1\" class=\"dataframe\">\n",
              "  <thead>\n",
              "    <tr style=\"text-align: right;\">\n",
              "      <th></th>\n",
              "      <th>count</th>\n",
              "    </tr>\n",
              "    <tr>\n",
              "      <th>label</th>\n",
              "      <th></th>\n",
              "    </tr>\n",
              "  </thead>\n",
              "  <tbody>\n",
              "    <tr>\n",
              "      <th>frog</th>\n",
              "      <td>5000</td>\n",
              "    </tr>\n",
              "    <tr>\n",
              "      <th>truck</th>\n",
              "      <td>5000</td>\n",
              "    </tr>\n",
              "    <tr>\n",
              "      <th>deer</th>\n",
              "      <td>5000</td>\n",
              "    </tr>\n",
              "    <tr>\n",
              "      <th>automobile</th>\n",
              "      <td>5000</td>\n",
              "    </tr>\n",
              "    <tr>\n",
              "      <th>bird</th>\n",
              "      <td>5000</td>\n",
              "    </tr>\n",
              "    <tr>\n",
              "      <th>horse</th>\n",
              "      <td>5000</td>\n",
              "    </tr>\n",
              "    <tr>\n",
              "      <th>ship</th>\n",
              "      <td>5000</td>\n",
              "    </tr>\n",
              "    <tr>\n",
              "      <th>cat</th>\n",
              "      <td>5000</td>\n",
              "    </tr>\n",
              "    <tr>\n",
              "      <th>dog</th>\n",
              "      <td>5000</td>\n",
              "    </tr>\n",
              "    <tr>\n",
              "      <th>airplane</th>\n",
              "      <td>5000</td>\n",
              "    </tr>\n",
              "  </tbody>\n",
              "</table>\n",
              "</div><br><label><b>dtype:</b> int64</label>"
            ]
          },
          "metadata": {},
          "execution_count": 41
        }
      ]
    },
    {
      "cell_type": "code",
      "source": [
        "labels_df['label']"
      ],
      "metadata": {
        "id": "Q_bH8YN3q_re",
        "colab": {
          "base_uri": "https://localhost:8080/",
          "height": 458
        },
        "outputId": "c850ddd4-7869-4c67-c863-4f617171a2a5"
      },
      "execution_count": 42,
      "outputs": [
        {
          "output_type": "execute_result",
          "data": {
            "text/plain": [
              "0              frog\n",
              "1             truck\n",
              "2             truck\n",
              "3              deer\n",
              "4        automobile\n",
              "            ...    \n",
              "49995          bird\n",
              "49996          frog\n",
              "49997         truck\n",
              "49998    automobile\n",
              "49999    automobile\n",
              "Name: label, Length: 50000, dtype: object"
            ],
            "text/html": [
              "<div>\n",
              "<style scoped>\n",
              "    .dataframe tbody tr th:only-of-type {\n",
              "        vertical-align: middle;\n",
              "    }\n",
              "\n",
              "    .dataframe tbody tr th {\n",
              "        vertical-align: top;\n",
              "    }\n",
              "\n",
              "    .dataframe thead th {\n",
              "        text-align: right;\n",
              "    }\n",
              "</style>\n",
              "<table border=\"1\" class=\"dataframe\">\n",
              "  <thead>\n",
              "    <tr style=\"text-align: right;\">\n",
              "      <th></th>\n",
              "      <th>label</th>\n",
              "    </tr>\n",
              "  </thead>\n",
              "  <tbody>\n",
              "    <tr>\n",
              "      <th>0</th>\n",
              "      <td>frog</td>\n",
              "    </tr>\n",
              "    <tr>\n",
              "      <th>1</th>\n",
              "      <td>truck</td>\n",
              "    </tr>\n",
              "    <tr>\n",
              "      <th>2</th>\n",
              "      <td>truck</td>\n",
              "    </tr>\n",
              "    <tr>\n",
              "      <th>3</th>\n",
              "      <td>deer</td>\n",
              "    </tr>\n",
              "    <tr>\n",
              "      <th>4</th>\n",
              "      <td>automobile</td>\n",
              "    </tr>\n",
              "    <tr>\n",
              "      <th>...</th>\n",
              "      <td>...</td>\n",
              "    </tr>\n",
              "    <tr>\n",
              "      <th>49995</th>\n",
              "      <td>bird</td>\n",
              "    </tr>\n",
              "    <tr>\n",
              "      <th>49996</th>\n",
              "      <td>frog</td>\n",
              "    </tr>\n",
              "    <tr>\n",
              "      <th>49997</th>\n",
              "      <td>truck</td>\n",
              "    </tr>\n",
              "    <tr>\n",
              "      <th>49998</th>\n",
              "      <td>automobile</td>\n",
              "    </tr>\n",
              "    <tr>\n",
              "      <th>49999</th>\n",
              "      <td>automobile</td>\n",
              "    </tr>\n",
              "  </tbody>\n",
              "</table>\n",
              "<p>50000 rows × 1 columns</p>\n",
              "</div><br><label><b>dtype:</b> object</label>"
            ]
          },
          "metadata": {},
          "execution_count": 42
        }
      ]
    },
    {
      "cell_type": "code",
      "source": [
        "labels_dictinary={'airplane':0,'automobile':1,'bird':2,'cat':3,'deer':4,'dog':5,'frog':6,'horse':7,'ship':8,'truck':9}\n",
        "\n",
        "labels=[labels_dictinary[i] for i in labels_df['label']]"
      ],
      "metadata": {
        "id": "MP1yE2A6plbP"
      },
      "execution_count": 43,
      "outputs": []
    },
    {
      "cell_type": "code",
      "source": [
        "print(labels)"
      ],
      "metadata": {
        "id": "AHAi9uqzrTzG",
        "colab": {
          "base_uri": "https://localhost:8080/"
        },
        "outputId": "cec0f374-1da4-4199-d867-fee8b943bf48"
      },
      "execution_count": 44,
      "outputs": [
        {
          "output_type": "stream",
          "name": "stdout",
          "text": [
            "[6, 9, 9, 4, 1, 1, 2, 7, 8, 3, 4, 7, 7, 2, 9, 9, 9, 3, 2, 6, 4, 3, 6, 6, 2, 6, 3, 5, 4, 0, 0, 9, 1, 3, 4, 0, 3, 7, 3, 3, 5, 2, 2, 7, 1, 1, 1, 2, 2, 0, 9, 5, 7, 9, 2, 2, 5, 2, 4, 3, 1, 1, 8, 2, 1, 1, 4, 9, 7, 8, 5, 9, 6, 7, 3, 1, 9, 0, 3, 1, 3, 5, 4, 5, 7, 7, 4, 7, 9, 4, 2, 3, 8, 0, 1, 6, 1, 1, 4, 1, 8, 3, 9, 6, 6, 1, 8, 5, 2, 9, 9, 8, 1, 7, 7, 0, 0, 6, 9, 1, 2, 2, 9, 2, 6, 6, 1, 9, 5, 0, 4, 7, 6, 7, 1, 8, 1, 1, 2, 8, 1, 3, 3, 6, 2, 4, 9, 9, 5, 4, 3, 6, 7, 4, 6, 8, 5, 5, 4, 3, 1, 8, 4, 7, 6, 0, 9, 5, 1, 3, 8, 2, 7, 5, 3, 4, 1, 5, 7, 0, 4, 7, 5, 5, 1, 0, 9, 6, 9, 0, 8, 7, 8, 8, 2, 5, 2, 3, 5, 0, 6, 1, 9, 3, 6, 9, 1, 3, 9, 6, 6, 7, 1, 0, 9, 5, 8, 5, 2, 9, 0, 8, 8, 0, 6, 9, 1, 1, 6, 3, 7, 6, 6, 0, 6, 6, 1, 7, 1, 5, 8, 3, 6, 6, 8, 6, 8, 4, 6, 6, 1, 3, 8, 3, 4, 1, 7, 1, 3, 8, 5, 1, 1, 4, 0, 9, 3, 7, 4, 9, 9, 2, 4, 9, 9, 1, 0, 5, 9, 0, 8, 2, 1, 2, 0, 5, 6, 3, 2, 7, 8, 8, 6, 0, 7, 9, 4, 5, 6, 4, 2, 1, 1, 2, 1, 5, 9, 9, 0, 8, 4, 1, 1, 6, 3, 3, 9, 0, 7, 9, 7, 7, 9, 1, 5, 1, 6, 6, 8, 7, 1, 3, 0, 3, 3, 2, 4, 5, 7, 5, 9, 0, 3, 4, 0, 4, 4, 6, 0, 0, 6, 6, 0, 8, 1, 6, 2, 9, 2, 5, 9, 6, 7, 4, 1, 8, 7, 3, 6, 9, 3, 0, 4, 0, 5, 1, 0, 3, 4, 8, 5, 4, 7, 2, 3, 9, 7, 6, 7, 1, 4, 7, 0, 1, 7, 3, 1, 8, 4, 4, 2, 0, 2, 2, 0, 0, 9, 0, 9, 6, 8, 2, 7, 7, 4, 0, 3, 0, 8, 9, 4, 2, 7, 2, 5, 2, 5, 1, 9, 4, 8, 5, 1, 7, 4, 4, 0, 6, 9, 0, 7, 8, 8, 9, 9, 3, 3, 4, 0, 4, 5, 6, 6, 0, 1, 0, 8, 0, 4, 8, 8, 1, 5, 2, 6, 8, 1, 0, 0, 7, 7, 5, 9, 6, 2, 8, 3, 4, 7, 3, 9, 0, 1, 2, 4, 8, 1, 8, 6, 4, 4, 5, 7, 1, 3, 9, 8, 0, 1, 7, 5, 8, 2, 8, 0, 4, 1, 8, 9, 8, 2, 9, 9, 2, 7, 5, 7, 3, 8, 8, 4, 4, 2, 7, 1, 6, 4, 0, 4, 6, 9, 7, 6, 2, 5, 5, 1, 7, 2, 2, 2, 9, 5, 4, 2, 7, 8, 1, 3, 4, 3, 7, 6, 9, 8, 0, 6, 0, 2, 2, 2, 1, 8, 4, 0, 1, 8, 8, 1, 5, 7, 6, 4, 5, 8, 7, 1, 9, 1, 9, 8, 4, 7, 3, 8, 8, 2, 6, 6, 7, 1, 6, 8, 1, 9, 7, 8, 3, 0, 1, 0, 8, 8, 3, 0, 0, 1, 5, 0, 8, 8, 7, 9, 9, 0, 9, 4, 1, 3, 6, 6, 4, 4, 7, 5, 6, 0, 8, 0, 3, 2, 8, 4, 6, 9, 9, 7, 0, 3, 3, 6, 7, 4, 9, 1, 6, 2, 7, 2, 2, 0, 6, 7, 5, 7, 6, 8, 9, 0, 9, 4, 4, 7, 0, 9, 4, 9, 6, 9, 4, 5, 7, 9, 2, 4, 5, 1, 4, 3, 9, 6, 5, 6, 9, 3, 3, 5, 0, 7, 2, 1, 3, 6, 4, 0, 0, 2, 5, 0, 1, 0, 2, 3, 9, 8, 4, 9, 8, 0, 2, 6, 4, 4, 0, 1, 8, 8, 3, 6, 9, 6, 6, 7, 8, 2, 4, 5, 7, 6, 5, 3, 0, 5, 0, 5, 0, 8, 2, 6, 7, 3, 8, 2, 1, 7, 6, 7, 1, 0, 9, 5, 5, 0, 1, 7, 6, 9, 0, 4, 7, 7, 1, 5, 9, 4, 0, 8, 5, 9, 9, 6, 7, 1, 8, 3, 2, 3, 8, 2, 2, 4, 6, 0, 0, 5, 3, 8, 2, 3, 7, 2, 9, 3, 8, 7, 8, 2, 7, 9, 0, 2, 3, 2, 2, 2, 3, 3, 6, 2, 3, 2, 8, 0, 5, 5, 1, 4, 5, 6, 6, 2, 7, 0, 1, 7, 7, 8, 2, 9, 2, 2, 4, 2, 1, 1, 1, 6, 6, 6, 5, 1, 1, 7, 0, 4, 3, 3, 7, 1, 2, 3, 5, 5, 5, 6, 1, 4, 3, 7, 8, 8, 3, 6, 6, 2, 3, 0, 9, 4, 3, 8, 0, 0, 1, 1, 5, 4, 9, 3, 1, 8, 9, 3, 9, 9, 2, 9, 4, 8, 2, 9, 8, 8, 1, 5, 3, 6, 8, 7, 6, 9, 8, 0, 6, 4, 0, 0, 2, 5, 8, 2, 0, 2, 7, 6, 9, 7, 1, 5, 5, 6, 6, 3, 6, 2, 4, 7, 0, 5, 6, 4, 6, 5, 2, 4, 6, 1, 6, 0, 4, 0, 3, 1, 8, 5, 4, 4, 1, 7, 3, 9, 4, 7, 9, 7, 3, 7, 2, 8, 4, 6, 6, 1, 2, 9, 0, 4, 8, 7, 3, 9, 8, 7, 7, 0, 2, 4, 1, 1, 4, 1, 5, 4, 0, 5, 6, 2, 8, 5, 0, 2, 1, 3, 5, 7, 3, 5, 1, 3, 5, 9, 4, 3, 2, 4, 4, 1, 4, 2, 2, 3, 8, 0, 6, 8, 5, 6, 6, 4, 7, 1, 1, 4, 6, 2, 3, 9, 6, 9, 1, 3, 6, 8, 5, 9, 6, 8, 1, 6, 0, 2, 3, 7, 9, 0, 9, 7, 6, 3, 9, 2, 6, 1, 6, 7, 3, 8, 3, 8, 3, 8, 5, 9, 6, 1, 2, 5, 2, 1, 4, 3, 7, 5, 9, 3, 9, 3, 2, 9, 1, 8, 5, 9, 7, 2, 6, 0, 8, 5, 7, 1, 5, 8, 5, 7, 1, 5, 0, 3, 9, 3, 6, 9, 1, 3, 9, 8, 2, 2, 3, 2, 5, 9, 7, 9, 9, 8, 9, 7, 0, 3, 3, 2, 0, 3, 7, 6, 3, 3, 2, 0, 6, 6, 5, 5, 7, 5, 9, 8, 2, 9, 8, 0, 4, 0, 1, 2, 0, 4, 7, 3, 8, 5, 1, 6, 6, 5, 5, 4, 6, 3, 6, 8, 2, 3, 7, 0, 7, 0, 4, 1, 9, 5, 7, 8, 6, 6, 8, 0, 7, 2, 8, 4, 8, 2, 0, 9, 0, 0, 2, 9, 6, 6, 5, 6, 0, 3, 7, 5, 5, 7, 9, 3, 4, 5, 0, 5, 2, 3, 2, 6, 0, 4, 9, 0, 7, 0, 9, 7, 2, 6, 4, 6, 9, 5, 4, 7, 0, 6, 8, 8, 9, 9, 9, 0, 9, 8, 6, 4, 8, 1, 9, 1, 0, 5, 8, 6, 9, 6, 0, 8, 1, 3, 9, 4, 8, 4, 3, 2, 6, 0, 8, 9, 9, 4, 3, 0, 2, 4, 4, 0, 3, 5, 7, 5, 7, 7, 9, 0, 9, 5, 3, 8, 2, 4, 2, 3, 1, 2, 8, 9, 2, 8, 1, 4, 2, 0, 4, 5, 4, 8, 1, 7, 4, 1, 1, 0, 2, 7, 7, 4, 4, 4, 4, 8, 4, 3, 6, 6, 0, 1, 3, 9, 8, 4, 8, 9, 6, 2, 0, 5, 5, 9, 4, 2, 0, 8, 8, 0, 4, 0, 7, 6, 9, 5, 3, 5, 4, 4, 4, 4, 3, 7, 9, 2, 5, 1, 8, 3, 2, 6, 9, 6, 3, 1, 7, 4, 6, 3, 7, 8, 6, 2, 4, 6, 8, 0, 1, 9, 9, 1, 0, 0, 8, 9, 4, 7, 4, 4, 1, 9, 8, 8, 6, 1, 7, 4, 8, 8, 8, 0, 5, 6, 6, 8, 3, 4, 4, 1, 2, 1, 5, 7, 1, 7, 2, 8, 5, 9, 5, 6, 1, 9, 5, 0, 4, 3, 3, 0, 8, 2, 8, 0, 9, 0, 4, 6, 9, 2, 8, 2, 7, 7, 2, 2, 7, 1, 6, 1, 3, 4, 4, 8, 6, 0, 1, 9, 4, 2, 7, 5, 3, 9, 0, 1, 9, 0, 9, 8, 7, 0, 4, 9, 0, 5, 2, 1, 0, 2, 8, 8, 0, 5, 7, 6, 6, 5, 3, 7, 7, 7, 4, 2, 0, 1, 7, 3, 2, 7, 3, 2, 2, 1, 5, 9, 9, 8, 0, 8, 4, 3, 3, 8, 5, 0, 8, 4, 5, 7, 5, 1, 5, 0, 2, 0, 5, 4, 2, 3, 6, 2, 6, 2, 2, 3, 4, 6, 6, 5, 3, 0, 1, 2, 7, 7, 5, 3, 1, 1, 7, 6, 1, 6, 3, 3, 3, 3, 4, 8, 1, 0, 7, 7, 6, 8, 1, 2, 5, 3, 4, 1, 1, 9, 3, 1, 4, 2, 7, 1, 6, 5, 7, 7, 7, 6, 6, 1, 9, 5, 0, 9, 5, 7, 0, 0, 4, 6, 8, 0, 1, 5, 0, 9, 3, 1, 1, 2, 0, 3, 2, 9, 1, 9, 6, 2, 4, 8, 8, 5, 9, 2, 1, 9, 4, 4, 3, 0, 6, 6, 0, 4, 1, 0, 9, 5, 6, 5, 6, 9, 4, 4, 2, 6, 8, 4, 7, 6, 5, 9, 8, 7, 1, 9, 5, 4, 3, 5, 4, 3, 4, 1, 5, 5, 4, 0, 8, 4, 4, 0, 9, 2, 8, 9, 8, 0, 2, 2, 2, 6, 7, 8, 1, 9, 8, 0, 3, 8, 6, 8, 1, 6, 5, 4, 2, 1, 4, 3, 9, 7, 8, 3, 0, 8, 3, 4, 2, 9, 1, 0, 0, 3, 0, 4, 5, 9, 0, 7, 5, 9, 5, 8, 8, 6, 3, 1, 9, 5, 2, 4, 7, 6, 1, 8, 6, 9, 3, 1, 3, 7, 4, 0, 6, 7, 6, 9, 2, 4, 1, 9, 8, 5, 8, 2, 2, 5, 0, 2, 0, 7, 0, 6, 6, 4, 8, 7, 9, 6, 9, 2, 3, 8, 8, 3, 9, 9, 8, 7, 2, 3, 5, 5, 1, 8, 7, 4, 3, 5, 2, 2, 2, 1, 4, 2, 2, 8, 4, 9, 8, 2, 1, 2, 5, 6, 3, 4, 5, 7, 6, 7, 6, 5, 0, 2, 4, 4, 3, 0, 4, 2, 6, 1, 8, 8, 3, 0, 7, 4, 9, 7, 9, 2, 0, 4, 7, 3, 7, 6, 6, 2, 3, 7, 3, 6, 8, 2, 3, 3, 5, 5, 5, 2, 4, 2, 8, 7, 4, 3, 7, 7, 8, 5, 2, 8, 4, 3, 5, 4, 2, 9, 1, 4, 0, 0, 5, 6, 5, 6, 8, 0, 3, 4, 4, 4, 2, 2, 0, 5, 0, 3, 4, 7, 7, 3, 9, 7, 3, 7, 3, 7, 7, 7, 1, 7, 4, 4, 7, 9, 1, 7, 7, 4, 5, 9, 0, 8, 7, 3, 6, 2, 3, 8, 2, 5, 4, 8, 4, 0, 7, 5, 2, 7, 7, 2, 6, 4, 0, 2, 4, 3, 8, 9, 4, 5, 5, 6, 7, 1, 9, 6, 5, 0, 3, 4, 4, 0, 6, 6, 8, 3, 6, 0, 3, 3, 3, 8, 3, 3, 8, 4, 3, 8, 2, 9, 1, 4, 9, 5, 0, 6, 5, 0, 2, 6, 5, 4, 1, 5, 9, 0, 6, 2, 5, 4, 5, 8, 2, 8, 7, 5, 0, 7, 9, 9, 8, 2, 1, 0, 2, 7, 5, 0, 3, 8, 5, 0, 7, 9, 5, 8, 6, 9, 0, 7, 1, 9, 3, 5, 0, 5, 1, 7, 8, 9, 2, 0, 0, 8, 1, 1, 1, 6, 2, 3, 6, 2, 7, 1, 9, 3, 7, 6, 3, 1, 0, 5, 9, 4, 3, 9, 5, 0, 9, 2, 7, 5, 8, 0, 1, 3, 4, 8, 5, 1, 5, 7, 7, 2, 8, 4, 2, 2, 5, 3, 3, 1, 4, 9, 2, 4, 5, 2, 2, 3, 2, 1, 5, 8, 9, 2, 6, 6, 1, 7, 7, 5, 4, 4, 0, 5, 8, 8, 6, 6, 7, 2, 6, 4, 5, 1, 7, 5, 2, 4, 4, 6, 5, 2, 3, 8, 9, 3, 4, 3, 2, 6, 7, 2, 3, 2, 7, 7, 3, 0, 1, 4, 0, 6, 5, 5, 1, 6, 7, 6, 1, 3, 4, 0, 9, 9, 6, 8, 8, 3, 2, 3, 3, 8, 5, 3, 0, 9, 0, 8, 1, 3, 4, 8, 2, 4, 6, 1, 3, 5, 5, 1, 1, 1, 9, 5, 0, 4, 2, 9, 2, 5, 7, 4, 3, 3, 9, 1, 7, 2, 6, 1, 2, 9, 7, 9, 0, 4, 7, 8, 4, 9, 9, 4, 2, 9, 9, 8, 8, 6, 3, 2, 4, 6, 1, 7, 8, 2, 5, 8, 0, 4, 4, 5, 2, 4, 6, 5, 6, 5, 7, 7, 4, 5, 2, 0, 1, 1, 9, 6, 4, 3, 8, 7, 4, 0, 1, 5, 5, 0, 7, 0, 8, 5, 6, 1, 2, 3, 5, 8, 9, 6, 7, 6, 0, 7, 3, 1, 9, 4, 1, 8, 8, 1, 0, 6, 1, 7, 2, 5, 4, 5, 6, 6, 4, 8, 6, 4, 7, 9, 9, 4, 5, 1, 3, 9, 8, 6, 7, 3, 9, 5, 2, 5, 2, 1, 7, 1, 7, 0, 8, 3, 8, 3, 4, 1, 4, 0, 7, 9, 8, 5, 5, 6, 3, 9, 1, 2, 0, 0, 2, 8, 0, 2, 9, 3, 2, 0, 9, 9, 3, 2, 0, 6, 9, 7, 3, 7, 5, 1, 4, 6, 0, 7, 5, 8, 6, 7, 5, 2, 5, 5, 3, 3, 2, 2, 9, 9, 8, 8, 3, 5, 4, 3, 2, 8, 1, 1, 0, 7, 2, 1, 8, 7, 7, 5, 7, 6, 0, 4, 0, 3, 7, 3, 6, 2, 6, 5, 6, 3, 0, 3, 4, 5, 8, 4, 4, 0, 0, 1, 0, 6, 3, 8, 0, 1, 0, 7, 1, 3, 1, 8, 0, 2, 9, 8, 6, 5, 8, 4, 3, 4, 1, 0, 3, 9, 7, 4, 0, 3, 0, 8, 1, 1, 5, 7, 0, 0, 4, 8, 8, 8, 4, 1, 2, 9, 1, 2, 8, 7, 0, 7, 6, 2, 9, 0, 6, 7, 7, 5, 8, 2, 4, 4, 8, 4, 8, 0, 2, 7, 7, 6, 9, 1, 9, 9, 7, 5, 3, 7, 6, 0, 3, 9, 2, 9, 5, 6, 1, 0, 0, 2, 4, 5, 6, 3, 6, 4, 3, 5, 8, 9, 3, 9, 3, 4, 9, 3, 9, 5, 2, 8, 2, 6, 2, 2, 7, 2, 7, 6, 2, 4, 1, 2, 9, 9, 5, 2, 9, 8, 7, 7, 5, 6, 2, 8, 3, 7, 2, 3, 7, 3, 3, 6, 2, 1, 1, 1, 6, 9, 4, 0, 2, 4, 8, 0, 5, 4, 3, 1, 6, 1, 9, 8, 1, 1, 2, 8, 4, 8, 8, 3, 2, 6, 1, 0, 8, 1, 7, 6, 8, 5, 6, 3, 6, 7, 9, 2, 7, 7, 0, 7, 1, 7, 0, 6, 2, 7, 5, 0, 6, 9, 6, 2, 3, 1, 4, 1, 6, 9, 0, 5, 8, 9, 9, 6, 0, 8, 2, 0, 8, 9, 9, 8, 4, 3, 3, 6, 7, 0, 6, 4, 9, 1, 5, 8, 0, 0, 1, 0, 8, 9, 3, 8, 9, 3, 7, 8, 9, 4, 4, 6, 0, 9, 7, 2, 8, 0, 6, 2, 0, 6, 5, 5, 8, 5, 8, 6, 4, 0, 2, 6, 4, 3, 6, 2, 3, 7, 7, 2, 4, 2, 4, 9, 0, 2, 5, 4, 5, 4, 6, 0, 7, 7, 5, 0, 2, 0, 8, 5, 3, 7, 4, 5, 1, 9, 6, 5, 1, 8, 5, 4, 8, 5, 2, 3, 3, 8, 2, 2, 8, 2, 5, 7, 5, 5, 8, 7, 6, 1, 1, 8, 5, 1, 9, 9, 2, 2, 9, 1, 5, 2, 1, 3, 9, 9, 1, 3, 1, 2, 0, 6, 1, 7, 6, 8, 4, 0, 3, 3, 7, 2, 3, 6, 4, 5, 2, 7, 2, 4, 9, 5, 1, 6, 8, 8, 2, 1, 7, 1, 8, 0, 8, 5, 7, 0, 3, 6, 4, 2, 7, 7, 8, 2, 8, 9, 8, 8, 4, 6, 7, 0, 1, 2, 1, 1, 9, 4, 6, 4, 2, 7, 4, 6, 1, 9, 4, 9, 1, 4, 5, 1, 9, 2, 8, 0, 1, 5, 1, 7, 9, 2, 0, 4, 8, 4, 0, 2, 0, 1, 0, 5, 3, 6, 2, 2, 2, 2, 6, 6, 8, 6, 2, 3, 5, 2, 8, 9, 8, 0, 1, 5, 0, 9, 1, 6, 7, 9, 7, 3, 6, 2, 0, 4, 7, 6, 4, 4, 5, 2, 3, 4, 4, 5, 2, 9, 6, 1, 4, 7, 4, 8, 6, 5, 9, 8, 9, 9, 4, 4, 8, 6, 6, 4, 2, 1, 8, 3, 3, 0, 3, 8, 9, 2, 6, 2, 6, 5, 6, 8, 4, 3, 5, 0, 3, 2, 0, 0, 4, 8, 9, 8, 6, 9, 2, 1, 0, 7, 9, 0, 5, 0, 6, 2, 0, 6, 7, 6, 2, 6, 7, 8, 2, 4, 7, 6, 8, 7, 7, 3, 2, 5, 9, 3, 8, 2, 6, 4, 9, 6, 2, 1, 4, 0, 6, 6, 4, 3, 4, 5, 3, 6, 5, 9, 9, 5, 1, 6, 0, 2, 7, 9, 5, 3, 5, 6, 2, 1, 5, 5, 9, 0, 1, 3, 4, 5, 7, 4, 5, 9, 6, 1, 7, 4, 2, 8, 8, 5, 6, 0, 3, 4, 9, 4, 5, 6, 0, 7, 0, 3, 0, 7, 5, 8, 3, 8, 1, 5, 9, 1, 0, 1, 8, 0, 8, 2, 5, 6, 7, 1, 0, 2, 9, 0, 4, 1, 9, 5, 3, 5, 7, 3, 1, 9, 3, 9, 4, 9, 6, 0, 8, 8, 6, 6, 9, 6, 9, 3, 2, 0, 1, 7, 3, 6, 5, 3, 3, 3, 6, 4, 0, 0, 8, 4, 2, 2, 2, 1, 8, 6, 8, 5, 3, 9, 9, 0, 9, 8, 1, 5, 4, 3, 7, 0, 9, 7, 6, 0, 4, 1, 9, 8, 4, 7, 7, 5, 9, 7, 7, 5, 5, 6, 8, 5, 7, 5, 8, 8, 2, 5, 5, 2, 8, 4, 5, 6, 8, 8, 5, 3, 5, 5, 9, 4, 3, 3, 9, 0, 2, 4, 1, 0, 2, 7, 5, 3, 4, 3, 7, 6, 2, 3, 5, 2, 0, 5, 9, 6, 3, 9, 6, 0, 2, 5, 6, 7, 7, 2, 0, 1, 7, 0, 8, 9, 4, 3, 4, 3, 5, 3, 6, 0, 4, 2, 6, 9, 5, 1, 1, 9, 1, 9, 2, 4, 9, 1, 9, 8, 6, 3, 6, 8, 2, 0, 9, 3, 5, 8, 7, 4, 2, 2, 7, 9, 1, 8, 2, 4, 7, 6, 0, 5, 5, 6, 9, 8, 8, 5, 5, 7, 1, 2, 7, 9, 0, 5, 7, 5, 2, 5, 4, 7, 1, 3, 3, 4, 3, 6, 2, 0, 5, 8, 0, 4, 2, 9, 2, 4, 2, 3, 8, 0, 8, 4, 6, 4, 2, 8, 6, 9, 8, 4, 1, 9, 7, 0, 8, 3, 2, 4, 6, 8, 2, 4, 1, 3, 0, 8, 2, 0, 8, 0, 0, 0, 0, 2, 2, 3, 6, 9, 7, 0, 9, 1, 0, 7, 2, 8, 3, 0, 8, 4, 3, 5, 8, 7, 8, 4, 0, 0, 9, 7, 3, 1, 5, 2, 6, 5, 3, 2, 3, 7, 0, 3, 4, 1, 1, 8, 9, 0, 4, 8, 3, 1, 1, 5, 7, 2, 3, 9, 4, 5, 2, 5, 4, 7, 1, 7, 6, 2, 6, 1, 8, 8, 9, 4, 9, 5, 6, 6, 7, 1, 1, 2, 2, 4, 8, 5, 5, 9, 2, 9, 8, 5, 7, 2, 3, 8, 5, 7, 4, 7, 6, 2, 6, 0, 6, 2, 0, 4, 0, 1, 4, 2, 3, 5, 8, 7, 5, 1, 5, 2, 2, 5, 3, 6, 5, 4, 3, 2, 9, 4, 4, 0, 1, 8, 8, 6, 5, 3, 7, 2, 3, 2, 9, 0, 9, 2, 7, 8, 1, 2, 1, 3, 7, 2, 9, 3, 5, 5, 8, 4, 5, 5, 8, 5, 5, 6, 9, 5, 8, 6, 1, 2, 4, 2, 4, 9, 2, 1, 9, 3, 0, 8, 2, 8, 4, 2, 6, 4, 1, 3, 6, 9, 4, 6, 8, 6, 9, 6, 4, 7, 2, 0, 9, 4, 4, 4, 8, 9, 7, 7, 9, 3, 5, 0, 0, 3, 3, 3, 7, 6, 1, 4, 5, 2, 4, 4, 8, 5, 6, 0, 3, 4, 6, 3, 2, 0, 3, 5, 7, 0, 3, 5, 4, 7, 8, 5, 7, 0, 2, 8, 0, 2, 4, 6, 6, 6, 3, 7, 6, 3, 5, 9, 9, 7, 4, 9, 1, 9, 6, 5, 1, 7, 0, 2, 0, 2, 7, 4, 9, 8, 3, 5, 3, 0, 5, 1, 6, 7, 7, 8, 8, 2, 7, 9, 2, 4, 6, 5, 9, 8, 4, 6, 7, 8, 2, 8, 5, 8, 9, 0, 2, 3, 0, 9, 7, 3, 7, 9, 5, 3, 6, 6, 9, 9, 1, 5, 1, 2, 2, 4, 0, 9, 5, 4, 2, 8, 9, 9, 2, 0, 2, 6, 9, 1, 3, 8, 8, 6, 6, 4, 9, 6, 4, 4, 0, 4, 9, 2, 2, 0, 4, 0, 9, 6, 7, 9, 0, 9, 3, 9, 9, 9, 6, 2, 3, 6, 7, 6, 0, 5, 7, 6, 4, 4, 9, 8, 0, 9, 4, 6, 0, 7, 1, 3, 6, 6, 0, 4, 7, 1, 1, 4, 9, 8, 6, 8, 0, 6, 1, 1, 8, 5, 5, 5, 3, 4, 5, 5, 8, 6, 9, 3, 4, 3, 4, 2, 4, 3, 3, 8, 8, 9, 5, 7, 2, 8, 2, 3, 1, 9, 6, 4, 8, 5, 1, 6, 1, 7, 6, 4, 3, 2, 3, 9, 0, 5, 2, 3, 9, 5, 3, 2, 4, 4, 5, 8, 3, 4, 5, 6, 6, 7, 3, 1, 6, 5, 9, 8, 3, 2, 0, 4, 7, 3, 9, 9, 4, 1, 6, 7, 6, 6, 1, 5, 8, 1, 0, 8, 6, 3, 7, 1, 5, 9, 4, 1, 6, 0, 3, 7, 2, 9, 2, 2, 6, 9, 1, 0, 5, 7, 4, 2, 8, 9, 0, 8, 6, 4, 3, 3, 6, 4, 5, 4, 2, 3, 1, 4, 6, 8, 3, 9, 7, 9, 4, 0, 8, 9, 8, 0, 8, 1, 9, 3, 2, 7, 0, 6, 0, 5, 9, 5, 4, 8, 1, 0, 2, 5, 0, 8, 3, 0, 1, 4, 0, 3, 1, 6, 4, 7, 9, 5, 5, 0, 4, 7, 9, 1, 9, 1, 4, 6, 3, 9, 9, 9, 8, 9, 7, 1, 1, 4, 1, 0, 7, 0, 9, 6, 6, 2, 4, 7, 6, 4, 5, 8, 0, 4, 7, 1, 7, 3, 4, 7, 5, 5, 2, 0, 2, 0, 5, 5, 8, 5, 8, 4, 0, 8, 4, 9, 7, 6, 9, 8, 0, 8, 4, 2, 9, 1, 4, 6, 0, 7, 7, 1, 6, 1, 5, 6, 5, 7, 3, 8, 4, 5, 8, 5, 8, 5, 9, 1, 3, 2, 5, 3, 1, 2, 1, 2, 6, 7, 2, 0, 5, 3, 1, 6, 2, 7, 3, 6, 0, 9, 8, 0, 6, 4, 3, 2, 6, 8, 7, 2, 1, 1, 9, 5, 4, 5, 8, 0, 1, 0, 9, 1, 8, 2, 4, 7, 4, 2, 4, 4, 7, 0, 0, 6, 4, 6, 7, 8, 5, 9, 9, 2, 9, 3, 3, 5, 7, 7, 6, 7, 0, 0, 0, 6, 3, 1, 2, 6, 3, 7, 3, 2, 2, 8, 8, 6, 6, 0, 0, 3, 1, 1, 1, 3, 4, 4, 6, 4, 7, 3, 2, 3, 9, 7, 2, 7, 9, 2, 3, 6, 7, 5, 9, 2, 6, 3, 5, 6, 5, 3, 4, 6, 9, 1, 7, 7, 5, 9, 4, 2, 3, 8, 0, 9, 6, 6, 1, 3, 6, 6, 3, 9, 3, 6, 5, 2, 0, 4, 7, 4, 8, 5, 5, 0, 0, 9, 0, 3, 6, 2, 9, 8, 1, 1, 4, 3, 4, 0, 3, 7, 3, 8, 6, 4, 2, 4, 1, 2, 7, 5, 2, 6, 8, 0, 4, 6, 4, 2, 3, 2, 4, 1, 6, 0, 5, 8, 8, 1, 8, 6, 2, 8, 2, 4, 4, 0, 9, 7, 6, 7, 4, 2, 3, 8, 9, 4, 8, 8, 4, 2, 0, 1, 4, 4, 8, 6, 6, 7, 2, 7, 0, 0, 7, 2, 3, 1, 8, 9, 7, 7, 0, 1, 7, 9, 7, 7, 5, 9, 2, 7, 5, 5, 1, 4, 4, 7, 1, 3, 6, 3, 0, 0, 0, 8, 0, 8, 5, 6, 8, 6, 6, 4, 0, 0, 8, 6, 7, 4, 8, 3, 9, 4, 9, 8, 2, 3, 0, 4, 4, 8, 1, 8, 4, 3, 8, 8, 4, 2, 4, 3, 6, 3, 0, 5, 8, 0, 7, 5, 4, 7, 5, 8, 9, 0, 4, 6, 7, 1, 1, 4, 3, 5, 7, 1, 7, 1, 9, 3, 0, 0, 8, 9, 7, 2, 8, 9, 9, 3, 5, 0, 3, 3, 2, 1, 0, 1, 5, 2, 7, 1, 4, 1, 3, 5, 1, 9, 8, 5, 2, 0, 7, 2, 9, 2, 0, 9, 2, 2, 6, 2, 1, 8, 4, 4, 8, 4, 1, 7, 0, 3, 6, 1, 6, 3, 7, 4, 4, 7, 8, 2, 7, 4, 7, 3, 6, 6, 3, 5, 9, 8, 6, 0, 0, 8, 4, 3, 6, 9, 6, 2, 5, 0, 6, 3, 1, 5, 2, 2, 7, 3, 4, 6, 2, 8, 7, 6, 3, 9, 3, 4, 3, 6, 7, 7, 1, 1, 7, 8, 4, 5, 3, 6, 5, 6, 2, 9, 2, 5, 9, 1, 1, 7, 8, 3, 5, 1, 3, 8, 5, 0, 8, 0, 2, 3, 9, 8, 3, 0, 0, 7, 5, 7, 3, 2, 3, 3, 7, 5, 5, 6, 9, 0, 2, 1, 2, 5, 5, 1, 4, 0, 7, 1, 8, 8, 4, 0, 1, 7, 8, 9, 0, 7, 2, 5, 7, 8, 3, 0, 1, 2, 3, 9, 2, 7, 0, 0, 2, 2, 4, 1, 5, 3, 3, 5, 1, 5, 5, 9, 0, 9, 8, 0, 9, 3, 0, 7, 9, 6, 5, 5, 2, 6, 8, 0, 1, 7, 7, 7, 1, 3, 0, 1, 4, 1, 0, 3, 1, 9, 0, 6, 3, 6, 0, 5, 4, 0, 8, 8, 0, 1, 5, 8, 3, 7, 2, 9, 1, 9, 9, 2, 7, 6, 1, 0, 9, 8, 8, 6, 0, 2, 0, 5, 0, 8, 9, 2, 6, 6, 1, 2, 1, 5, 8, 9, 7, 4, 1, 2, 8, 9, 0, 2, 0, 9, 9, 1, 1, 5, 5, 3, 9, 3, 1, 5, 2, 2, 5, 1, 6, 9, 5, 4, 5, 4, 9, 6, 0, 8, 2, 1, 9, 7, 0, 8, 0, 1, 0, 2, 3, 8, 6, 4, 1, 5, 6, 1, 9, 4, 9, 6, 3, 8, 7, 3, 0, 3, 9, 7, 2, 6, 2, 9, 4, 6, 0, 9, 6, 7, 4, 7, 0, 9, 9, 5, 6, 5, 4, 1, 3, 5, 5, 2, 9, 5, 2, 9, 7, 7, 4, 9, 4, 4, 8, 7, 8, 7, 4, 5, 0, 8, 2, 3, 0, 0, 8, 8, 4, 0, 2, 5, 7, 2, 6, 2, 5, 6, 9, 7, 3, 4, 1, 5, 4, 8, 8, 4, 3, 0, 7, 2, 9, 4, 6, 6, 4, 9, 2, 4, 8, 8, 0, 3, 8, 1, 4, 1, 0, 6, 6, 9, 1, 6, 2, 3, 4, 0, 1, 2, 2, 0, 8, 8, 4, 7, 9, 9, 6, 6, 0, 5, 6, 7, 3, 6, 7, 8, 7, 3, 1, 0, 3, 8, 4, 5, 1, 8, 6, 2, 8, 5, 7, 6, 2, 8, 6, 5, 8, 0, 5, 9, 2, 7, 0, 5, 8, 6, 8, 9, 3, 8, 3, 2, 6, 8, 7, 8, 3, 3, 8, 5, 4, 1, 2, 9, 6, 5, 9, 4, 3, 8, 5, 5, 8, 8, 2, 0, 3, 1, 4, 1, 0, 8, 0, 5, 8, 4, 9, 1, 8, 0, 0, 6, 7, 7, 7, 5, 6, 3, 6, 5, 8, 2, 6, 5, 7, 5, 4, 7, 3, 2, 9, 5, 8, 8, 5, 7, 2, 2, 8, 7, 6, 7, 7, 2, 7, 6, 4, 0, 6, 3, 1, 4, 6, 3, 9, 8, 3, 8, 1, 0, 0, 5, 3, 5, 8, 4, 0, 6, 1, 7, 0, 2, 2, 1, 7, 3, 0, 8, 6, 7, 7, 0, 0, 1, 4, 1, 1, 6, 6, 6, 1, 3, 6, 0, 1, 3, 8, 5, 0, 1, 6, 5, 5, 4, 3, 9, 8, 6, 0, 5, 4, 9, 2, 8, 4, 8, 8, 2, 1, 4, 8, 6, 7, 3, 1, 3, 4, 9, 4, 8, 4, 5, 0, 9, 1, 3, 8, 7, 5, 4, 6, 6, 7, 9, 0, 5, 2, 3, 3, 3, 9, 0, 9, 2, 9, 1, 0, 2, 3, 9, 6, 6, 1, 6, 3, 7, 6, 2, 7, 0, 4, 8, 9, 6, 0, 7, 7, 5, 0, 4, 5, 9, 6, 4, 5, 7, 9, 3, 7, 8, 5, 0, 4, 1, 3, 8, 6, 9, 5, 7, 6, 7, 7, 3, 4, 2, 3, 6, 4, 5, 0, 1, 9, 3, 8, 4, 4, 1, 9, 8, 9, 3, 6, 0, 9, 1, 6, 3, 2, 3, 0, 5, 8, 8, 0, 0, 6, 2, 3, 5, 1, 5, 7, 1, 0, 9, 8, 3, 3, 5, 6, 3, 2, 1, 3, 7, 0, 7, 7, 2, 4, 7, 7, 6, 2, 6, 1, 7, 2, 3, 3, 0, 2, 2, 9, 6, 5, 5, 1, 9, 7, 9, 4, 6, 4, 1, 9, 1, 3, 6, 1, 2, 2, 5, 8, 0, 8, 5, 1, 7, 6, 7, 9, 3, 0, 9, 2, 2, 6, 7, 6, 9, 1, 9, 4, 0, 5, 6, 6, 4, 4, 4, 1, 6, 3, 2, 8, 9, 4, 7, 2, 3, 9, 3, 4, 0, 1, 1, 1, 9, 9, 7, 5, 1, 9, 2, 5, 6, 1, 5, 3, 0, 1, 4, 9, 4, 2, 0, 8, 3, 2, 7, 3, 8, 6, 1, 4, 2, 4, 9, 4, 6, 9, 1, 5, 9, 9, 1, 4, 2, 7, 2, 7, 3, 1, 9, 8, 8, 1, 2, 0, 8, 8, 2, 8, 7, 8, 4, 1, 7, 4, 3, 1, 8, 6, 4, 5, 0, 5, 6, 7, 5, 9, 8, 8, 8, 9, 7, 3, 8, 7, 8, 2, 1, 8, 8, 4, 9, 1, 5, 4, 2, 6, 6, 9, 2, 7, 2, 8, 4, 2, 9, 1, 6, 5, 8, 5, 9, 7, 6, 2, 9, 1, 8, 7, 0, 9, 9, 7, 6, 3, 9, 3, 0, 0, 0, 7, 7, 0, 7, 3, 9, 0, 9, 2, 1, 5, 7, 1, 6, 8, 2, 0, 4, 2, 1, 4, 0, 4, 8, 0, 4, 9, 9, 6, 3, 6, 1, 7, 4, 6, 8, 6, 0, 7, 4, 8, 7, 5, 7, 5, 2, 0, 5, 8, 6, 6, 6, 8, 8, 5, 6, 6, 9, 9, 2, 7, 2, 1, 9, 3, 9, 0, 1, 5, 9, 9, 7, 9, 6, 5, 3, 7, 6, 7, 0, 4, 2, 3, 9, 6, 2, 5, 7, 5, 0, 2, 8, 2, 9, 6, 1, 5, 1, 3, 6, 3, 0, 8, 0, 6, 3, 5, 0, 1, 4, 6, 7, 9, 1, 5, 4, 0, 4, 6, 2, 3, 8, 7, 5, 7, 3, 4, 8, 9, 8, 3, 6, 0, 5, 1, 1, 9, 4, 8, 9, 9, 9, 5, 0, 8, 0, 2, 0, 3, 6, 3, 9, 0, 3, 3, 8, 0, 8, 8, 0, 9, 4, 8, 4, 6, 4, 4, 3, 3, 0, 4, 9, 6, 7, 9, 5, 4, 3, 5, 5, 5, 2, 3, 6, 5, 5, 9, 1, 6, 4, 1, 0, 5, 7, 9, 3, 0, 6, 8, 9, 7, 6, 2, 8, 0, 0, 2, 9, 0, 3, 2, 7, 2, 7, 3, 2, 3, 7, 7, 5, 3, 8, 5, 4, 0, 2, 9, 1, 3, 2, 5, 8, 0, 6, 1, 7, 5, 9, 7, 7, 5, 0, 1, 1, 9, 4, 2, 1, 8, 2, 2, 2, 7, 3, 7, 0, 4, 6, 6, 2, 9, 3, 0, 6, 0, 1, 9, 3, 5, 4, 9, 6, 7, 3, 6, 8, 3, 9, 2, 0, 9, 5, 4, 7, 2, 3, 9, 9, 5, 0, 3, 1, 7, 2, 4, 7, 9, 9, 0, 4, 4, 5, 1, 7, 1, 8, 4, 1, 4, 2, 1, 6, 9, 2, 2, 0, 8, 0, 8, 8, 5, 5, 2, 8, 0, 9, 5, 7, 4, 9, 5, 2, 0, 8, 0, 2, 6, 9, 1, 3, 0, 1, 8, 9, 4, 5, 9, 8, 0, 7, 8, 4, 4, 3, 6, 6, 5, 6, 1, 0, 1, 2, 8, 9, 6, 5, 9, 9, 9, 6, 5, 0, 9, 5, 0, 5, 8, 0, 0, 4, 3, 4, 2, 6, 1, 7, 6, 2, 3, 1, 2, 8, 2, 6, 0, 3, 4, 1, 6, 2, 3, 4, 2, 6, 5, 8, 9, 8, 3, 5, 7, 5, 7, 0, 4, 6, 3, 4, 0, 3, 6, 2, 1, 7, 5, 8, 5, 8, 7, 4, 5, 4, 0, 2, 1, 5, 7, 2, 6, 8, 0, 7, 7, 4, 1, 0, 7, 9, 2, 7, 0, 9, 8, 7, 7, 5, 2, 7, 9, 7, 6, 4, 8, 4, 6, 4, 1, 7, 9, 8, 8, 6, 3, 7, 3, 3, 9, 7, 0, 7, 1, 8, 8, 5, 7, 1, 1, 7, 4, 0, 4, 1, 2, 2, 9, 8, 7, 1, 3, 2, 2, 4, 1, 0, 4, 5, 1, 5, 6, 1, 8, 2, 5, 3, 9, 5, 1, 7, 0, 4, 6, 7, 2, 3, 5, 5, 9, 0, 5, 7, 8, 3, 6, 0, 3, 1, 9, 2, 7, 0, 9, 8, 2, 9, 8, 3, 2, 5, 0, 0, 8, 3, 3, 6, 6, 4, 9, 6, 0, 9, 1, 5, 7, 0, 2, 7, 8, 2, 9, 4, 1, 3, 1, 6, 5, 6, 2, 4, 2, 8, 5, 8, 6, 4, 4, 8, 8, 6, 2, 3, 3, 8, 1, 3, 4, 5, 6, 2, 9, 0, 7, 2, 7, 0, 8, 7, 4, 8, 2, 7, 7, 7, 9, 9, 1, 4, 8, 3, 7, 4, 3, 4, 1, 8, 8, 4, 1, 0, 8, 0, 0, 0, 4, 7, 1, 5, 5, 5, 3, 6, 5, 3, 2, 9, 0, 5, 1, 0, 0, 9, 1, 7, 8, 9, 2, 3, 5, 7, 1, 0, 8, 8, 8, 0, 7, 2, 7, 2, 5, 0, 7, 7, 9, 4, 8, 6, 5, 9, 6, 8, 6, 9, 4, 0, 4, 7, 2, 9, 0, 3, 0, 9, 5, 2, 2, 1, 4, 4, 2, 5, 6, 2, 4, 2, 5, 3, 1, 7, 5, 9, 6, 9, 5, 9, 4, 1, 2, 5, 9, 8, 3, 6, 5, 5, 4, 8, 7, 9, 5, 0, 8, 4, 9, 5, 7, 3, 3, 0, 2, 1, 5, 9, 0, 1, 2, 3, 3, 7, 2, 1, 0, 7, 7, 1, 3, 4, 2, 5, 9, 4, 0, 8, 9, 5, 3, 0, 5, 5, 6, 5, 6, 6, 2, 0, 8, 5, 6, 5, 4, 5, 5, 2, 6, 3, 1, 4, 9, 0, 0, 9, 4, 9, 7, 6, 7, 1, 1, 1, 8, 0, 6, 2, 6, 4, 9, 1, 5, 0, 2, 8, 3, 1, 1, 8, 8, 5, 1, 0, 8, 4, 6, 2, 7, 6, 9, 9, 3, 9, 8, 5, 5, 2, 7, 9, 8, 8, 1, 3, 9, 7, 0, 8, 3, 4, 3, 0, 9, 6, 4, 9, 4, 8, 2, 9, 6, 4, 4, 8, 9, 5, 3, 3, 0, 0, 7, 0, 1, 8, 6, 7, 9, 1, 7, 3, 3, 3, 9, 5, 4, 4, 3, 4, 3, 3, 2, 2, 4, 4, 6, 4, 5, 7, 3, 7, 8, 5, 0, 5, 3, 6, 8, 1, 2, 2, 3, 2, 1, 5, 1, 4, 7, 2, 9, 8, 7, 0, 1, 0, 4, 1, 9, 6, 8, 5, 4, 8, 4, 6, 5, 6, 7, 3, 7, 9, 5, 0, 7, 6, 3, 9, 2, 4, 6, 9, 1, 4, 7, 1, 6, 4, 9, 0, 6, 7, 5, 4, 4, 9, 7, 3, 1, 9, 7, 9, 4, 6, 7, 4, 9, 6, 1, 2, 6, 4, 7, 6, 7, 1, 4, 3, 2, 3, 7, 0, 3, 9, 4, 0, 0, 4, 2, 8, 2, 1, 3, 7, 7, 8, 2, 3, 1, 7, 2, 0, 7, 3, 4, 3, 5, 2, 7, 6, 8, 5, 4, 5, 2, 8, 3, 4, 5, 8, 1, 3, 1, 6, 3, 5, 1, 0, 5, 1, 9, 5, 2, 9, 4, 2, 7, 9, 9, 1, 6, 3, 2, 0, 1, 7, 0, 0, 1, 0, 5, 4, 8, 0, 9, 0, 1, 9, 3, 7, 4, 2, 4, 2, 6, 2, 0, 3, 6, 0, 8, 7, 0, 0, 7, 3, 8, 3, 3, 6, 8, 2, 7, 4, 1, 2, 9, 2, 4, 6, 6, 8, 5, 1, 4, 3, 7, 5, 0, 9, 2, 0, 1, 3, 9, 4, 3, 1, 8, 5, 4, 9, 9, 0, 7, 6, 5, 5, 2, 1, 6, 2, 7, 4, 6, 4, 1, 6, 5, 1, 9, 3, 8, 7, 2, 3, 6, 1, 4, 3, 2, 8, 2, 8, 6, 4, 6, 8, 4, 5, 2, 8, 0, 9, 7, 3, 5, 2, 4, 6, 7, 2, 1, 3, 3, 3, 3, 1, 1, 3, 7, 4, 2, 6, 8, 2, 0, 0, 4, 6, 3, 8, 4, 6, 3, 0, 7, 8, 1, 9, 6, 0, 5, 2, 6, 7, 6, 4, 9, 6, 4, 7, 8, 5, 9, 4, 5, 1, 4, 6, 6, 7, 9, 3, 8, 2, 0, 1, 6, 9, 2, 6, 2, 1, 6, 7, 0, 6, 3, 3, 3, 2, 1, 4, 5, 4, 0, 7, 8, 6, 3, 7, 4, 0, 9, 6, 7, 3, 5, 8, 5, 6, 9, 5, 6, 6, 2, 3, 3, 4, 9, 7, 1, 3, 4, 6, 2, 4, 3, 3, 0, 8, 6, 7, 7, 3, 4, 5, 4, 2, 3, 1, 0, 9, 4, 4, 4, 2, 5, 2, 0, 3, 3, 6, 2, 5, 1, 7, 9, 2, 8, 2, 0, 1, 8, 8, 7, 2, 3, 4, 3, 2, 1, 0, 7, 5, 9, 9, 6, 8, 6, 2, 3, 0, 8, 4, 7, 4, 7, 1, 9, 3, 1, 2, 1, 9, 0, 6, 0, 9, 8, 1, 3, 1, 9, 6, 1, 3, 5, 7, 7, 1, 8, 7, 4, 0, 1, 3, 2, 6, 0, 0, 5, 3, 2, 9, 9, 5, 7, 7, 5, 5, 7, 3, 1, 0, 1, 2, 9, 9, 5, 9, 1, 4, 0, 6, 7, 3, 7, 3, 8, 8, 0, 4, 6, 6, 5, 3, 1, 7, 9, 8, 3, 5, 1, 3, 1, 7, 0, 1, 1, 2, 7, 8, 6, 3, 0, 2, 6, 9, 6, 7, 6, 6, 1, 7, 3, 6, 6, 8, 2, 3, 7, 5, 0, 8, 7, 7, 1, 9, 3, 6, 1, 4, 5, 2, 8, 2, 8, 7, 6, 5, 1, 4, 5, 3, 3, 9, 4, 1, 3, 8, 8, 3, 8, 7, 7, 5, 6, 8, 5, 1, 2, 7, 2, 2, 8, 6, 2, 8, 5, 7, 4, 6, 9, 3, 1, 1, 5, 2, 8, 7, 1, 1, 7, 7, 8, 6, 8, 6, 7, 1, 6, 8, 1, 6, 0, 9, 9, 2, 3, 4, 7, 4, 7, 7, 2, 4, 9, 8, 3, 8, 3, 7, 1, 4, 5, 6, 3, 2, 2, 0, 6, 0, 9, 8, 4, 7, 7, 5, 0, 3, 1, 9, 1, 3, 5, 5, 4, 7, 4, 5, 4, 8, 8, 8, 3, 2, 1, 2, 9, 6, 1, 9, 4, 7, 6, 4, 1, 1, 4, 8, 1, 9, 2, 3, 9, 0, 3, 9, 4, 1, 8, 3, 4, 8, 3, 3, 1, 8, 2, 6, 0, 0, 2, 1, 0, 4, 6, 6, 2, 1, 0, 3, 1, 6, 1, 9, 6, 3, 9, 6, 7, 4, 6, 8, 4, 2, 3, 2, 0, 8, 6, 4, 9, 0, 7, 0, 1, 2, 5, 5, 1, 6, 3, 6, 2, 8, 5, 7, 1, 6, 1, 2, 1, 0, 0, 8, 8, 2, 8, 5, 7, 3, 3, 5, 4, 9, 4, 7, 6, 1, 8, 4, 9, 7, 4, 3, 8, 2, 9, 7, 7, 5, 6, 0, 6, 3, 1, 3, 8, 2, 2, 9, 7, 8, 8, 0, 0, 7, 5, 1, 1, 6, 5, 8, 7, 4, 6, 2, 7, 7, 8, 7, 5, 5, 7, 6, 4, 6, 2, 2, 8, 9, 6, 9, 4, 6, 8, 8, 2, 1, 3, 3, 8, 4, 0, 4, 7, 2, 5, 4, 4, 0, 8, 4, 3, 6, 3, 8, 8, 2, 9, 6, 9, 5, 6, 2, 3, 7, 1, 4, 7, 9, 0, 5, 8, 6, 7, 3, 1, 7, 2, 5, 6, 6, 0, 5, 0, 8, 4, 2, 4, 4, 7, 1, 5, 8, 5, 2, 3, 8, 8, 4, 9, 8, 5, 9, 5, 2, 5, 8, 4, 7, 3, 3, 3, 1, 3, 8, 9, 3, 8, 1, 8, 3, 6, 9, 2, 2, 6, 3, 5, 5, 7, 3, 6, 0, 1, 2, 1, 1, 8, 5, 2, 7, 3, 4, 4, 8, 5, 5, 6, 5, 3, 5, 4, 5, 2, 2, 9, 0, 8, 9, 3, 6, 1, 0, 6, 1, 1, 2, 0, 3, 5, 7, 0, 2, 7, 7, 0, 4, 5, 6, 7, 5, 7, 2, 5, 0, 7, 1, 9, 3, 7, 6, 0, 7, 3, 4, 4, 5, 2, 9, 2, 0, 3, 1, 6, 2, 2, 4, 7, 3, 1, 8, 7, 3, 0, 6, 5, 3, 5, 3, 8, 6, 8, 3, 3, 5, 8, 1, 6, 9, 5, 6, 0, 9, 9, 5, 6, 8, 9, 6, 0, 6, 3, 6, 1, 0, 6, 2, 3, 5, 1, 9, 0, 6, 6, 5, 6, 3, 4, 5, 1, 6, 7, 4, 2, 9, 6, 6, 2, 5, 8, 8, 4, 1, 7, 1, 8, 1, 1, 3, 7, 9, 5, 8, 4, 4, 1, 2, 0, 1, 4, 9, 2, 7, 5, 8, 3, 2, 3, 8, 0, 1, 3, 7, 6, 6, 4, 3, 5, 0, 6, 4, 7, 1, 7, 1, 0, 0, 8, 2, 7, 2, 7, 8, 6, 2, 9, 1, 6, 2, 6, 1, 3, 0, 5, 3, 0, 6, 1, 1, 5, 1, 7, 5, 3, 4, 1, 1, 4, 0, 8, 4, 2, 5, 4, 8, 3, 4, 3, 1, 1, 7, 9, 1, 1, 8, 0, 1, 1, 2, 1, 4, 4, 8, 7, 4, 8, 6, 3, 1, 9, 6, 6, 4, 4, 0, 2, 5, 9, 7, 1, 7, 6, 4, 7, 5, 4, 1, 0, 2, 3, 3, 8, 9, 9, 7, 5, 9, 9, 7, 9, 6, 0, 4, 5, 3, 3, 1, 5, 1, 8, 3, 8, 0, 5, 4, 8, 1, 3, 8, 9, 1, 8, 0, 0, 5, 8, 1, 2, 7, 8, 2, 9, 5, 8, 9, 9, 6, 4, 3, 9, 0, 7, 0, 2, 2, 3, 8, 3, 0, 9, 5, 6, 3, 1, 5, 2, 3, 9, 2, 6, 7, 3, 8, 3, 6, 3, 7, 3, 0, 6, 3, 3, 9, 1, 8, 8, 3, 8, 3, 3, 0, 1, 0, 0, 7, 8, 8, 0, 5, 0, 9, 1, 8, 5, 6, 3, 5, 3, 0, 2, 2, 8, 6, 2, 9, 0, 0, 1, 0, 4, 3, 3, 8, 8, 4, 0, 6, 3, 1, 6, 2, 0, 7, 5, 7, 0, 1, 6, 0, 3, 2, 6, 9, 2, 9, 4, 7, 4, 5, 8, 5, 4, 7, 7, 3, 3, 7, 8, 9, 9, 1, 0, 4, 6, 2, 7, 5, 1, 8, 0, 7, 9, 3, 4, 2, 1, 0, 2, 5, 6, 0, 3, 9, 4, 2, 1, 7, 0, 1, 5, 4, 3, 7, 1, 7, 1, 9, 7, 8, 7, 0, 7, 8, 3, 2, 8, 7, 4, 5, 7, 1, 4, 7, 4, 4, 8, 9, 9, 8, 0, 6, 2, 4, 2, 4, 7, 6, 8, 1, 7, 4, 0, 2, 9, 8, 0, 6, 1, 6, 3, 9, 2, 0, 0, 4, 9, 2, 1, 0, 2, 2, 0, 2, 3, 7, 3, 8, 6, 4, 3, 7, 1, 0, 6, 4, 5, 8, 5, 3, 3, 7, 1, 7, 5, 7, 9, 2, 3, 4, 9, 9, 8, 9, 8, 2, 5, 9, 5, 0, 6, 8, 9, 9, 6, 1, 1, 9, 1, 6, 9, 4, 2, 2, 6, 8, 7, 1, 3, 6, 1, 1, 1, 5, 7, 5, 0, 1, 5, 8, 0, 6, 4, 3, 1, 7, 8, 1, 2, 1, 2, 5, 4, 8, 2, 9, 0, 8, 3, 5, 4, 9, 3, 6, 5, 7, 0, 7, 9, 9, 2, 6, 9, 9, 3, 2, 4, 3, 5, 0, 3, 0, 5, 1, 4, 5, 1, 1, 5, 5, 7, 0, 2, 0, 5, 9, 4, 0, 3, 8, 9, 0, 9, 8, 6, 1, 2, 7, 6, 7, 0, 3, 3, 3, 0, 6, 2, 0, 7, 0, 4, 3, 7, 3, 5, 7, 7, 4, 7, 6, 1, 4, 6, 6, 6, 0, 1, 4, 7, 7, 7, 1, 7, 8, 3, 7, 3, 9, 3, 2, 1, 0, 6, 2, 7, 5, 0, 6, 7, 2, 4, 3, 2, 9, 4, 9, 8, 2, 0, 6, 1, 1, 7, 5, 0, 6, 6, 2, 3, 5, 8, 3, 5, 7, 1, 8, 2, 2, 1, 4, 6, 2, 0, 1, 7, 8, 1, 2, 0, 2, 9, 9, 3, 7, 7, 4, 2, 0, 6, 8, 5, 9, 4, 9, 2, 3, 0, 5, 3, 4, 6, 1, 1, 0, 1, 6, 9, 6, 2, 9, 5, 7, 7, 3, 0, 5, 6, 3, 2, 0, 3, 3, 4, 8, 5, 1, 6, 5, 7, 7, 8, 2, 9, 9, 7, 3, 8, 2, 8, 6, 2, 2, 1, 4, 7, 4, 4, 6, 6, 9, 7, 2, 4, 6, 0, 8, 6, 6, 7, 0, 0, 0, 8, 2, 6, 6, 1, 5, 0, 9, 5, 6, 1, 4, 0, 7, 3, 1, 7, 9, 0, 1, 6, 6, 8, 8, 3, 0, 3, 3, 1, 6, 9, 4, 8, 8, 8, 6, 6, 2, 3, 9, 3, 8, 6, 2, 2, 0, 2, 5, 6, 8, 0, 2, 2, 8, 8, 3, 3, 3, 8, 2, 6, 6, 1, 7, 2, 7, 5, 5, 3, 8, 2, 0, 8, 4, 4, 8, 4, 5, 5, 7, 6, 3, 2, 3, 8, 1, 1, 6, 9, 0, 6, 7, 2, 4, 3, 4, 6, 8, 6, 0, 8, 8, 9, 7, 2, 7, 0, 4, 2, 3, 0, 6, 1, 0, 9, 3, 9, 1, 6, 2, 1, 1, 1, 0, 0, 0, 0, 2, 3, 0, 9, 3, 3, 7, 1, 6, 7, 9, 8, 2, 8, 4, 7, 0, 4, 0, 1, 8, 2, 3, 8, 1, 9, 9, 1, 6, 7, 1, 4, 0, 3, 5, 1, 0, 4, 8, 3, 5, 9, 7, 4, 2, 9, 9, 0, 2, 1, 8, 3, 9, 3, 5, 0, 5, 2, 3, 9, 0, 3, 3, 8, 3, 2, 2, 5, 8, 2, 6, 6, 2, 2, 1, 1, 7, 4, 2, 3, 8, 1, 2, 3, 4, 0, 2, 7, 5, 1, 0, 1, 2, 3, 6, 2, 5, 1, 5, 0, 0, 1, 7, 7, 5, 5, 6, 0, 4, 0, 3, 8, 6, 9, 8, 6, 1, 0, 2, 2, 6, 1, 8, 5, 3, 1, 9, 1, 1, 8, 5, 6, 1, 4, 2, 8, 4, 2, 7, 5, 5, 8, 0, 5, 1, 9, 3, 4, 8, 0, 8, 3, 5, 6, 4, 3, 6, 4, 0, 3, 4, 5, 3, 4, 2, 5, 3, 8, 0, 5, 8, 4, 0, 8, 5, 2, 5, 7, 8, 4, 2, 9, 5, 8, 8, 3, 3, 5, 3, 4, 9, 5, 0, 6, 1, 9, 0, 0, 9, 7, 1, 8, 3, 9, 2, 1, 7, 1, 9, 6, 9, 7, 7, 0, 2, 7, 7, 9, 9, 3, 5, 2, 2, 9, 2, 5, 5, 9, 5, 8, 3, 4, 1, 2, 5, 6, 3, 8, 4, 1, 2, 2, 0, 7, 6, 7, 1, 2, 8, 3, 1, 7, 4, 5, 9, 0, 3, 7, 8, 0, 7, 4, 2, 6, 9, 0, 2, 7, 4, 7, 3, 1, 7, 5, 1, 4, 0, 2, 4, 4, 3, 3, 0, 0, 8, 3, 3, 0, 9, 1, 7, 7, 0, 6, 9, 2, 4, 8, 5, 8, 5, 8, 9, 4, 4, 4, 8, 5, 3, 7, 0, 2, 5, 9, 8, 4, 9, 4, 2, 1, 3, 0, 3, 4, 8, 0, 1, 1, 9, 8, 7, 6, 1, 6, 3, 9, 6, 0, 2, 9, 2, 9, 6, 0, 0, 8, 6, 4, 9, 1, 1, 0, 5, 0, 2, 8, 4, 5, 9, 2, 6, 7, 4, 5, 5, 7, 6, 3, 8, 7, 9, 8, 4, 4, 6, 1, 1, 2, 0, 9, 1, 7, 2, 8, 8, 2, 1, 4, 4, 8, 4, 4, 6, 9, 5, 8, 5, 5, 7, 7, 5, 9, 5, 3, 4, 9, 9, 3, 7, 6, 9, 5, 8, 6, 6, 0, 7, 9, 2, 8, 3, 7, 0, 4, 0, 8, 8, 6, 2, 1, 2, 8, 9, 7, 2, 0, 2, 7, 6, 9, 1, 4, 8, 2, 8, 6, 7, 1, 1, 0, 1, 4, 6, 0, 4, 7, 1, 6, 0, 1, 9, 9, 8, 1, 6, 9, 1, 9, 9, 0, 1, 1, 7, 1, 8, 9, 1, 0, 0, 5, 7, 4, 4, 6, 5, 2, 5, 9, 8, 6, 5, 5, 3, 7, 8, 7, 7, 6, 3, 3, 1, 5, 9, 6, 7, 7, 3, 1, 7, 3, 2, 6, 6, 9, 8, 7, 2, 6, 8, 7, 7, 5, 1, 0, 7, 1, 7, 2, 1, 3, 4, 4, 9, 6, 2, 3, 8, 8, 0, 4, 7, 2, 7, 7, 9, 3, 7, 6, 8, 3, 9, 6, 4, 7, 4, 0, 3, 8, 9, 7, 0, 0, 5, 0, 7, 8, 8, 1, 8, 2, 9, 5, 8, 9, 5, 5, 2, 4, 8, 6, 3, 7, 2, 5, 5, 0, 3, 7, 4, 8, 1, 5, 1, 1, 7, 0, 1, 6, 7, 6, 8, 4, 0, 6, 6, 4, 2, 8, 7, 6, 3, 3, 7, 2, 3, 8, 9, 8, 7, 7, 4, 8, 3, 8, 7, 9, 2, 9, 9, 1, 5, 5, 4, 0, 6, 1, 2, 6, 3, 3, 2, 0, 5, 9, 7, 7, 0, 5, 0, 9, 2, 7, 7, 0, 9, 5, 5, 1, 9, 0, 3, 3, 9, 6, 7, 4, 8, 2, 5, 8, 2, 1, 4, 9, 0, 8, 2, 4, 0, 1, 2, 3, 0, 9, 4, 8, 3, 8, 9, 2, 3, 1, 4, 5, 1, 5, 1, 0, 2, 5, 2, 1, 8, 6, 4, 5, 0, 9, 3, 1, 0, 9, 1, 0, 7, 6, 6, 7, 7, 2, 6, 9, 3, 4, 5, 1, 9, 6, 6, 4, 8, 8, 6, 0, 4, 9, 5, 9, 9, 3, 9, 9, 0, 2, 2, 7, 3, 5, 1, 0, 9, 5, 8, 0, 8, 1, 1, 0, 0, 7, 4, 8, 2, 3, 3, 2, 5, 6, 0, 1, 8, 2, 6, 6, 2, 1, 3, 6, 5, 8, 3, 2, 0, 8, 1, 7, 9, 7, 2, 0, 4, 6, 8, 1, 5, 7, 9, 7, 0, 4, 1, 7, 5, 8, 7, 4, 8, 7, 3, 7, 4, 4, 0, 4, 7, 4, 3, 5, 3, 8, 1, 7, 8, 5, 7, 0, 8, 7, 5, 5, 4, 7, 1, 9, 0, 5, 2, 6, 1, 4, 8, 0, 6, 3, 1, 9, 7, 3, 5, 6, 6, 9, 8, 0, 5, 9, 6, 2, 6, 9, 5, 8, 3, 0, 5, 1, 7, 2, 8, 0, 4, 0, 8, 1, 3, 9, 7, 1, 3, 6, 7, 4, 8, 6, 7, 5, 3, 4, 3, 5, 2, 6, 9, 5, 0, 1, 7, 4, 8, 9, 4, 2, 2, 9, 0, 3, 3, 1, 3, 0, 4, 2, 1, 4, 0, 8, 2, 1, 4, 4, 3, 6, 6, 8, 3, 9, 9, 9, 9, 6, 5, 0, 8, 2, 3, 5, 9, 8, 2, 8, 3, 4, 1, 1, 7, 6, 9, 2, 1, 4, 6, 3, 3, 2, 1, 8, 1, 0, 0, 0, 3, 4, 0, 8, 0, 9, 1, 2, 8, 0, 1, 7, 7, 3, 4, 7, 8, 0, 2, 7, 1, 3, 7, 4, 6, 1, 7, 6, 1, 2, 6, 9, 8, 2, 0, 1, 0, 9, 6, 5, 3, 2, 4, 6, 5, 4, 9, 3, 8, 8, 7, 3, 6, 1, 2, 9, 8, 8, 1, 0, 3, 0, 8, 0, 0, 6, 6, 1, 3, 3, 6, 6, 5, 7, 5, 3, 8, 2, 1, 9, 0, 4, 6, 9, 2, 3, 9, 4, 1, 4, 2, 2, 3, 4, 8, 4, 3, 0, 6, 8, 8, 6, 2, 3, 3, 7, 3, 5, 2, 9, 6, 0, 2, 3, 5, 2, 4, 9, 5, 1, 6, 0, 3, 3, 7, 3, 7, 9, 8, 1, 5, 2, 8, 0, 2, 9, 5, 6, 6, 2, 6, 7, 4, 2, 4, 5, 8, 7, 6, 1, 1, 9, 5, 9, 7, 2, 1, 2, 9, 6, 8, 0, 3, 7, 7, 7, 8, 2, 3, 9, 0, 4, 1, 6, 4, 5, 0, 6, 6, 7, 2, 6, 9, 7, 9, 6, 6, 1, 3, 2, 4, 1, 1, 0, 4, 2, 6, 0, 8, 4, 4, 9, 8, 1, 5, 8, 1, 1, 8, 8, 9, 7, 2, 4, 5, 6, 4, 9, 6, 7, 5, 0, 8, 3, 5, 4, 5, 0, 5, 0, 2, 3, 0, 3, 7, 5, 0, 2, 3, 2, 3, 5, 9, 6, 3, 3, 8, 3, 9, 1, 7, 3, 0, 2, 0, 7, 5, 1, 1, 2, 6, 6, 1, 6, 8, 0, 8, 1, 0, 7, 2, 7, 3, 2, 3, 1, 9, 5, 3, 6, 9, 2, 4, 3, 8, 3, 8, 7, 2, 4, 2, 8, 4, 4, 2, 5, 6, 3, 9, 4, 6, 7, 0, 4, 4, 1, 8, 6, 2, 7, 4, 3, 1, 0, 7, 0, 9, 5, 8, 0, 1, 6, 9, 5, 0, 0, 2, 8, 5, 4, 0, 5, 1, 3, 3, 4, 9, 5, 3, 3, 1, 0, 1, 2, 2, 3, 6, 1, 2, 7, 8, 1, 9, 0, 6, 8, 6, 0, 8, 9, 2, 3, 7, 6, 2, 9, 8, 8, 6, 3, 0, 6, 9, 5, 9, 0, 7, 2, 0, 1, 2, 4, 1, 7, 5, 5, 2, 9, 2, 0, 5, 7, 4, 7, 7, 2, 7, 6, 5, 1, 5, 9, 7, 2, 0, 8, 9, 8, 6, 8, 5, 0, 7, 7, 8, 2, 1, 6, 1, 3, 1, 6, 6, 8, 2, 3, 7, 9, 8, 3, 8, 5, 7, 0, 1, 0, 7, 4, 2, 0, 4, 9, 4, 2, 7, 7, 4, 4, 1, 1, 0, 9, 0, 9, 8, 6, 4, 7, 2, 2, 2, 6, 0, 2, 1, 0, 2, 8, 4, 4, 6, 5, 9, 0, 1, 1, 8, 5, 1, 1, 8, 9, 0, 6, 4, 8, 4, 5, 7, 1, 4, 6, 2, 2, 6, 8, 2, 9, 2, 2, 7, 1, 4, 5, 3, 1, 0, 8, 4, 4, 3, 7, 8, 9, 3, 6, 1, 2, 1, 2, 2, 7, 1, 1, 1, 2, 5, 7, 2, 2, 7, 3, 4, 4, 5, 1, 0, 2, 9, 8, 3, 9, 1, 2, 0, 5, 9, 5, 9, 3, 1, 0, 3, 3, 0, 4, 0, 8, 4, 0, 1, 7, 5, 8, 3, 6, 9, 8, 7, 2, 8, 2, 3, 4, 5, 2, 6, 7, 4, 2, 7, 5, 5, 4, 8, 8, 1, 3, 8, 5, 4, 8, 9, 6, 9, 4, 3, 0, 1, 2, 2, 4, 6, 8, 8, 5, 0, 3, 1, 8, 3, 0, 7, 9, 8, 8, 9, 5, 2, 6, 4, 6, 8, 9, 8, 4, 8, 0, 5, 7, 1, 4, 8, 8, 3, 4, 0, 0, 5, 8, 3, 9, 3, 5, 9, 9, 6, 5, 8, 6, 3, 7, 2, 4, 0, 9, 2, 1, 0, 7, 3, 9, 8, 8, 4, 7, 7, 6, 9, 5, 8, 4, 6, 2, 2, 7, 6, 3, 3, 9, 2, 7, 6, 8, 1, 1, 5, 8, 5, 4, 4, 0, 3, 6, 1, 0, 6, 2, 6, 0, 3, 4, 6, 2, 6, 1, 1, 0, 7, 6, 5, 4, 5, 7, 1, 4, 4, 4, 7, 4, 4, 1, 4, 3, 6, 6, 8, 9, 6, 7, 2, 4, 3, 5, 3, 7, 8, 6, 2, 0, 0, 0, 2, 2, 5, 7, 1, 9, 6, 1, 9, 5, 9, 0, 6, 5, 4, 3, 8, 0, 6, 7, 1, 7, 4, 9, 8, 2, 6, 7, 3, 0, 5, 6, 7, 5, 7, 1, 6, 6, 4, 3, 3, 9, 8, 4, 3, 6, 4, 1, 6, 7, 4, 0, 1, 6, 3, 1, 2, 0, 0, 8, 6, 1, 6, 3, 8, 5, 0, 9, 1, 5, 4, 4, 0, 5, 2, 6, 1, 5, 9, 0, 8, 8, 1, 4, 9, 4, 4, 1, 0, 7, 3, 9, 1, 0, 2, 3, 1, 5, 2, 6, 9, 2, 3, 0, 7, 4, 3, 3, 0, 9, 3, 8, 3, 4, 2, 2, 1, 9, 0, 2, 8, 6, 6, 0, 3, 3, 6, 5, 3, 4, 1, 2, 0, 8, 9, 4, 1, 7, 2, 6, 1, 3, 3, 0, 1, 9, 5, 4, 4, 8, 2, 6, 2, 9, 7, 7, 7, 9, 8, 9, 4, 4, 7, 1, 0, 4, 3, 6, 3, 9, 8, 3, 6, 8, 3, 6, 6, 2, 6, 7, 3, 0, 0, 0, 2, 5, 1, 2, 9, 2, 2, 1, 6, 3, 9, 1, 1, 5, 1, 6, 6, 8, 8, 3, 4, 6, 0, 6, 0, 3, 6, 6, 5, 4, 8, 3, 2, 6, 0, 3, 1, 4, 0, 6, 6, 2, 7, 6, 9, 0, 4, 5, 7, 1, 6, 7, 9, 1, 7, 7, 8, 0, 3, 7, 4, 7, 3, 1, 0, 4, 6, 6, 1, 4, 9, 2, 6, 4, 5, 0, 4, 6, 0, 8, 3, 4, 8, 8, 3, 9, 5, 7, 1, 9, 4, 7, 9, 1, 9, 7, 5, 2, 7, 3, 4, 8, 8, 2, 1, 5, 9, 2, 7, 8, 8, 6, 8, 8, 1, 3, 8, 8, 5, 4, 7, 1, 6, 6, 1, 6, 1, 6, 7, 0, 4, 6, 9, 5, 8, 7, 1, 9, 0, 3, 3, 7, 6, 9, 0, 4, 7, 1, 4, 3, 4, 3, 9, 8, 7, 0, 8, 3, 9, 1, 0, 8, 0, 9, 4, 0, 2, 1, 4, 2, 7, 1, 7, 0, 2, 9, 7, 9, 8, 6, 4, 4, 1, 1, 7, 8, 8, 6, 4, 5, 6, 3, 9, 4, 2, 5, 3, 6, 7, 7, 3, 9, 1, 3, 1, 8, 3, 3, 5, 6, 4, 0, 9, 6, 6, 5, 0, 6, 2, 0, 5, 4, 9, 3, 4, 6, 0, 6, 7, 0, 7, 2, 6, 9, 6, 5, 4, 5, 4, 7, 7, 6, 8, 1, 5, 9, 7, 8, 8, 7, 1, 4, 6, 4, 2, 2, 5, 0, 3, 8, 9, 4, 1, 1, 4, 1, 9, 6, 3, 3, 6, 9, 5, 7, 6, 9, 4, 2, 4, 0, 0, 0, 8, 7, 5, 1, 8, 6, 7, 0, 1, 7, 7, 8, 2, 7, 4, 8, 8, 9, 8, 9, 8, 2, 8, 9, 1, 3, 5, 7, 4, 0, 1, 4, 4, 0, 8, 4, 3, 7, 9, 7, 7, 9, 3, 6, 9, 8, 1, 5, 9, 8, 5, 5, 3, 3, 3, 0, 5, 1, 0, 6, 7, 3, 0, 9, 0, 7, 0, 4, 8, 8, 0, 7, 0, 3, 9, 0, 8, 6, 8, 7, 7, 6, 4, 9, 1, 0, 8, 0, 6, 6, 7, 1, 2, 8, 1, 1, 6, 0, 5, 4, 7, 8, 1, 7, 4, 9, 6, 9, 8, 1, 2, 6, 1, 8, 5, 3, 7, 4, 7, 1, 9, 2, 9, 2, 4, 1, 0, 8, 2, 5, 2, 0, 6, 0, 8, 1, 4, 9, 2, 5, 8, 2, 5, 8, 2, 5, 3, 4, 8, 2, 3, 4, 1, 9, 7, 5, 5, 0, 4, 3, 2, 5, 3, 6, 5, 2, 8, 7, 2, 8, 2, 3, 2, 3, 8, 8, 6, 8, 1, 4, 9, 7, 1, 4, 3, 1, 3, 0, 8, 2, 1, 7, 6, 2, 3, 3, 3, 7, 7, 9, 3, 2, 0, 5, 4, 9, 2, 8, 1, 4, 4, 1, 2, 7, 5, 8, 5, 4, 0, 0, 3, 4, 7, 1, 3, 0, 9, 1, 7, 9, 2, 0, 4, 3, 7, 5, 9, 2, 3, 7, 3, 5, 6, 8, 2, 0, 5, 5, 0, 6, 3, 4, 9, 5, 1, 9, 8, 4, 0, 3, 7, 7, 8, 1, 6, 9, 3, 1, 4, 8, 7, 4, 7, 5, 5, 8, 1, 0, 7, 7, 0, 5, 6, 6, 7, 0, 6, 5, 5, 3, 3, 9, 7, 4, 7, 6, 1, 3, 5, 2, 1, 1, 4, 1, 8, 7, 0, 3, 1, 0, 0, 6, 7, 9, 2, 7, 7, 8, 5, 3, 2, 0, 9, 2, 4, 4, 2, 3, 6, 5, 7, 5, 6, 0, 7, 5, 4, 4, 8, 0, 2, 4, 8, 3, 2, 8, 1, 4, 2, 0, 3, 3, 8, 7, 9, 7, 2, 8, 9, 1, 2, 4, 1, 6, 5, 4, 3, 6, 6, 0, 8, 8, 4, 4, 1, 7, 1, 8, 8, 6, 1, 6, 0, 2, 1, 3, 4, 1, 0, 5, 9, 9, 2, 4, 9, 8, 8, 6, 7, 0, 5, 5, 5, 2, 7, 8, 0, 0, 6, 8, 1, 1, 8, 0, 8, 2, 7, 7, 0, 7, 8, 0, 0, 5, 5, 1, 4, 7, 5, 4, 9, 4, 2, 4, 8, 5, 6, 3, 4, 4, 8, 5, 5, 1, 7, 0, 1, 5, 0, 9, 6, 4, 4, 8, 3, 9, 5, 2, 5, 7, 4, 0, 7, 3, 0, 6, 7, 7, 4, 5, 6, 5, 5, 0, 2, 9, 5, 3, 3, 1, 1, 3, 2, 9, 3, 3, 7, 1, 2, 6, 5, 5, 5, 0, 9, 8, 0, 4, 4, 2, 5, 9, 3, 1, 7, 8, 6, 8, 0, 0, 7, 7, 5, 9, 0, 6, 3, 8, 6, 0, 3, 7, 1, 9, 6, 9, 6, 1, 0, 1, 0, 9, 5, 2, 2, 5, 0, 8, 9, 2, 4, 3, 8, 0, 0, 7, 3, 6, 7, 8, 7, 1, 5, 6, 8, 7, 1, 3, 1, 9, 6, 9, 9, 5, 1, 2, 4, 5, 8, 6, 4, 1, 8, 6, 2, 3, 5, 9, 1, 0, 8, 4, 9, 4, 7, 9, 3, 0, 8, 3, 7, 9, 2, 4, 5, 5, 8, 4, 2, 0, 1, 3, 3, 7, 0, 7, 7, 4, 8, 4, 5, 7, 5, 9, 1, 3, 7, 2, 7, 7, 4, 6, 4, 7, 7, 0, 9, 1, 0, 5, 2, 9, 4, 2, 1, 8, 4, 7, 8, 5, 6, 6, 1, 0, 1, 4, 5, 9, 7, 8, 3, 8, 6, 5, 6, 8, 5, 4, 2, 7, 8, 3, 9, 3, 7, 2, 9, 2, 6, 3, 6, 6, 2, 9, 3, 9, 2, 5, 6, 4, 3, 3, 4, 4, 0, 1, 0, 0, 8, 7, 3, 2, 3, 6, 8, 1, 1, 8, 4, 3, 2, 1, 4, 5, 9, 4, 8, 8, 2, 1, 5, 4, 8, 3, 4, 9, 6, 6, 8, 0, 7, 0, 0, 2, 1, 3, 7, 5, 9, 8, 7, 3, 1, 8, 0, 2, 5, 8, 2, 1, 0, 6, 8, 3, 2, 8, 0, 2, 5, 2, 0, 7, 4, 4, 0, 0, 5, 3, 3, 8, 3, 0, 2, 0, 5, 4, 5, 2, 4, 1, 6, 7, 3, 6, 8, 5, 6, 4, 7, 3, 6, 8, 2, 7, 3, 7, 0, 3, 0, 7, 8, 7, 0, 5, 5, 8, 4, 7, 6, 3, 7, 8, 6, 5, 5, 0, 4, 1, 0, 5, 0, 3, 0, 4, 1, 5, 2, 9, 8, 2, 7, 2, 6, 8, 4, 6, 5, 8, 9, 5, 6, 2, 0, 6, 7, 3, 9, 3, 2, 0, 7, 1, 6, 9, 5, 6, 0, 2, 4, 8, 4, 3, 3, 5, 0, 2, 6, 4, 9, 9, 9, 4, 1, 3, 1, 1, 1, 6, 7, 2, 4, 9, 9, 8, 5, 5, 6, 5, 7, 6, 8, 8, 6, 0, 9, 5, 7, 5, 2, 9, 8, 8, 5, 4, 7, 1, 5, 5, 5, 7, 2, 0, 9, 2, 9, 9, 5, 2, 0, 8, 0, 1, 8, 6, 6, 3, 9, 5, 5, 2, 3, 5, 4, 6, 3, 2, 2, 3, 1, 2, 2, 3, 8, 5, 2, 7, 6, 3, 8, 8, 0, 4, 9, 3, 6, 9, 7, 6, 0, 5, 0, 6, 2, 2, 3, 1, 0, 9, 4, 9, 7, 0, 9, 3, 9, 6, 3, 4, 3, 0, 0, 6, 0, 2, 1, 1, 8, 5, 6, 5, 8, 4, 4, 0, 2, 8, 4, 0, 2, 3, 9, 5, 7, 8, 5, 0, 1, 8, 8, 5, 3, 5, 2, 3, 8, 6, 5, 9, 0, 8, 7, 4, 0, 7, 4, 0, 7, 5, 2, 6, 2, 7, 6, 3, 9, 3, 3, 2, 9, 0, 5, 4, 7, 1, 0, 6, 0, 0, 8, 3, 1, 8, 6, 9, 9, 2, 5, 4, 9, 5, 6, 6, 3, 7, 5, 7, 3, 0, 2, 8, 5, 7, 5, 6, 9, 3, 7, 2, 1, 3, 7, 3, 2, 5, 2, 8, 3, 8, 6, 5, 2, 2, 7, 5, 8, 3, 2, 7, 0, 3, 6, 3, 9, 1, 2, 6, 3, 5, 3, 1, 8, 6, 3, 6, 0, 9, 0, 5, 5, 7, 8, 3, 2, 6, 2, 9, 4, 2, 3, 3, 9, 3, 7, 7, 6, 7, 6, 1, 5, 6, 4, 9, 0, 4, 4, 1, 6, 5, 6, 1, 6, 3, 7, 7, 6, 8, 7, 2, 0, 7, 1, 3, 2, 1, 9, 4, 0, 0, 7, 1, 7, 6, 9, 0, 6, 2, 3, 4, 2, 5, 6, 6, 0, 5, 5, 2, 1, 6, 7, 3, 7, 3, 5, 0, 2, 9, 2, 2, 2, 9, 3, 6, 7, 8, 5, 5, 1, 5, 6, 2, 6, 7, 1, 2, 9, 1, 0, 0, 3, 3, 2, 0, 3, 4, 1, 7, 7, 9, 2, 0, 8, 6, 8, 5, 3, 5, 5, 5, 5, 1, 3, 4, 2, 8, 7, 8, 9, 8, 4, 5, 6, 0, 4, 2, 3, 5, 0, 1, 9, 9, 2, 5, 7, 4, 1, 5, 8, 5, 4, 7, 2, 8, 5, 3, 1, 9, 3, 0, 5, 6, 2, 6, 3, 9, 4, 1, 3, 2, 1, 9, 2, 9, 4, 5, 9, 7, 0, 9, 3, 9, 1, 8, 5, 7, 4, 0, 3, 4, 8, 4, 3, 8, 7, 1, 0, 4, 1, 5, 8, 8, 3, 1, 1, 7, 4, 0, 6, 1, 4, 2, 6, 9, 4, 8, 9, 8, 9, 7, 3, 9, 8, 9, 5, 9, 6, 5, 9, 7, 2, 9, 7, 6, 5, 7, 0, 8, 1, 0, 8, 3, 0, 1, 9, 7, 5, 3, 5, 3, 4, 8, 3, 2, 2, 1, 3, 0, 6, 4, 5, 5, 6, 3, 1, 2, 0, 0, 6, 1, 1, 6, 7, 4, 2, 6, 8, 3, 6, 3, 7, 6, 9, 9, 9, 0, 5, 1, 1, 8, 2, 8, 3, 7, 4, 0, 6, 8, 8, 6, 8, 9, 9, 1, 3, 9, 0, 1, 2, 9, 1, 6, 9, 0, 6, 0, 1, 8, 5, 1, 1, 7, 1, 6, 9, 5, 1, 9, 7, 2, 8, 1, 1, 0, 2, 6, 5, 2, 3, 9, 1, 9, 3, 6, 9, 0, 5, 5, 3, 5, 6, 3, 6, 6, 2, 2, 0, 6, 0, 5, 3, 5, 3, 3, 5, 7, 7, 3, 1, 2, 2, 9, 6, 7, 1, 6, 3, 5, 6, 9, 6, 4, 3, 4, 3, 7, 0, 3, 3, 4, 2, 1, 0, 4, 5, 9, 0, 9, 9, 0, 1, 9, 7, 2, 6, 7, 1, 0, 6, 4, 9, 1, 7, 2, 5, 1, 6, 8, 4, 5, 7, 9, 8, 1, 6, 9, 0, 9, 1, 3, 9, 4, 8, 3, 4, 2, 0, 2, 9, 2, 2, 1, 5, 5, 4, 6, 1, 6, 1, 2, 5, 6, 9, 1, 8, 1, 8, 6, 9, 0, 3, 7, 0, 4, 7, 7, 8, 2, 0, 4, 7, 5, 7, 0, 1, 6, 5, 5, 5, 3, 9, 1, 3, 4, 4, 5, 4, 8, 3, 9, 8, 7, 3, 4, 7, 4, 4, 2, 3, 6, 9, 7, 4, 0, 5, 7, 2, 9, 2, 2, 8, 0, 4, 9, 1, 2, 4, 5, 3, 1, 1, 0, 8, 5, 8, 9, 3, 6, 6, 5, 8, 8, 0, 7, 1, 6, 0, 0, 4, 2, 1, 6, 9, 0, 1, 2, 5, 2, 5, 4, 7, 4, 5, 3, 4, 9, 6, 5, 2, 7, 2, 0, 3, 0, 9, 9, 8, 2, 0, 4, 0, 5, 8, 5, 7, 7, 4, 5, 1, 1, 4, 4, 0, 2, 3, 2, 2, 0, 6, 8, 1, 4, 6, 3, 3, 1, 1, 2, 7, 0, 3, 8, 8, 0, 5, 6, 4, 4, 9, 2, 8, 6, 5, 0, 7, 2, 2, 8, 4, 5, 7, 4, 3, 6, 6, 9, 9, 6, 6, 5, 4, 3, 9, 0, 0, 9, 5, 3, 6, 5, 3, 6, 7, 6, 8, 2, 4, 7, 8, 1, 4, 1, 0, 0, 0, 6, 3, 3, 6, 9, 7, 0, 1, 3, 9, 8, 3, 2, 2, 3, 2, 1, 6, 1, 3, 5, 0, 5, 1, 6, 0, 6, 2, 4, 2, 9, 0, 9, 1, 8, 6, 2, 5, 5, 2, 1, 0, 0, 2, 4, 3, 6, 0, 0, 1, 6, 5, 0, 4, 9, 9, 8, 5, 5, 8, 3, 8, 8, 4, 0, 3, 7, 5, 7, 1, 6, 1, 4, 9, 3, 4, 2, 4, 2, 4, 3, 9, 3, 1, 8, 9, 4, 3, 5, 8, 0, 6, 1, 4, 8, 8, 1, 8, 0, 0, 0, 4, 0, 4, 5, 4, 2, 6, 0, 2, 2, 7, 4, 5, 3, 6, 3, 2, 0, 1, 6, 9, 8, 4, 3, 2, 7, 1, 9, 4, 2, 9, 7, 1, 0, 2, 1, 6, 1, 1, 6, 8, 2, 3, 8, 8, 5, 0, 4, 2, 0, 9, 1, 5, 1, 9, 9, 2, 8, 3, 2, 0, 6, 8, 3, 8, 8, 5, 6, 2, 8, 5, 6, 4, 5, 8, 8, 4, 0, 1, 3, 2, 4, 6, 3, 3, 4, 6, 2, 7, 6, 6, 5, 4, 3, 0, 7, 1, 7, 0, 1, 1, 8, 0, 5, 8, 3, 6, 5, 6, 3, 5, 7, 7, 9, 5, 1, 9, 8, 2, 8, 0, 4, 6, 3, 5, 0, 8, 9, 1, 4, 9, 6, 1, 0, 8, 2, 8, 7, 0, 7, 7, 6, 5, 1, 1, 8, 3, 9, 1, 5, 4, 1, 0, 4, 8, 2, 9, 3, 5, 1, 1, 6, 0, 1, 0, 0, 9, 1, 5, 4, 6, 1, 3, 6, 1, 4, 1, 4, 5, 1, 9, 4, 9, 9, 3, 2, 8, 8, 7, 6, 5, 2, 4, 0, 5, 7, 0, 3, 5, 4, 3, 4, 4, 1, 1, 6, 2, 6, 1, 5, 3, 4, 0, 0, 2, 9, 1, 5, 1, 8, 5, 8, 6, 0, 6, 5, 9, 6, 1, 2, 2, 0, 7, 7, 3, 6, 4, 6, 3, 5, 8, 1, 6, 0, 2, 3, 1, 6, 2, 7, 3, 9, 1, 9, 3, 2, 1, 1, 5, 3, 9, 0, 7, 8, 6, 7, 2, 2, 8, 8, 7, 8, 9, 9, 4, 6, 4, 0, 7, 6, 1, 9, 0, 7, 4, 4, 8, 0, 0, 2, 8, 2, 1, 3, 8, 9, 3, 0, 0, 5, 7, 6, 6, 0, 3, 7, 8, 7, 3, 6, 8, 8, 4, 6, 7, 6, 2, 3, 3, 1, 8, 4, 3, 2, 9, 8, 6, 6, 9, 0, 2, 7, 7, 2, 7, 9, 5, 0, 1, 2, 2, 2, 7, 3, 7, 0, 4, 7, 5, 8, 7, 9, 4, 5, 9, 8, 5, 4, 8, 6, 0, 0, 1, 6, 5, 9, 8, 0, 3, 2, 7, 8, 2, 4, 2, 0, 6, 0, 4, 4, 6, 8, 5, 5, 1, 3, 5, 2, 8, 1, 4, 1, 6, 6, 6, 7, 3, 7, 4, 9, 5, 2, 0, 7, 2, 1, 1, 4, 0, 9, 0, 8, 8, 5, 3, 7, 1, 2, 6, 1, 3, 0, 6, 9, 5, 8, 3, 5, 1, 6, 9, 9, 5, 7, 7, 5, 9, 5, 1, 5, 7, 5, 2, 1, 7, 4, 5, 7, 4, 5, 2, 2, 2, 8, 1, 6, 9, 2, 4, 4, 1, 5, 1, 3, 6, 6, 3, 8, 8, 3, 2, 4, 6, 8, 8, 2, 9, 6, 8, 4, 3, 9, 8, 8, 2, 7, 3, 6, 1, 5, 1, 2, 6, 7, 8, 7, 1, 1, 5, 3, 6, 7, 0, 6, 4, 9, 2, 3, 0, 6, 3, 1, 9, 4, 8, 3, 1, 5, 8, 2, 5, 9, 9, 5, 2, 6, 7, 0, 0, 5, 9, 4, 9, 4, 6, 2, 0, 2, 9, 3, 4, 3, 0, 2, 1, 7, 2, 6, 9, 3, 5, 7, 6, 1, 5, 5, 8, 6, 7, 4, 6, 2, 2, 7, 5, 2, 4, 8, 9, 5, 1, 2, 0, 7, 9, 3, 9, 9, 2, 2, 9, 7, 7, 9, 5, 4, 9, 1, 2, 2, 7, 4, 2, 8, 5, 4, 5, 9, 0, 8, 1, 7, 5, 6, 6, 4, 7, 6, 0, 1, 2, 1, 7, 9, 1, 8, 2, 0, 3, 7, 2, 2, 0, 1, 7, 0, 3, 7, 9, 0, 8, 7, 0, 6, 1, 0, 5, 5, 7, 8, 8, 1, 1, 9, 3, 0, 7, 6, 3, 6, 2, 3, 2, 0, 3, 7, 6, 9, 2, 5, 8, 9, 7, 4, 6, 4, 3, 6, 1, 8, 0, 4, 6, 4, 8, 0, 0, 0, 4, 3, 4, 8, 1, 3, 9, 0, 0, 2, 0, 3, 9, 3, 6, 5, 4, 9, 1, 5, 8, 6, 5, 5, 8, 9, 0, 3, 7, 5, 9, 1, 7, 4, 7, 7, 4, 2, 7, 1, 6, 5, 6, 3, 0, 8, 1, 8, 4, 4, 2, 8, 4, 9, 7, 1, 8, 8, 8, 7, 3, 2, 3, 9, 6, 1, 8, 2, 9, 6, 8, 1, 3, 0, 5, 6, 3, 6, 7, 7, 5, 8, 2, 1, 1, 9, 4, 6, 4, 7, 7, 7, 9, 1, 3, 8, 6, 8, 5, 7, 0, 0, 5, 5, 1, 0, 0, 1, 8, 1, 1, 4, 0, 1, 2, 7, 8, 1, 6, 1, 6, 5, 8, 6, 6, 8, 0, 5, 8, 6, 2, 7, 7, 3, 0, 2, 1, 5, 9, 1, 9, 8, 3, 3, 8, 9, 3, 9, 2, 4, 0, 7, 5, 1, 1, 3, 3, 0, 4, 3, 9, 3, 9, 3, 5, 4, 9, 1, 2, 9, 7, 1, 1, 7, 7, 7, 9, 5, 3, 4, 2, 0, 2, 0, 7, 7, 6, 4, 7, 1, 9, 3, 1, 9, 8, 4, 1, 2, 0, 7, 1, 0, 4, 3, 7, 8, 0, 9, 6, 3, 8, 4, 7, 4, 9, 4, 7, 8, 0, 6, 0, 0, 1, 2, 9, 2, 2, 1, 4, 7, 1, 8, 2, 0, 1, 5, 6, 2, 5, 6, 5, 0, 1, 3, 8, 0, 1, 5, 7, 2, 0, 3, 3, 9, 3, 1, 6, 5, 0, 0, 9, 2, 8, 5, 9, 2, 6, 6, 9, 8, 6, 2, 3, 7, 0, 3, 0, 5, 1, 3, 0, 3, 7, 3, 3, 8, 9, 5, 1, 1, 5, 6, 4, 5, 5, 7, 0, 2, 1, 8, 0, 5, 5, 7, 2, 8, 8, 6, 1, 7, 6, 5, 1, 6, 7, 9, 7, 6, 9, 1, 2, 8, 7, 9, 4, 7, 7, 6, 9, 8, 6, 2, 5, 6, 1, 4, 7, 7, 9, 1, 5, 5, 1, 6, 2, 9, 1, 8, 1, 5, 9, 5, 6, 2, 4, 0, 1, 3, 6, 8, 3, 7, 9, 5, 0, 8, 6, 2, 7, 2, 6, 0, 7, 4, 6, 7, 4, 5, 6, 3, 5, 1, 7, 7, 0, 2, 4, 8, 7, 9, 7, 3, 3, 5, 3, 3, 0, 1, 9, 6, 4, 9, 4, 6, 9, 4, 6, 1, 1, 7, 6, 3, 3, 0, 7, 0, 2, 8, 2, 0, 0, 4, 2, 8, 1, 3, 5, 7, 0, 1, 1, 8, 1, 2, 1, 5, 5, 3, 0, 5, 2, 5, 5, 3, 3, 9, 5, 5, 8, 3, 0, 6, 1, 9, 1, 9, 8, 7, 7, 4, 2, 7, 7, 2, 8, 2, 7, 1, 2, 4, 7, 3, 4, 5, 7, 5, 2, 3, 5, 0, 2, 6, 4, 8, 9, 7, 1, 3, 9, 7, 2, 1, 3, 4, 7, 8, 6, 4, 9, 4, 4, 1, 0, 3, 2, 8, 5, 1, 2, 4, 9, 2, 8, 1, 0, 8, 0, 1, 3, 3, 3, 6, 1, 7, 0, 6, 7, 9, 8, 7, 2, 2, 9, 9, 6, 5, 9, 7, 0, 3, 8, 7, 5, 7, 6, 8, 5, 0, 9, 5, 5, 5, 2, 4, 9, 6, 1, 6, 0, 8, 9, 3, 7, 7, 1, 5, 7, 7, 7, 9, 9, 9, 0, 6, 9, 4, 8, 5, 8, 6, 6, 4, 5, 3, 7, 4, 3, 2, 2, 9, 0, 0, 1, 6, 8, 5, 8, 9, 2, 7, 6, 5, 4, 2, 6, 2, 4, 1, 2, 0, 0, 9, 1, 7, 2, 8, 8, 4, 4, 9, 7, 2, 6, 2, 0, 2, 0, 2, 2, 3, 6, 6, 7, 3, 1, 7, 3, 2, 2, 8, 7, 4, 6, 4, 9, 6, 5, 0, 3, 0, 8, 5, 1, 3, 4, 2, 4, 0, 1, 4, 1, 3, 4, 0, 9, 9, 8, 2, 2, 6, 0, 8, 7, 0, 6, 2, 2, 2, 1, 0, 0, 9, 2, 7, 7, 6, 6, 0, 4, 5, 6, 8, 3, 9, 8, 1, 2, 0, 1, 1, 4, 6, 9, 4, 7, 6, 7, 5, 3, 8, 9, 7, 0, 1, 2, 7, 1, 5, 5, 9, 3, 9, 5, 3, 1, 8, 4, 6, 9, 7, 7, 3, 2, 1, 1, 8, 8, 7, 5, 0, 6, 5, 3, 8, 6, 1, 2, 2, 1, 2, 3, 0, 8, 1, 2, 8, 7, 2, 4, 7, 0, 1, 8, 6, 8, 0, 8, 9, 0, 5, 9, 3, 8, 0, 3, 2, 9, 8, 9, 6, 3, 8, 5, 3, 0, 3, 6, 7, 5, 9, 6, 3, 3, 6, 5, 7, 8, 6, 1, 9, 5, 6, 3, 0, 8, 1, 8, 6, 5, 6, 8, 2, 7, 8, 5, 9, 2, 0, 7, 0, 3, 7, 7, 8, 6, 6, 4, 2, 7, 2, 2, 8, 9, 2, 5, 7, 4, 1, 2, 0, 0, 5, 4, 3, 4, 2, 0, 9, 5, 2, 0, 3, 9, 4, 4, 9, 8, 1, 0, 9, 9, 2, 8, 5, 8, 2, 5, 2, 3, 5, 5, 4, 2, 6, 8, 5, 3, 6, 3, 5, 9, 4, 6, 8, 8, 8, 7, 1, 2, 9, 3, 1, 8, 7, 9, 9, 7, 0, 4, 7, 0, 9, 0, 1, 0, 4, 0, 9, 7, 6, 8, 5, 1, 6, 9, 3, 4, 2, 8, 8, 9, 8, 7, 3, 6, 2, 6, 7, 8, 9, 1, 7, 1, 8, 8, 9, 4, 0, 3, 7, 3, 0, 2, 6, 6, 1, 6, 2, 5, 2, 4, 2, 4, 1, 4, 5, 1, 9, 1, 4, 2, 9, 4, 5, 1, 7, 6, 2, 4, 9, 9, 5, 9, 6, 1, 4, 2, 4, 8, 7, 7, 9, 5, 3, 2, 9, 6, 6, 9, 7, 0, 0, 6, 4, 6, 5, 6, 9, 8, 9, 8, 3, 2, 3, 2, 4, 8, 0, 7, 2, 2, 1, 3, 1, 3, 6, 3, 9, 4, 5, 3, 2, 4, 0, 4, 0, 8, 2, 6, 1, 5, 0, 5, 1, 6, 1, 4, 6, 2, 1, 0, 8, 1, 2, 8, 4, 2, 3, 1, 8, 0, 0, 3, 4, 0, 5, 6, 9, 8, 9, 9, 4, 5, 3, 8, 4, 0, 1, 6, 2, 0, 9, 4, 8, 1, 5, 8, 4, 7, 9, 6, 2, 7, 8, 0, 1, 4, 1, 2, 1, 7, 2, 0, 4, 9, 4, 9, 3, 1, 4, 9, 5, 8, 3, 3, 0, 6, 9, 3, 9, 6, 6, 1, 8, 1, 3, 5, 4, 3, 8, 5, 3, 6, 4, 2, 7, 2, 0, 6, 6, 1, 3, 7, 4, 1, 4, 4, 7, 5, 6, 7, 0, 1, 3, 8, 2, 6, 3, 8, 4, 5, 7, 9, 9, 0, 6, 0, 8, 1, 9, 2, 3, 4, 1, 7, 7, 3, 7, 4, 0, 5, 8, 8, 5, 4, 2, 3, 4, 6, 2, 5, 3, 8, 4, 1, 4, 1, 1, 5, 1, 4, 5, 7, 6, 5, 1, 1, 1, 9, 6, 8, 8, 2, 2, 3, 5, 9, 2, 3, 4, 9, 2, 4, 0, 6, 0, 5, 6, 8, 2, 3, 3, 3, 5, 5, 1, 4, 8, 4, 6, 1, 4, 6, 6, 7, 8, 8, 3, 1, 8, 7, 4, 0, 9, 8, 1, 0, 7, 8, 9, 4, 1, 2, 2, 3, 6, 7, 1, 1, 0, 3, 9, 9, 4, 1, 4, 5, 9, 2, 0, 0, 7, 4, 9, 6, 2, 7, 4, 2, 3, 4, 3, 1, 5, 2, 7, 1, 9, 6, 9, 9, 1, 7, 5, 4, 4, 2, 3, 3, 7, 1, 4, 9, 4, 2, 3, 0, 1, 3, 5, 2, 5, 3, 8, 0, 3, 7, 2, 0, 1, 7, 6, 8, 6, 4, 2, 0, 0, 0, 6, 5, 8, 4, 7, 7, 1, 2, 4, 3, 8, 7, 4, 4, 0, 2, 3, 2, 2, 8, 5, 5, 3, 6, 6, 4, 1, 8, 1, 1, 0, 9, 3, 2, 9, 2, 2, 8, 9, 6, 9, 2, 4, 1, 8, 5, 5, 4, 3, 6, 9, 0, 7, 2, 0, 0, 2, 7, 9, 9, 2, 6, 1, 7, 0, 1, 9, 2, 8, 8, 1, 0, 8, 6, 0, 7, 7, 0, 9, 7, 7, 9, 5, 7, 5, 9, 3, 4, 5, 2, 2, 3, 6, 3, 7, 3, 4, 6, 3, 1, 3, 1, 6, 7, 4, 4, 8, 5, 1, 2, 1, 9, 4, 2, 3, 7, 4, 4, 6, 4, 5, 8, 7, 4, 4, 3, 9, 2, 6, 0, 3, 2, 9, 7, 5, 6, 0, 5, 8, 9, 9, 2, 8, 3, 4, 4, 2, 8, 8, 1, 3, 7, 6, 8, 6, 2, 9, 2, 3, 5, 2, 1, 7, 1, 4, 2, 4, 8, 0, 2, 0, 4, 1, 0, 3, 2, 3, 4, 2, 8, 7, 5, 3, 5, 9, 4, 0, 9, 2, 8, 0, 3, 5, 9, 7, 0, 0, 1, 5, 9, 1, 3, 0, 6, 0, 3, 6, 5, 0, 8, 7, 0, 1, 6, 2, 8, 5, 7, 9, 1, 4, 2, 9, 4, 7, 2, 0, 5, 1, 3, 8, 7, 2, 7, 3, 7, 7, 1, 4, 1, 1, 3, 1, 4, 2, 1, 4, 3, 9, 4, 8, 0, 5, 6, 0, 7, 6, 4, 4, 7, 2, 7, 9, 8, 7, 2, 5, 9, 0, 5, 1, 4, 6, 4, 0, 6, 4, 7, 1, 4, 3, 9, 2, 3, 2, 9, 1, 2, 8, 6, 4, 7, 7, 5, 9, 0, 2, 9, 5, 8, 2, 4, 0, 8, 6, 6, 1, 7, 4, 1, 7, 0, 1, 7, 5, 3, 1, 0, 6, 9, 2, 0, 1, 9, 2, 8, 5, 3, 9, 0, 4, 1, 9, 2, 2, 4, 9, 6, 5, 2, 0, 6, 1, 0, 8, 4, 3, 0, 0, 0, 7, 4, 3, 4, 7, 3, 5, 2, 8, 1, 0, 2, 1, 1, 7, 5, 6, 9, 1, 6, 0, 9, 3, 1, 6, 6, 9, 4, 7, 1, 1, 0, 4, 5, 9, 1, 9, 3, 3, 0, 8, 5, 7, 4, 5, 0, 4, 3, 7, 1, 8, 7, 9, 8, 3, 6, 9, 1, 6, 0, 1, 0, 8, 9, 6, 3, 4, 7, 4, 3, 2, 4, 7, 9, 9, 9, 8, 4, 0, 3, 2, 5, 9, 9, 4, 3, 3, 4, 7, 3, 5, 3, 8, 7, 2, 4, 0, 9, 8, 2, 7, 3, 0, 0, 1, 0, 2, 7, 0, 1, 9, 4, 2, 2, 7, 6, 3, 8, 4, 6, 9, 9, 7, 4, 8, 7, 0, 9, 9, 4, 2, 2, 6, 6, 3, 8, 6, 9, 5, 6, 6, 7, 6, 5, 7, 4, 4, 7, 8, 6, 6, 2, 7, 8, 1, 4, 4, 2, 3, 8, 4, 5, 3, 0, 7, 0, 2, 4, 5, 2, 1, 6, 9, 1, 5, 4, 8, 0, 4, 1, 5, 4, 7, 2, 5, 3, 2, 1, 5, 6, 6, 7, 5, 5, 9, 8, 3, 7, 9, 2, 0, 4, 5, 7, 8, 6, 9, 5, 2, 0, 4, 5, 6, 3, 3, 4, 9, 3, 5, 0, 3, 8, 8, 0, 1, 8, 2, 1, 1, 8, 6, 2, 1, 1, 9, 5, 7, 4, 0, 8, 8, 3, 9, 0, 7, 5, 3, 8, 4, 7, 2, 1, 7, 7, 9, 4, 7, 6, 4, 5, 6, 5, 3, 2, 8, 0, 6, 2, 7, 7, 5, 5, 2, 5, 5, 1, 9, 8, 8, 2, 2, 2, 7, 6, 4, 2, 7, 1, 4, 0, 3, 7, 4, 0, 9, 9, 2, 4, 4, 7, 4, 8, 5, 5, 2, 3, 1, 0, 5, 4, 7, 3, 7, 5, 9, 8, 1, 0, 0, 7, 9, 4, 2, 2, 9, 2, 4, 4, 3, 7, 2, 3, 8, 7, 8, 6, 9, 8, 4, 6, 2, 6, 8, 8, 6, 2, 2, 1, 7, 6, 2, 2, 5, 2, 2, 1, 6, 8, 9, 0, 1, 5, 1, 4, 4, 8, 1, 0, 4, 4, 1, 2, 3, 7, 7, 6, 7, 8, 0, 9, 4, 8, 1, 8, 6, 1, 5, 8, 0, 1, 4, 9, 5, 4, 8, 6, 9, 4, 2, 4, 6, 1, 8, 9, 4, 6, 9, 5, 7, 0, 2, 1, 8, 9, 2, 1, 4, 6, 4, 5, 0, 7, 4, 1, 9, 4, 2, 6, 9, 2, 3, 3, 4, 8, 4, 3, 4, 2, 1, 7, 5, 2, 5, 5, 4, 8, 4, 3, 4, 3, 7, 6, 3, 3, 4, 7, 0, 2, 7, 0, 0, 6, 6, 5, 9, 9, 7, 4, 4, 0, 6, 5, 5, 3, 5, 1, 5, 1, 1, 3, 8, 9, 8, 3, 6, 4, 5, 7, 7, 1, 8, 7, 6, 8, 7, 6, 9, 3, 5, 2, 7, 9, 8, 5, 3, 6, 1, 4, 4, 9, 6, 0, 6, 7, 0, 4, 9, 5, 8, 0, 4, 3, 8, 4, 7, 1, 8, 3, 5, 4, 5, 7, 4, 8, 6, 4, 8, 6, 9, 6, 5, 0, 9, 5, 9, 2, 6, 4, 7, 6, 6, 6, 6, 1, 8, 0, 7, 8, 7, 6, 8, 6, 1, 6, 3, 2, 7, 9, 3, 7, 1, 6, 1, 9, 6, 6, 2, 9, 7, 2, 1, 7, 6, 7, 7, 5, 6, 6, 0, 6, 7, 3, 7, 9, 3, 6, 9, 0, 0, 2, 5, 9, 2, 8, 6, 2, 4, 9, 0, 7, 7, 1, 9, 0, 5, 9, 4, 3, 6, 3, 2, 6, 8, 4, 0, 1, 0, 6, 7, 2, 9, 7, 2, 3, 9, 2, 2, 4, 3, 8, 3, 5, 4, 7, 5, 2, 8, 7, 0, 3, 2, 4, 9, 9, 4, 2, 3, 2, 0, 7, 0, 9, 1, 4, 0, 3, 4, 3, 7, 4, 9, 2, 8, 1, 6, 8, 6, 5, 7, 4, 3, 4, 9, 1, 2, 8, 3, 2, 5, 4, 6, 9, 3, 2, 1, 2, 6, 5, 9, 9, 2, 9, 0, 6, 6, 7, 1, 4, 9, 8, 4, 2, 4, 3, 4, 9, 1, 8, 5, 7, 9, 3, 6, 2, 5, 2, 9, 7, 3, 6, 5, 6, 9, 7, 8, 3, 0, 3, 6, 3, 5, 2, 6, 6, 5, 3, 7, 0, 8, 4, 8, 0, 8, 5, 4, 9, 7, 3, 3, 1, 9, 8, 3, 9, 4, 4, 0, 4, 5, 0, 4, 8, 1, 2, 9, 9, 3, 3, 4, 8, 3, 7, 7, 6, 1, 9, 1, 8, 2, 3, 3, 9, 1, 7, 7, 3, 2, 1, 9, 0, 2, 7, 6, 7, 5, 6, 1, 7, 2, 3, 1, 3, 5, 9, 2, 0, 3, 1, 4, 1, 0, 2, 3, 5, 3, 2, 1, 6, 7, 0, 5, 5, 3, 8, 8, 7, 7, 2, 7, 8, 8, 9, 9, 7, 0, 8, 3, 5, 9, 6, 4, 5, 3, 4, 6, 7, 3, 8, 5, 4, 6, 9, 6, 0, 0, 5, 7, 2, 1, 7, 7, 6, 3, 5, 1, 7, 5, 7, 8, 9, 2, 5, 5, 3, 9, 8, 9, 2, 4, 5, 0, 2, 1, 9, 3, 9, 6, 1, 6, 3, 1, 6, 7, 3, 5, 1, 4, 0, 3, 2, 4, 7, 9, 6, 5, 2, 8, 4, 8, 5, 4, 6, 3, 3, 7, 0, 4, 8, 3, 8, 2, 9, 3, 8, 1, 6, 1, 4, 7, 4, 8, 2, 5, 5, 7, 4, 0, 0, 1, 8, 0, 6, 4, 6, 2, 3, 6, 4, 1, 3, 5, 5, 1, 0, 3, 4, 8, 1, 6, 6, 7, 1, 1, 1, 9, 2, 0, 0, 3, 2, 1, 3, 3, 7, 0, 6, 5, 5, 2, 6, 6, 9, 7, 4, 0, 6, 5, 1, 4, 5, 6, 8, 8, 6, 3, 0, 9, 1, 6, 6, 5, 0, 9, 0, 4, 8, 2, 1, 9, 4, 0, 5, 7, 1, 6, 7, 4, 0, 6, 1, 4, 8, 7, 2, 3, 1, 4, 4, 5, 1, 2, 4, 6, 4, 4, 6, 1, 6, 4, 4, 7, 9, 0, 0, 7, 5, 3, 0, 7, 0, 5, 7, 7, 6, 8, 0, 3, 5, 1, 1, 1, 2, 9, 3, 2, 7, 2, 9, 7, 2, 6, 9, 0, 0, 8, 1, 5, 2, 1, 4, 7, 0, 0, 4, 1, 2, 2, 9, 4, 9, 2, 0, 5, 6, 2, 0, 3, 4, 9, 2, 7, 6, 1, 5, 3, 7, 8, 5, 8, 6, 1, 1, 2, 6, 7, 3, 8, 9, 8, 8, 8, 0, 2, 0, 0, 4, 4, 7, 4, 0, 8, 8, 6, 1, 1, 6, 8, 0, 9, 2, 2, 3, 3, 3, 4, 7, 4, 1, 7, 8, 2, 6, 6, 9, 5, 2, 1, 4, 6, 2, 3, 4, 0, 1, 4, 6, 1, 4, 4, 4, 1, 1, 8, 5, 2, 4, 6, 8, 0, 0, 7, 9, 8, 3, 4, 4, 5, 5, 9, 8, 0, 9, 7, 1, 9, 9, 2, 2, 2, 8, 8, 2, 5, 1, 4, 1, 2, 3, 0, 5, 5, 1, 1, 7, 5, 3, 4, 8, 2, 4, 6, 7, 8, 6, 4, 5, 9, 6, 8, 5, 9, 4, 2, 7, 5, 4, 0, 5, 4, 1, 3, 1, 3, 1, 8, 4, 8, 8, 5, 1, 1, 9, 2, 9, 3, 2, 0, 1, 8, 9, 8, 4, 5, 6, 9, 5, 2, 3, 0, 8, 7, 1, 6, 7, 4, 5, 5, 1, 4, 3, 1, 8, 4, 9, 1, 9, 9, 5, 6, 2, 2, 4, 7, 1, 3, 3, 8, 7, 1, 5, 3, 6, 1, 4, 8, 6, 6, 7, 3, 5, 1, 6, 8, 6, 2, 1, 5, 6, 9, 3, 3, 2, 9, 7, 6, 7, 9, 3, 0, 2, 3, 6, 0, 1, 6, 3, 8, 3, 2, 9, 0, 6, 9, 7, 8, 3, 5, 6, 2, 0, 5, 7, 0, 2, 7, 3, 1, 3, 9, 3, 7, 3, 5, 5, 0, 4, 8, 0, 1, 1, 2, 0, 0, 3, 3, 9, 6, 3, 3, 7, 6, 8, 7, 3, 1, 0, 1, 0, 0, 2, 7, 2, 1, 8, 0, 5, 2, 2, 1, 5, 2, 0, 9, 6, 1, 6, 1, 1, 2, 5, 4, 2, 8, 3, 2, 8, 5, 7, 4, 4, 4, 8, 9, 2, 0, 9, 4, 2, 8, 8, 2, 9, 0, 7, 7, 1, 8, 9, 3, 4, 5, 2, 3, 7, 5, 2, 6, 0, 4, 8, 0, 1, 8, 5, 3, 3, 8, 7, 3, 4, 0, 6, 1, 6, 4, 8, 9, 1, 3, 5, 7, 7, 6, 2, 5, 3, 2, 9, 2, 9, 7, 5, 2, 2, 6, 1, 5, 6, 5, 1, 5, 4, 6, 0, 9, 6, 2, 3, 7, 7, 7, 7, 9, 0, 6, 0, 7, 1, 4, 6, 5, 0, 0, 1, 3, 3, 0, 9, 1, 3, 1, 4, 7, 7, 1, 4, 7, 7, 8, 2, 1, 2, 7, 7, 4, 2, 3, 1, 1, 4, 7, 7, 2, 8, 5, 8, 2, 9, 5, 0, 8, 2, 9, 7, 2, 9, 9, 0, 2, 4, 6, 0, 9, 6, 1, 6, 0, 1, 6, 4, 6, 3, 8, 8, 4, 7, 0, 8, 1, 9, 5, 2, 5, 1, 1, 8, 4, 8, 1, 7, 1, 8, 7, 9, 2, 9, 7, 7, 6, 5, 2, 0, 4, 2, 0, 7, 4, 6, 9, 8, 7, 5, 2, 4, 0, 7, 0, 0, 9, 8, 3, 3, 8, 7, 2, 6, 8, 4, 8, 1, 6, 3, 3, 8, 1, 5, 4, 4, 0, 7, 4, 8, 8, 9, 9, 7, 7, 0, 8, 0, 7, 5, 4, 9, 6, 3, 4, 8, 3, 1, 8, 0, 8, 7, 9, 3, 2, 5, 8, 5, 0, 9, 7, 1, 4, 9, 7, 2, 6, 8, 4, 1, 4, 0, 7, 7, 5, 0, 7, 5, 1, 3, 0, 7, 8, 4, 4, 0, 1, 7, 5, 4, 6, 2, 9, 5, 9, 8, 2, 2, 3, 5, 1, 5, 0, 0, 2, 4, 8, 6, 0, 4, 2, 4, 1, 7, 0, 9, 7, 3, 7, 0, 3, 2, 1, 9, 0, 5, 9, 0, 8, 4, 4, 6, 3, 4, 0, 8, 5, 1, 2, 1, 7, 1, 0, 4, 9, 1, 8, 1, 8, 7, 1, 9, 4, 4, 7, 2, 9, 1, 5, 5, 3, 1, 3, 2, 1, 1, 5, 1, 2, 5, 8, 5, 6, 3, 6, 1, 6, 2, 3, 2, 5, 0, 9, 4, 3, 3, 0, 7, 1, 7, 3, 9, 2, 8, 0, 2, 9, 3, 1, 1, 5, 2, 0, 2, 8, 0, 9, 2, 2, 1, 5, 3, 4, 7, 1, 2, 2, 4, 9, 8, 1, 1, 6, 7, 3, 8, 6, 1, 3, 8, 3, 8, 9, 7, 3, 0, 9, 7, 2, 7, 5, 2, 6, 9, 7, 4, 2, 5, 9, 3, 5, 9, 3, 3, 1, 3, 6, 1, 9, 0, 0, 2, 9, 5, 0, 7, 5, 9, 2, 0, 8, 9, 4, 4, 1, 6, 6, 8, 6, 6, 0, 0, 6, 9, 8, 9, 0, 6, 7, 1, 3, 2, 5, 6, 3, 2, 9, 5, 6, 1, 3, 1, 9, 8, 2, 2, 7, 3, 5, 0, 3, 8, 0, 6, 8, 4, 3, 1, 6, 8, 5, 3, 4, 4, 8, 5, 1, 3, 2, 6, 2, 6, 8, 5, 4, 2, 9, 0, 3, 0, 6, 3, 5, 9, 6, 0, 8, 9, 5, 0, 4, 2, 4, 7, 4, 8, 7, 7, 5, 5, 1, 2, 8, 1, 6, 8, 7, 6, 8, 9, 4, 9, 8, 7, 4, 4, 0, 9, 6, 1, 9, 4, 6, 5, 3, 5, 0, 2, 6, 6, 0, 3, 4, 7, 4, 7, 6, 6, 8, 5, 0, 8, 0, 4, 4, 7, 9, 4, 9, 8, 0, 3, 9, 5, 4, 3, 4, 3, 0, 2, 0, 8, 9, 5, 9, 3, 7, 3, 6, 5, 0, 4, 1, 5, 6, 6, 3, 0, 1, 7, 9, 0, 0, 0, 1, 5, 7, 8, 0, 5, 3, 6, 1, 0, 7, 5, 0, 9, 2, 2, 2, 8, 3, 6, 1, 1, 1, 5, 0, 5, 2, 7, 3, 6, 6, 3, 4, 1, 7, 6, 9, 9, 2, 1, 9, 0, 8, 1, 9, 7, 9, 9, 6, 3, 4, 6, 8, 8, 2, 5, 6, 9, 1, 9, 4, 2, 9, 7, 3, 8, 6, 2, 5, 0, 0, 5, 3, 3, 1, 8, 9, 0, 7, 0, 3, 4, 0, 1, 6, 4, 9, 9, 5, 2, 7, 3, 0, 4, 8, 8, 8, 7, 5, 7, 9, 3, 8, 5, 4, 2, 3, 2, 6, 9, 7, 7, 7, 6, 4, 6, 2, 4, 1, 4, 6, 8, 0, 2, 1, 3, 9, 1, 2, 9, 6, 0, 6, 9, 4, 2, 2, 8, 2, 2, 2, 6, 8, 5, 9, 8, 5, 4, 3, 0, 3, 7, 9, 9, 4, 1, 1, 2, 6, 3, 2, 8, 9, 9, 7, 9, 0, 3, 1, 8, 9, 1, 8, 9, 8, 8, 3, 2, 0, 0, 9, 1, 9, 8, 2, 3, 5, 2, 2, 9, 1, 3, 2, 5, 4, 7, 3, 0, 1, 3, 1, 6, 2, 3, 3, 6, 2, 6, 0, 7, 1, 1, 5, 6, 9, 1, 5, 4, 9, 1, 8, 0, 1, 6, 8, 3, 5, 6, 2, 6, 0, 2, 3, 7, 6, 2, 3, 8, 0, 6, 5, 3, 5, 5, 5, 1, 0, 4, 9, 2, 3, 4, 2, 3, 9, 1, 7, 5, 1, 3, 7, 8, 3, 9, 2, 8, 9, 6, 5, 7, 0, 7, 3, 7, 1, 8, 0, 8, 2, 1, 5, 0, 3, 0, 7, 0, 6, 4, 7, 6, 4, 8, 8, 1, 9, 1, 3, 5, 1, 7, 1, 8, 4, 4, 5, 8, 8, 6, 6, 3, 4, 0, 2, 7, 3, 7, 3, 3, 5, 6, 2, 7, 7, 4, 7, 4, 7, 1, 6, 9, 9, 5, 6, 4, 4, 4, 4, 0, 4, 0, 2, 5, 4, 8, 5, 2, 9, 8, 0, 3, 4, 2, 3, 4, 9, 9, 9, 0, 6, 7, 6, 6, 9, 0, 2, 0, 7, 4, 9, 4, 1, 4, 6, 3, 1, 8, 5, 3, 5, 5, 5, 4, 1, 1, 0, 6, 7, 8, 9, 7, 6, 3, 1, 4, 5, 3, 4, 0, 1, 0, 5, 1, 5, 1, 4, 6, 4, 1, 0, 1, 0, 9, 4, 4, 5, 6, 3, 7, 9, 2, 9, 5, 9, 8, 5, 2, 1, 6, 3, 9, 1, 1, 3, 8, 1, 1, 8, 1, 9, 4, 7, 7, 1, 6, 9, 6, 7, 1, 3, 8, 7, 5, 8, 1, 5, 8, 0, 8, 8, 1, 0, 2, 1, 3, 6, 8, 9, 8, 7, 3, 6, 0, 5, 8, 6, 1, 1, 1, 4, 8, 6, 3, 7, 4, 4, 7, 3, 9, 2, 4, 4, 3, 3, 8, 4, 7, 3, 9, 3, 0, 5, 0, 2, 3, 7, 6, 9, 3, 8, 2, 5, 8, 3, 9, 7, 2, 0, 6, 8, 3, 6, 0, 4, 4, 5, 0, 7, 0, 4, 0, 2, 2, 6, 0, 2, 9, 1, 2, 0, 5, 7, 3, 9, 3, 9, 0, 0, 5, 0, 3, 6, 1, 0, 9, 9, 7, 1, 1, 7, 2, 0, 8, 2, 6, 7, 8, 5, 2, 4, 3, 8, 1, 2, 1, 7, 8, 4, 6, 0, 2, 1, 1, 3, 2, 9, 0, 5, 9, 6, 3, 4, 4, 4, 5, 8, 4, 6, 5, 6, 0, 3, 0, 7, 9, 7, 7, 4, 8, 9, 3, 5, 0, 8, 8, 1, 8, 9, 6, 6, 0, 5, 9, 7, 0, 4, 8, 7, 7, 0, 3, 2, 5, 9, 2, 5, 5, 6, 9, 4, 2, 3, 0, 4, 7, 4, 0, 9, 7, 0, 6, 1, 2, 2, 6, 1, 8, 4, 2, 9, 3, 9, 9, 2, 9, 1, 8, 0, 0, 1, 0, 8, 0, 2, 9, 9, 7, 6, 0, 0, 6, 6, 5, 0, 6, 2, 9, 9, 7, 3, 1, 6, 8, 0, 6, 2, 8, 3, 8, 0, 7, 1, 7, 0, 9, 5, 4, 9, 2, 9, 9, 5, 4, 2, 1, 1, 9, 8, 6, 2, 1, 1, 9, 8, 5, 1, 9, 8, 6, 6, 1, 6, 4, 6, 4, 9, 8, 2, 3, 5, 1, 6, 9, 5, 7, 4, 3, 6, 2, 0, 2, 5, 5, 4, 2, 1, 6, 0, 1, 9, 7, 5, 0, 6, 8, 1, 2, 3, 3, 4, 7, 2, 6, 8, 0, 2, 8, 1, 5, 3, 1, 8, 9, 3, 4, 2, 3, 9, 6, 5, 2, 8, 5, 2, 8, 0, 4, 6, 0, 0, 5, 0, 9, 0, 5, 9, 8, 1, 2, 2, 7, 3, 1, 9, 5, 3, 6, 9, 6, 2, 7, 5, 5, 7, 7, 2, 2, 3, 2, 0, 1, 3, 8, 0, 5, 6, 8, 3, 5, 9, 8, 0, 0, 1, 7, 5, 5, 3, 4, 2, 9, 8, 9, 2, 7, 1, 3, 7, 4, 3, 3, 2, 8, 6, 8, 2, 4, 2, 0, 8, 6, 5, 6, 6, 9, 9, 3, 5, 0, 9, 9, 9, 7, 4, 0, 7, 3, 3, 8, 7, 8, 5, 3, 9, 6, 3, 4, 3, 9, 0, 1, 3, 0, 1, 0, 8, 1, 1, 7, 7, 7, 0, 9, 7, 9, 7, 9, 1, 7, 7, 1, 1, 6, 7, 3, 1, 6, 2, 8, 4, 6, 0, 0, 2, 0, 7, 0, 6, 1, 5, 7, 5, 3, 3, 4, 7, 4, 5, 7, 7, 2, 3, 2, 4, 5, 0, 4, 0, 2, 4, 0, 1, 8, 0, 5, 8, 0, 7, 2, 6, 7, 0, 9, 5, 5, 3, 3, 8, 7, 8, 1, 9, 6, 7, 2, 1, 3, 3, 7, 3, 9, 3, 4, 5, 1, 7, 4, 9, 4, 1, 6, 6, 4, 3, 1, 2, 8, 2, 6, 7, 7, 3, 6, 3, 0, 7, 4, 2, 3, 0, 6, 7, 4, 6, 3, 9, 1, 7, 2, 6, 4, 4, 1, 7, 8, 7, 9, 5, 8, 1, 4, 5, 6, 6, 2, 5, 9, 8, 6, 6, 6, 7, 1, 9, 4, 1, 8, 5, 5, 4, 3, 3, 7, 8, 7, 5, 0, 1, 7, 4, 8, 8, 1, 7, 8, 9, 8, 3, 4, 0, 4, 4, 7, 8, 5, 9, 7, 3, 5, 7, 3, 5, 3, 1, 7, 7, 3, 2, 7, 8, 8, 3, 5, 2, 3, 5, 3, 3, 1, 6, 3, 5, 1, 4, 7, 2, 5, 4, 3, 1, 4, 6, 6, 0, 7, 9, 6, 4, 2, 8, 6, 8, 4, 9, 6, 2, 2, 6, 0, 2, 1, 2, 8, 6, 3, 3, 1, 1, 2, 9, 9, 8, 9, 4, 5, 9, 5, 5, 2, 4, 7, 6, 9, 0, 1, 4, 7, 5, 1, 6, 6, 4, 1, 4, 4, 8, 8, 9, 1, 5, 1, 2, 8, 7, 6, 2, 5, 2, 6, 0, 6, 2, 1, 9, 6, 2, 1, 6, 1, 8, 7, 1, 5, 2, 8, 6, 1, 2, 0, 0, 0, 9, 6, 2, 3, 2, 4, 1, 1, 5, 2, 7, 6, 4, 5, 2, 5, 1, 7, 8, 9, 3, 2, 4, 6, 8, 6, 4, 0, 6, 5, 5, 6, 5, 9, 8, 4, 4, 1, 3, 7, 7, 8, 7, 2, 5, 6, 5, 7, 8, 3, 1, 9, 2, 2, 4, 8, 3, 7, 4, 8, 5, 2, 9, 3, 0, 5, 3, 2, 5, 2, 3, 3, 7, 0, 4, 7, 3, 0, 1, 2, 4, 9, 6, 7, 9, 2, 2, 4, 8, 8, 5, 1, 6, 6, 2, 1, 1, 0, 3, 3, 0, 0, 1, 5, 9, 4, 5, 7, 6, 8, 9, 7, 4, 4, 3, 5, 8, 5, 2, 0, 9, 7, 2, 9, 5, 8, 8, 2, 1, 8, 9, 9, 3, 5, 8, 2, 1, 2, 9, 3, 9, 9, 9, 6, 3, 7, 7, 3, 7, 4, 2, 5, 0, 9, 3, 3, 5, 8, 8, 1, 6, 3, 9, 9, 7, 3, 5, 0, 8, 5, 8, 6, 4, 6, 3, 6, 9, 7, 7, 7, 9, 7, 0, 0, 2, 1, 7, 6, 4, 2, 2, 7, 6, 4, 0, 6, 9, 8, 0, 1, 0, 6, 4, 9, 0, 1, 5, 2, 9, 9, 9, 0, 9, 3, 7, 2, 2, 9, 0, 1, 7, 1, 9, 6, 7, 9, 9, 4, 7, 0, 1, 6, 7, 0, 6, 9, 5, 6, 5, 5, 6, 3, 1, 4, 0, 7, 4, 0, 0, 4, 3, 5, 7, 0, 9, 9, 6, 7, 7, 6, 6, 2, 2, 4, 6, 9, 7, 4, 6, 4, 1, 8, 7, 5, 6, 2, 7, 4, 4, 4, 8, 6, 0, 1, 2, 6, 7, 4, 2, 4, 8, 4, 1, 7, 5, 4, 5, 1, 1, 5, 4, 1, 8, 9, 1, 6, 9, 3, 0, 5, 2, 8, 5, 1, 7, 0, 8, 5, 5, 2, 6, 2, 5, 2, 3, 6, 7, 2, 1, 9, 7, 5, 1, 6, 4, 0, 2, 0, 6, 8, 0, 0, 8, 7, 3, 4, 3, 8, 9, 4, 4, 9, 1, 8, 3, 9, 5, 8, 1, 7, 8, 6, 3, 5, 6, 4, 5, 8, 0, 1, 4, 4, 5, 2, 7, 8, 8, 4, 2, 7, 8, 2, 3, 3, 2, 5, 5, 7, 8, 8, 4, 5, 3, 6, 8, 1, 4, 2, 2, 2, 7, 9, 5, 8, 3, 5, 8, 6, 6, 5, 9, 5, 8, 1, 6, 3, 1, 8, 9, 2, 4, 3, 3, 3, 5, 8, 2, 0, 8, 5, 7, 4, 4, 2, 5, 0, 8, 5, 0, 2, 9, 1, 4, 6, 9, 2, 0, 5, 9, 0, 0, 3, 6, 0, 7, 8, 8, 3, 1, 6, 2, 9, 7, 1, 5, 5, 0, 8, 3, 2, 9, 8, 5, 1, 2, 3, 2, 2, 5, 9, 5, 1, 1, 2, 0, 6, 4, 9, 8, 6, 7, 6, 6, 7, 3, 9, 6, 5, 1, 4, 6, 8, 5, 7, 2, 6, 0, 4, 0, 8, 2, 1, 5, 5, 4, 5, 5, 6, 3, 6, 2, 3, 2, 5, 4, 4, 0, 7, 4, 5, 8, 2, 9, 0, 0, 4, 9, 0, 1, 4, 8, 0, 8, 6, 6, 9, 1, 8, 7, 4, 0, 1, 5, 5, 5, 4, 1, 2, 7, 3, 6, 7, 8, 2, 3, 6, 1, 1, 1, 6, 3, 6, 9, 6, 7, 4, 4, 6, 9, 9, 1, 5, 5, 3, 8, 7, 6, 7, 6, 1, 9, 3, 9, 0, 6, 2, 9, 3, 4, 2, 4, 3, 8, 0, 9, 6, 3, 2, 3, 4, 2, 2, 1, 8, 8, 6, 0, 8, 0, 4, 2, 0, 3, 1, 3, 0, 0, 9, 3, 9, 8, 6, 8, 4, 5, 3, 7, 0, 4, 4, 7, 0, 6, 3, 4, 3, 7, 3, 1, 3, 1, 5, 7, 4, 2, 6, 8, 3, 9, 0, 1, 6, 5, 7, 9, 9, 7, 8, 6, 4, 7, 0, 4, 1, 9, 5, 5, 3, 7, 8, 0, 3, 7, 7, 3, 4, 0, 3, 9, 6, 4, 1, 2, 1, 5, 2, 8, 3, 5, 2, 4, 2, 9, 7, 3, 5, 1, 5, 4, 3, 5, 4, 2, 5, 3, 1, 7, 3, 1, 7, 2, 3, 3, 9, 2, 4, 7, 8, 4, 6, 1, 2, 3, 9, 3, 7, 8, 4, 2, 7, 0, 3, 4, 0, 6, 2, 5, 4, 9, 8, 8, 5, 7, 1, 7, 3, 5, 8, 4, 7, 0, 1, 1, 7, 2, 8, 3, 6, 6, 7, 8, 4, 7, 0, 9, 6, 5, 6, 6, 4, 0, 8, 9, 8, 7, 4, 1, 5, 4, 6, 1, 7, 9, 8, 4, 4, 8, 1, 5, 2, 8, 4, 9, 5, 5, 3, 6, 0, 2, 5, 5, 5, 7, 0, 7, 9, 5, 3, 1, 3, 6, 2, 5, 2, 7, 7, 0, 4, 8, 1, 6, 6, 6, 5, 0, 5, 7, 4, 0, 6, 0, 4, 8, 5, 8, 6, 6, 2, 5, 0, 6, 8, 8, 6, 3, 7, 6, 4, 8, 0, 1, 5, 4, 4, 5, 0, 8, 5, 4, 5, 2, 7, 4, 3, 1, 9, 7, 9, 5, 8, 8, 2, 3, 9, 1, 2, 3, 2, 6, 1, 6, 6, 0, 4, 0, 8, 2, 3, 3, 4, 6, 9, 7, 9, 4, 1, 1, 8, 3, 2, 8, 6, 0, 2, 3, 0, 9, 6, 1, 3, 5, 7, 5, 7, 9, 4, 8, 9, 8, 0, 7, 1, 0, 1, 4, 8, 7, 1, 9, 0, 4, 0, 8, 5, 8, 0, 7, 7, 0, 5, 9, 1, 2, 8, 1, 2, 5, 6, 7, 6, 8, 8, 2, 8, 5, 4, 5, 5, 2, 4, 0, 6, 0, 4, 4, 9, 8, 6, 5, 1, 0, 2, 2, 5, 9, 9, 7, 1, 2, 1, 3, 2, 2, 5, 9, 9, 9, 5, 0, 5, 0, 4, 0, 0, 3, 5, 3, 5, 5, 8, 7, 1, 8, 9, 9, 3, 7, 0, 8, 1, 9, 9, 3, 2, 9, 2, 7, 9, 7, 6, 8, 9, 8, 3, 5, 9, 6, 7, 0, 7, 9, 8, 4, 0, 6, 1, 4, 8, 4, 3, 5, 6, 9, 4, 2, 6, 4, 8, 7, 4, 1, 6, 8, 7, 4, 5, 0, 1, 3, 4, 7, 4, 2, 3, 0, 8, 4, 8, 7, 1, 5, 9, 0, 8, 0, 9, 6, 5, 8, 0, 2, 5, 0, 3, 1, 9, 0, 3, 2, 0, 3, 6, 3, 6, 7, 6, 6, 2, 5, 7, 4, 4, 9, 9, 1, 2, 7, 2, 5, 6, 1, 2, 3, 2, 3, 1, 4, 8, 0, 5, 6, 3, 8, 9, 9, 0, 2, 1, 6, 6, 0, 0, 1, 1, 6, 6, 7, 4, 5, 7, 5, 7, 8, 4, 5, 0, 5, 7, 7, 6, 0, 1, 1, 5, 9, 9, 4, 1, 8, 5, 0, 6, 9, 7, 5, 0, 7, 3, 9, 6, 5, 5, 9, 2, 3, 8, 0, 2, 0, 3, 0, 7, 9, 5, 8, 3, 1, 5, 9, 2, 6, 5, 9, 9, 3, 3, 5, 7, 7, 6, 7, 6, 4, 6, 0, 8, 5, 9, 5, 4, 5, 5, 2, 6, 9, 6, 8, 6, 3, 1, 2, 8, 7, 3, 0, 6, 2, 1, 5, 0, 3, 4, 5, 7, 0, 7, 0, 5, 6, 4, 0, 8, 0, 1, 6, 8, 5, 5, 5, 5, 3, 7, 0, 8, 5, 0, 1, 4, 4, 9, 8, 8, 7, 6, 2, 6, 0, 5, 4, 2, 4, 1, 4, 9, 3, 9, 8, 2, 9, 1, 9, 2, 2, 7, 4, 3, 3, 7, 1, 7, 0, 0, 0, 3, 8, 2, 5, 9, 9, 7, 3, 9, 6, 9, 1, 3, 8, 0, 5, 0, 7, 9, 6, 3, 7, 8, 2, 6, 3, 0, 1, 5, 8, 4, 3, 9, 3, 8, 0, 0, 5, 0, 6, 2, 6, 2, 9, 4, 3, 9, 0, 0, 3, 4, 7, 9, 7, 9, 8, 8, 1, 3, 0, 6, 8, 2, 8, 8, 8, 4, 6, 4, 2, 6, 6, 3, 8, 4, 1, 1, 4, 9, 8, 6, 8, 5, 3, 8, 2, 5, 7, 5, 2, 2, 7, 5, 4, 7, 2, 1, 1, 1, 8, 4, 5, 4, 8, 8, 0, 9, 8, 5, 5, 4, 7, 4, 1, 5, 3, 6, 1, 8, 3, 0, 6, 9, 5, 7, 9, 4, 8, 0, 4, 7, 9, 7, 5, 1, 9, 2, 2, 7, 2, 4, 5, 0, 5, 7, 2, 8, 4, 0, 2, 2, 8, 2, 3, 5, 2, 2, 2, 1, 8, 6, 3, 6, 2, 0, 6, 3, 7, 2, 0, 8, 6, 5, 2, 1, 9, 7, 3, 3, 7, 9, 3, 7, 8, 5, 8, 8, 3, 4, 2, 2, 7, 9, 4, 4, 7, 4, 1, 9, 2, 6, 8, 2, 5, 6, 0, 5, 6, 3, 0, 7, 9, 2, 6, 0, 8, 4, 4, 0, 2, 7, 9, 9, 3, 1, 5, 0, 2, 2, 8, 2, 9, 7, 1, 9, 6, 7, 0, 7, 4, 6, 8, 1, 9, 3, 1, 8, 4, 5, 0, 0, 5, 5, 7, 6, 9, 1, 7, 7, 3, 2, 0, 2, 4, 0, 9, 5, 5, 8, 2, 5, 0, 4, 1, 8, 2, 3, 4, 7, 0, 7, 7, 5, 1, 3, 9, 1, 9, 9, 8, 4, 2, 4, 7, 5, 1, 2, 9, 6, 9, 5, 9, 0, 0, 7, 2, 8, 3, 2, 9, 4, 8, 9, 3, 1, 7, 2, 4, 0, 3, 3, 7, 0, 7, 2, 7, 7, 0, 7, 5, 8, 1, 4, 5, 8, 6, 5, 1, 4, 4, 7, 0, 9, 9, 3, 8, 3, 8, 8, 7, 7, 6, 6, 6, 3, 5, 9, 2, 4, 3, 2, 9, 6, 7, 9, 3, 5, 2, 7, 5, 0, 2, 2, 4, 9, 7, 0, 0, 1, 3, 1, 3, 1, 6, 4, 2, 1, 3, 6, 1, 4, 5, 4, 7, 4, 2, 8, 3, 7, 7, 3, 9, 9, 4, 8, 2, 9, 4, 5, 6, 7, 8, 0, 1, 6, 5, 1, 1, 9, 5, 9, 6, 1, 5, 0, 0, 4, 6, 3, 3, 9, 1, 1, 6, 8, 0, 2, 9, 5, 7, 6, 8, 4, 6, 4, 8, 3, 5, 4, 9, 3, 7, 4, 4, 1, 9, 5, 9, 1, 0, 4, 0, 8, 8, 4, 1, 9, 7, 2, 5, 9, 1, 5, 0, 7, 4, 3, 6, 1, 8, 4, 9, 1, 2, 6, 7, 0, 7, 6, 8, 2, 6, 7, 5, 6, 9, 1, 1, 3, 8, 4, 4, 1, 1, 1, 0, 1, 1, 2, 3, 3, 2, 3, 1, 7, 5, 4, 4, 6, 8, 6, 3, 9, 7, 8, 9, 1, 5, 5, 9, 1, 7, 7, 9, 5, 8, 6, 8, 5, 3, 6, 1, 5, 2, 5, 3, 4, 2, 1, 3, 8, 1, 9, 8, 8, 5, 5, 9, 1, 4, 1, 7, 0, 3, 0, 0, 0, 5, 7, 2, 7, 0, 9, 6, 7, 4, 0, 6, 6, 3, 8, 3, 4, 7, 5, 6, 4, 2, 8, 4, 8, 9, 9, 9, 0, 5, 0, 6, 8, 1, 1, 9, 9, 9, 2, 3, 9, 6, 6, 0, 1, 9, 9, 3, 0, 5, 4, 6, 2, 9, 9, 4, 5, 7, 6, 5, 2, 2, 8, 0, 5, 1, 2, 6, 4, 9, 4, 6, 8, 6, 5, 9, 1, 4, 7, 8, 2, 6, 0, 3, 8, 9, 8, 4, 9, 5, 9, 8, 3, 3, 0, 2, 0, 6, 6, 8, 2, 5, 1, 2, 3, 7, 0, 0, 4, 2, 7, 1, 4, 7, 8, 0, 3, 9, 3, 0, 5, 7, 5, 5, 4, 7, 1, 0, 6, 6, 1, 1, 9, 6, 8, 1, 6, 3, 7, 1, 4, 8, 9, 7, 0, 7, 3, 3, 3, 1, 4, 2, 5, 3, 8, 2, 4, 7, 1, 1, 7, 3, 9, 4, 6, 3, 5, 9, 7, 4, 0, 9, 2, 0, 3, 5, 1, 2, 0, 4, 0, 2, 7, 8, 0, 5, 3, 7, 4, 6, 9, 5, 9, 3, 0, 8, 3, 9, 7, 4, 6, 5, 8, 3, 3, 3, 9, 9, 9, 8, 7, 2, 4, 3, 4, 7, 7, 8, 4, 3, 8, 6, 5, 4, 0, 0, 0, 5, 1, 5, 3, 1, 1, 1, 2, 1, 6, 3, 3, 9, 2, 3, 9, 6, 0, 7, 1, 3, 4, 7, 0, 4, 1, 8, 2, 5, 1, 9, 5, 9, 0, 3, 5, 4, 1, 2, 5, 2, 3, 4, 0, 7, 4, 6, 5, 7, 8, 1, 4, 3, 2, 2, 2, 4, 2, 9, 3, 8, 3, 9, 6, 5, 6, 6, 0, 3, 1, 7, 2, 5, 9, 1, 4, 8, 5, 1, 7, 6, 0, 4, 2, 0, 1, 1, 8, 6, 2, 7, 4, 9, 8, 6, 7, 4, 5, 6, 7, 0, 7, 2, 2, 5, 6, 6, 7, 2, 6, 1, 5, 7, 0, 8, 9, 2, 7, 8, 4, 2, 0, 1, 6, 2, 7, 8, 0, 1, 4, 8, 9, 5, 3, 8, 8, 7, 2, 5, 8, 5, 0, 6, 9, 2, 8, 3, 6, 2, 7, 4, 6, 9, 0, 0, 7, 3, 7, 2, 5, 6, 6, 0, 9, 6, 8, 6, 7, 2, 7, 5, 3, 3, 3, 0, 6, 5, 2, 0, 8, 8, 1, 5, 4, 0, 4, 1, 2, 4, 3, 2, 8, 5, 4, 2, 1, 1, 3, 5, 4, 2, 7, 7, 8, 2, 5, 3, 9, 9, 0, 6, 7, 2, 1, 5, 5, 2, 7, 1, 3, 8, 8, 5, 5, 4, 0, 5, 1, 8, 5, 3, 5, 6, 7, 9, 4, 0, 6, 7, 8, 5, 2, 4, 6, 0, 6, 1, 4, 7, 8, 3, 2, 6, 1, 6, 4, 3, 8, 1, 4, 3, 5, 4, 0, 2, 5, 0, 8, 9, 2, 3, 0, 4, 9, 6, 4, 4, 2, 3, 5, 6, 4, 3, 3, 2, 6, 4, 6, 2, 8, 3, 3, 3, 4, 1, 5, 4, 7, 3, 6, 8, 1, 3, 5, 9, 7, 9, 1, 0, 7, 5, 9, 4, 3, 7, 9, 6, 5, 7, 0, 9, 8, 2, 3, 5, 7, 9, 0, 2, 0, 7, 4, 6, 3, 1, 3, 1, 8, 1, 5, 5, 7, 3, 3, 0, 4, 5, 3, 8, 3, 9, 2, 9, 1, 3, 2, 0, 7, 8, 2, 8, 1, 7, 9, 6, 2, 8, 8, 9, 7, 9, 9, 0, 3, 7, 0, 8, 6, 8, 6, 9, 0, 4, 1, 1, 8, 7, 9, 7, 9, 7, 3, 4, 6, 3, 0, 0, 6, 8, 2, 3, 0, 6, 9, 0, 2, 0, 6, 3, 4, 3, 2, 1, 4, 0, 4, 5, 6, 5, 4, 3, 4, 2, 2, 2, 2, 0, 8, 3, 8, 7, 5, 6, 4, 0, 9, 6, 8, 7, 8, 3, 0, 4, 1, 9, 4, 1, 2, 7, 6, 1, 1, 1, 7, 5, 6, 2, 2, 0, 5, 4, 5, 2, 6, 4, 3, 1, 0, 3, 3, 1, 6, 6, 0, 3, 1, 3, 3, 3, 4, 4, 4, 4, 3, 3, 3, 7, 5, 0, 8, 1, 8, 1, 9, 0, 7, 7, 8, 8, 8, 5, 6, 4, 7, 5, 1, 3, 1, 7, 8, 3, 6, 4, 4, 8, 1, 6, 3, 0, 9, 1, 5, 0, 6, 9, 6, 5, 9, 7, 3, 1, 7, 0, 5, 8, 0, 3, 0, 7, 8, 3, 9, 2, 0, 8, 4, 4, 6, 4, 3, 4, 4, 3, 5, 5, 5, 7, 3, 8, 9, 5, 5, 7, 0, 3, 2, 9, 9, 7, 9, 3, 6, 7, 0, 4, 7, 6, 1, 4, 1, 9, 1, 7, 1, 5, 4, 3, 3, 0, 4, 5, 0, 1, 0, 8, 9, 2, 0, 8, 5, 8, 9, 1, 7, 3, 8, 8, 2, 3, 4, 0, 9, 0, 0, 1, 7, 5, 5, 8, 6, 9, 6, 5, 5, 4, 1, 6, 3, 7, 2, 8, 8, 5, 1, 5, 3, 1, 4, 7, 8, 6, 8, 6, 6, 3, 6, 3, 8, 8, 1, 4, 5, 1, 6, 4, 9, 9, 9, 9, 3, 4, 3, 0, 3, 3, 2, 6, 3, 3, 8, 3, 0, 2, 3, 6, 1, 0, 2, 0, 8, 6, 5, 4, 7, 2, 1, 2, 6, 1, 7, 2, 9, 4, 1, 0, 2, 1, 2, 9, 2, 6, 5, 2, 4, 7, 0, 7, 0, 3, 2, 3, 2, 4, 0, 4, 7, 3, 9, 2, 2, 7, 6, 3, 0, 4, 6, 9, 4, 2, 7, 3, 1, 3, 8, 1, 8, 6, 8, 9, 9, 3, 0, 5, 8, 1, 0, 7, 4, 6, 4, 0, 8, 9, 7, 5, 1, 8, 7, 1, 8, 2, 0, 6, 3, 3, 3, 5, 6, 4, 3, 3, 3, 2, 9, 9, 9, 1, 3, 3, 4, 6, 4, 1, 5, 2, 7, 5, 3, 1, 8, 2, 8, 9, 4, 4, 2, 9, 0, 4, 2, 1, 8, 6, 8, 9, 6, 1, 8, 5, 9, 2, 5, 2, 1, 9, 9, 8, 7, 9, 1, 7, 0, 9, 5, 3, 0, 6, 5, 6, 7, 3, 5, 9, 0, 2, 2, 9, 4, 7, 2, 7, 8, 2, 3, 8, 6, 7, 0, 0, 0, 8, 2, 9, 3, 5, 8, 6, 9, 8, 9, 3, 0, 0, 2, 1, 8, 8, 8, 9, 4, 1, 5, 5, 6, 9, 1, 2, 7, 8, 8, 7, 1, 0, 7, 1, 1, 5, 7, 8, 1, 0, 1, 1, 2, 6, 8, 7, 0, 0, 3, 1, 8, 0, 1, 9, 6, 6, 5, 4, 3, 6, 4, 7, 1, 6, 5, 1, 4, 2, 7, 1, 4, 1, 3, 4, 8, 9, 6, 6, 0, 7, 7, 2, 5, 0, 1, 2, 4, 9, 6, 5, 6, 6, 9, 2, 3, 5, 7, 5, 4, 1, 8, 0, 6, 4, 0, 0, 2, 7, 3, 6, 8, 4, 0, 9, 4, 9, 4, 1, 6, 0, 4, 4, 0, 1, 5, 5, 2, 2, 1, 8, 2, 1, 1, 2, 7, 6, 7, 3, 2, 9, 0, 6, 9, 9, 1, 1, 1, 2, 5, 5, 0, 8, 2, 1, 1, 8, 3, 9, 4, 4, 3, 8, 1, 8, 2, 3, 6, 7, 2, 6, 3, 7, 7, 6, 7, 6, 4, 8, 4, 0, 3, 7, 9, 1, 1, 1, 8, 5, 7, 9, 0, 7, 4, 5, 4, 1, 2, 8, 0, 1, 9, 8, 1, 9, 0, 3, 3, 6, 3, 6, 5, 4, 0, 9, 6, 6, 0, 3, 6, 1, 3, 1, 6, 6, 8, 1, 5, 5, 5, 2, 8, 9, 9, 6, 8, 9, 4, 8, 6, 1, 5, 3, 8, 9, 4, 2, 8, 2, 7, 3, 8, 3, 4, 3, 4, 4, 3, 0, 1, 7, 6, 0, 9, 6, 0, 6, 4, 7, 0, 6, 5, 0, 8, 0, 6, 4, 1, 7, 2, 5, 7, 6, 1, 9, 2, 0, 7, 8, 0, 7, 4, 1, 6, 8, 5, 7, 9, 5, 9, 5, 0, 8, 1, 3, 4, 3, 2, 6, 1, 4, 3, 0, 6, 7, 8, 1, 8, 5, 6, 2, 6, 4, 2, 5, 8, 6, 6, 2, 2, 4, 8, 0, 0, 9, 5, 6, 4, 3, 8, 7, 4, 3, 0, 3, 1, 2, 8, 5, 7, 5, 5, 2, 0, 9, 4, 9, 4, 7, 3, 0, 6, 1, 0, 5, 2, 5, 4, 6, 1, 4, 7, 7, 6, 3, 7, 0, 1, 5, 2, 6, 0, 9, 1, 0, 7, 6, 9, 2, 7, 7, 2, 3, 1, 0, 3, 7, 7, 7, 9, 8, 1, 7, 9, 2, 3, 4, 1, 0, 7, 9, 3, 8, 5, 6, 5, 5, 5, 9, 5, 2, 6, 9, 8, 2, 7, 1, 9, 2, 8, 1, 1, 0, 0, 2, 6, 3, 5, 1, 1, 1, 1, 1, 1, 6, 3, 8, 0, 9, 8, 4, 2, 2, 8, 8, 0, 2, 2, 8, 9, 4, 8, 4, 3, 8, 4, 6, 1, 5, 1, 1, 9, 6, 9, 7, 5, 4, 4, 2, 5, 4, 6, 3, 4, 0, 1, 4, 5, 1, 6, 4, 8, 9, 0, 2, 1, 3, 2, 9, 2, 7, 9, 9, 5, 1, 6, 0, 1, 9, 5, 9, 4, 2, 2, 7, 8, 0, 6, 4, 1, 0, 0, 5, 1, 5, 9, 9, 1, 3, 2, 8, 9, 0, 7, 1, 8, 2, 0, 8, 3, 4, 4, 8, 4, 7, 3, 8, 5, 0, 4, 5, 2, 8, 6, 5, 5, 8, 7, 7, 1, 5, 0, 9, 3, 0, 7, 3, 5, 5, 1, 4, 9, 1, 2, 2, 5, 3, 0, 9, 9, 9, 6, 1, 8, 8, 8, 0, 8, 3, 9, 7, 7, 4, 4, 0, 0, 4, 0, 1, 0, 6, 8, 6, 7, 3, 2, 7, 5, 8, 5, 2, 0, 4, 7, 5, 3, 4, 1, 7, 9, 1, 2, 1, 9, 7, 9, 8, 0, 8, 7, 4, 8, 7, 7, 0, 4, 3, 2, 6, 9, 3, 5, 7, 4, 9, 5, 6, 6, 6, 0, 8, 6, 2, 4, 2, 3, 7, 3, 1, 5, 7, 9, 3, 8, 9, 9, 8, 7, 5, 9, 7, 4, 8, 1, 4, 0, 0, 7, 4, 9, 4, 2, 0, 7, 8, 7, 1, 1, 2, 3, 9, 3, 2, 0, 4, 9, 1, 9, 7, 7, 9, 2, 0, 8, 3, 1, 4, 1, 4, 3, 5, 1, 1, 6, 4, 2, 8, 5, 1, 7, 8, 8, 2, 8, 6, 5, 1, 6, 0, 0, 7, 2, 8, 8, 9, 2, 6, 1, 5, 5, 8, 2, 4, 4, 1, 8, 8, 0, 3, 4, 9, 3, 6, 8, 5, 0, 0, 3, 0, 9, 9, 0, 4, 1, 6, 2, 8, 9, 8, 4, 6, 7, 8, 8, 9, 2, 2, 0, 9, 2, 2, 4, 7, 5, 4, 9, 6, 1, 8, 2, 3, 5, 8, 2, 8, 9, 9, 7, 6, 3, 9, 7, 2, 6, 8, 9, 3, 9, 9, 9, 2, 0, 9, 3, 4, 2, 3, 1, 1, 1, 0, 2, 0, 5, 7, 3, 9, 1, 0, 1, 8, 9, 5, 3, 8, 8, 1, 5, 3, 2, 3, 3, 7, 5, 9, 5, 7, 1, 9, 6, 5, 9, 1, 0, 8, 4, 3, 8, 5, 4, 9, 6, 0, 3, 9, 7, 2, 3, 8, 6, 6, 4, 9, 9, 1, 5, 2, 6, 7, 2, 2, 9, 1, 0, 5, 8, 4, 5, 7, 9, 7, 0, 4, 1, 0, 3, 4, 8, 9, 5, 8, 6, 7, 9, 1, 5, 7, 9, 4, 6, 6, 7, 2, 1, 3, 4, 1, 9, 4, 2, 1, 9, 0, 0, 8, 6, 2, 8, 0, 3, 7, 4, 2, 6, 9, 8, 0, 9, 4, 2, 1, 3, 1, 2, 3, 2, 7, 9, 4, 7, 1, 1, 2, 8, 8, 4, 8, 2, 5, 5, 8, 3, 6, 0, 1, 4, 5, 5, 8, 9, 8, 5, 9, 4, 1, 3, 3, 9, 5, 9, 7, 7, 4, 4, 7, 9, 3, 6, 8, 9, 2, 4, 3, 6, 5, 1, 5, 4, 5, 8, 2, 3, 9, 9, 7, 8, 6, 7, 6, 1, 0, 6, 0, 3, 2, 5, 3, 3, 9, 6, 3, 0, 4, 5, 7, 3, 5, 9, 3, 5, 8, 7, 0, 3, 9, 2, 6, 2, 3, 2, 7, 1, 4, 7, 8, 6, 4, 0, 8, 0, 0, 8, 6, 8, 2, 9, 5, 4, 3, 8, 4, 4, 7, 0, 9, 5, 0, 2, 4, 5, 4, 0, 3, 7, 8, 9, 7, 4, 4, 6, 6, 5, 9, 4, 1, 1, 5, 0, 9, 6, 9, 8, 0, 5, 2, 6, 6, 1, 5, 5, 6, 8, 1, 7, 0, 7, 9, 3, 2, 7, 7, 7, 8, 2, 0, 3, 3, 6, 1, 8, 6, 3, 7, 5, 3, 2, 9, 4, 5, 8, 2, 8, 7, 8, 4, 6, 9, 1, 2, 1, 3, 7, 4, 9, 5, 8, 7, 5, 2, 2, 1, 8, 0, 3, 0, 9, 2, 4, 0, 1, 1, 6, 3, 0, 7, 7, 1, 0, 5, 8, 0, 3, 9, 8, 2, 2, 9, 1, 5, 1, 7, 0, 1, 9, 9, 4, 2, 3, 4, 2, 8, 7, 0, 7, 8, 2, 9, 6, 3, 5, 5, 4, 3, 3, 5, 5, 6, 7, 8, 5, 3, 2, 9, 0, 2, 9, 7, 5, 4, 0, 8, 0, 1, 6, 6, 8, 6, 1, 9, 2, 6, 2, 8, 5, 0, 4, 1, 3, 4, 4, 4, 3, 8, 9, 4, 6, 5, 6, 1, 9, 5, 3, 7, 0, 6, 4, 7, 9, 3, 6, 1, 8, 2, 0, 0, 1, 5, 4, 6, 4, 2, 3, 0, 1, 1, 5, 2, 9, 6, 3, 3, 1, 9, 7, 7, 5, 0, 8, 9, 8, 1, 6, 5, 6, 4, 2, 3, 3, 9, 8, 3, 2, 1, 2, 7, 9, 9, 4, 7, 2, 5, 8, 8, 9, 3, 0, 6, 3, 6, 3, 7, 2, 9, 0, 2, 7, 1, 9, 6, 0, 1, 3, 1, 6, 2, 7, 5, 1, 3, 4, 9, 7, 4, 1, 1, 8, 4, 6, 5, 1, 5, 0, 1, 8, 6, 6, 1, 6, 7, 1, 3, 1, 5, 2, 9, 7, 9, 7, 5, 0, 6, 6, 5, 0, 6, 5, 6, 1, 1, 1, 9, 6, 1, 8, 9, 8, 7, 4, 5, 6, 6, 9, 5, 2, 3, 7, 2, 1, 0, 3, 1, 0, 6, 2, 7, 7, 9, 0, 5, 7, 7, 2, 0, 4, 3, 7, 9, 7, 0, 7, 5, 8, 4, 9, 3, 7, 4, 7, 4, 9, 8, 0, 3, 4, 1, 0, 8, 4, 4, 9, 1, 9, 4, 1, 2, 9, 6, 5, 0, 9, 3, 9, 1, 0, 1, 9, 0, 2, 7, 2, 3, 8, 4, 5, 1, 6, 8, 0, 7, 7, 9, 9, 4, 5, 4, 9, 9, 5, 0, 0, 6, 4, 3, 0, 4, 9, 9, 7, 9, 0, 7, 4, 4, 7, 4, 9, 7, 9, 3, 4, 2, 1, 4, 8, 2, 3, 1, 8, 7, 9, 1, 7, 3, 5, 5, 3, 1, 2, 5, 4, 3, 5, 9, 8, 5, 6, 6, 0, 3, 9, 4, 6, 4, 3, 3, 4, 4, 2, 0, 2, 3, 9, 3, 0, 8, 6, 0, 0, 4, 6, 1, 8, 6, 0, 1, 6, 7, 8, 1, 1, 0, 7, 3, 4, 2, 0, 6, 3, 2, 2, 2, 6, 6, 4, 9, 0, 2, 4, 5, 6, 7, 1, 0, 3, 6, 9, 2, 1, 0, 8, 5, 3, 1, 0, 5, 1, 2, 0, 7, 2, 9, 7, 2, 1, 9, 1, 0, 4, 7, 0, 5, 2, 7, 7, 7, 0, 7, 6, 0, 9, 2, 6, 9, 1, 1, 5, 6, 5, 6, 8, 7, 5, 4, 7, 6, 9, 6, 9, 1, 0, 6, 4, 6, 6, 5, 6, 5, 1, 7, 4, 4, 6, 6, 3, 1, 9, 9, 3, 4, 0, 4, 1, 2, 8, 2, 2, 3, 4, 1, 7, 7, 1, 0, 6, 4, 4, 5, 1, 6, 5, 4, 5, 6, 1, 1, 1, 2, 7, 1, 8, 8, 3, 7, 6, 7, 3, 5, 0, 8, 0, 3, 5, 3, 7, 9, 5, 4, 0, 1, 3, 1, 1, 5, 5, 3, 8, 5, 6, 7, 5, 4, 2, 9, 5, 0, 5, 1, 4, 6, 8, 2, 9, 4, 7, 5, 2, 9, 2, 0, 1, 1, 9, 3, 7, 8, 3, 7, 0, 2, 3, 4, 8, 3, 9, 8, 9, 3, 4, 5, 5, 8, 1, 5, 1, 9, 6, 8, 5, 1, 4, 3, 9, 5, 3, 7, 2, 5, 6, 3, 1, 4, 8, 5, 9, 2, 8, 9, 4, 1, 1, 7, 6, 1, 8, 3, 0, 3, 2, 4, 2, 2, 3, 4, 8, 2, 1, 3, 8, 4, 7, 0, 1, 3, 8, 6, 7, 7, 6, 1, 6, 8, 1, 1, 6, 2, 4, 8, 9, 2, 0, 7, 3, 9, 4, 1, 4, 5, 3, 3, 6, 8, 1, 1, 7, 3, 9, 0, 5, 6, 3, 2, 3, 2, 1, 3, 7, 6, 3, 7, 2, 2, 6, 9, 7, 4, 8, 3, 8, 0, 4, 8, 4, 8, 8, 7, 1, 2, 0, 8, 5, 2, 7, 3, 2, 7, 1, 8, 9, 7, 8, 7, 2, 2, 0, 9, 4, 1, 0, 0, 6, 3, 7, 5, 9, 7, 8, 4, 2, 4, 3, 4, 0, 9, 7, 7, 7, 1, 0, 9, 5, 6, 5, 9, 3, 8, 1, 9, 3, 2, 6, 0, 4, 9, 8, 0, 4, 7, 0, 8, 5, 9, 9, 7, 6, 7, 1, 5, 1, 1, 3, 8, 3, 9, 3, 0, 5, 2, 8, 7, 6, 5, 2, 4, 0, 1, 2, 4, 7, 5, 0, 5, 8, 4, 0, 9, 6, 7, 0, 1, 0, 2, 0, 0, 9, 3, 8, 1, 4, 0, 3, 3, 2, 7, 7, 8, 7, 5, 2, 6, 1, 4, 8, 0, 8, 5, 0, 4, 9, 9, 4, 6, 5, 7, 0, 7, 2, 4, 2, 2, 7, 5, 2, 2, 2, 6, 8, 5, 2, 7, 4, 7, 5, 4, 4, 1, 6, 1, 3, 4, 4, 8, 6, 9, 1, 2, 9, 5, 8, 3, 8, 3, 1, 1, 6, 4, 5, 6, 3, 0, 2, 5, 7, 0, 8, 5, 8, 0, 3, 5, 2, 2, 7, 4, 8, 6, 6, 6, 1, 7, 1, 8, 7, 3, 3, 6, 0, 2, 4, 0, 0, 6, 9, 2, 6, 9, 7, 9, 2, 3, 2, 8, 7, 8, 5, 9, 1, 1, 1, 5, 4, 7, 1, 4, 1, 4, 3, 8, 6, 1, 5, 2, 3, 1, 5, 2, 6, 4, 4, 6, 5, 2, 3, 2, 0, 2, 7, 0, 5, 8, 3, 3, 7, 5, 7, 3, 9, 4, 0, 1, 6, 3, 8, 6, 2, 3, 3, 1, 3, 2, 5, 7, 6, 0, 2, 0, 5, 2, 6, 5, 9, 0, 1, 7, 1, 6, 4, 7, 8, 6, 5, 3, 7, 5, 7, 5, 7, 2, 9, 1, 1, 7, 4, 2, 0, 3, 1, 0, 5, 6, 6, 5, 5, 3, 3, 9, 3, 9, 9, 3, 8, 9, 3, 3, 0, 9, 6, 7, 7, 3, 1, 2, 5, 3, 7, 9, 1, 5, 1, 0, 6, 5, 7, 1, 4, 8, 4, 6, 8, 4, 9, 0, 1, 2, 8, 7, 9, 1, 7, 9, 2, 5, 0, 4, 4, 7, 2, 0, 6, 4, 0, 4, 4, 0, 2, 1, 8, 2, 5, 3, 7, 4, 1, 1, 1, 4, 6, 2, 2, 9, 4, 0, 8, 0, 3, 9, 4, 0, 1, 5, 7, 9, 0, 2, 0, 6, 1, 5, 6, 9, 0, 8, 1, 4, 2, 1, 0, 4, 3, 9, 1, 0, 4, 9, 0, 6, 6, 3, 9, 4, 6, 8, 1, 3, 7, 0, 6, 7, 2, 5, 6, 2, 5, 0, 5, 8, 5, 9, 3, 8, 6, 6, 1, 7, 6, 5, 0, 4, 1, 5, 1, 0, 2, 3, 2, 3, 6, 5, 3, 2, 2, 4, 4, 8, 2, 9, 4, 0, 4, 0, 8, 8, 6, 3, 6, 8, 6, 6, 1, 9, 5, 9, 5, 5, 3, 2, 0, 6, 7, 0, 1, 6, 2, 9, 3, 6, 0, 1, 6, 8, 8, 9, 3, 0, 3, 9, 1, 8, 2, 5, 3, 5, 3, 2, 7, 8, 0, 1, 2, 9, 6, 7, 7, 4, 4, 6, 3, 9, 2, 1, 7, 9, 1, 6, 6, 3, 5, 2, 8, 8, 5, 1, 6, 8, 6, 0, 1, 0, 2, 2, 1, 4, 5, 0, 1, 2, 9, 7, 3, 9, 7, 0, 8, 5, 5, 0, 5, 8, 7, 4, 6, 2, 0, 8, 5, 5, 7, 4, 2, 3, 1, 4, 1, 6, 0, 1, 7, 3, 1, 8, 4, 8, 3, 1, 7, 8, 5, 5, 6, 2, 1, 4, 7, 1, 8, 8, 6, 2, 3, 8, 1, 0, 2, 4, 0, 9, 7, 5, 3, 9, 6, 4, 1, 5, 5, 3, 7, 2, 5, 3, 0, 2, 9, 9, 6, 0, 7, 4, 1, 5, 3, 6, 4, 3, 0, 4, 3, 6, 8, 7, 1, 3, 7, 1, 2, 7, 3, 8, 5, 6, 3, 9, 8, 5, 9, 1, 4, 1, 3, 4, 1, 8, 8, 2, 9, 5, 3, 9, 2, 2, 7, 9, 7, 2, 8, 3, 7, 0, 7, 9, 1, 8, 9, 9, 7, 9, 3, 8, 7, 4, 7, 1, 8, 1, 3, 2, 5, 1, 5, 8, 0, 8, 3, 6, 6, 9, 3, 4, 6, 4, 7, 7, 1, 9, 4, 5, 9, 4, 1, 6, 2, 9, 8, 2, 7, 1, 2, 2, 3, 5, 4, 8, 0, 3, 4, 8, 7, 1, 9, 9, 5, 1, 4, 6, 7, 3, 6, 4, 9, 5, 6, 0, 3, 6, 8, 6, 3, 0, 3, 1, 3, 7, 3, 9, 8, 5, 0, 6, 2, 3, 6, 1, 5, 4, 4, 2, 1, 9, 0, 8, 9, 3, 7, 9, 5, 8, 6, 1, 8, 3, 9, 6, 6, 6, 2, 7, 2, 3, 6, 0, 4, 4, 9, 1, 4, 1, 9, 9, 1, 9, 3, 1, 5, 9, 8, 7, 8, 5, 8, 1, 8, 2, 2, 3, 9, 4, 0, 4, 5, 0, 2, 6, 2, 2, 8, 4, 7, 5, 6, 5, 4, 3, 0, 1, 9, 3, 8, 9, 4, 6, 6, 9, 8, 4, 4, 3, 4, 1, 0, 6, 8, 0, 5, 3, 7, 0, 7, 9, 5, 1, 7, 0, 2, 2, 5, 2, 2, 8, 3, 6, 1, 7, 6, 5, 1, 7, 7, 0, 2, 8, 5, 4, 4, 8, 1, 5, 6, 6, 5, 2, 6, 6, 0, 5, 1, 4, 3, 6, 0, 1, 2, 9, 4, 1, 8, 8, 3, 2, 8, 6, 8, 3, 6, 7, 5, 4, 1, 7, 1, 6, 9, 9, 2, 3, 5, 9, 5, 5, 2, 2, 8, 7, 9, 6, 1, 8, 0, 8, 8, 9, 6, 7, 8, 8, 4, 9, 7, 7, 1, 6, 9, 0, 6, 8, 3, 7, 2, 5, 2, 3, 3, 4, 6, 6, 3, 8, 6, 2, 1, 7, 7, 1, 0, 4, 4, 6, 6, 1, 9, 7, 0, 4, 7, 9, 5, 9, 6, 8, 6, 5, 7, 7, 3, 5, 9, 8, 7, 7, 6, 0, 6, 8, 2, 9, 4, 1, 2, 4, 4, 5, 8, 5, 2, 7, 0, 9, 1, 9, 1, 7, 2, 9, 0, 2, 4, 4, 2, 9, 3, 0, 0, 5, 1, 5, 9, 5, 8, 0, 5, 8, 2, 4, 8, 2, 0, 7, 7, 2, 6, 9, 6, 8, 7, 6, 0, 1, 6, 9, 3, 5, 3, 6, 2, 8, 5, 3, 2, 6, 6, 7, 3, 9, 3, 1, 6, 2, 6, 8, 6, 1, 7, 1, 5, 9, 1, 3, 2, 9, 7, 2, 9, 5, 9, 8, 5, 8, 9, 7, 8, 4, 9, 8, 0, 5, 6, 3, 8, 4, 0, 4, 8, 5, 2, 4, 7, 6, 0, 6, 4, 9, 7, 9, 1, 7, 0, 4, 5, 8, 9, 9, 6, 3, 6, 3, 6, 8, 8, 0, 1, 5, 9, 6, 3, 7, 5, 2, 0, 5, 7, 4, 6, 0, 5, 9, 7, 7, 0, 6, 2, 1, 4, 0, 4, 8, 7, 6, 0, 0, 9, 8, 5, 5, 5, 5, 0, 0, 1, 3, 0, 9, 5, 7, 1, 9, 4, 3, 4, 4, 8, 9, 8, 6, 0, 4, 3, 0, 4, 8, 7, 7, 0, 5, 1, 1, 7, 7, 0, 1, 8, 8, 9, 9, 7, 2, 7, 8, 9, 0, 0, 5, 1, 0, 7, 4, 0, 8, 9, 3, 8, 3, 7, 9, 3, 0, 1, 8, 0, 7, 9, 4, 8, 8, 8, 7, 5, 9, 6, 9, 6, 4, 7, 6, 4, 8, 3, 3, 9, 1, 6, 7, 8, 0, 7, 8, 9, 1, 6, 1, 5, 0, 1, 1, 5, 7, 9, 2, 5, 8, 9, 7, 7, 2, 6, 3, 5, 6, 5, 6, 2, 2, 4, 1, 3, 1, 0, 7, 9, 6, 7, 1, 2, 9, 4, 1, 6, 3, 1, 4, 0, 6, 7, 5, 3, 4, 2, 6, 8, 5, 3, 5, 2, 2, 0, 8, 4, 6, 6, 9, 4, 1, 8, 9, 8, 3, 0, 8, 7, 5, 4, 1, 7, 5, 0, 8, 3, 9, 5, 3, 0, 9, 3, 5, 1, 1, 0, 4, 3, 6, 7, 4, 9, 9, 3, 7, 4, 3, 3, 0, 3, 0, 6, 9, 2, 1, 7, 3, 5, 2, 1, 9, 1, 9, 7, 7, 7, 5, 2, 3, 1, 2, 0, 0, 3, 5, 1, 7, 7, 9, 5, 9, 2, 3, 9, 2, 4, 4, 3, 5, 1, 8, 4, 1, 9, 1, 1, 8, 4, 3, 9, 6, 7, 0, 7, 8, 7, 9, 5, 0, 0, 8, 3, 2, 8, 9, 2, 3, 9, 4, 1, 2, 9, 3, 0, 3, 2, 1, 9, 3, 9, 0, 4, 3, 3, 8, 4, 8, 9, 9, 7, 9, 7, 7, 3, 8, 0, 8, 0, 2, 5, 3, 3, 0, 8, 6, 0, 5, 3, 9, 4, 1, 1, 0, 3, 0, 9, 2, 9, 6, 3, 1, 5, 1, 7, 4, 3, 9, 5, 8, 5, 7, 5, 8, 8, 9, 2, 3, 2, 1, 8, 8, 8, 7, 8, 6, 0, 6, 1, 3, 3, 9, 8, 1, 9, 5, 3, 6, 6, 1, 0, 7, 5, 1, 9, 0, 8, 2, 2, 8, 2, 0, 2, 4, 7, 9, 3, 9, 6, 3, 8, 0, 6, 7, 9, 8, 6, 8, 6, 6, 9, 3, 5, 1, 3, 3, 1, 2, 5, 7, 6, 2, 1, 2, 8, 9, 6, 4, 1, 7, 3, 5, 2, 9, 0, 6, 9, 6, 8, 1, 2, 1, 1, 4, 4, 2, 1, 6, 5, 7, 1, 0, 4, 6, 6, 7, 9, 7, 4, 7, 5, 4, 1, 4, 6, 5, 5, 9, 9, 1, 9, 6, 4, 8, 0, 9, 2, 1, 0, 0, 0, 7, 8, 6, 3, 1, 2, 4, 6, 7, 1, 1, 8, 8, 2, 9, 5, 6, 3, 8, 9, 6, 1, 8, 6, 5, 1, 0, 8, 5, 1, 6, 4, 0, 1, 7, 1, 5, 9, 1, 6, 9, 0, 3, 5, 5, 9, 3, 4, 6, 4, 5, 9, 7, 6, 2, 5, 8, 9, 3, 4, 0, 9, 6, 2, 5, 9, 0, 5, 7, 8, 1, 3, 9, 3, 0, 2, 3, 1, 3, 1, 5, 5, 0, 1, 9, 5, 9, 7, 8, 3, 0, 8, 0, 5, 5, 6, 0, 0, 5, 3, 6, 0, 0, 8, 5, 3, 0, 2, 0, 7, 4, 7, 7, 9, 2, 0, 1, 8, 4, 5, 2, 5, 1, 6, 0, 3, 1, 8, 0, 9, 6, 7, 9, 2, 4, 6, 0, 4, 6, 1, 2, 1, 6, 3, 2, 0, 4, 7, 9, 9, 2, 9, 3, 8, 2, 8, 5, 7, 1, 6, 4, 0, 4, 7, 6, 6, 1, 8, 7, 1, 2, 4, 6, 2, 5, 3, 8, 9, 2, 8, 7, 5, 1, 5, 3, 8, 0, 1, 0, 4, 7, 1, 8, 5, 9, 4, 8, 8, 2, 9, 5, 3, 2, 1, 1, 4, 2, 1, 2, 7, 7, 1, 8, 7, 5, 9, 6, 0, 9, 6, 6, 1, 8, 5, 9, 1, 4, 1, 5, 0, 5, 3, 0, 0, 9, 9, 5, 2, 6, 4, 7, 2, 8, 0, 5, 4, 7, 5, 0, 7, 8, 6, 0, 1, 4, 0, 1, 5, 7, 3, 6, 1, 0, 3, 9, 4, 4, 8, 1, 1, 4, 9, 6, 5, 2, 0, 2, 7, 9, 3, 1, 1, 1, 9, 0, 1, 7, 5, 7, 4, 0, 9, 3, 6, 5, 8, 2, 6, 0, 5, 7, 3, 1, 3, 8, 8, 3, 1, 0, 7, 2, 9, 3, 4, 7, 7, 5, 2, 6, 8, 1, 1, 0, 4, 0, 4, 5, 8, 0, 8, 0, 1, 1, 0, 7, 4, 1, 7, 3, 3, 7, 0, 9, 1, 9, 9, 0, 3, 1, 8, 9, 2, 3, 7, 7, 9, 9, 1, 2, 3, 9, 1, 7, 0, 2, 4, 1, 6, 9, 5, 8, 4, 8, 8, 2, 3, 6, 2, 5, 9, 0, 9, 0, 0, 2, 0, 7, 6, 9, 5, 6, 5, 5, 3, 4, 1, 2, 5, 9, 4, 4, 6, 0, 5, 5, 4, 1, 3, 3, 0, 3, 2, 6, 6, 6, 4, 7, 0, 0, 1, 0, 1, 0, 7, 9, 2, 0, 4, 5, 8, 8, 0, 3, 8, 9, 2, 0, 3, 8, 7, 2, 0, 6, 5, 5, 3, 3, 2, 3, 7, 9, 2, 5, 9, 0, 5, 7, 8, 6, 9, 2, 0, 0, 6, 9, 6, 1, 3, 3, 6, 7, 9, 9, 6, 3, 2, 0, 2, 4, 9, 2, 8, 5, 2, 6, 5, 0, 1, 2, 8, 3, 0, 3, 8, 0, 5, 0, 2, 3, 7, 8, 8, 8, 1, 5, 0, 8, 8, 1, 7, 4, 9, 2, 2, 2, 1, 3, 4, 2, 4, 3, 2, 6, 7, 6, 7, 4, 7, 8, 9, 2, 4, 0, 0, 0, 7, 0, 5, 4, 2, 4, 6, 3, 0, 3, 4, 2, 4, 1, 6, 6, 4, 8, 7, 5, 0, 7, 9, 3, 0, 5, 7, 8, 5, 4, 7, 8, 5, 4, 1, 4, 4, 5, 5, 1, 0, 2, 4, 0, 5, 3, 5, 8, 3, 6, 0, 7, 4, 3, 4, 9, 7, 0, 6, 7, 6, 8, 7, 2, 7, 0, 8, 4, 7, 1, 6, 2, 4, 5, 3, 3, 6, 3, 6, 1, 4, 5, 8, 5, 8, 6, 9, 0, 6, 4, 4, 2, 6, 0, 6, 4, 5, 1, 7, 9, 8, 6, 3, 6, 7, 5, 4, 7, 2, 3, 2, 8, 3, 8, 7, 5, 3, 2, 6, 7, 5, 7, 7, 7, 6, 2, 4, 6, 3, 1, 9, 4, 2, 2, 6, 8, 7, 0, 1, 4, 8, 2, 1, 5, 9, 0, 7, 7, 4, 0, 7, 8, 6, 5, 7, 3, 6, 5, 5, 5, 7, 6, 6, 0, 3, 5, 9, 3, 2, 1, 9, 1, 6, 4, 1, 5, 7, 0, 6, 6, 7, 1, 8, 2, 2, 1, 2, 5, 7, 0, 8, 9, 1, 9, 7, 6, 8, 3, 6, 2, 2, 7, 4, 4, 5, 1, 6, 9, 8, 4, 0, 6, 3, 1, 3, 9, 9, 8, 5, 8, 4, 5, 0, 4, 2, 3, 1, 9, 2, 0, 4, 6, 5, 0, 3, 8, 2, 8, 6, 7, 2, 6, 9, 0, 2, 6, 8, 2, 8, 7, 1, 7, 1, 8, 1, 2, 1, 9, 2, 5, 8, 3, 5, 5, 3, 6, 9, 1, 3, 1, 2, 5, 0, 6, 7, 1, 0, 1, 8, 3, 3, 5, 6, 3, 8, 7, 7, 3, 0, 0, 3, 6, 2, 5, 8, 2, 7, 9, 0, 8, 9, 2, 8, 0, 4, 4, 1, 2, 7, 3, 8, 1, 0, 7, 7, 7, 0, 8, 9, 4, 4, 2, 7, 1, 8, 8, 9, 6, 7, 8, 8, 2, 8, 5, 8, 9, 2, 7, 7, 8, 6, 1, 3, 1, 3, 6, 0, 5, 4, 9, 0, 2, 6, 4, 2, 2, 1, 1, 6, 4, 7, 6, 7, 5, 7, 9, 0, 2, 1, 8, 7, 1, 2, 0, 6, 6, 5, 5, 2, 9, 2, 2, 8, 0, 0, 3, 5, 1, 7, 2, 3, 3, 9, 0, 8, 0, 0, 0, 2, 5, 3, 2, 1, 7, 0, 0, 2, 1, 5, 2, 5, 5, 1, 8, 1, 1, 1, 3, 0, 7, 3, 3, 4, 2, 3, 3, 0, 3, 2, 6, 1, 8, 7, 7, 7, 6, 5, 4, 4, 5, 6, 3, 0, 8, 8, 8, 5, 7, 0, 0, 0, 1, 3, 3, 5, 5, 4, 0, 5, 3, 3, 6, 3, 3, 8, 3, 5, 0, 5, 2, 1, 5, 7, 0, 2, 7, 0, 7, 5, 3, 2, 0, 2, 3, 1, 1, 1, 3, 2, 7, 5, 9, 4, 5, 0, 4, 0, 6, 4, 6, 6, 2, 2, 9, 6, 4, 1, 4, 2, 9, 7, 3, 1, 3, 9, 3, 7, 5, 2, 4, 1, 3, 0, 9, 0, 9, 8, 6, 7, 1, 3, 9, 2, 8, 7, 7, 0, 1, 4, 5, 7, 4, 8, 0, 9, 0, 6, 2, 7, 7, 6, 6, 4, 4, 8, 7, 0, 4, 0, 5, 2, 4, 5, 6, 6, 3, 9, 9, 0, 1, 8, 7, 2, 2, 8, 7, 7, 4, 5, 6, 8, 9, 3, 1, 3, 2, 3, 2, 6, 4, 3, 0, 8, 9, 1, 1, 5, 0, 8, 9, 5, 8, 6, 6, 2, 8, 2, 4, 4, 4, 9, 1, 6, 9, 5, 9, 7, 7, 8, 7, 4, 2, 6, 6, 5, 0, 0, 9, 0, 4, 3, 5, 2, 2, 1, 4, 6, 0, 5, 9, 4, 4, 4, 4, 1, 0, 2, 4, 6, 3, 4, 5, 2, 3, 6, 2, 8, 7, 5, 7, 7, 2, 6, 0, 4, 1, 0, 9, 0, 1, 7, 5, 7, 2, 9, 6, 8, 3, 8, 6, 4, 6, 9, 0, 2, 1, 4, 4, 6, 9, 2, 7, 9, 8, 1, 0, 3, 2, 3, 6, 4, 2, 2, 7, 4, 9, 6, 8, 0, 8, 3, 5, 9, 9, 8, 3, 9, 6, 2, 8, 0, 5, 2, 5, 8, 6, 3, 8, 5, 1, 8, 4, 6, 3, 2, 4, 2, 0, 0, 8, 1, 3, 2, 7, 0, 7, 8, 3, 9, 2, 1, 3, 0, 3, 9, 0, 5, 6, 5, 7, 7, 5, 4, 8, 1, 3, 9, 3, 7, 3, 2, 6, 8, 1, 7, 6, 3, 0, 7, 8, 0, 7, 4, 8, 0, 4, 8, 0, 1, 5, 7, 4, 9, 2, 5, 5, 9, 2, 7, 2, 7, 6, 1, 5, 7, 0, 1, 7, 2, 5, 9, 0, 5, 5, 1, 0, 5, 1, 6, 7, 1, 0, 0, 7, 8, 1, 4, 1, 6, 9, 0, 1, 2, 3, 2, 8, 9, 9, 8, 3, 5, 4, 4, 7, 6, 3, 3, 6, 3, 4, 0, 6, 2, 9, 9, 3, 2, 0, 1, 8, 9, 5, 5, 6, 5, 0, 8, 5, 5, 3, 3, 2, 4, 3, 0, 8, 5, 2, 4, 3, 4, 4, 3, 5, 6, 7, 6, 6, 1, 3, 3, 1, 3, 3, 3, 1, 4, 8, 4, 5, 8, 2, 0, 1, 5, 5, 1, 7, 5, 4, 6, 3, 3, 5, 9, 6, 1, 7, 0, 3, 0, 4, 3, 8, 1, 0, 5, 8, 5, 6, 7, 8, 3, 5, 8, 6, 5, 1, 5, 5, 2, 5, 9, 8, 3, 9, 5, 7, 7, 2, 8, 3, 0, 6, 0, 8, 1, 5, 9, 4, 8, 7, 8, 2, 8, 9, 8, 6, 0, 0, 7, 3, 9, 4, 4, 3, 7, 3, 3, 3, 5, 5, 4, 5, 7, 4, 8, 4, 3, 8, 9, 4, 0, 0, 7, 0, 8, 7, 0, 6, 8, 6, 8, 0, 4, 1, 9, 2, 3, 4, 7, 5, 4, 0, 0, 7, 0, 7, 3, 4, 0, 6, 0, 1, 4, 6, 0, 5, 2, 8, 5, 3, 5, 1, 6, 6, 2, 2, 9, 2, 4, 6, 7, 9, 0, 9, 5, 6, 1, 0, 6, 5, 4, 2, 7, 5, 6, 6, 1, 0, 5, 8, 1, 1, 5, 2, 4, 2, 0, 4, 5, 7, 6, 9, 7, 8, 5, 4, 1, 7, 1, 5, 7, 6, 6, 4, 0, 1, 3, 9, 2, 3, 5, 2, 8, 7, 7, 0, 6, 4, 5, 7, 7, 9, 4, 3, 6, 2, 8, 5, 6, 0, 8, 9, 8, 1, 1, 2, 2, 6, 6, 1, 7, 7, 5, 5, 0, 2, 3, 3, 8, 5, 1, 7, 2, 2, 0, 4, 6, 3, 3, 6, 9, 7, 8, 2, 6, 4, 0, 3, 8, 9, 9, 3, 7, 4, 3, 8, 7, 3, 4, 4, 2, 7, 3, 4, 9, 1, 4, 9, 6, 9, 6, 6, 7, 0, 0, 3, 6, 9, 1, 1, 0, 4, 9, 6, 5, 5, 2, 3, 2, 6, 3, 8, 9, 2, 6, 9, 4, 1, 9, 0, 3, 3, 2, 6, 0, 2, 9, 0, 8, 3, 7, 0, 1, 3, 5, 9, 9, 9, 5, 8, 9, 7, 0, 2, 6, 9, 3, 4, 5, 6, 1, 0, 5, 3, 5, 7, 7, 5, 2, 8, 3, 7, 8, 9, 0, 9, 6, 3, 3, 0, 7, 4, 4, 0, 9, 2, 5, 9, 6, 8, 7, 9, 2, 1, 0, 9, 4, 6, 3, 1, 6, 7, 4, 9, 2, 5, 5, 5, 1, 6, 0, 1, 9, 5, 1, 0, 1, 0, 6, 6, 7, 3, 0, 6, 1, 6, 0, 1, 8, 5, 2, 3, 8, 4, 4, 9, 5, 6, 7, 8, 3, 7, 8, 8, 2, 3, 8, 9, 4, 1, 3, 9, 4, 2, 6, 9, 6, 3, 0, 5, 3, 1, 2, 4, 4, 8, 3, 7, 5, 6, 9, 0, 5, 6, 8, 1, 4, 5, 0, 4, 2, 8, 2, 8, 9, 6, 9, 5, 3, 2, 8, 6, 1, 9, 3, 3, 0, 7, 0, 7, 7, 5, 1, 2, 8, 5, 8, 5, 5, 2, 2, 0, 0, 5, 1, 2, 8, 3, 0, 5, 2, 2, 8, 3, 6, 8, 6, 7, 5, 8, 7, 6, 8, 6, 0, 9, 3, 7, 2, 6, 6, 0, 7, 9, 3, 6, 4, 2, 8, 2, 8, 7, 9, 2, 8, 5, 9, 2, 3, 8, 0, 9, 6, 9, 1, 6, 6, 4, 2, 6, 5, 5, 8, 8, 6, 1, 2, 6, 3, 6, 8, 6, 1, 7, 8, 5, 9, 3, 8, 5, 7, 1, 0, 7, 3, 3, 9, 2, 7, 2, 2, 1, 6, 0, 7, 2, 6, 4, 2, 6, 7, 5, 5, 2, 5, 5, 2, 3, 9, 7, 0, 2, 1, 9, 1, 7, 1, 1, 1, 1, 0, 4, 1, 2, 0, 4, 3, 5, 1, 2, 8, 4, 2, 6, 1, 0, 0, 5, 7, 1, 8, 7, 7, 6, 1, 2, 0, 3, 6, 5, 4, 3, 8, 4, 5, 1, 0, 6, 8, 6, 3, 8, 8, 6, 6, 0, 0, 7, 1, 7, 4, 9, 9, 5, 1, 4, 8, 4, 5, 6, 7, 3, 7, 7, 4, 0, 1, 5, 6, 5, 6, 4, 1, 8, 5, 8, 3, 9, 9, 1, 0, 5, 4, 6, 4, 8, 5, 6, 9, 9, 2, 6, 5, 7, 2, 0, 7, 9, 9, 6, 2, 7, 2, 3, 2, 7, 8, 6, 1, 1, 7, 3, 3, 6, 5, 7, 0, 6, 2, 6, 0, 4, 5, 6, 7, 0, 7, 4, 1, 2, 2, 0, 6, 6, 0, 6, 6, 1, 4, 9, 3, 8, 8, 9, 8, 7, 2, 5, 7, 9, 9, 9, 6, 2, 1, 7, 1, 3, 8, 3, 1, 8, 9, 4, 4, 6, 3, 8, 7, 1, 9, 1, 9, 6, 1, 1, 3, 5, 1, 4, 6, 4, 6, 5, 9, 8, 3, 9, 8, 3, 5, 8, 0, 9, 7, 1, 6, 0, 7, 0, 9, 4, 1, 0, 2, 5, 6, 5, 5, 0, 9, 0, 9, 1, 8, 9, 4, 6, 8, 7, 6, 6, 9, 1, 5, 1, 0, 2, 6, 3, 1, 2, 8, 5, 9, 9, 1, 7, 3, 3, 2, 6, 8, 3, 4, 2, 6, 5, 3, 5, 0, 8, 5, 2, 1, 2, 0, 7, 3, 4, 3, 3, 3, 3, 5, 9, 7, 8, 3, 0, 6, 7, 2, 6, 2, 0, 2, 3, 9, 3, 1, 2, 1, 8, 8, 5, 8, 8, 4, 9, 4, 5, 2, 5, 8, 5, 0, 2, 8, 6, 9, 9, 3, 0, 9, 1, 4, 8, 8, 2, 7, 0, 8, 3, 9, 6, 4, 3, 1, 7, 9, 1, 6, 6, 9, 8, 9, 8, 3, 9, 3, 9, 7, 2, 2, 4, 0, 7, 6, 9, 1, 1, 4, 8, 5, 2, 3, 8, 0, 4, 1, 9, 2, 4, 9, 2, 1, 4, 9, 9, 0, 3, 9, 9, 3, 7, 0, 2, 8, 3, 8, 0, 9, 7, 7, 8, 8, 7, 9, 3, 5, 9, 8, 5, 5, 9, 5, 7, 0, 6, 5, 7, 3, 3, 3, 9, 7, 0, 8, 2, 2, 7, 6, 7, 5, 6, 7, 8, 0, 5, 4, 3, 0, 7, 4, 3, 1, 4, 8, 4, 3, 4, 8, 6, 8, 3, 0, 0, 0, 6, 3, 6, 5, 1, 2, 5, 7, 7, 2, 5, 3, 1, 5, 5, 1, 1, 1, 0, 0, 4, 1, 5, 6, 7, 2, 5, 7, 5, 4, 5, 9, 2, 2, 9, 2, 0, 2, 9, 0, 2, 9, 7, 2, 9, 3, 6, 4, 2, 9, 5, 0, 8, 0, 7, 9, 4, 6, 0, 8, 5, 2, 1, 7, 1, 9, 5, 2, 6, 1, 2, 7, 3, 6, 5, 6, 8, 9, 2, 5, 9, 8, 2, 5, 4, 7, 7, 4, 3, 7, 0, 7, 9, 1, 4, 7, 7, 9, 4, 0, 9, 7, 5, 9, 6, 4, 7, 9, 2, 6, 7, 5, 2, 4, 9, 0, 6, 0, 1, 4, 5, 0, 9, 9, 3, 4, 7, 9, 1, 4, 2, 8, 5, 7, 3, 4, 7, 3, 8, 2, 4, 7, 5, 9, 9, 1, 5, 6, 2, 5, 9, 3, 1, 1, 0, 9, 1, 4, 3, 5, 6, 4, 7, 9, 5, 4, 2, 4, 2, 4, 7, 5, 4, 8, 1, 3, 7, 4, 7, 3, 1, 3, 3, 9, 5, 7, 4, 3, 0, 5, 1, 7, 5, 0, 6, 5, 6, 0, 8, 4, 8, 4, 8, 3, 4, 1, 7, 9, 5, 3, 1, 4, 1, 8, 3, 6, 9, 9, 4, 8, 9, 4, 7, 8, 5, 1, 8, 9, 4, 5, 9, 2, 2, 5, 4, 2, 2, 5, 7, 3, 3, 6, 8, 2, 5, 9, 5, 9, 7, 3, 4, 2, 8, 4, 4, 8, 8, 2, 7, 7, 0, 1, 5, 8, 9, 2, 7, 2, 8, 1, 2, 5, 4, 5, 2, 0, 2, 1, 4, 0, 9, 7, 0, 6, 1, 6, 9, 3, 3, 4, 7, 5, 4, 9, 1, 3, 3, 6, 4, 1, 9, 0, 8, 4, 4, 9, 4, 5, 8, 8, 7, 7, 1, 7, 7, 9, 9, 0, 7, 4, 9, 2, 0, 0, 2, 4, 6, 1, 5, 7, 7, 8, 8, 9, 0, 7, 8, 4, 4, 3, 5, 5, 8, 8, 3, 9, 0, 2, 1, 4, 0, 2, 3, 7, 7, 0, 2, 6, 9, 1, 9, 7, 6, 6, 1, 3, 2, 5, 5, 5, 6, 3, 2, 7, 1, 4, 1, 6, 2, 0, 4, 4, 5, 3, 5, 2, 9, 9, 7, 3, 3, 7, 6, 3, 9, 6, 2, 9, 7, 8, 5, 6, 6, 0, 1, 1, 2, 1, 9, 6, 4, 3, 0, 3, 4, 5, 5, 3, 1, 4, 7, 9, 0, 9, 2, 5, 9, 3, 8, 6, 0, 3, 7, 5, 5, 9, 7, 9, 2, 6, 3, 4, 4, 9, 2, 0, 8, 7, 4, 1, 0, 0, 6, 1, 0, 4, 4, 7, 6, 9, 2, 2, 7, 5, 7, 9, 2, 2, 4, 1, 1, 9, 2, 9, 4, 1, 2, 0, 3, 2, 4, 4, 5, 3, 3, 3, 0, 3, 4, 4, 1, 0, 7, 6, 5, 4, 4, 3, 5, 5, 5, 7, 4, 1, 6, 7, 0, 7, 3, 4, 3, 4, 9, 1, 2, 6, 8, 7, 8, 7, 9, 3, 4, 7, 9, 3, 1, 8, 2, 3, 7, 9, 5, 4, 4, 1, 8, 1, 3, 2, 5, 2, 0, 1, 5, 3, 8, 1, 1, 3, 3, 4, 9, 0, 5, 0, 8, 4, 5, 1, 4, 0, 9, 7, 5, 5, 9, 5, 8, 7, 6, 7, 3, 3, 9, 5, 0, 4, 4, 3, 5, 1, 9, 2, 2, 8, 9, 0, 4, 2, 0, 5, 3, 1, 1, 7, 1, 4, 0, 0, 2, 2, 7, 2, 6, 1, 3, 6, 2, 4, 7, 9, 8, 0, 8, 9, 9, 4, 9, 9, 5, 6, 5, 5, 5, 9, 3, 8, 6, 1, 5, 2, 6, 0, 5, 9, 3, 6, 7, 8, 9, 4, 6, 2, 9, 8, 1, 4, 2, 7, 0, 6, 5, 8, 6, 9, 7, 1, 5, 4, 6, 8, 5, 4, 6, 4, 4, 5, 2, 4, 9, 7, 5, 8, 2, 7, 5, 1, 6, 1, 1, 7, 3, 5, 4, 8, 7, 4, 3, 6, 0, 2, 4, 3, 1, 9, 7, 5, 7, 3, 0, 0, 0, 4, 4, 2, 0, 3, 3, 0, 9, 8, 6, 0, 9, 0, 3, 1, 5, 0, 5, 4, 1, 9, 8, 6, 7, 7, 4, 6, 4, 5, 9, 8, 5, 0, 4, 5, 5, 6, 1, 4, 3, 4, 4, 2, 9, 5, 6, 6, 3, 2, 2, 6, 4, 2, 7, 2, 9, 2, 3, 6, 0, 1, 4, 8, 4, 2, 4, 4, 5, 8, 0, 2, 2, 4, 4, 0, 6, 6, 7, 1, 8, 6, 1, 1, 7, 1, 4, 5, 8, 0, 2, 4, 4, 5, 2, 0, 9, 9, 3, 6, 9, 5, 7, 5, 4, 8, 0, 4, 4, 8, 0, 1, 7, 3, 8, 2, 8, 3, 1, 2, 4, 9, 2, 8, 9, 0, 0, 6, 2, 3, 2, 4, 3, 2, 8, 0, 6, 9, 7, 9, 6, 7, 9, 9, 0, 4, 7, 7, 9, 1, 6, 2, 4, 2, 9, 1, 7, 1, 3, 3, 2, 9, 9, 5, 9, 2, 9, 2, 6, 4, 2, 5, 2, 7, 1, 6, 9, 4, 3, 6, 1, 3, 0, 6, 6, 8, 4, 4, 8, 9, 9, 8, 3, 3, 8, 9, 0, 4, 1, 6, 1, 3, 4, 4, 4, 6, 5, 7, 7, 1, 7, 0, 0, 8, 3, 1, 8, 4, 0, 0, 4, 6, 4, 1, 6, 3, 5, 9, 8, 1, 7, 3, 4, 6, 8, 3, 4, 5, 3, 5, 6, 9, 8, 8, 5, 7, 3, 8, 9, 2, 5, 6, 5, 6, 0, 7, 3, 2, 2, 0, 6, 6, 5, 5, 5, 8, 9, 9, 9, 2, 7, 3, 8, 1, 5, 3, 0, 2, 2, 0, 9, 6, 1, 0, 5, 7, 5, 3, 8, 1, 9, 4, 9, 5, 2, 3, 4, 0, 4, 7, 8, 8, 2, 1, 1, 5, 9, 3, 3, 9, 2, 2, 6, 9, 6, 3, 2, 2, 1, 2, 8, 7, 0, 2, 0, 9, 3, 4, 9, 7, 4, 0, 3, 0, 3, 4, 7, 2, 6, 3, 6, 0, 1, 5, 5, 3, 1, 7, 7, 5, 0, 7, 3, 0, 7, 7, 8, 9, 9, 3, 4, 9, 4, 4, 9, 1, 6, 1, 2, 3, 5, 9, 9, 2, 4, 1, 6, 5, 5, 5, 9, 8, 1, 9, 9, 4, 0, 1, 9, 2, 4, 9, 5, 8, 9, 7, 2, 7, 2, 3, 7, 5, 1, 6, 3, 0, 5, 6, 5, 7, 9, 5, 8, 7, 8, 8, 6, 5, 2, 8, 4, 4, 7, 0, 8, 4, 4, 8, 0, 6, 8, 8, 5, 4, 8, 0, 2, 8, 2, 8, 0, 1, 5, 8, 1, 6, 0, 2, 4, 3, 2, 2, 5, 3, 6, 4, 7, 2, 5, 8, 8, 4, 9, 5, 4, 5, 5, 7, 2, 8, 4, 4, 9, 9, 0, 8, 5, 3, 1, 3, 9, 0, 3, 7, 0, 5, 7, 4, 7, 7, 9, 5, 8, 3, 4, 5, 4, 8, 5, 6, 6, 6, 7, 7, 0, 8, 6, 0, 4, 7, 6, 3, 4, 0, 5, 1, 5, 0, 5, 4, 5, 2, 9, 5, 7, 7, 1, 0, 8, 5, 9, 8, 9, 8, 0, 0, 3, 4, 9, 2, 3, 5, 7, 1, 6, 9, 2, 5, 9, 8, 5, 8, 9, 2, 0, 8, 9, 2, 7, 0, 7, 8, 1, 4, 5, 6, 3, 1, 9, 6, 9, 7, 5, 0, 1, 4, 0, 9, 1, 8, 5, 1, 0, 9, 6, 8, 4, 0, 7, 8, 0, 1, 9, 3, 6, 5, 7, 1, 0, 2, 1, 3, 3, 7, 2, 6, 0, 3, 0, 0, 8, 1, 4, 4, 1, 6, 2, 7, 1, 9, 5, 7, 4, 3, 2, 0, 9, 1, 3, 6, 2, 3, 1, 6, 6, 5, 0, 1, 9, 8, 3, 0, 5, 5, 9, 4, 7, 4, 3, 4, 1, 3, 5, 0, 1, 7, 3, 4, 8, 1, 7, 6, 1, 5, 3, 0, 5, 5, 2, 1, 4, 1, 5, 4, 7, 7, 8, 7, 1, 6, 2, 2, 3, 1, 7, 2, 0, 2, 8, 2, 7, 7, 9, 9, 3, 1, 9, 2, 8, 0, 1, 8, 9, 5, 3, 7, 0, 8, 3, 6, 1, 0, 6, 0, 9, 3, 6, 5, 7, 4, 5, 1, 3, 7, 4, 7, 8, 8, 3, 7, 3, 2, 9, 4, 2, 3, 1, 2, 4, 9, 4, 7, 6, 4, 6, 5, 2, 4, 1, 2, 6, 0, 0, 8, 6, 7, 1, 7, 0, 4, 1, 6, 9, 3, 4, 1, 1, 6, 7, 1, 7, 7, 9, 4, 7, 7, 6, 8, 8, 7, 9, 0, 3, 1, 7, 0, 4, 3, 9, 0, 5, 5, 4, 1, 5, 6, 0, 2, 2, 4, 2, 4, 9, 8, 0, 4, 9, 7, 9, 6, 3, 2, 8, 7, 5, 3, 7, 1, 1, 4, 5, 1, 7, 4, 5, 6, 3, 6, 4, 7, 7, 6, 9, 4, 9, 7, 5, 7, 1, 8, 0, 1, 8, 0, 4, 0, 0, 1, 6, 1, 6, 4, 8, 1, 2, 5, 5, 8, 9, 5, 8, 1, 4, 4, 2, 1, 7, 5, 8, 7, 1, 1, 5, 0, 2, 0, 6, 9, 0, 5, 2, 3, 9, 8, 0, 3, 4, 1, 4, 3, 4, 9, 4, 0, 5, 6, 8, 8, 6, 1, 2, 7, 9, 3, 3, 8, 2, 4, 1, 5, 9, 4, 5, 5, 5, 5, 2, 1, 2, 4, 1, 2, 4, 5, 9, 1, 9, 0, 6, 3, 2, 9, 9, 0, 3, 1, 0, 7, 9, 7, 6, 3, 7, 6, 9, 4, 3, 6, 4, 9, 2, 6, 9, 0, 1, 6, 1, 8, 7, 5, 4, 4, 5, 9, 9, 7, 1, 1, 6, 8, 2, 7, 2, 0, 0, 0, 2, 5, 9, 9, 4, 0, 5, 2, 5, 8, 6, 4, 9, 6, 1, 8, 3, 1, 6, 2, 3, 8, 5, 2, 5, 0, 7, 5, 8, 6, 3, 1, 8, 8, 3, 5, 5, 5, 1, 5, 2, 0, 6, 7, 3, 9, 0, 8, 9, 2, 7, 6, 7, 0, 3, 2, 9, 5, 8, 6, 7, 4, 7, 6, 0, 7, 0, 4, 5, 3, 7, 1, 5, 1, 3, 4, 2, 7, 6, 6, 9, 5, 4, 7, 0, 3, 4, 6, 8, 6, 8, 6, 9, 7, 2, 7, 8, 4, 6, 7, 6, 6, 5, 6, 8, 5, 4, 5, 9, 0, 3, 9, 0, 5, 2, 2, 5, 7, 2, 4, 3, 7, 0, 1, 9, 7, 3, 1, 5, 1, 6, 9, 1, 5, 8, 1, 1, 6, 1, 6, 9, 9, 2, 8, 9, 0, 9, 5, 2, 1, 7, 3, 4, 3, 2, 0, 1, 9, 4, 8, 3, 2, 6, 7, 9, 2, 7, 0, 9, 9, 7, 3, 5, 4, 4, 7, 7, 1, 9, 3, 4, 0, 1, 8, 3, 6, 7, 4, 9, 3, 2, 2, 5, 4, 3, 1, 8, 4, 9, 5, 4, 9, 1, 6, 6, 3, 3, 6, 2, 5, 4, 4, 1, 5, 1, 2, 0, 4, 6, 1, 1, 9, 0, 1, 0, 2, 5, 6, 3, 5, 5, 1, 9, 0, 7, 7, 7, 1, 2, 8, 1, 6, 2, 2, 4, 2, 4, 0, 6, 5, 0, 4, 1, 9, 3, 4, 5, 5, 5, 2, 6, 2, 0, 4, 2, 6, 3, 7, 1, 6, 2, 9, 0, 4, 5, 6, 5, 2, 0, 8, 8, 9, 1, 2, 8, 1, 2, 6, 5, 6, 5, 1, 7, 4, 3, 3, 0, 3, 9, 9, 0, 3, 2, 8, 8, 2, 9, 7, 4, 3, 9, 9, 7, 0, 3, 5, 7, 5, 7, 6, 5, 0, 3, 5, 7, 8, 4, 5, 3, 6, 0, 2, 7, 5, 6, 3, 4, 5, 5, 0, 8, 4, 6, 5, 9, 2, 6, 0, 4, 4, 9, 5, 4, 5, 5, 5, 7, 6, 1, 8, 1, 7, 0, 4, 0, 8, 4, 2, 7, 3, 3, 9, 8, 6, 5, 9, 5, 1, 9, 8, 9, 1, 4, 3, 3, 2, 4, 1, 0, 3, 4, 0, 4, 4, 4, 1, 4, 8, 7, 2, 4, 1, 1, 6, 8, 3, 4, 1, 3, 7, 3, 2, 7, 6, 0, 1, 3, 6, 1, 1, 4, 3, 5, 0, 2, 0, 8, 4, 5, 7, 0, 2, 3, 7, 4, 3, 3, 1, 8, 8, 5, 1, 5, 9, 1, 1, 2, 9, 5, 5, 7, 5, 8, 2, 5, 1, 6, 6, 1, 2, 9, 3, 0, 0, 2, 7, 6, 5, 9, 2, 1, 8, 4, 1, 5, 2, 9, 3, 4, 1, 0, 7, 4, 9, 0, 9, 5, 2, 3, 4, 2, 7, 7, 1, 0, 8, 9, 5, 9, 5, 4, 4, 7, 1, 9, 9, 5, 1, 7, 0, 4, 7, 9, 7, 0, 8, 0, 7, 0, 8, 7, 0, 6, 1, 2, 8, 8, 0, 9, 9, 2, 2, 2, 7, 1, 1, 4, 8, 1, 3, 6, 2, 7, 5, 5, 2, 9, 8, 7, 5, 3, 8, 8, 6, 1, 1, 9, 9, 5, 4, 1, 3, 7, 0, 5, 9, 7, 2, 4, 0, 5, 9, 1, 5, 7, 0, 8, 6, 1, 5, 3, 3, 8, 6, 7, 9, 1, 6, 3, 6, 6, 2, 5, 3, 5, 6, 5, 9, 3, 9, 0, 3, 2, 5, 1, 4, 6, 3, 3, 3, 9, 8, 3, 7, 7, 7, 1, 5, 3, 5, 1, 4, 9, 7, 8, 3, 1, 8, 5, 5, 2, 4, 7, 7, 5, 3, 0, 5, 4, 2, 9, 1, 9, 4, 7, 2, 1, 3, 8, 4, 0, 9, 8, 8, 0, 2, 9, 0, 5, 7, 6, 7, 4, 1, 8, 1, 4, 4, 4, 9, 9, 3, 8, 2, 5, 8, 2, 6, 7, 3, 4, 3, 9, 4, 2, 1, 6, 2, 9, 0, 6, 9, 6, 3, 6, 4, 0, 4, 4, 4, 6, 0, 9, 6, 6, 6, 3, 5, 4, 9, 3, 9, 9, 9, 1, 0, 6, 1, 1, 9, 6, 7, 4, 2, 5, 4, 4, 9, 4, 5, 1, 8, 2, 6, 7, 4, 3, 0, 6, 9, 1, 5, 5, 1, 8, 9, 1, 2, 0, 4, 0, 3, 7, 2, 9, 7, 3, 0, 4, 2, 4, 6, 3, 7, 9, 9, 9, 8, 1, 4, 0, 0, 8, 1, 3, 7, 9, 2, 2, 9, 4, 4, 7, 9, 3, 1, 0, 0, 6, 4, 9, 6, 7, 7, 9, 2, 8, 3, 3, 4, 1, 5, 1, 7, 9, 7, 1, 9, 7, 1, 3, 6, 3, 6, 6, 4, 0, 2, 9, 9, 6, 9, 0, 1, 8, 9, 2, 1, 1, 0, 6, 9, 3, 7, 4, 9, 8, 4, 6, 5, 2, 0, 7, 0, 3, 9, 2, 4, 5, 1, 6, 4, 3, 5, 0, 9, 6, 3, 1, 8, 3, 1, 4, 5, 4, 5, 2, 1, 5, 7, 3, 0, 1, 5, 1, 4, 6, 0, 7, 6, 1, 6, 1, 0, 8, 1, 0, 1, 4, 6, 0, 6, 0, 6, 2, 2, 1, 2, 9, 5, 2, 5, 7, 9, 0, 1, 1, 6, 1, 7, 3, 1, 1, 8, 8, 1, 8, 7, 5, 3, 7, 3, 1, 7, 6, 8, 4, 1, 7, 6, 8, 9, 9, 0, 3, 0, 6, 8, 0, 5, 0, 8, 2, 1, 1, 0, 9, 7, 2, 9, 4, 2, 7, 9, 6, 5, 7, 6, 4, 8, 2, 0, 7, 4, 0, 4, 7, 7, 8, 6, 5, 2, 6, 4, 4, 0, 2, 0, 6, 5, 6, 9, 6, 5, 7, 6, 2, 5, 6, 5, 5, 1, 3, 4, 3, 5, 8, 0, 9, 5, 2, 4, 4, 7, 8, 6, 1, 1, 5, 0, 0, 8, 2, 7, 2, 9, 4, 4, 8, 5, 3, 2, 5, 6, 6, 8, 1, 1, 9, 5, 2, 6, 9, 6, 8, 9, 3, 9, 7, 3, 7, 0, 4, 8, 1, 2, 3, 5, 3, 5, 7, 5, 8, 6, 6, 9, 5, 3, 7, 9, 5, 3, 6, 4, 3, 0, 1, 2, 4, 9, 1, 5, 8, 8, 8, 3, 8, 0, 7, 5, 2, 3, 1, 7, 0, 3, 4, 8, 5, 0, 8, 1, 9, 4, 0, 3, 7, 8, 2, 3, 2, 9, 0, 6, 9, 5, 5, 8, 2, 1, 0, 9, 0, 6, 2, 0, 9, 3, 5, 1, 3, 8, 4, 7, 1, 4, 9, 8, 2, 2, 7, 7, 7, 1, 8, 6, 4, 0, 2, 0, 1, 0, 1, 1, 6, 2, 5, 6, 9, 1, 8, 5, 1, 8, 7, 5, 8, 6, 3, 5, 2, 8, 9, 5, 3, 6, 3, 2, 1, 6, 6, 9, 5, 1, 5, 0, 5, 9, 2, 4, 3, 8, 9, 7, 0, 7, 1, 9, 1, 7, 0, 2, 2, 0, 4, 8, 0, 8, 8, 9, 5, 9, 4, 0, 3, 5, 9, 4, 2, 2, 4, 7, 5, 1, 8, 7, 7, 0, 7, 7, 0, 5, 2, 7, 6, 9, 4, 5, 5, 4, 1, 0, 4, 2, 2, 3, 1, 6, 0, 9, 3, 7, 2, 7, 8, 7, 5, 2, 9, 7, 0, 3, 0, 7, 4, 2, 0, 5, 8, 3, 4, 7, 0, 0, 7, 9, 7, 4, 7, 9, 2, 8, 1, 8, 6, 2, 4, 6, 2, 2, 5, 3, 3, 7, 6, 7, 8, 8, 6, 3, 1, 8, 8, 6, 9, 4, 1, 9, 3, 7, 1, 0, 3, 2, 2, 8, 2, 1, 1, 5, 5, 2, 2, 1, 0, 7, 7, 6, 9, 8, 4, 0, 8, 8, 7, 2, 0, 2, 6, 0, 7, 8, 0, 6, 4, 4, 9, 7, 7, 2, 4, 1, 7, 8, 8, 0, 6, 9, 6, 6, 9, 0, 5, 4, 5, 5, 0, 5, 1, 8, 1, 8, 1, 8, 6, 3, 5, 4, 4, 0, 8, 5, 5, 9, 1, 7, 2, 3, 8, 8, 0, 9, 5, 8, 4, 8, 7, 6, 1, 1, 3, 1, 5, 5, 6, 6, 4, 7, 1, 6, 0, 5, 9, 1, 1, 1, 1, 3, 8, 2, 1, 2, 6, 5, 5, 5, 0, 9, 4, 1, 7, 7, 9, 8, 4, 1, 1, 4, 6, 5, 6, 3, 4, 5, 0, 6, 3, 7, 4, 5, 9, 0, 2, 6, 6, 3, 4, 8, 9, 4, 2, 0, 3, 0, 5, 5, 7, 0, 3, 4, 8, 0, 3, 3, 9, 8, 4, 2, 3, 7, 8, 1, 1, 1, 8, 6, 0, 0, 0, 8, 5, 0, 2, 7, 3, 0, 6, 5, 4, 7, 0, 1, 8, 5, 2, 6, 7, 7, 1, 2, 8, 7, 1, 2, 2, 1, 9, 7, 1, 2, 6, 7, 8, 7, 0, 9, 8, 2, 5, 4, 3, 9, 2, 9, 0, 8, 8, 8, 6, 1, 8, 8, 6, 3, 7, 9, 4, 0, 0, 2, 2, 0, 5, 5, 4, 2, 8, 3, 8, 1, 1, 8, 5, 9, 7, 6, 1, 3, 5, 7, 1, 8, 6, 1, 1, 8, 5, 5, 6, 9, 6, 1, 7, 6, 0, 9, 3, 0, 8, 3, 4, 8, 9, 1, 9, 2, 2, 9, 8, 9, 7, 6, 2, 5, 3, 7, 1, 0, 6, 0, 2, 7, 2, 1, 2, 4, 1, 5, 6, 6, 3, 1, 3, 5, 5, 8, 1, 4, 2, 3, 2, 1, 2, 8, 9, 5, 0, 7, 6, 7, 6, 8, 8, 7, 4, 9, 1, 2, 6, 5, 9, 4, 2, 5, 1, 0, 1, 1, 9, 0, 7, 5, 3, 9, 6, 3, 3, 3, 4, 1, 5, 9, 7, 7, 2, 9, 0, 2, 8, 5, 9, 6, 7, 8, 4, 0, 4, 9, 2, 7, 1, 0, 5, 1, 8, 1, 6, 5, 9, 7, 0, 4, 5, 2, 3, 5, 5, 6, 0, 2, 1, 1, 5, 8, 5, 2, 4, 2, 2, 5, 3, 0, 3, 0, 2, 9, 1, 1, 7, 3, 8, 5, 4, 5, 9, 6, 5, 6, 4, 4, 5, 5, 1, 1, 5, 6, 2, 5, 0, 8, 6, 2, 2, 6, 8, 8, 6, 7, 4, 0, 4, 1, 5, 4, 2, 0, 3, 0, 9, 5, 7, 8, 1, 1, 7, 8, 8, 3, 0, 0, 4, 7, 9, 6, 0, 9, 9, 9, 2, 1, 1, 7, 4, 3, 7, 5, 5, 7, 9, 3, 6, 9, 7, 5, 7, 1, 7, 0, 5, 6, 7, 3, 0, 4, 5, 1, 1, 8, 8, 6, 3, 2, 9, 7, 8, 1, 3, 9, 8, 6, 9, 2, 4, 4, 1, 4, 2, 4, 5, 2, 0, 1, 5, 1, 2, 1, 2, 0, 2, 4, 4, 1, 1, 2, 9, 5, 6, 4, 2, 8, 7, 2, 7, 4, 0, 2, 6, 5, 8, 8, 9, 7, 7, 3, 0, 4, 1, 3, 0, 0, 8, 7, 5, 9, 8, 7, 5, 0, 1, 4, 5, 6, 9, 2, 2, 3, 4, 5, 4, 6, 1, 8, 0, 7, 0, 7, 8, 4, 5, 6, 8, 0, 3, 4, 4, 5, 9, 5, 3, 2, 1, 1, 2, 1, 2, 3, 7, 8, 0, 8, 6, 0, 2, 4, 9, 8, 8, 7, 0, 3, 2, 6, 8, 6, 5, 3, 3, 7, 4, 5, 9, 1, 4, 3, 3, 7, 5, 6, 9, 2, 4, 4, 0, 5, 8, 4, 5, 9, 3, 1, 9, 9, 2, 8, 6, 7, 9, 5, 2, 5, 8, 1, 5, 0, 2, 0, 9, 8, 5, 7, 0, 4, 7, 3, 5, 8, 3, 6, 2, 9, 5, 6, 5, 2, 7, 8, 1, 0, 7, 2, 2, 9, 2, 8, 1, 0, 7, 7, 8, 9, 4, 4, 0, 9, 7, 1, 7, 9, 7, 7, 8, 3, 4, 0, 6, 0, 0, 7, 7, 3, 8, 7, 4, 4, 2, 8, 1, 0, 5, 4, 8, 8, 1, 1, 7, 8, 4, 4, 2, 3, 2, 2, 7, 5, 1, 1, 3, 8, 3, 9, 1, 4, 9, 2, 0, 4, 6, 2, 1, 8, 5, 4, 2, 3, 5, 2, 3, 2, 6, 5, 8, 7, 6, 1, 0, 8, 1, 3, 6, 1, 2, 6, 1, 6, 0, 7, 4, 5, 4, 5, 9, 8, 2, 5, 4, 8, 8, 8, 2, 6, 2, 8, 8, 1, 0, 4, 5, 0, 0, 4, 5, 2, 9, 6, 4, 4, 8, 1, 2, 2, 8, 1, 0, 6, 0, 7, 0, 5, 3, 2, 5, 8, 1, 9, 4, 7, 7, 8, 4, 7, 1, 5, 9, 7, 8, 9, 4, 1, 4, 7, 6, 0, 9, 9, 5, 7, 6, 1, 3, 2, 3, 3, 0, 6, 8, 9, 5, 9, 7, 1, 6, 2, 4, 3, 3, 6, 4, 5, 0, 7, 4, 6, 0, 2, 0, 9, 7, 4, 8, 2, 6, 0, 0, 3, 8, 6, 0, 6, 3, 2, 1, 4, 9, 4, 7, 5, 9, 9, 6, 5, 9, 3, 6, 6, 4, 2, 5, 4, 2, 2, 8, 3, 0, 0, 9, 4, 8, 8, 1, 5, 0, 6, 0, 1, 8, 9, 9, 1, 7, 0, 3, 2, 4, 9, 5, 9, 7, 8, 1, 5, 2, 8, 2, 6, 0, 3, 2, 7, 7, 2, 1, 4, 9, 1, 4, 9, 7, 2, 4, 6, 3, 5, 6, 8, 3, 2, 5, 2, 8, 9, 1, 2, 0, 1, 9, 5, 0, 2, 5, 9, 5, 3, 2, 6, 4, 3, 0, 0, 5, 1, 5, 1, 4, 1, 9, 5, 4, 7, 3, 9, 5, 6, 4, 2, 6, 9, 9, 0, 2, 5, 9, 4, 5, 9, 3, 1, 6, 2, 6, 5, 0, 0, 8, 2, 1, 6, 0, 1, 2, 1, 3, 3, 8, 3, 5, 9, 6, 7, 7, 8, 5, 9, 2, 5, 2, 1, 0, 8, 9, 3, 9, 3, 9, 9, 3, 2, 3, 9, 7, 1, 1, 3, 9, 2, 2, 8, 3, 4, 2, 1, 5, 4, 2, 9, 7, 6, 4, 6, 4, 4, 7, 1, 7, 3, 8, 8, 3, 1, 0, 6, 6, 1, 4, 6, 3, 2, 5, 0, 1, 4, 9, 7, 7, 4, 0, 6, 0, 0, 5, 4, 6, 2, 8, 2, 0, 3, 3, 1, 4, 6, 9, 8, 7, 8, 5, 3, 2, 9, 1, 7, 9, 8, 2, 1, 4, 2, 8, 8, 9, 3, 8, 6, 1, 3, 5, 3, 4, 4, 5, 8, 9, 2, 4, 7, 6, 2, 1, 3, 4, 8, 7, 4, 4, 3, 2, 0, 5, 7, 1, 4, 2, 2, 0, 3, 7, 9, 9, 4, 9, 1, 9, 0, 2, 6, 4, 6, 0, 6, 4, 1, 0, 0, 4, 8, 4, 6, 7, 6, 4, 6, 1, 0, 7, 8, 5, 7, 0, 0, 5, 9, 3, 9, 7, 9, 8, 6, 7, 2, 8, 4, 1, 6, 1, 9, 3, 8, 1, 4, 1, 5, 6, 9, 8, 7, 8, 4, 0, 3, 8, 4, 0, 3, 5, 9, 4, 0, 2, 4, 0, 7, 9, 2, 3, 6, 0, 5, 0, 2, 7, 6, 3, 7, 9, 3, 7, 2, 5, 8, 7, 1, 7, 5, 3, 7, 8, 9, 1, 0, 8, 2, 4, 0, 2, 4, 2, 9, 9, 9, 1, 9, 3, 9, 0, 3, 5, 8, 1, 2, 5, 3, 0, 7, 6, 2, 4, 5, 0, 4, 5, 8, 4, 7, 2, 7, 8, 5, 9, 2, 2, 6, 5, 5, 2, 1, 5, 0, 7, 3, 8, 8, 4, 2, 5, 9, 2, 2, 5, 4, 4, 5, 2, 5, 3, 8, 9, 9, 8, 8, 6, 1, 7, 2, 4, 8, 9, 3, 1, 6, 3, 7, 0, 4, 8, 0, 0, 4, 9, 2, 5, 4, 7, 3, 9, 9, 8, 0, 6, 1, 1, 1, 3, 8, 0, 9, 1, 6, 5, 1, 5, 6, 1, 9, 9, 5, 7, 6, 0, 5, 8, 1, 7, 4, 8, 1, 0, 6, 5, 2, 8, 5, 6, 3, 6, 3, 5, 1, 6, 6, 3, 6, 4, 0, 5, 3, 1, 3, 5, 3, 1, 1, 4, 7, 5, 7, 8, 1, 6, 4, 3, 9, 4, 0, 0, 1, 4, 8, 2, 8, 2, 7, 2, 9, 6, 9, 2, 3, 3, 5, 6, 8, 8, 8, 5, 9, 8, 8, 8, 5, 2, 7, 1, 3, 1, 8, 6, 3, 3, 5, 0, 8, 1, 3, 9, 7, 0, 1, 1, 9, 4, 7, 0, 0, 7, 9, 7, 5, 8, 8, 5, 5, 2, 7, 5, 5, 4, 6, 2, 2, 2, 6, 9, 5, 6, 7, 2, 6, 4, 5, 1, 3, 5, 8, 1, 0, 7, 5, 0, 8, 1, 9, 1, 3, 5, 4, 6, 8, 8, 3, 3, 7, 7, 5, 7, 8, 8, 1, 2, 6, 4, 2, 5, 1, 2, 7, 4, 8, 6, 2, 4, 1, 9, 0, 2, 0, 9, 1, 2, 4, 9, 5, 2, 2, 3, 9, 1, 9, 6, 1, 6, 5, 5, 7, 4, 4, 2, 2, 5, 4, 1, 6, 8, 8, 6, 7, 8, 2, 1, 7, 7, 1, 1, 9, 6, 7, 8, 8, 1, 5, 7, 8, 2, 6, 9, 7, 3, 1, 0, 8, 7, 6, 2, 3, 1, 3, 5, 1, 4, 7, 1, 1, 6, 8, 5, 6, 7, 0, 7, 7, 2, 8, 1, 7, 4, 3, 8, 7, 0, 8, 2, 8, 6, 2, 2, 5, 2, 9, 8, 3, 7, 6, 3, 6, 9, 8, 9, 9, 7, 8, 0, 8, 4, 2, 1, 6, 0, 6, 9, 3, 2, 3, 9, 3, 6, 3, 1, 6, 5, 2, 2, 0, 6, 3, 3, 6, 8, 2, 2, 2, 6, 9, 8, 8, 8, 8, 6, 2, 4, 6, 4, 7, 4, 4, 0, 7, 3, 2, 5, 3, 9, 5, 8, 7, 1, 4, 6, 6, 3, 0, 6, 7, 9, 2, 6, 8, 6, 9, 0, 3, 7, 8, 3, 4, 6, 6, 2, 7, 2, 4, 0, 7, 1, 5, 2, 4, 7, 2, 3, 8, 0, 7, 9, 4, 5, 2, 6, 0, 8, 9, 7, 2, 2, 5, 2, 2, 8, 8, 3, 6, 2, 1, 3, 7, 4, 0, 4, 6, 9, 1, 8, 1, 7, 4, 4, 5, 9, 7, 2, 7, 0, 1, 1, 9, 5, 8, 3, 7, 7, 8, 2, 2, 9, 1, 3, 4, 8, 9, 1, 9, 8, 3, 5, 3, 9, 2, 4, 5, 4, 2, 5, 1, 8, 7, 5, 0, 5, 6, 5, 3, 5, 2, 8, 6, 8, 9, 3, 5, 7, 6, 9, 2, 7, 5, 6, 8, 6, 5, 4, 6, 8, 5, 1, 3, 4, 0, 1, 4, 7, 8, 0, 5, 0, 8, 7, 8, 7, 6, 1, 0, 6, 3, 3, 1, 9, 3, 1, 8, 4, 3, 5, 4, 9, 2, 4, 6, 8, 9, 1, 5, 2, 6, 2, 7, 8, 3, 4, 8, 6, 9, 5, 3, 3, 1, 0, 2, 9, 9, 6, 8, 5, 4, 9, 8, 1, 5, 5, 0, 3, 5, 6, 8, 7, 0, 1, 6, 1, 0, 7, 6, 8, 9, 8, 9, 1, 4, 5, 4, 1, 8, 7, 6, 5, 0, 8, 3, 2, 0, 4, 8, 6, 6, 4, 2, 6, 9, 2, 5, 4, 9, 2, 8, 0, 1, 8, 5, 8, 3, 4, 0, 4, 4, 1, 2, 2, 6, 2, 5, 4, 5, 1, 3, 9, 8, 0, 5, 8, 7, 7, 1, 2, 9, 7, 1, 8, 0, 6, 0, 5, 8, 3, 8, 4, 6, 4, 7, 1, 7, 7, 3, 2, 9, 2, 9, 8, 7, 1, 6, 1, 4, 4, 6, 6, 3, 4, 0, 0, 9, 2, 9, 1, 8, 8, 7, 1, 2, 4, 9, 4, 2, 9, 9, 2, 9, 4, 1, 7, 8, 7, 6, 5, 5, 1, 6, 2, 1, 8, 3, 7, 9, 5, 6, 5, 6, 8, 4, 3, 6, 4, 7, 5, 2, 2, 4, 9, 6, 7, 6, 2, 8, 9, 6, 2, 8, 9, 8, 5, 7, 0, 6, 2, 7, 2, 9, 3, 6, 9, 7, 9, 1, 1, 8, 5, 6, 6, 5, 0, 9, 7, 4, 8, 6, 4, 3, 9, 8, 7, 4, 4, 2, 7, 6, 8, 1, 0, 5, 6, 6, 6, 4, 3, 9, 0, 5, 0, 4, 5, 3, 9, 9, 7, 8, 7, 2, 5, 7, 5, 9, 8, 0, 9, 2, 5, 2, 9, 3, 2, 0, 6, 1, 6, 5, 4, 6, 6, 0, 2, 4, 1, 3, 5, 4, 8, 0, 9, 6, 3, 3, 9, 3, 9, 3, 3, 7, 8, 4, 8, 9, 8, 9, 7, 5, 3, 7, 1, 2, 0, 6, 8, 8, 6, 4, 6, 3, 1, 3, 9, 8, 4, 3, 2, 6, 6, 7, 1, 8, 0, 6, 5, 8, 1, 7, 4, 4, 0, 9, 1, 7, 1, 5, 0, 9, 6, 6, 7, 8, 7, 8, 1, 0, 9, 6, 5, 3, 3, 0, 5, 3, 2, 7, 8, 7, 9, 6, 1, 9, 0, 1, 9, 7, 0, 7, 4, 5, 5, 8, 2, 4, 2, 7, 5, 0, 1, 7, 4, 3, 4, 9, 0, 6, 1, 5, 2, 8, 5, 0, 4, 4, 8, 7, 3, 0, 8, 4, 0, 4, 6, 2, 4, 2, 5, 7, 0, 8, 6, 2, 8, 8, 9, 9, 9, 1, 3, 5, 2, 3, 2, 5, 2, 4, 8, 3, 7, 3, 5, 0, 2, 0, 2, 6, 7, 0, 6, 9, 9, 4, 2, 7, 4, 0, 2, 9, 7, 6, 3, 0, 8, 0, 5, 6, 0, 6, 1, 9, 3, 8, 1, 4, 8, 0, 0, 8, 5, 4, 4, 9, 7, 3, 1, 4, 2, 9, 2, 9, 6, 2, 0, 3, 0, 9, 8, 9, 3, 8, 9, 7, 4, 5, 4, 4, 1, 5, 9, 5, 6, 6, 2, 3, 9, 4, 0, 8, 9, 3, 1, 2, 5, 8, 3, 0, 2, 3, 3, 0, 3, 9, 1, 7, 0, 7, 2, 7, 2, 7, 3, 9, 7, 9, 1, 3, 1, 7, 9, 9, 8, 2, 2, 1, 4, 6, 8, 3, 0, 6, 9, 9, 7, 8, 4, 3, 2, 8, 8, 5, 7, 4, 7, 0, 1, 0, 6, 9, 6, 0, 5, 5, 6, 6, 5, 8, 4, 1, 8, 0, 8, 0, 8, 7, 9, 1, 7, 6, 8, 4, 3, 5, 0, 0, 3, 0, 9, 3, 9, 4, 4, 1, 5, 6, 4, 3, 5, 0, 0, 8, 1, 7, 6, 5, 7, 6, 7, 9, 8, 4, 9, 8, 0, 6, 9, 3, 0, 1, 4, 9, 5, 0, 2, 1, 8, 4, 3, 1, 0, 3, 8, 9, 0, 4, 7, 4, 8, 5, 9, 2, 8, 4, 5, 2, 8, 4, 8, 7, 0, 4, 4, 7, 7, 4, 2, 0, 2, 9, 3, 1, 1, 7, 3, 7, 2, 4, 9, 4, 4, 3, 1, 8, 7, 2, 0, 2, 1, 3, 8, 6, 4, 0, 7, 0, 1, 3, 2, 8, 8, 5, 3, 0, 8, 2, 7, 2, 8, 2, 5, 6, 7, 5, 9, 6, 6, 6, 0, 5, 7, 6, 6, 0, 7, 1, 8, 3, 8, 5, 2, 7, 9, 8, 8, 3, 6, 8, 2, 6, 0, 5, 0, 1, 1, 4, 0, 8, 3, 3, 4, 7, 2, 0, 2, 0, 3, 9, 6, 7, 7, 4, 6, 5, 2, 4, 3, 6, 4, 3, 5, 8, 7, 6, 6, 0, 7, 3, 0, 1, 0, 3, 3, 2, 9, 7, 2, 1, 0, 6, 4, 7, 4, 3, 7, 1, 2, 2, 8, 6, 3, 8, 5, 8, 5, 7, 8, 2, 5, 0, 7, 6, 6, 0, 2, 1, 9, 7, 8, 9, 3, 0, 4, 4, 8, 8, 3, 4, 3, 5, 1, 6, 0, 2, 2, 1, 4, 0, 8, 1, 8, 8, 8, 9, 2, 5, 7, 2, 0, 1, 9, 1, 8, 9, 2, 4, 0, 2, 5, 2, 0, 0, 7, 1, 7, 1, 9, 7, 4, 1, 6, 4, 9, 4, 6, 7, 2, 6, 8, 1, 7, 3, 0, 8, 7, 0, 3, 3, 5, 8, 2, 7, 6, 5, 3, 4, 4, 3, 6, 0, 4, 3, 4, 2, 3, 7, 5, 5, 7, 8, 4, 6, 4, 6, 6, 0, 4, 8, 3, 4, 8, 2, 7, 7, 8, 5, 9, 9, 8, 9, 4, 5, 3, 5, 3, 3, 5, 8, 7, 8, 9, 1, 6, 5, 8, 7, 6, 2, 4, 6, 0, 8, 9, 5, 8, 8, 7, 1, 6, 2, 3, 1, 4, 7, 2, 9, 9, 4, 9, 0, 4, 7, 9, 3, 7, 5, 6, 9, 1, 0, 1, 2, 9, 6, 3, 4, 8, 7, 8, 9, 0, 3, 4, 6, 0, 8, 8, 4, 3, 8, 1, 1, 5, 0, 0, 6, 0, 3, 0, 7, 7, 4, 9, 5, 6, 7, 2, 7, 5, 2, 4, 8, 4, 7, 1, 6, 3, 4, 8, 1, 9, 4, 4, 5, 4, 5, 0, 7, 0, 0, 8, 9, 1, 9, 5, 7, 0, 0, 8, 3, 7, 6, 6, 8, 5, 2, 1, 4, 1, 3, 0, 1, 3, 3, 2, 7, 6, 6, 8, 4, 2, 6, 3, 7, 2, 8, 6, 7, 9, 3, 0, 7, 2, 2, 6, 0, 6, 6, 2, 9, 0, 8, 3, 8, 9, 0, 5, 1, 0, 4, 2, 9, 3, 8, 8, 8, 9, 2, 4, 3, 7, 0, 9, 1, 1, 8, 6, 7, 2, 9, 1, 0, 9, 6, 5, 8, 1, 7, 5, 6, 5, 4, 9, 4, 4, 5, 6, 8, 0, 6, 2, 5, 8, 9, 8, 6, 5, 5, 1, 6, 5, 3, 0, 4, 8, 9, 7, 5, 6, 5, 8, 4, 5, 4, 1, 5, 4, 0, 2, 2, 6, 3, 5, 5, 4, 5, 4, 8, 5, 6, 4, 5, 5, 1, 2, 3, 2, 9, 1, 6, 3, 8, 7, 2, 5, 4, 8, 9, 5, 4, 8, 5, 3, 3, 1, 6, 2, 0, 0, 8, 5, 8, 5, 8, 1, 9, 0, 8, 9, 4, 3, 3, 5, 3, 1, 9, 5, 2, 9, 8, 6, 4, 6, 6, 0, 2, 6, 1, 8, 5, 5, 5, 8, 6, 4, 6, 6, 0, 6, 8, 0, 0, 7, 8, 5, 9, 9, 6, 3, 4, 1, 0, 0, 1, 8, 7, 5, 4, 5, 4, 4, 6, 5, 8, 8, 7, 2, 5, 4, 9, 0, 6, 0, 5, 6, 2, 4, 5, 7, 5, 1, 3, 8, 2, 3, 6, 5, 7, 9, 6, 3, 5, 9, 5, 8, 4, 4, 4, 0, 7, 8, 0, 5, 3, 1, 3, 3, 9, 1, 5, 2, 5, 9, 5, 4, 7, 6, 5, 2, 9, 6, 0, 8, 2, 5, 6, 1, 4, 4, 9, 3, 9, 9, 6, 0, 0, 4, 6, 0, 2, 7, 8, 6, 5, 8, 5, 1, 3, 2, 3, 1, 9, 6, 3, 8, 1, 4, 0, 2, 7, 6, 1, 7, 2, 4, 3, 5, 0, 5, 4, 0, 4, 8, 5, 3, 3, 7, 9, 0, 6, 4, 8, 4, 4, 5, 6, 7, 4, 2, 8, 2, 9, 9, 7, 4, 9, 8, 2, 3, 2, 3, 1, 5, 7, 4, 4, 5, 7, 3, 2, 3, 6, 7, 7, 2, 7, 3, 1, 2, 0, 9, 2, 8, 5, 4, 0, 1, 6, 8, 0, 1, 5, 6, 4, 5, 4, 6, 4, 7, 8, 4, 7, 9, 0, 9, 8, 5, 4, 2, 7, 2, 2, 1, 6, 0, 9, 9, 2, 6, 3, 8, 4, 4, 7, 1, 3, 4, 3, 3, 7, 2, 8, 1, 7, 2, 2, 8, 9, 8, 1, 3, 1, 4, 5, 0, 1, 8, 7, 2, 1, 6, 8, 5, 1, 0, 0, 4, 0, 3, 3, 3, 2, 2, 5, 2, 5, 7, 4, 6, 5, 8, 9, 8, 0, 9, 0, 9, 7, 7, 2, 0, 5, 7, 8, 9, 8, 3, 0, 5, 0, 5, 1, 8, 5, 4, 3, 3, 2, 4, 5, 6, 7, 2, 7, 3, 6, 0, 4, 1, 9, 2, 8, 4, 0, 4, 1, 7, 8, 7, 6, 5, 1, 8, 1, 4, 1, 5, 9, 6, 0, 7, 2, 2, 1, 1, 9, 4, 3, 3, 6, 6, 0, 4, 6, 1, 2, 9, 7, 4, 4, 4, 9, 8, 4, 8, 1, 0, 1, 8, 4, 2, 2, 0, 3, 1, 3, 4, 8, 1, 0, 0, 6, 4, 5, 6, 9, 0, 1, 6, 1, 4, 7, 0, 6, 1, 0, 5, 6, 1, 3, 2, 8, 7, 4, 3, 0, 5, 2, 1, 4, 4, 6, 3, 2, 2, 6, 4, 3, 9, 2, 5, 9, 1, 2, 8, 4, 5, 4, 2, 1, 2, 5, 5, 4, 5, 6, 7, 2, 3, 4, 2, 5, 1, 5, 1, 7, 6, 2, 5, 4, 5, 1, 0, 9, 8, 3, 5, 5, 1, 8, 2, 7, 0, 9, 1, 0, 3, 7, 5, 6, 5, 4, 8, 0, 3, 5, 0, 7, 7, 4, 7, 9, 3, 3, 0, 7, 7, 2, 1, 4, 3, 5, 3, 8, 4, 3, 4, 0, 2, 9, 0, 6, 4, 6, 6, 0, 4, 4, 3, 8, 4, 7, 3, 9, 2, 4, 2, 0, 6, 7, 4, 8, 8, 0, 3, 7, 7, 1, 9, 1, 3, 5, 2, 2, 7, 8, 1, 6, 4, 6, 2, 9, 6, 8, 8, 4, 3, 8, 6, 2, 9, 0, 1, 0, 9, 8, 0, 6, 0, 3, 5, 5, 6, 1, 3, 3, 5, 5, 9, 9, 9, 4, 5, 6, 9, 0, 7, 1, 8, 2, 3, 9, 2, 8, 0, 2, 2, 7, 0, 1, 0, 5, 5, 8, 2, 4, 8, 9, 0, 2, 3, 5, 4, 6, 5, 6, 7, 6, 0, 9, 4, 2, 7, 5, 5, 0, 4, 4, 2, 4, 9, 3, 7, 9, 9, 6, 0, 2, 6, 6, 2, 5, 7, 7, 6, 2, 4, 8, 4, 0, 2, 5, 1, 6, 4, 2, 0, 0, 3, 4, 2, 0, 4, 0, 6, 2, 2, 9, 8, 7, 4, 7, 3, 3, 7, 6, 4, 0, 2, 1, 8, 5, 2, 6, 8, 9, 1, 1, 6, 0, 6, 2, 1, 3, 9, 6, 8, 2, 6, 5, 7, 8, 5, 7, 6, 0, 7, 3, 1, 8, 9, 2, 6, 6, 5, 9, 1, 8, 8, 0, 0, 4, 2, 5, 8, 5, 5, 2, 4, 3, 7, 0, 7, 4, 2, 9, 0, 4, 7, 7, 9, 6, 6, 0, 4, 1, 1, 3, 3, 2, 0, 6, 7, 5, 3, 6, 5, 4, 1, 3, 8, 4, 1, 2, 0, 7, 6, 9, 2, 5, 6, 1, 1, 8, 6, 5, 5, 6, 5, 2, 3, 5, 3, 7, 9, 0, 9, 1, 8, 3, 1, 2, 5, 1, 0, 7, 2, 1, 8, 7, 3, 0, 8, 9, 4, 1, 7, 7, 8, 0, 6, 4, 9, 4, 4, 9, 4, 0, 9, 9, 4, 4, 4, 9, 2, 7, 9, 2, 7, 5, 0, 7, 4, 1, 6, 4, 7, 6, 3, 4, 1, 0, 8, 6, 4, 7, 2, 0, 6, 5, 4, 6, 1, 5, 5, 2, 3, 5, 0, 7, 8, 3, 6, 8, 3, 1, 4, 5, 3, 7, 5, 1, 4, 6, 7, 0, 9, 2, 6, 0, 6, 1, 4, 9, 5, 6, 9, 4, 2, 1, 4, 4, 1, 9, 5, 1, 4, 0, 1, 8, 4, 1, 7, 8, 5, 6, 6, 8, 8, 1, 7, 0, 5, 9, 0, 5, 6, 0, 2, 1, 7, 9, 7, 2, 2, 9, 3, 0, 0, 9, 8, 9, 6, 9, 6, 3, 3, 9, 6, 2, 2, 9, 5, 4, 0, 4, 6, 5, 3, 8, 4, 7, 7, 9, 4, 1, 9, 3, 2, 6, 9, 3, 8, 4, 8, 5, 0, 5, 7, 2, 4, 6, 7, 4, 4, 3, 2, 9, 0, 1, 3, 2, 5, 2, 5, 1, 9, 8, 3, 2, 7, 7, 1, 2, 1, 6, 2, 7, 2, 8, 5, 2, 7, 9, 0, 9, 1, 7, 8, 4, 4, 0, 9, 1, 0, 9, 8, 1, 2, 4, 5, 3, 5, 3, 7, 5, 3, 3, 2, 3, 6, 7, 6, 9, 9, 8, 5, 2, 5, 8, 9, 3, 0, 9, 1, 9, 2, 9, 2, 7, 3, 7, 0, 4, 1, 7, 9, 1, 2, 5, 9, 3, 3, 3, 3, 5, 0, 4, 7, 0, 0, 6, 3, 0, 5, 9, 2, 9, 5, 2, 0, 0, 7, 7, 9, 6, 1, 3, 1, 8, 0, 3, 7, 8, 4, 6, 7, 0, 1, 3, 6, 8, 3, 3, 5, 9, 4, 0, 4, 5, 1, 3, 5, 9, 6, 7, 8, 1, 4, 3, 6, 1, 0, 3, 2, 3, 4, 3, 7, 9, 0, 2, 1, 5, 2, 6, 5, 6, 9, 8, 4, 9, 7, 0, 5, 4, 0, 3, 8, 0, 5, 8, 3, 9, 5, 5, 0, 7, 3, 0, 6, 3, 7, 3, 0, 0, 0, 6, 8, 0, 2, 9, 7, 0, 5, 6, 3, 8, 6, 0, 6, 9, 6, 0, 0, 4, 6, 0, 8, 3, 1, 7, 6, 7, 3, 5, 9, 2, 4, 1, 2, 5, 3, 6, 5, 6, 5, 4, 3, 2, 1, 1, 1, 1, 7, 1, 1, 0, 2, 9, 9, 5, 6, 6, 9, 9, 2, 1, 1, 4, 0, 5, 9, 2, 4, 2, 8, 1, 6, 6, 8, 8, 5, 8, 1, 8, 3, 8, 0, 2, 4, 8, 5, 0, 7, 1, 0, 9, 5, 5, 7, 4, 2, 3, 5, 1, 4, 8, 0, 5, 0, 2, 0, 7, 4, 1, 9, 2, 0, 5, 5, 9, 8, 3, 8, 1, 6, 8, 6, 6, 6, 4, 1, 3, 9, 6, 2, 0, 7, 8, 1, 9, 3, 6, 6, 9, 3, 3, 7, 1, 1, 1, 7, 2, 4, 0, 4, 3, 8, 3, 0, 4, 9, 1, 9, 2, 1, 5, 2, 4, 5, 3, 3, 5, 2, 5, 0, 0, 7, 5, 4, 1, 6, 2, 3, 8, 3, 2, 0, 1, 2, 3, 9, 1, 5, 8, 6, 8, 6, 8, 4, 9, 4, 5, 4, 2, 2, 5, 5, 2, 9, 8, 3, 7, 4, 7, 4, 6, 0, 9, 1, 0, 0, 3, 5, 1, 7, 7, 7, 6, 3, 3, 6, 1, 4, 8, 1, 0, 9, 5, 7, 2, 4, 2, 7, 1, 0, 7, 4, 2, 1, 6, 6, 2, 4, 2, 1, 0, 9, 6, 7, 8, 7, 8, 7, 1, 0, 0, 3, 7, 0, 8, 9, 6, 1, 6, 0, 9, 7, 8, 2, 3, 8, 8, 3, 4, 5, 1, 1, 5, 5, 6, 2, 4, 2, 7, 9, 8, 6, 5, 0, 9, 8, 4, 3, 0, 8, 2, 0, 6, 5, 6, 2, 6, 1, 4, 7, 3, 4, 7, 8, 3, 7, 1, 4, 6, 7, 2, 0, 8, 4, 4, 3, 2, 1, 9, 1, 4, 8, 4, 5, 3, 9, 7, 7, 1, 8, 3, 3, 6, 2, 1, 4, 9, 7, 6, 8, 9, 8, 7, 2, 5, 1, 1, 2, 7, 3, 7, 0, 5, 5, 4, 1, 9, 8, 6, 5, 9, 5, 7, 2, 6, 9, 2, 3, 2, 9, 1, 7, 9, 5, 8, 8, 4, 3, 2, 9, 4, 5, 7, 2, 2, 6, 1, 0, 4, 8, 1, 0, 6, 9, 5, 4, 1, 9, 7, 1, 6, 4, 6, 2, 0, 9, 5, 3, 7, 3, 7, 8, 1, 6, 5, 1, 7, 6, 0, 2, 4, 5, 3, 1, 0, 8, 9, 2, 5, 0, 0, 3, 8, 2, 4, 3, 2, 6, 8, 7, 7, 8, 5, 8, 9, 9, 5, 4, 5, 3, 9, 9, 2, 9, 1, 9, 3, 7, 2, 1, 3, 8, 3, 1, 5, 2, 3, 2, 3, 2, 0, 3, 9, 2, 4, 6, 7, 9, 2, 7, 3, 7, 5, 2, 8, 9, 5, 3, 7, 1, 7, 8, 8, 8, 5, 9, 9, 8, 7, 2, 1, 5, 9, 1, 5, 9, 3, 0, 9, 6, 1, 5, 6, 6, 7, 3, 8, 0, 1, 9, 6, 5, 6, 2, 1, 2, 4, 9, 0, 7, 8, 4, 4, 6, 6, 5, 2, 0, 0, 7, 4, 1, 9, 9, 4, 4, 8, 8, 0, 3, 2, 3, 8, 7, 7, 4, 9, 9, 1, 4, 3, 7, 7, 3, 6, 1, 1, 2, 1, 7, 2, 0, 6, 6, 4, 7, 3, 0, 2, 2, 8, 2, 6, 7, 2, 8, 1, 4, 1, 8, 2, 6, 9, 3, 2, 9, 5, 0, 9, 1, 2, 7, 6, 9, 5, 5, 8, 1, 4, 2, 9, 8, 4, 6, 6, 9, 0, 3, 7, 3, 3, 2, 6, 2, 2, 8, 8, 8, 3, 5, 5, 3, 6, 2, 0, 9, 9, 9, 4, 2, 4, 4, 7, 1, 6, 1, 0, 8, 6, 6, 4, 8, 3, 8, 6, 2, 6, 5, 7, 3, 1, 8, 4, 0, 6, 8, 6, 1, 2, 4, 1, 1, 5, 3, 5, 0, 6, 7, 7, 7, 3, 0, 8, 9, 3, 0, 6, 7, 8, 7, 1, 1, 0, 1, 0, 6, 9, 4, 5, 2, 9, 9, 5, 7, 2, 2, 5, 4, 5, 5, 6, 3, 3, 8, 4, 0, 0, 2, 0, 8, 0, 4, 4, 9, 6, 5, 3, 5, 0, 8, 4, 0, 6, 5, 6, 6, 0, 9, 3, 2, 4, 3, 9, 9, 9, 6, 4, 4, 1, 3, 0, 0, 7, 0, 4, 8, 6, 0, 7, 2, 5, 1, 8, 4, 1, 6, 9, 5, 6, 0, 9, 3, 1, 5, 6, 6, 3, 7, 4, 1, 1, 9, 5, 1, 8, 8, 4, 6, 5, 4, 6, 1, 3, 6, 4, 8, 7, 2, 0, 6, 1, 0, 1, 5, 8, 3, 2, 5, 5, 5, 4, 5, 9, 9, 7, 1, 5, 7, 7, 6, 1, 3, 4, 3, 5, 0, 0, 6, 3, 5, 9, 6, 1, 9, 7, 3, 2, 9, 7, 8, 8, 1, 9, 2, 6, 6, 7, 5, 9, 5, 5, 4, 4, 9, 5, 2, 3, 5, 5, 3, 1, 5, 8, 8, 8, 4, 2, 8, 6, 7, 7, 3, 1, 9, 7, 1, 1, 2, 9, 1, 8, 1, 6, 1, 3, 7, 9, 0, 7, 0, 6, 6, 6, 1, 5, 2, 6, 1, 2, 7, 2, 5, 6, 3, 3, 5, 4, 7, 0, 4, 1, 5, 6, 9, 0, 5, 3, 4, 0, 0, 4, 6, 3, 6, 5, 7, 4, 9, 9, 2, 2, 6, 1, 8, 0, 6, 9, 3, 2, 4, 9, 2, 5, 9, 2, 9, 6, 8, 3, 8, 3, 2, 1, 8, 3, 2, 6, 3, 5, 0, 7, 9, 6, 1, 4, 9, 2, 3, 0, 3, 5, 6, 7, 7, 1, 7, 9, 3, 7, 3, 2, 1, 1, 8, 8, 5, 3, 6, 8, 9, 7, 1, 2, 4, 3, 7, 3, 4, 0, 5, 9, 2, 3, 1, 5, 8, 8, 1, 9, 0, 3, 1, 0, 9, 5, 4, 7, 9, 1, 5, 4, 1, 5, 5, 4, 5, 7, 9, 1, 0, 6, 5, 7, 2, 9, 2, 4, 7, 1, 2, 1, 3, 4, 9, 8, 2, 1, 4, 8, 0, 9, 1, 7, 3, 8, 9, 1, 6, 8, 0, 6, 6, 3, 7, 6, 0, 2, 9, 6, 6, 3, 3, 3, 6, 2, 1, 1, 2, 7, 8, 7, 2, 5, 4, 6, 8, 9, 6, 6, 6, 7, 0, 7, 6, 3, 5, 2, 9, 3, 1, 3, 6, 0, 7, 1, 4, 6, 7, 9, 8, 2, 3, 8, 4, 3, 1, 2, 0, 2, 0, 8, 4, 5, 7, 3, 5, 4, 2, 7, 9, 8, 2, 0, 3, 7, 5, 5, 9, 2, 8, 6, 8, 2, 8, 1, 4, 7, 8, 9, 0, 4, 8, 0, 9, 9, 4, 4, 4, 1, 5, 5, 2, 8, 5, 5, 0, 0, 9, 4, 8, 5, 0, 0, 9, 3, 3, 9, 1, 6, 0, 8, 8, 4, 6, 7, 3, 2, 7, 9, 6, 7, 6, 6, 3, 8, 6, 2, 5, 4, 3, 2, 9, 5, 9, 5, 1, 8, 5, 7, 7, 6, 7, 4, 2, 8, 3, 3, 5, 0, 8, 4, 9, 7, 7, 5, 2, 0, 9, 0, 2, 9, 6, 9, 0, 1, 5, 8, 2, 8, 0, 6, 3, 3, 5, 8, 7, 4, 7, 6, 0, 9, 0, 0, 0, 7, 0, 0, 3, 9, 5, 7, 1, 3, 3, 2, 8, 3, 9, 3, 3, 8, 8, 8, 6, 4, 9, 2, 3, 4, 2, 2, 2, 6, 3, 3, 8, 7, 0, 4, 2, 2, 8, 1, 3, 4, 0, 0, 0, 5, 7, 9, 9, 6, 7, 5, 1, 7, 2, 1, 1, 6, 7, 6, 0, 1, 8, 9, 2, 2, 6, 2, 6, 8, 2, 0, 1, 1, 1, 9, 3, 2, 8, 2, 2, 1, 8, 1, 8, 3, 0, 6, 1, 9, 0, 8, 3, 7, 0, 4, 9, 3, 0, 9, 7, 9, 7, 5, 2, 8, 5, 5, 0, 7, 9, 5, 4, 6, 4, 3, 1, 7, 1, 9, 0, 1, 2, 1, 7, 8, 5, 5, 0, 6, 4, 0, 4, 8, 0, 0, 8, 2, 7, 0, 9, 5, 8, 7, 3, 3, 4, 0, 4, 4, 9, 0, 6, 8, 3, 5, 6, 1, 8, 3, 4, 6, 5, 0, 8, 2, 3, 4, 2, 5, 1, 1, 6, 0, 4, 6, 3, 2, 9, 7, 3, 3, 1, 2, 4, 8, 5, 0, 5, 3, 7, 4, 0, 9, 2, 3, 3, 6, 3, 2, 7, 4, 7, 2, 5, 2, 8, 0, 8, 6, 2, 4, 5, 8, 5, 9, 6, 3, 5, 7, 2, 9, 8, 6, 5, 1, 0, 5, 7, 7, 5, 4, 4, 1, 4, 8, 2, 9, 9, 4, 7, 0, 3, 4, 7, 0, 0, 1, 1, 3, 9, 5, 6, 8, 2, 4, 8, 8, 3, 9, 5, 0, 9, 0, 5, 0, 3, 1, 0, 5, 0, 0, 3, 1, 3, 9, 6, 4, 6, 8, 4, 4, 6, 4, 1, 9, 2, 0, 6, 8, 4, 9, 2, 1, 6, 8, 9, 5, 3, 3, 3, 7, 6, 8, 1, 8, 7, 5, 6, 9, 8, 0, 3, 2, 2, 4, 0, 6, 4, 5, 0, 5, 1, 5, 9, 0, 5, 9, 4, 9, 1, 6, 6, 2, 8, 9, 8, 6, 8, 4, 7, 4, 9, 0, 5, 8, 3, 4, 7, 7, 0, 4, 1, 9, 6, 2, 5, 5, 4, 9, 2, 1, 2, 8, 7, 4, 1, 7, 1, 5, 2, 9, 2, 2, 9, 0, 6, 5, 8, 0, 8, 6, 0, 1, 9, 1, 3, 9, 8, 6, 2, 1, 4, 9, 2, 8, 8, 5, 2, 7, 0, 5, 0, 2, 8, 1, 7, 0, 1, 1, 8, 1, 5, 7, 3, 7, 9, 0, 0, 9, 6, 3, 1, 9, 8, 2, 7, 7, 2, 5, 0, 4, 3, 6, 9, 2, 8, 9, 2, 2, 2, 7, 0, 8, 8, 1, 7, 8, 0, 6, 9, 2, 5, 8, 9, 0, 6, 2, 9, 6, 4, 0, 6, 9, 6, 5, 9, 0, 5, 5, 1, 3, 3, 1, 1, 0, 3, 4, 0, 5, 0, 2, 2, 8, 7, 7, 3, 3, 2, 3, 9, 4, 5, 7, 4, 8, 1, 6, 6, 0, 1, 7, 2, 5, 2, 0, 1, 3, 4, 2, 7, 3, 9, 0, 4, 0, 1, 2, 5, 5, 1, 3, 1, 4, 9, 8, 4, 1, 4, 7, 9, 7, 7, 7, 6, 7, 5, 0, 5, 5, 2, 2, 8, 8, 1, 8, 9, 6, 6, 3, 2, 2, 0, 3, 2, 6, 4, 1, 2, 5, 4, 9, 6, 0, 1, 6, 2, 1, 6, 9, 2, 4, 0, 9, 2, 0, 0, 2, 1, 2, 1, 8, 7, 1, 5, 4, 7, 2, 2, 6, 0, 2, 3, 8, 4, 1, 5, 2, 8, 2, 0, 1, 8, 9, 2, 7, 3, 7, 6, 5, 9, 8, 8, 8, 9, 5, 3, 6, 2, 5, 6, 6, 5, 5, 4, 7, 8, 1, 8, 8, 3, 1, 4, 0, 8, 5, 3, 6, 6, 7, 3, 7, 4, 1, 0, 6, 0, 6, 3, 5, 1, 0, 3, 2, 3, 8, 1, 2, 5, 4, 9, 5, 1, 4, 2, 1, 5, 6, 6, 0, 1, 4, 2, 4, 2, 2, 2, 3, 9, 7, 0, 5, 1, 1, 2, 4, 7, 4, 6, 7, 0, 9, 7, 3, 6, 4, 1, 7, 9, 7, 6, 9, 8, 7, 7, 7, 5, 1, 0, 8, 5, 3, 8, 0, 4, 3, 8, 3, 8, 5, 4, 0, 1, 2, 0, 4, 2, 9, 2, 6, 8, 3, 1, 5, 7, 0, 4, 2, 1, 5, 6, 8, 2, 3, 3, 1, 9, 5, 9, 4, 1, 7, 5, 3, 7, 0, 1, 1, 5, 9, 3, 6, 9, 1, 4, 5, 0, 9, 3, 0, 1, 3, 0, 5, 5, 1, 9, 6, 6, 6, 3, 9, 7, 3, 1, 0, 6, 2, 4, 2, 5, 3, 5, 9, 3, 7, 6, 3, 1, 5, 4, 4, 1, 1, 3, 9, 6, 4, 8, 2, 5, 2, 2, 4, 8, 7, 9, 0, 1, 1, 5, 5, 4, 0, 1, 8, 9, 6, 6, 2, 3, 7, 9, 2, 9, 9, 0, 5, 5, 2, 5, 3, 2, 5, 5, 1, 1, 2, 8, 5, 7, 0, 7, 7, 2, 2, 5, 3, 2, 4, 9, 7, 3, 8, 6, 0, 0, 5, 8, 2, 1, 2, 0, 4, 3, 1, 3, 4, 3, 2, 0, 6, 9, 5, 4, 4, 2, 2, 5, 7, 2, 7, 0, 6, 4, 4, 9, 0, 1, 4, 0, 2, 2, 2, 8, 6, 7, 7, 5, 6, 2, 1, 0, 5, 2, 9, 4, 8, 0, 5, 7, 4, 7, 5, 5, 1, 8, 9, 3, 3, 2, 8, 1, 3, 5, 9, 3, 8, 8, 3, 9, 5, 4, 3, 5, 0, 8, 3, 0, 6, 5, 4, 5, 1, 1, 1, 7, 3, 6, 2, 6, 3, 2, 5, 4, 7, 3, 9, 1, 0, 8, 0, 8, 7, 6, 1, 5, 7, 2, 8, 6, 3, 7, 9, 8, 2, 3, 7, 9, 4, 3, 6, 3, 4, 9, 7, 0, 9, 7, 6, 9, 6, 6, 0, 0, 9, 0, 6, 9, 4, 2, 4, 8, 6, 8, 1, 8, 2, 5, 4, 7, 6, 2, 7, 2, 5, 9, 6, 0, 0, 6, 0, 9, 2, 4, 6, 4, 3, 9, 0, 0, 8, 0, 4, 4, 7, 9, 2, 1, 5, 1, 1, 5, 4, 0, 7, 2, 2, 8, 7, 1, 2, 4, 7, 5, 6, 2, 5, 3, 7, 0, 5, 2, 0, 0, 0, 1, 6, 4, 5, 0, 7, 6, 3, 2, 6, 7, 0, 8, 4, 6, 0, 8, 1, 2, 5, 1, 6, 9, 2, 4, 9, 2, 0, 5, 1, 0, 8, 8, 5, 0, 7, 0, 6, 9, 2, 7, 1, 9, 2, 8, 0, 8, 4, 7, 2, 7, 2, 5, 7, 9, 3, 0, 5, 7, 3, 6, 4, 5, 3, 2, 8, 3, 2, 0, 4, 7, 6, 3, 9, 7, 9, 5, 2, 4, 8, 5, 3, 2, 4, 8, 8, 1, 0, 2, 3, 2, 2, 8, 7, 5, 5, 1, 9, 4, 9, 9, 6, 9, 6, 6, 0, 2, 4, 4, 2, 2, 0, 5, 6, 1, 3, 9, 3, 3, 6, 9, 4, 2, 0, 1, 8, 1, 6, 5, 4, 3, 1, 0, 2, 6, 2, 7, 2, 0, 8, 7, 1, 0, 2, 3, 9, 8, 0, 9, 9, 1, 2, 3, 9, 7, 4, 6, 2, 4, 3, 9, 1, 9, 6, 4, 2, 6, 8, 3, 5, 9, 0, 0, 5, 4, 8, 7, 4, 1, 7, 2, 5, 9, 1, 3, 6, 0, 1, 8, 3, 9, 1, 8, 4, 8, 3, 8, 5, 9, 0, 9, 8, 6, 7, 6, 6, 7, 4, 3, 1, 7, 2, 8, 4, 0, 0, 4, 6, 9, 1, 8, 7, 2, 6, 2, 8, 2, 6, 5, 3, 7, 9, 1, 7, 1, 1, 1, 6, 7, 2, 3, 4, 3, 6, 5, 3, 3, 0, 6, 7, 3, 0, 1, 7, 6, 1, 0, 2, 5, 1, 7, 6, 0, 2, 0, 3, 6, 2, 0, 8, 5, 4, 4, 0, 3, 0, 2, 8, 7, 6, 2, 9, 1, 6, 3, 8, 6, 4, 3, 1, 9, 8, 2, 4, 5, 7, 4, 6, 2, 2, 9, 5, 6, 4, 1, 3, 4, 6, 4, 9, 5, 8, 4, 1, 5, 9, 2, 3, 7, 8, 1, 7, 2, 2, 9, 9, 3, 1, 6, 6, 6, 4, 7, 5, 0, 4, 9, 6, 9, 0, 2, 2, 4, 6, 1, 6, 9, 0, 3, 8, 3, 2, 4, 6, 9, 3, 1, 6, 9, 7, 9, 6, 1, 8, 0, 6, 3, 2, 2, 3, 7, 7, 4, 1, 8, 9, 8, 1, 0, 3, 8, 4, 9, 8, 3, 8, 3, 8, 8, 9, 6, 0, 1, 2, 9, 9, 4, 2, 5, 8, 2, 8, 3, 3, 0, 4, 8, 8, 3, 6, 5, 8, 0, 3, 7, 1, 7, 7, 4, 2, 3, 8, 3, 5, 8, 7, 2, 0, 9, 6, 0, 6, 1, 8, 4, 9, 3, 5, 9, 8, 8, 3, 2, 8, 8, 8, 7, 7, 9, 6, 3, 5, 7, 3, 1, 5, 7, 6, 4, 9, 0, 7, 6, 3, 6, 7, 2, 6, 9, 3, 7, 5, 7, 2, 7, 9, 2, 0, 9, 1, 7, 5, 6, 6, 4, 1, 2, 9, 6, 1, 2, 1, 5, 3, 1, 5, 4, 8, 5, 0, 9, 2, 6, 0, 2, 8, 9, 9, 4, 1, 5, 3, 5, 1, 4, 8, 9, 8, 6, 9, 1, 6, 6, 8, 2, 4, 2, 0, 9, 9, 0, 3, 1, 8, 8, 3, 7, 4, 7, 9, 5, 3, 0, 8, 6, 7, 1, 6, 1, 6, 0, 9, 8, 5, 6, 4, 4, 4, 3, 9, 2, 2, 2, 6, 4, 0, 0, 3, 0, 9, 1, 3, 8, 7, 8, 4, 1, 7, 4, 1, 8, 8, 1, 8, 6, 5, 4, 3, 6, 3, 8, 1, 3, 5, 8, 5, 0, 5, 7, 5, 7, 4, 3, 5, 7, 5, 4, 8, 9, 4, 3, 3, 7, 2, 3, 8, 1, 4, 7, 9, 3, 3, 0, 4, 9, 6, 8, 6, 7, 5, 4, 3, 1, 4, 0, 2, 6, 4, 5, 6, 7, 7, 7, 8, 5, 4, 3, 5, 1, 2, 2, 7, 5, 1, 6, 9, 2, 7, 9, 4, 7, 9, 6, 0, 8, 1, 4, 2, 1, 4, 8, 1, 9, 0, 6, 0, 0, 8, 7, 3, 0, 9, 0, 8, 1, 8, 6, 5, 1, 6, 0, 9, 8, 8, 4, 2, 7, 5, 3, 9, 5, 8, 0, 0, 0, 8, 0, 0, 9, 0, 4, 9, 9, 8, 4, 9, 4, 2, 6, 0, 0, 3, 1, 7, 0, 6, 5, 5, 0, 9, 4, 9, 3, 1, 4, 9, 3, 5, 6, 1, 5, 7, 5, 0, 0, 8, 3, 6, 6, 5, 3, 3, 2, 9, 6, 5, 9, 4, 3, 7, 6, 3, 2, 7, 4, 4, 5, 9, 2, 2, 2, 0, 7, 9, 3, 6, 3, 1, 2, 9, 9, 6, 9, 7, 2, 8, 1, 0, 8, 8, 6, 7, 5, 5, 1, 4, 9, 3, 9, 7, 7, 0, 3, 3, 3, 2, 0, 2, 3, 4, 5, 9, 4, 4, 3, 5, 3, 3, 0, 0, 1, 3, 0, 0, 1, 5, 2, 7, 3, 6, 0, 7, 0, 4, 4, 3, 9, 5, 9, 2, 0, 7, 9, 7, 1, 3, 7, 6, 8, 2, 3, 5, 7, 2, 1, 4, 3, 5, 3, 5, 6, 9, 6, 7, 3, 5, 9, 9, 6, 7, 5, 7, 6, 2, 0, 4, 1, 3, 4, 6, 1, 0, 4, 9, 2, 7, 9, 0, 2, 1, 9, 0, 3, 5, 1, 7, 2, 6, 1, 8, 1, 1, 6, 7, 3, 1, 0, 7, 7, 2, 1, 6, 3, 5, 7, 4, 6, 0, 2, 2, 0, 2, 4, 5, 2, 6, 9, 7, 6, 4, 6, 4, 5, 7, 7, 4, 9, 1, 3, 2, 8, 3, 1, 7, 1, 3, 2, 7, 8, 8, 1, 5, 3, 5, 4, 9, 2, 5, 5, 8, 7, 1, 2, 0, 8, 0, 0, 9, 1, 0, 8, 0, 5, 6, 2, 0, 8, 2, 2, 5, 2, 4, 5, 4, 2, 6, 4, 7, 9, 8, 9, 3, 6, 2, 2, 1, 0, 6, 3, 0, 5, 5, 2, 8, 9, 5, 1, 5, 3, 2, 5, 3, 0, 6, 2, 2, 5, 9, 0, 6, 7, 6, 5, 1, 9, 8, 1, 4, 9, 4, 4, 1, 5, 9, 8, 8, 5, 5, 2, 8, 3, 9, 1, 5, 2, 6, 7, 8, 9, 3, 2, 3, 8, 1, 9, 3, 3, 8, 3, 1, 5, 8, 3, 1, 7, 2, 3, 6, 9, 1, 3, 7, 4, 0, 9, 5, 2, 5, 8, 4, 0, 1, 5, 4, 9, 9, 3, 2, 9, 7, 7, 4, 5, 9, 3, 9, 1, 0, 6, 7, 7, 1, 1, 5, 4, 2, 4, 4, 7, 1, 4, 5, 5, 7, 6, 7, 3, 1, 8, 9, 6, 1, 6, 7, 8, 5, 2, 5, 6, 2, 7, 9, 1, 8, 0, 1, 0, 7, 7, 5, 9, 3, 5, 2, 2, 0, 1, 1, 4, 5, 9, 3, 2, 1, 3, 3, 2, 8, 0, 6, 0, 7, 5, 0, 3, 8, 7, 8, 5, 4, 7, 4, 5, 0, 1, 8, 9, 9, 5, 9, 9, 9, 5, 6, 6, 9, 2, 3, 9, 3, 2, 8, 1, 9, 4, 3, 8, 7, 8, 0, 5, 2, 0, 3, 4, 6, 8, 0, 8, 5, 4, 1, 9, 2, 7, 6, 9, 4, 4, 2, 6, 9, 2, 9, 8, 3, 4, 2, 8, 1, 5, 1, 4, 1, 6, 2, 7, 1, 9, 5, 4, 9, 7, 4, 6, 9, 0, 9, 9, 7, 6, 5, 1, 5, 2, 4, 2, 1, 6, 1, 0, 1, 5, 5, 5, 7, 6, 2, 4, 0, 9, 1, 3, 5, 8, 9, 7, 7, 7, 6, 4, 3, 8, 8, 8, 3, 2, 0, 2, 0, 4, 1, 7, 1, 8, 6, 7, 4, 3, 7, 8, 7, 7, 3, 2, 0, 4, 1, 9, 3, 3, 7, 7, 0, 0, 0, 3, 5, 4, 9, 7, 5, 8, 6, 7, 2, 5, 2, 1, 4, 1, 0, 4, 8, 0, 6, 7, 4, 3, 1, 6, 3, 6, 1, 8, 0, 6, 5, 4, 5, 9, 8, 8, 0, 2, 6, 6, 7, 6, 0, 4, 5, 4, 8, 9, 7, 6, 8, 1, 0, 0, 9, 4, 5, 3, 6, 6, 5, 9, 0, 9, 5, 4, 2, 1, 7, 2, 5, 0, 6, 5, 5, 9, 3, 3, 2, 1, 3, 4, 0, 6, 7, 0, 9, 7, 6, 3, 2, 7, 5, 3, 3, 8, 0, 3, 6, 4, 3, 4, 4, 1, 9, 2, 9, 0, 5, 3, 8, 7, 0, 6, 5, 7, 1, 9, 8, 5, 6, 2, 8, 1, 7, 1, 7, 8, 3, 4, 0, 7, 8, 3, 7, 2, 3, 5, 8, 5, 2, 3, 6, 9, 2, 2, 6, 8, 9, 6, 1, 4, 2, 3, 1, 6, 8, 9, 5, 6, 7, 7, 2, 4, 2, 0, 7, 0, 1, 8, 6, 1, 2, 1, 4, 6, 5, 4, 4, 2, 2, 9, 8, 7, 5, 3, 7, 3, 9, 6, 1, 0, 5, 0, 0, 4, 0, 8, 5, 4, 5, 0, 2, 0, 5, 0, 7, 0, 7, 5, 4, 6, 8, 7, 6, 4, 7, 7, 5, 2, 7, 7, 7, 5, 5, 4, 7, 4, 3, 0, 3, 6, 7, 0, 3, 5, 3, 1, 5, 5, 1, 6, 6, 7, 1, 5, 6, 4, 3, 2, 6, 9, 4, 1, 7, 0, 2, 6, 2, 7, 5, 1, 1, 3, 6, 2, 4, 2, 0, 0, 5, 2, 7, 0, 0, 3, 2, 8, 4, 0, 6, 7, 5, 8, 4, 9, 0, 4, 3, 3, 3, 3, 9, 2, 6, 7, 2, 3, 6, 9, 0, 4, 0, 1, 7, 1, 3, 3, 0, 7, 5, 4, 8, 1, 2, 8, 6, 9, 8, 1, 4, 6, 3, 0, 0, 2, 8, 0, 5, 9, 3, 2, 8, 8, 0, 0, 3, 5, 4, 4, 2, 9, 9, 4, 6, 5, 2, 0, 9, 7, 6, 9, 1, 0, 2, 1, 2, 4, 8, 9, 0, 1, 2, 0, 3, 0, 7, 0, 0, 8, 2, 1, 3, 2, 6, 0, 0, 0, 2, 2, 9, 7, 2, 5, 2, 6, 7, 2, 1, 8, 3, 7, 3, 6, 4, 9, 2, 7, 5, 1, 4, 4, 1, 5, 2, 8, 9, 0, 1, 3, 1, 3, 6, 8, 4, 0, 4, 3, 7, 3, 2, 3, 0, 5, 3, 4, 2, 4, 7, 8, 5, 8, 5, 7, 7, 8, 0, 7, 5, 4, 9, 9, 5, 4, 8, 7, 6, 4, 4, 6, 3, 3, 7, 2, 0, 7, 9, 8, 4, 4, 8, 6, 8, 9, 5, 6, 7, 7, 5, 7, 4, 3, 6, 3, 2, 6, 1, 9, 0, 7, 6, 1, 8, 9, 5, 4, 8, 7, 8, 5, 6, 1, 9, 6, 2, 3, 5, 4, 1, 1, 7, 1, 7, 0, 7, 6, 2, 1, 8, 0, 2, 0, 4, 6, 0, 9, 1, 3, 7, 7, 7, 6, 0, 5, 3, 7, 5, 7, 1, 0, 8, 1, 0, 3, 5, 1, 7, 4, 8, 3, 2, 0, 8, 2, 7, 8, 0, 1, 0, 7, 9, 6, 4, 3, 6, 1, 7, 0, 2, 0, 7, 8, 0, 8, 5, 5, 4, 7, 2, 5, 3, 4, 4, 7, 6, 6, 7, 5, 0, 8, 7, 1, 5, 4, 1, 1, 1, 4, 8, 7, 1, 9, 6, 4, 1, 1, 5, 9, 8, 3, 8, 9, 1, 7, 9, 4, 1, 4, 7, 0, 7, 2, 8, 0, 6, 2, 3, 4, 4, 5, 4, 6, 6, 0, 9, 8, 5, 5, 3, 5, 5, 0, 7, 6, 6, 2, 0, 5, 9, 8, 4, 3, 6, 3, 0, 0, 8, 8, 9, 7, 0, 1, 9, 2, 1, 9, 8, 1, 0, 0, 6, 6, 3, 8, 0, 0, 0, 5, 0, 0, 5, 1, 8, 2, 4, 4, 2, 4, 4, 6, 7, 9, 7, 5, 3, 5, 8, 9, 3, 2, 5, 7, 0, 5, 9, 8, 6, 5, 8, 4, 4, 3, 9, 9, 9, 8, 8, 3, 8, 5, 4, 0, 7, 2, 3, 6, 5, 9, 7, 4, 6, 6, 2, 2, 3, 6, 9, 5, 4, 9, 9, 2, 8, 6, 0, 5, 8, 8, 9, 7, 8, 5, 4, 0, 1, 8, 7, 3, 5, 7, 9, 5, 6, 3, 9, 0, 3, 0, 2, 7, 8, 5, 6, 2, 7, 8, 3, 8, 3, 3, 1, 5, 1, 3, 6, 2, 1, 8, 4, 4, 2, 2, 8, 2, 8, 6, 6, 1, 1, 4, 0, 8, 7, 8, 6, 5, 3, 9, 7, 6, 2, 8, 0, 0, 2, 9, 1, 9, 1, 3, 7, 1, 2, 5, 6, 1, 4, 1, 9, 8, 4, 4, 5, 0, 7, 9, 2, 5, 3, 7, 8, 5, 6, 2, 7, 4, 7, 5, 1, 1, 9, 4, 0, 0, 2, 3, 1, 8, 8, 8, 4, 6, 7, 5, 9, 2, 9, 0, 6, 2, 0, 6, 7, 7, 8, 9, 1, 4, 8, 0, 2, 0, 6, 1, 7, 0, 3, 7, 8, 5, 2, 3, 2, 6, 2, 9, 1, 2, 5, 2, 0, 8, 6, 9, 5, 1, 6, 2, 0, 7, 0, 1, 4, 1, 0, 0, 5, 6, 4, 9, 0, 8, 6, 8, 1, 0, 2, 4, 2, 7, 1, 7, 4, 8, 5, 9, 9, 4, 7, 2, 6, 8, 8, 3, 1, 7, 6, 0, 3, 7, 7, 0, 0, 8, 3, 9, 2, 2, 5, 8, 3, 5, 0, 5, 1, 8, 5, 0, 3, 0, 5, 1, 2, 0, 4, 6, 1, 1, 9, 8, 1, 3, 3, 3, 1, 9, 3, 7, 3, 2, 0, 5, 1, 6, 4, 4, 6, 9, 2, 6, 8, 7, 4, 9, 0, 6, 5, 3, 6, 0, 2, 6, 7, 3, 5, 0, 1, 0, 3, 4, 8, 9, 7, 8, 6, 1, 5, 7, 8, 5, 5, 3, 6, 3, 8, 4, 3, 7, 2, 2, 3, 6, 4, 5, 1, 0, 4, 7, 4, 8, 0, 5, 0, 1, 4, 6, 2, 6, 8, 1, 8, 8, 4, 7, 4, 2, 7, 8, 8, 1, 6, 7, 6, 5, 9, 2, 9, 8, 1, 2, 2, 6, 0, 7, 2, 6, 9, 0, 8, 4, 1, 6, 5, 9, 7, 3, 4, 6, 3, 2, 2, 7, 9, 6, 0, 6, 0, 6, 4, 5, 4, 9, 9, 8, 7, 3, 0, 0, 5, 1, 6, 4, 5, 9, 5, 0, 5, 9, 4, 1, 0, 8, 7, 1, 8, 2, 4, 7, 1, 4, 2, 5, 8, 8, 4, 3, 1, 2, 7, 8, 1, 8, 1, 5, 9, 4, 1, 0, 4, 3, 7, 9, 0, 3, 2, 6, 8, 7, 6, 8, 9, 7, 1, 5, 5, 1, 1, 6, 6, 6, 5, 0, 9, 0, 8, 5, 4, 6, 5, 0, 6, 8, 1, 5, 5, 2, 8, 9, 6, 6, 6, 8, 9, 4, 8, 9, 1, 9, 5, 7, 4, 4, 1, 3, 3, 8, 5, 2, 7, 0, 5, 3, 5, 2, 7, 3, 1, 6, 3, 4, 5, 3, 0, 8, 0, 8, 1, 3, 8, 2, 4, 2, 1, 4, 4, 1, 3, 0, 8, 7, 9, 6, 7, 1, 7, 0, 6, 4, 5, 8, 9, 8, 9, 1, 4, 3, 3, 9, 7, 1, 6, 0, 7, 2, 4, 4, 3, 0, 5, 3, 1, 7, 0, 8, 1, 3, 8, 4, 5, 7, 3, 6, 1, 6, 3, 9, 7, 0, 4, 7, 5, 4, 6, 8, 0, 2, 4, 6, 1, 5, 3, 0, 8, 4, 0, 2, 3, 4, 3, 9, 9, 8, 5, 2, 5, 2, 3, 6, 3, 4, 2, 5, 9, 3, 6, 2, 5, 4, 5, 4, 0, 6, 2, 4, 6, 8, 0, 3, 9, 8, 9, 7, 5, 2, 6, 3, 8, 1, 3, 9, 0, 0, 6, 5, 7, 6, 8, 3, 6, 8, 4, 0, 8, 1, 1, 9, 5, 9, 0, 3, 6, 4, 9, 0, 9, 2, 6, 7, 6, 2, 0, 6, 1, 0, 2, 4, 2, 9, 7, 9, 5, 4, 6, 8, 5, 3, 8, 3, 3, 8, 0, 7, 7, 8, 0, 7, 2, 0, 9, 7, 6, 6, 7, 8, 5, 6, 5, 9, 8, 3, 2, 1, 8, 9, 3, 3, 1, 5, 0, 4, 8, 7, 3, 1, 2, 7, 2, 0, 8, 9, 5, 9, 1, 8, 6, 0, 6, 5, 5, 4, 4, 4, 2, 3, 3, 5, 1, 6, 6, 3, 7, 9, 0, 8, 3, 1, 8, 4, 7, 2, 4, 5, 6, 0, 3, 3, 3, 0, 8, 7, 9, 5, 3, 6, 5, 6, 4, 3, 7, 3, 3, 5, 7, 4, 0, 3, 7, 4, 9, 3, 5, 4, 2, 0, 7, 7, 4, 9, 8, 2, 4, 3, 6, 6, 6, 8, 1, 8, 3, 1, 0, 6, 8, 9, 6, 0, 4, 6, 1, 6, 6, 8, 1, 4, 8, 3, 9, 0, 5, 7, 5, 4, 1, 7, 3, 4, 2, 0, 6, 5, 6, 6, 5, 5, 0, 7, 8, 2, 1, 3, 0, 2, 9, 8, 1, 0, 2, 8, 4, 0, 7, 7, 2, 4, 1, 7, 6, 8, 8, 7, 1, 7, 6, 7, 0, 7, 7, 8, 9, 4, 7, 8, 1, 2, 7, 0, 3, 2, 9, 1, 7, 1, 8, 1, 9, 0, 5, 8, 4, 5, 0, 3, 0, 3, 4, 1, 4, 4, 3, 6, 4, 7, 8, 8, 3, 0, 4, 7, 7, 6, 7, 7, 2, 2, 2, 0, 2, 3, 7, 6, 5, 8, 5, 9, 9, 3, 1, 6, 2, 3, 6, 9, 7, 0, 9, 9, 5, 1, 8, 8, 8, 6, 1, 2, 1, 3, 8, 6, 4, 7, 5, 5, 4, 1, 8, 7, 1, 1, 7, 3, 4, 6, 8, 9, 2, 9, 8, 1, 8, 8, 3, 8, 2, 4, 6, 9, 0, 1, 3, 3, 9, 4, 7, 0, 0, 5, 2, 8, 3, 8, 0, 1, 4, 2, 2, 1, 0, 8, 5, 7, 0, 0, 3, 3, 7, 6, 1, 5, 1, 1, 7, 2, 7, 0, 3, 5, 2, 4, 5, 6, 4, 6, 9, 8, 3, 7, 1, 3, 8, 7, 2, 9, 3, 7, 4, 0, 7, 8, 9, 0, 2, 1, 3, 4, 9, 5, 8, 7, 8, 5, 5, 0, 8, 9, 9, 4, 6, 9, 8, 1, 5, 6, 5, 4, 8, 3, 8, 5, 6, 7, 2, 4, 8, 6, 4, 0, 7, 4, 1, 5, 1, 0, 2, 5, 0, 4, 3, 6, 1, 7, 0, 5, 4, 1, 1, 4, 2, 9, 7, 4, 3, 5, 7, 2, 3, 4, 8, 7, 0, 4, 3, 8, 2, 4, 9, 6, 6, 7, 2, 2, 6, 9, 7, 0, 2, 0, 9, 6, 1, 5, 3, 6, 2, 7, 0, 0, 1, 3, 8, 2, 7, 6, 5, 5, 2, 4, 6, 3, 6, 8, 9, 7, 9, 1, 2, 5, 3, 0, 3, 6, 9, 9, 5, 6, 1, 4, 6, 8, 9, 4, 1, 9, 6, 5, 9, 8, 9, 4, 0, 3, 4, 8, 8, 8, 2, 9, 7, 9, 0, 9, 9, 5, 4, 0, 8, 5, 8, 8, 2, 7, 4, 9, 8, 3, 9, 0, 5, 5, 3, 8, 0, 4, 3, 3, 2, 9, 8, 8, 3, 4, 3, 6, 4, 0, 9, 8, 1, 9, 5, 9, 4, 8, 0, 7, 6, 0, 2, 7, 3, 9, 6, 6, 1, 6, 3, 3, 5, 6, 3, 5, 2, 5, 2, 5, 0, 3, 1, 8, 1, 2, 4, 6, 8, 3, 5, 2, 5, 5, 0, 3, 0, 7, 1, 5, 0, 2, 9, 9, 1, 2, 4, 5, 6, 1, 6, 3, 5, 2, 8, 9, 2, 2, 9, 3, 4, 0, 1, 2, 5, 5, 1, 6, 4, 9, 7, 4, 8, 4, 8, 4, 5, 8, 7, 0, 6, 7, 5, 9, 5, 8, 0, 7, 5, 0, 7, 9, 5, 0, 1, 0, 7, 7, 2, 2, 5, 9, 2, 5, 4, 1, 9, 1, 8, 0, 4, 9, 5, 9, 2, 1, 9, 2, 5, 1, 7, 3, 4, 2, 9, 7, 6, 5, 7, 6, 0, 3, 7, 0, 9, 2, 8, 7, 4, 1, 8, 1, 4, 3, 0, 9, 8, 3, 3, 5, 0, 9, 7, 5, 9, 4, 2, 8, 5, 3, 5, 6, 1, 0, 2, 8, 7, 7, 7, 7, 1, 9, 8, 4, 9, 1, 9, 7, 6, 2, 7, 1, 7, 9, 6, 0, 9, 5, 1, 0, 1, 2, 3, 6, 1, 1, 0, 9, 1, 4, 9, 9, 9, 4, 2, 7, 2, 9, 8, 9, 8, 9, 6, 1, 9, 5, 5, 2, 1, 4, 3, 5, 3, 4, 2, 9, 9, 2, 6, 9, 9, 2, 3, 0, 8, 3, 4, 6, 3, 5, 9, 3, 9, 6, 6, 0, 9, 0, 4, 9, 5, 2, 2, 0, 9, 3, 0, 2, 7, 6, 9, 4, 1, 5, 9, 8, 8, 3, 3, 0, 6, 2, 1, 3, 0, 1, 1, 0, 8, 6, 3, 1, 1, 6, 0, 8, 8, 9, 8, 3, 5, 3, 6, 5, 3, 2, 0, 0, 2, 5, 9, 2, 4, 1, 9, 2, 1, 8, 6, 6, 1, 3, 4, 2, 7, 4, 4, 4, 1, 7, 3, 2, 2, 1, 6, 9, 8, 0, 4, 0, 2, 7, 7, 6, 1, 1, 0, 5, 6, 6, 8, 8, 3, 5, 1, 5, 2, 4, 6, 3, 3, 8, 6, 2, 9, 7, 6, 1, 7, 3, 1, 2, 8, 9, 6, 0, 1, 6, 2, 8, 1, 8, 5, 1, 5, 7, 4, 3, 8, 2, 7, 2, 0, 1, 5, 9, 6, 2, 0, 8, 2, 7, 0, 4, 1, 7, 7, 4, 4, 9, 9, 6, 2, 4, 1, 6, 4, 9, 6, 6, 9, 6, 9, 9, 5, 7, 1, 6, 8, 2, 9, 5, 9, 5, 3, 7, 1, 3, 3, 9, 1, 7, 8, 9, 7, 4, 3, 4, 9, 5, 8, 4, 9, 3, 6, 1, 1, 4, 3, 9, 9, 1, 9, 9, 2, 4, 3, 2, 4, 7, 1, 5, 1, 8, 6, 3, 6, 3, 4, 4, 9, 9, 9, 7, 0, 5, 7, 7, 4, 8, 8, 4, 2, 0, 5, 2, 4, 9, 1, 7, 7, 4, 8, 8, 8, 0, 2, 3, 6, 3, 9, 0, 8, 2, 2, 4, 8, 8, 1, 8, 5, 7, 6, 0, 9, 1, 4, 8, 2, 1, 0, 5, 1, 6, 5, 3, 4, 9, 9, 0, 3, 5, 4, 2, 6, 3, 9, 4, 9, 8, 6, 4, 1, 1, 9, 8, 2, 2, 1, 8, 5, 9, 7, 8, 1, 1, 4, 2, 4, 2, 0, 8, 8, 0, 0, 4, 3, 0, 7, 7, 6, 1, 6, 7, 1, 5, 6, 1, 7, 2, 4, 0, 2, 2, 5, 9, 3, 2, 1, 4, 1, 2, 9, 8, 5, 2, 3, 3, 4, 9, 7, 2, 3, 9, 7, 6, 2, 9, 7, 5, 4, 0, 8, 7, 2, 0, 3, 5, 1, 3, 1, 7, 8, 7, 9, 8, 2, 9, 1, 4, 8, 6, 7, 3, 6, 9, 7, 9, 4, 5, 8, 0, 5, 6, 6, 0, 8, 4, 6, 1, 4, 2, 2, 1, 8, 4, 4, 0, 2, 4, 1, 9, 8, 9, 0, 7, 1, 1, 6, 4, 7, 4, 6, 9, 3, 2, 7, 3, 7, 4, 5, 1, 9, 6, 3, 9, 6, 0, 7, 0, 0, 0, 6, 6, 9, 7, 3, 2, 0, 6, 7, 5, 0, 2, 0, 3, 8, 6, 9, 9, 7, 1, 2, 0, 8, 8, 0, 8, 2, 0, 9, 5, 1, 3, 3, 0, 7, 6, 1, 0, 7, 9, 3, 1, 6, 3, 5, 1, 8, 3, 3, 2, 2, 5, 7, 4, 8, 4, 3, 0, 5, 9, 5, 4, 3, 2, 1, 9, 2, 8, 7, 8, 2, 9, 1, 8, 6, 4, 2, 3, 3, 0, 8, 2, 3, 5, 7, 1, 8, 8, 1, 0, 9, 9, 9, 8, 7, 5, 0, 5, 0, 5, 1, 1, 4, 6, 7, 1, 2, 8, 5, 1, 0, 3, 5, 8, 6, 6, 6, 7, 7, 4, 0, 5, 2, 8, 3, 7, 0, 1, 9, 9, 2, 1, 7, 6, 5, 3, 8, 3, 0, 7, 6, 2, 7, 7, 6, 5, 6, 4, 8, 5, 1, 4, 9, 1, 0, 5, 7, 0, 2, 5, 0, 8, 1, 0, 4, 2, 2, 5, 5, 8, 0, 8, 9, 8, 4, 7, 6, 4, 8, 6, 7, 5, 0, 1, 3, 9, 9, 1, 4, 3, 8, 6, 6, 2, 0, 7, 1, 6, 1, 6, 4, 4, 8, 0, 0, 2, 5, 4, 4, 4, 3, 7, 2, 0, 5, 1, 5, 7, 9, 7, 0, 5, 6, 2, 3, 8, 0, 6, 4, 6, 8, 4, 1, 5, 0, 6, 3, 9, 4, 5, 4, 7, 9, 6, 2, 7, 6, 1, 7, 8, 5, 1, 9, 8, 1, 3, 8, 7, 4, 8, 1, 2, 3, 7, 0, 3, 4, 0, 0, 4, 8, 4, 1, 1, 9, 4, 8, 9, 5, 8, 1, 3, 7, 9, 8, 0, 5, 8, 4, 3, 0, 6, 8, 1, 5, 6, 0, 0, 5, 0, 9, 2, 3, 2, 7, 6, 6, 4, 7, 4, 5, 1, 3, 0, 8, 7, 9, 0, 6, 8, 4, 3, 0, 8, 7, 4, 0, 0, 4, 3, 0, 6, 0, 1, 1, 5, 4, 7, 4, 2, 5, 4, 6, 4, 6, 8, 3, 8, 3, 8, 7, 6, 4, 6, 9, 6, 1, 0, 0, 5, 4, 8, 7, 6, 5, 2, 5, 7, 3, 8, 7, 9, 7, 8, 6, 5, 9, 9, 8, 2, 8, 0, 2, 4, 2, 4, 0, 7, 6, 9, 3, 1, 2, 6, 2, 5, 4, 9, 2, 5, 9, 7, 9, 6, 3, 2, 8, 9, 7, 7, 3, 0, 9, 9, 2, 3, 8, 4, 0, 0, 9, 7, 7, 4, 0, 0, 6, 1, 9, 1, 0, 9, 5, 6, 3, 4, 1, 1, 6, 0, 1, 5, 3, 5, 9, 6, 0, 4, 4, 5, 5, 5, 9, 3, 5, 9, 8, 5, 8, 9, 6, 5, 8, 8, 2, 2, 3, 8, 9, 2, 3, 4, 4, 9, 0, 6, 4, 5, 5, 9, 0, 4, 6, 8, 0, 0, 1, 3, 9, 6, 9, 5, 1, 1, 7, 7, 0, 9, 7, 7, 1, 6, 6, 9, 3, 4, 2, 7, 0, 5, 2, 9, 7, 4, 6, 7, 1, 3, 4, 2, 4, 0, 4, 9, 4, 3, 4, 2, 6, 0, 3, 7, 4, 9, 6, 5, 9, 7, 2, 0, 4, 3, 8, 2, 7, 0, 5, 3, 3, 5, 0, 0, 6, 9, 0, 3, 5, 6, 1, 8, 6, 8, 6, 9, 8, 5, 3, 5, 0, 3, 7, 7, 6, 9, 0, 7, 9, 8, 2, 7, 9, 9, 5, 5, 0, 3, 2, 6, 0, 2, 7, 8, 3, 9, 7, 2, 2, 8, 6, 6, 3, 9, 2, 8, 8, 6, 0, 6, 7, 9, 5, 4, 5, 1, 1, 4, 5, 8, 5, 2, 7, 4, 5, 0, 6, 8, 9, 4, 3, 5, 6, 1, 3, 7, 0, 5, 1, 6, 2, 2, 4, 8, 1, 2, 2, 1, 2, 5, 9, 1, 1, 3, 4, 2, 9, 7, 0, 8, 2, 4, 6, 8, 0, 3, 7, 1, 8, 5, 8, 6, 5, 6, 2, 2, 3, 5, 7, 7, 7, 7, 8, 4, 6, 4, 1, 2, 8, 6, 1, 9, 3, 3, 2, 1, 3, 1, 2, 0, 3, 3, 5, 4, 2, 5, 1, 3, 8, 6, 0, 4, 1, 4, 5, 3, 0, 5, 0, 7, 0, 8, 8, 4, 9, 6, 5, 8, 8, 6, 7, 1, 7, 3, 9, 0, 4, 3, 4, 8, 3, 1, 5, 1, 6, 7, 3, 1, 0, 5, 8, 2, 1, 0, 6, 1, 7, 4, 8, 9, 2, 5, 5, 8, 2, 2, 4, 1, 6, 9, 6, 1, 1, 4, 5, 7, 5, 4, 5, 5, 4, 4, 3, 4, 2, 1, 6, 4, 3, 8, 1, 7, 8, 5, 1, 5, 3, 3, 0, 5, 4, 0, 8, 7, 0, 2, 9, 4, 9, 7, 5, 0, 8, 1, 3, 9, 4, 3, 1, 5, 6, 5, 6, 2, 3, 2, 0, 1, 4, 9, 7, 0, 0, 1, 3, 1, 9, 2, 3, 3, 6, 9, 4, 8, 0, 8, 9, 0, 3, 9, 1, 4, 8, 9, 2, 5, 5, 6, 4, 0, 7, 9, 3, 9, 6, 7, 4, 8, 6, 1, 5, 4, 1, 4, 2, 7, 6, 7, 2, 2, 0, 8, 4, 6, 9, 7, 5, 8, 2, 1, 5, 2, 0, 3, 2, 1, 4, 1, 8, 4, 0, 5, 0, 2, 8, 8, 9, 7, 9, 3, 1, 2, 5, 0, 0, 0, 2, 4, 0, 7, 8, 1, 0, 0, 9, 9, 4, 8, 1, 4, 8, 8, 4, 8, 1, 2, 8, 1, 0, 1, 6, 9, 1, 4, 8, 4, 0, 9, 4, 3, 4, 3, 6, 2, 0, 6, 9, 0, 9, 1, 9, 8, 9, 4, 9, 3, 4, 6, 8, 1, 6, 1, 8, 6, 4, 2, 1, 6, 8, 2, 0, 4, 4, 6, 7, 4, 3, 1, 2, 6, 9, 6, 2, 9, 8, 8, 9, 7, 5, 7, 6, 2, 1, 3, 0, 2, 6, 6, 6, 9, 3, 6, 7, 2, 3, 8, 1, 4, 1, 5, 5, 6, 2, 3, 7, 0, 2, 7, 9, 3, 6, 3, 0, 3, 9, 0, 1, 9, 5, 9, 5, 9, 2, 9, 3, 5, 8, 5, 1, 3, 7, 5, 3, 8, 6, 8, 5, 4, 1, 6, 4, 7, 4, 9, 3, 2, 9, 6, 4, 3, 7, 9, 1, 7, 3, 9, 9, 7, 1, 6, 5, 2, 4, 8, 1, 2, 5, 2, 9, 9, 0, 2, 3, 8, 0, 9, 7, 4, 7, 9, 5, 3, 2, 2, 8, 5, 7, 9, 3, 8, 7, 6, 0, 1, 8, 0, 9, 7, 7, 1, 8, 4, 5, 6, 6, 1, 3, 8, 6, 7, 8, 4, 0, 4, 2, 1, 0, 0, 2, 2, 0, 3, 7, 1, 6, 8, 6, 0, 9, 2, 2, 1, 1, 7, 2, 5, 6, 9, 3, 7, 5, 2, 4, 4, 0, 8, 3, 6, 2, 1, 0, 6, 7, 3, 9, 9, 7, 3, 2, 5, 4, 5, 1, 9, 9, 9, 7, 8, 9, 8, 0, 3, 2, 3, 3, 6, 6, 7, 4, 1, 1, 3, 4, 4, 0, 1, 7, 3, 6, 1, 4, 5, 1, 6, 6, 9, 3, 6, 2, 9, 3, 9, 2, 8, 9, 3, 0, 4, 2, 6, 1, 2, 6, 6, 4, 8, 2, 0, 6, 5, 9, 6, 2, 1, 5, 5, 5, 8, 1, 3, 8, 9, 8, 4, 0, 7, 1, 2, 3, 1, 9, 3, 4, 5, 7, 8, 1, 5, 0, 3, 4, 2, 9, 6, 3, 4, 7, 3, 8, 2, 0, 3, 1, 6, 2, 9, 0, 1, 4, 0, 4, 9, 8, 0, 9, 8, 8, 1, 4, 2, 7, 6, 6, 4, 7, 4, 7, 1, 0, 8, 9, 9, 6, 9, 9, 4, 0, 1, 5, 3, 9, 6, 4, 1, 2, 6, 5, 8, 4, 4, 6, 0, 6, 1, 1, 7, 6, 4, 3, 4, 7, 2, 2, 1, 0, 4, 1, 2, 6, 4, 7, 6, 6, 3, 8, 4, 8, 0, 8, 7, 5, 2, 0, 9, 6, 8, 1, 5, 4, 8, 1, 4, 5, 7, 3, 1, 0, 5, 9, 4, 7, 1, 0, 5, 7, 3, 1, 6, 5, 6, 1, 4, 8, 3, 8, 3, 2, 7, 5, 3, 5, 2, 6, 1, 7, 3, 4, 8, 5, 7, 8, 0, 8, 1, 3, 7, 1, 4, 3, 1, 0, 0, 1, 5, 8, 0, 9, 3, 1, 6, 4, 0, 5, 8, 7, 7, 0, 8, 7, 5, 1, 8, 0, 2, 2, 9, 4, 2, 1, 8, 4, 9, 0, 8, 0, 2, 9, 4, 6, 8, 7, 7, 3, 7, 7, 6, 9, 9, 4, 5, 2, 7, 0, 5, 1, 7, 6, 0, 5, 6, 0, 6, 2, 7, 4, 7, 0, 1, 8, 6, 4, 9, 5, 9, 4, 3, 7, 5, 0, 4, 4, 0, 4, 4, 4, 4, 3, 3, 5, 8, 6, 3, 5, 8, 2, 8, 4, 1, 7, 4, 9, 7, 0, 7, 1, 3, 7, 1, 0, 1, 7, 0, 4, 3, 7, 0, 2, 1, 0, 1, 2, 1, 1, 0, 8, 2, 3, 8, 0, 1, 6, 3, 3, 6, 3, 5, 9, 7, 4, 0, 0, 7, 0, 7, 2, 9, 5, 6, 1, 8, 2, 2, 3, 8, 2, 9, 1, 4, 7, 9, 0, 9, 8, 3, 9, 9, 9, 0, 1, 6, 3, 1, 2, 8, 3, 5, 6, 3, 3, 4, 9, 6, 1, 6, 6, 2, 9, 4, 5, 0, 2, 4, 0, 2, 4, 8, 6, 3, 5, 2, 6, 8, 5, 8, 3, 3, 1, 2, 1, 7, 8, 3, 3, 4, 8, 4, 7, 8, 4, 7, 0, 4, 8, 1, 1, 6, 1, 9, 7, 6, 2, 0, 2, 7, 7, 0, 9, 9, 1, 1, 8, 6, 4, 6, 1, 7, 1, 4, 8, 3, 2, 2, 3, 3, 9, 2, 9, 5, 3, 2, 9, 5, 8, 7, 8, 5, 8, 1, 3, 6, 0, 3, 3, 6, 2, 6, 5, 8, 7, 0, 2, 3, 4, 3, 8, 9, 0, 6, 3, 3, 4, 1, 8, 5, 7, 4, 4, 3, 5, 0, 4, 5, 9, 2, 0, 2, 6, 9, 8, 6, 8, 7, 7, 1, 5, 9, 3, 0, 9, 4, 1, 7, 2, 7, 5, 1, 8, 6, 8, 0, 4, 3, 4, 0, 3, 7, 5, 6, 7, 6, 4, 1, 7, 0, 3, 1, 3, 4, 5, 5, 2, 2, 5, 6, 2, 7, 4, 7, 2, 6, 5, 9, 9, 0, 4, 0, 9, 2, 6, 4, 0, 5, 2, 1, 7, 5, 1, 7, 7, 1, 2, 1, 3, 9, 1, 7, 7, 9, 9, 3, 1, 3, 2, 3, 3, 8, 6, 7, 4, 9, 9, 3, 4, 1, 2, 6, 4, 2, 0, 9, 1, 0, 5, 3, 9, 2, 6, 9, 2, 9, 4, 8, 8, 1, 4, 0, 0, 6, 2, 6, 5, 1, 2, 9, 5, 0, 3, 5, 5, 0, 2, 2, 8, 0, 7, 2, 6, 3, 1, 3, 0, 9, 3, 2, 5, 3, 6, 2, 3, 0, 2, 0, 8, 8, 0, 0, 3, 8, 9, 6, 1, 1, 5, 9, 9, 8, 4, 2, 5, 4, 8, 1, 5, 3, 9, 4, 0, 2, 1, 4, 2, 0, 6, 3, 2, 0, 8, 1, 7, 1, 5, 0, 5, 5, 9, 8, 9, 8, 0, 8, 6, 7, 3, 9, 8, 7, 5, 6, 3, 7, 1, 6, 9, 9, 9, 8, 8, 2, 7, 2, 8, 2, 0, 5, 5, 8, 1, 4, 9, 9, 8, 1, 1, 0, 7, 4, 5, 1, 0, 9, 7, 6, 1, 5, 1, 9, 4, 6, 0, 7, 8, 0, 2, 4, 7, 1, 9, 1, 6, 0, 4, 6, 4, 4, 4, 4, 8, 5, 1, 4, 0, 3, 7, 5, 8, 8, 9, 6, 2, 2, 7, 8, 0, 8, 6, 1, 3, 5, 7, 7, 6, 1, 4, 9, 5, 2, 9, 1, 5, 9, 4, 3, 1, 7, 3, 7, 5, 3, 6, 8, 7, 0, 9, 5, 0, 3, 7, 8, 7, 9, 3, 8, 0, 3, 6, 4, 0, 5, 7, 0, 6, 7, 3, 4, 5, 9, 7, 9, 8, 8, 7, 6, 1, 5, 2, 9, 5, 5, 4, 0, 0, 4, 1, 4, 6, 5, 9, 9, 3, 5, 1, 3, 2, 1, 9, 6, 6, 3, 4, 4, 9, 7, 9, 7, 1, 1, 7, 2, 2, 8, 2, 4, 5, 3, 4, 0, 6, 1, 1, 0, 7, 9, 4, 1, 6, 3, 0, 6, 1, 8, 2, 5, 9, 7, 9, 3, 0, 7, 9, 6, 6, 5, 9, 7, 1, 0, 7, 8, 2, 8, 7, 9, 2, 9, 3, 1, 0, 8, 7, 3, 2, 3, 3, 2, 6, 7, 4, 4, 8, 2, 1, 5, 3, 0, 5, 9, 3, 8, 1, 8, 7, 3, 8, 5, 3, 5, 8, 1, 3, 6, 6, 5, 4, 5, 7, 8, 4, 0, 5, 0, 5, 8, 3, 2, 5, 6, 4, 6, 5, 6, 5, 1, 2, 5, 8, 4, 2, 5, 5, 1, 6, 3, 2, 0, 4, 3, 7, 3, 3, 5, 7, 3, 6, 4, 9, 7, 9, 8, 3, 0, 9, 9, 6, 0, 2, 6, 0, 6, 2, 0, 4, 8, 0, 0, 8, 4, 0, 6, 5, 8, 5, 2, 5, 8, 6, 3, 9, 0, 2, 0, 3, 9, 6, 7, 2, 7, 7, 0, 7, 9, 2, 2, 2, 4, 3, 2, 1, 8, 7, 8, 6, 8, 7, 5, 6, 2, 6, 8, 0, 6, 5, 0, 0, 5, 9, 1, 7, 9, 0, 4, 0, 4, 9, 3, 7, 5, 4, 1, 9, 2, 4, 6, 5, 4, 0, 5, 3, 3, 2, 0, 3, 7, 1, 4, 3, 1, 4, 3, 1, 7, 6, 2, 4, 1, 4, 4, 1, 9, 7, 1, 3, 6, 9, 1, 0, 4, 8, 8, 0, 6, 7, 9, 3, 8, 1, 7, 5, 2, 0, 9, 6, 5, 8, 8, 2, 4, 2, 1, 5, 8, 4, 8, 4, 9, 9, 8, 2, 1, 3, 1, 1, 0, 6, 8, 9, 1, 4, 2, 4, 7, 8, 5, 0, 6, 6, 4, 1, 9, 5, 4, 8, 5, 6, 9, 1, 1, 3, 3, 3, 9, 3, 9, 6, 2, 3, 5, 2, 7, 6, 8, 4, 7, 3, 1, 0, 0, 6, 3, 1, 0, 4, 1, 6, 8, 9, 2, 3, 9, 8, 4, 8, 7, 5, 3, 2, 2, 5, 6, 6, 3, 6, 8, 5, 3, 0, 1, 0, 3, 7, 3, 6, 6, 2, 1, 8, 4, 0, 0, 5, 8, 3, 3, 1, 2, 0, 1, 3, 8, 0, 4, 8, 4, 7, 5, 7, 2, 7, 5, 5, 6, 5, 2, 8, 1, 9, 3, 8, 3, 5, 0, 4, 7, 2, 1, 1, 8, 6, 3, 5, 2, 8, 9, 8, 9, 0, 3, 5, 8, 2, 4, 6, 9, 0, 3, 2, 9, 2, 9, 6, 6, 1, 2, 5, 4, 8, 3, 5, 0, 7, 0, 8, 4, 6, 6, 7, 9, 6, 1, 0, 1, 3, 6, 3, 0, 8, 9, 7, 7, 6, 2, 9, 2, 0, 6, 2, 7, 6, 8, 8, 1, 9, 6, 5, 4, 4, 9, 6, 4, 0, 7, 4, 9, 1, 1, 3, 4, 1, 8, 1, 5, 3, 1, 8, 6, 5, 1, 8, 1, 2, 0, 3, 0, 5, 8, 0, 1, 7, 5, 4, 7, 5, 9, 2, 5, 8, 0, 5, 2, 6, 3, 5, 7, 0, 3, 1, 7, 6, 8, 1, 7, 6, 5, 7, 8, 7, 8, 5, 4, 6, 4, 3, 9, 0, 9, 4, 6, 1, 4, 1, 4, 6, 9, 4, 4, 0, 4, 2, 5, 2, 5, 2, 1, 0, 2, 9, 2, 7, 3, 0, 3, 5, 8, 0, 8, 6, 5, 1, 8, 9, 5, 2, 5, 0, 3, 8, 1, 9, 3, 3, 2, 1, 6, 6, 6, 4, 5, 6, 6, 6, 8, 4, 4, 4, 4, 3, 8, 7, 0, 5, 9, 3, 2, 9, 3, 4, 0, 8, 8, 8, 4, 1, 7, 3, 5, 0, 4, 5, 2, 5, 2, 7, 1, 9, 5, 1, 3, 7, 9, 1, 6, 6, 5, 3, 0, 6, 5, 0, 0, 2, 7, 2, 9, 2, 7, 3, 1, 8, 5, 5, 1, 4, 7, 0, 5, 7, 2, 8, 4, 1, 2, 8, 8, 1, 5, 9, 3, 2, 5, 9, 8, 3, 6, 9, 8, 6, 5, 2, 6, 2, 8, 5, 9, 2, 3, 7, 0, 3, 2, 7, 5, 7, 9, 1, 5, 2, 2, 8, 9, 0, 4, 5, 9, 5, 6, 7, 1, 4, 4, 1, 8, 7, 4, 7, 5, 2, 6, 5, 6, 7, 8, 0, 8, 2, 7, 1, 9, 6, 1, 7, 9, 4, 9, 4, 2, 6, 8, 9, 2, 1, 2, 4, 5, 6, 8, 0, 7, 1, 3, 4, 5, 2, 8, 2, 7, 0, 1, 4, 9, 8, 9, 9, 6, 4, 4, 3, 1, 1, 1, 5, 5, 6, 0, 8, 5, 1, 7, 2, 1, 9, 0, 0, 5, 4, 7, 4, 5, 9, 7, 4, 7, 7, 4, 1, 3, 4, 1, 6, 3, 4, 4, 1, 4, 7, 3, 2, 0, 7, 7, 5, 5, 6, 1, 0, 0, 3, 7, 7, 3, 6, 5, 7, 2, 3, 2, 6, 9, 0, 1, 6, 6, 7, 9, 7, 5, 1, 5, 4, 0, 8, 0, 1, 9, 9, 3, 6, 2, 2, 2, 0, 0, 1, 8, 0, 7, 4, 3, 4, 1, 6, 4, 2, 0, 6, 0, 4, 7, 4, 5, 6, 7, 9, 9, 2, 3, 2, 5, 7, 1, 3, 2, 7, 5, 7, 5, 0, 9, 9, 4, 3, 9, 5, 2, 9, 9, 8, 4, 3, 4, 5, 3, 5, 9, 0, 7, 8, 5, 9, 5, 8, 3, 8, 4, 3, 6, 9, 7, 1, 8, 7, 1, 7, 2, 8, 0, 4, 2, 5, 2, 0, 1, 7, 1, 1, 6, 4, 0, 9, 9, 0, 6, 6, 8, 3, 8, 9, 3, 4, 5, 6, 6, 6, 4, 6, 7, 1, 5, 7, 5, 1, 5, 8, 9, 3, 0, 5, 9, 9, 6, 8, 8, 4, 3, 5, 1, 6, 6, 1, 1, 5, 9, 4, 2, 2, 8, 6, 5, 6, 0, 3, 8, 3, 6, 8, 5, 6, 7, 7, 9, 3, 6, 3, 2, 0, 2, 8, 7, 5, 1, 4, 7, 2, 0, 6, 1, 0, 5, 3, 1, 0, 6, 4, 6, 3, 7, 3, 2, 5, 5, 5, 2, 4, 8, 3, 4, 9, 0, 2, 6, 2, 0, 1, 6, 6, 0, 2, 8, 4, 3, 6, 8, 3, 7, 8, 3, 4, 5, 9, 3, 7, 4, 3, 6, 4, 2, 0, 8, 4, 2, 0, 4, 7, 9, 7, 2, 1, 7, 4, 4, 1, 1, 1, 6, 9, 2, 4, 0, 5, 2, 7, 4, 7, 7, 7, 3, 8, 5, 7, 7, 6, 9, 8, 2, 0, 5, 7, 2, 6, 1, 0, 4, 4, 3, 9, 4, 3, 1, 7, 4, 9, 9, 9, 6, 3, 4, 0, 3, 9, 4, 7, 2, 2, 2, 2, 3, 2, 4, 3, 6, 9, 7, 7, 6, 4, 1, 4, 1, 4, 7, 6, 2, 5, 9, 0, 2, 6, 4, 9, 6, 3, 5, 1, 6, 1, 6, 9, 1, 3, 2, 1, 1, 0, 6, 8, 5, 9, 5, 9, 7, 1, 9, 4, 4, 8, 8, 6, 7, 3, 4, 0, 7, 3, 2, 4, 3, 9, 9, 1, 4, 1, 0, 4, 1, 9, 7, 8, 6, 1, 7, 9, 0, 4, 5, 9, 5, 5, 1, 7, 0, 2, 0, 0, 6, 8, 6, 0, 2, 6, 0, 1, 1, 0, 7, 2, 9, 8, 8, 6, 7, 8, 9, 2, 4, 4, 4, 1, 3, 5, 1, 6, 9, 3, 6, 2, 5, 4, 9, 9, 6, 0, 8, 0, 3, 2, 5, 3, 8, 7, 3, 0, 0, 1, 1, 6, 8, 4, 2, 3, 7, 4, 9, 3, 9, 3, 7, 7, 8, 3, 0, 1, 9, 3, 0, 4, 3, 6, 3, 6, 3, 2, 9, 0, 4, 3, 4, 3, 2, 4, 2, 7, 3, 0, 3, 3, 5, 0, 8, 4, 0, 4, 5, 9, 6, 3, 2, 6, 4, 2, 3, 7, 6, 5, 0, 8, 3, 7, 0, 3, 0, 4, 3, 9, 2, 7, 0, 3, 9, 1, 9, 9, 1, 5, 7, 7, 4, 8, 2, 5, 1, 5, 3, 3, 5, 9, 9, 1, 8, 1, 8, 4, 5, 4, 0, 3, 3, 0, 9, 5, 8, 1, 5, 6, 9, 2, 2, 9, 1, 2, 3, 0, 0, 7, 0, 3, 7, 4, 4, 3, 6, 0, 9, 5, 3, 5, 3, 7, 3, 8, 1, 7, 0, 3, 5, 5, 1, 1, 8, 2, 4, 8, 1, 4, 1, 6, 9, 6, 1, 5, 0, 5, 6, 4, 6, 8, 2, 4, 0, 7, 3, 5, 5, 6, 5, 9, 8, 7, 4, 5, 6, 6, 8, 5, 1, 7, 1, 7, 8, 7, 4, 2, 8, 9, 9, 7, 9, 2, 6, 7, 0, 1, 0, 9, 1, 6, 8, 4, 7, 8, 6, 1, 7, 5, 9, 3, 4, 0, 4, 4, 4, 4, 7, 2, 7, 1, 6, 4, 1, 7, 6, 9, 8, 7, 7, 9, 9, 0, 0, 9, 0, 1, 0, 4, 0, 7, 3, 1, 3, 5, 4, 6, 2, 9, 2, 5, 0, 7, 0, 2, 0, 3, 1, 2, 3, 1, 6, 4, 4, 1, 6, 3, 5, 0, 3, 8, 4, 1, 8, 6, 2, 1, 0, 2, 5, 0, 0, 5, 6, 0, 9, 0, 5, 7, 0, 4, 4, 1, 2, 7, 4, 2, 9, 9, 6, 6, 9, 6, 6, 7, 0, 6, 1, 3, 5, 8, 6, 5, 7, 1, 0, 6, 3, 1, 0, 4, 5, 1, 0, 9, 0, 2, 3, 4, 6, 7, 8, 4, 0, 5, 3, 2, 7, 9, 1, 9, 2, 8, 6, 9, 8, 9, 8, 8, 4, 6, 7, 7, 9, 9, 0, 6, 6, 2, 4, 9, 6, 0, 2, 7, 6, 6, 4, 1, 7, 0, 8, 3, 5, 7, 5, 9, 5, 2, 7, 8, 3, 5, 4, 6, 1, 7, 6, 8, 7, 1, 3, 5, 7, 5, 1, 3, 1, 3, 7, 5, 2, 8, 7, 0, 1, 5, 5, 3, 2, 0, 7, 3, 4, 0, 3, 6, 8, 7, 6, 9, 7, 1, 7, 0, 8, 1, 3, 2, 0, 3, 0, 3, 0, 1, 4, 0, 0, 5, 7, 3, 3, 5, 9, 8, 9, 1, 2, 5, 2, 4, 6, 5, 0, 7, 0, 1, 7, 0, 4, 4, 3, 2, 0, 0, 2, 0, 5, 8, 2, 9, 1, 6, 1, 2, 6, 9, 5, 9, 3, 3, 2, 6, 2, 5, 3, 1, 8, 4, 9, 4, 2, 1, 8, 9, 2, 2, 6, 1, 5, 9, 8, 5, 4, 2, 1, 2, 3, 1, 7, 7, 5, 6, 1, 3, 5, 7, 5, 2, 1, 3, 3, 3, 1, 8, 5, 2, 6, 9, 2, 9, 0, 6, 0, 1, 9, 6, 7, 6, 6, 3, 2, 4, 6, 2, 0, 6, 6, 5, 7, 7, 3, 9, 5, 1, 3, 5, 1, 4, 8, 1, 1, 6, 0, 3, 2, 7, 2, 9, 1, 1, 4, 5, 8, 7, 9, 2, 9, 5, 4, 7, 5, 0, 7, 0, 7, 0, 0, 5, 5, 2, 0, 8, 2, 5, 0, 1, 1, 8, 1, 5, 3, 6, 9, 4, 8, 3, 0, 0, 9, 3, 3, 4, 5, 7, 2, 2, 6, 5, 8, 9, 8, 2, 2, 4, 5, 7, 9, 2, 1, 6, 5, 2, 5, 6, 7, 7, 5, 0, 2, 9, 7, 3, 3, 7, 8, 5, 1, 4, 5, 8, 7, 8, 6, 7, 1, 4, 0, 4, 5, 9, 8, 7, 8, 3, 5, 7, 6, 9, 3, 8, 3, 8, 1, 7, 6, 5, 4, 3, 9, 2, 6, 9, 1, 5, 4, 7, 3, 4, 9, 6, 5, 9, 6, 7, 5, 3, 3, 9, 1, 1, 7, 8, 1, 8, 6, 1, 3, 8, 5, 6, 1, 7, 1, 0, 2, 6, 3, 0, 6, 5, 1, 5, 5, 1, 5, 8, 5, 7, 5, 8, 0, 8, 5, 4, 7, 1, 9, 4, 3, 5, 7, 0, 3, 3, 7, 8, 5, 9, 0, 9, 0, 0, 4, 1, 2, 0, 9, 0, 7, 1, 4, 1, 1, 0, 8, 6, 9, 2, 3, 2, 1, 0, 5, 6, 1, 1, 6, 8, 2, 6, 7, 0, 2, 5, 5, 0, 1, 0, 8, 9, 4, 8, 7, 5, 3, 0, 7, 2, 9, 2, 3, 7, 9, 4, 4, 6, 4, 1, 9, 6, 2, 1, 4, 1, 8, 8, 1, 3, 7, 5, 6, 8, 2, 6, 1, 5, 2, 2, 1, 2, 3, 2, 0, 0, 9, 9, 1, 3, 5, 0, 4, 9, 5, 8, 1, 4, 7, 7, 5, 3, 4, 9, 4, 6, 7, 0, 8, 8, 1, 4, 6, 2, 1, 3, 8, 7, 6, 0, 5, 0, 5, 2, 3, 4, 4, 9, 1, 6, 1, 0, 5, 8, 2, 5, 6, 1, 0, 6, 1, 6, 5, 7, 9, 9, 7, 2, 0, 7, 6, 6, 1, 4, 8, 0, 7, 0, 0, 1, 3, 2, 5, 0, 1, 6, 2, 3, 4, 0, 3, 5, 8, 2, 3, 3, 0, 9, 6, 9, 4, 7, 1, 2, 0, 9, 1, 2, 8, 6, 9, 2, 0, 6, 7, 4, 3, 2, 8, 2, 7, 0, 3, 7, 5, 0, 5, 0, 9, 2, 1, 8, 3, 1, 6, 5, 3, 9, 1, 0, 8, 9, 9, 6, 8, 1, 5, 2, 4, 8, 8, 9, 3, 7, 6, 6, 4, 9, 9, 5, 8, 7, 4, 3, 4, 5, 3, 6, 0, 9, 8, 6, 9, 9, 0, 9, 4, 7, 0, 8, 0, 9, 9, 8, 1, 1, 8, 8, 4, 2, 0, 2, 6, 5, 6, 2, 4, 5, 2, 5, 0, 0, 0, 9, 3, 0, 4, 5, 0, 4, 1, 4, 7, 1, 9, 5, 1, 2, 8, 4, 4, 7, 8, 0, 2, 2, 1, 3, 7, 0, 0, 6, 0, 2, 9, 2, 1, 0, 6, 4, 5, 8, 2, 7, 0, 9, 8, 5, 7, 4, 5, 5, 9, 0, 6, 7, 2, 7, 0, 3, 7, 3, 4, 4, 0, 0, 8, 3, 9, 9, 8, 9, 5, 6, 7, 4, 6, 1, 3, 0, 5, 8, 5, 1, 6, 7, 1, 1, 9, 0, 2, 5, 8, 4, 1, 9, 2, 5, 7, 4, 1, 2, 7, 4, 7, 4, 5, 5, 0, 4, 4, 3, 5, 1, 3, 3, 4, 7, 3, 9, 2, 6, 4, 0, 3, 0, 2, 3, 1, 1, 9, 6, 9, 7, 0, 1, 8, 7, 2, 8, 9, 8, 6, 0, 2, 1, 0, 8, 1, 8, 4, 7, 3, 4, 9, 3, 3, 3, 5, 4, 9, 9, 5, 5, 2, 0, 8, 9, 2, 2, 7, 9, 3, 5, 6, 4, 6, 2, 9, 9, 7, 7, 7, 0, 0, 3, 8, 9, 5, 0, 5, 0, 5, 5, 7, 1, 8, 2, 4, 0, 4, 4, 3, 3, 9, 0, 9, 2, 9, 3, 8, 9, 3, 1, 5, 0, 3, 7, 6, 1, 0, 4, 4, 9, 1, 1, 0, 0, 9, 0, 1, 6, 3, 4, 0, 3, 4, 4, 5, 3, 8, 7, 9, 8, 6, 7, 3, 5, 6, 5, 1, 1, 1, 4, 2, 9, 1, 5, 6, 7, 1, 4, 1, 0, 2, 2, 5, 9, 6, 0, 1, 3, 1, 1, 2, 1, 8, 5, 6, 9, 2, 4, 2, 8, 8, 3, 7, 1, 7, 1, 7, 5, 9, 7, 0, 7, 8, 3, 6, 1, 2, 2, 5, 9, 8, 4, 8, 9, 4, 2, 5, 9, 3, 7, 9, 9, 3, 7, 9, 2, 7, 8, 9, 0, 7, 3, 0, 1, 7, 1, 4, 6, 8, 2, 3, 4, 1, 6, 2, 6, 0, 3, 5, 1, 0, 9, 7, 0, 0, 9, 3, 4, 9, 8, 8, 0, 1, 6, 1, 4, 9, 0, 7, 8, 1, 0, 9, 5, 2, 4, 4, 7, 0, 4, 8, 9, 3, 1, 2, 2, 4, 4, 0, 4, 5, 1, 7, 3, 5, 7, 2, 4, 4, 5, 6, 4, 3, 8, 4, 6, 6, 5, 0, 4, 9, 9, 7, 8, 6, 7, 3, 3, 5, 9, 6, 0, 1, 3, 8, 9, 8, 8, 0, 6, 6, 0, 9, 8, 6, 4, 7, 7, 9, 9, 3, 0, 9, 5, 5, 6, 5, 0, 9, 5, 8, 0, 1, 0, 4, 0, 3, 3, 2, 1, 1, 4, 9, 9, 4, 2, 1, 1, 2, 7, 4, 5, 5, 6, 3, 1, 3, 1, 2, 1, 5, 3, 3, 2, 5, 6, 4, 5, 2, 7, 6, 4, 6, 1, 2, 7, 9, 0, 0, 4, 9, 3, 5, 2, 4, 8, 9, 0, 8, 2, 5, 1, 6, 6, 3, 3, 3, 2, 6, 6, 4, 7, 5, 1, 0, 5, 9, 0, 4, 0, 0, 6, 6, 1, 5, 0, 5, 2, 5, 4, 3, 7, 2, 5, 4, 6, 7, 3, 1, 9, 7, 4, 9, 0, 1, 5, 1, 7, 4, 7, 6, 1, 0, 6, 4, 6, 0, 9, 2, 0, 6, 2, 9, 1, 8, 3, 4, 5, 0, 0, 4, 1, 1, 8, 3, 2, 5, 1, 4, 1, 8, 5, 8, 2, 1, 3, 5, 1, 4, 2, 2, 7, 7, 8, 0, 4, 2, 2, 7, 0, 5, 2, 0, 0, 0, 6, 3, 7, 7, 8, 6, 9, 0, 0, 2, 2, 6, 3, 4, 0, 7, 6, 2, 5, 6, 1, 8, 8, 0, 5, 8, 7, 1, 9, 3, 3, 4, 3, 6, 0, 6, 8, 0, 9, 3, 0, 0, 6, 0, 7, 3, 4, 4, 8, 1, 4, 9, 3, 1, 2, 9, 1, 7, 4, 7, 4, 2, 0, 0, 2, 3, 7, 5, 9, 0, 6, 5, 5, 0, 2, 1, 9, 1, 2, 6, 6, 9, 7, 3, 1, 9, 5, 2, 0, 3, 5, 4, 8, 6, 1, 0, 8, 8, 5, 7, 5, 2, 6, 6, 3, 1, 3, 0, 3, 7, 2, 8, 8, 9, 9, 9, 1, 3, 7, 5, 1, 3, 9, 5, 6, 1, 7, 5, 8, 3, 7, 5, 5, 1, 0, 1, 8, 1, 1, 2, 7, 4, 5, 7, 2, 9, 4, 9, 9, 5, 1, 5, 3, 5, 5, 7, 7, 0, 3, 0, 4, 5, 4, 0, 3, 4, 0, 4, 6, 5, 9, 2, 2, 7, 6, 0, 6, 7, 9, 2, 7, 5, 2, 2, 6, 1, 8, 8, 9, 9, 7, 4, 3, 6, 5, 5, 0, 9, 1, 7, 2, 8, 3, 5, 5, 4, 0, 5, 2, 0, 9, 7, 9, 7, 0, 1, 4, 1, 3, 1, 2, 4, 7, 9, 1, 6, 7, 9, 8, 5, 1, 5, 6, 5, 1, 6, 4, 5, 2, 7, 3, 4, 6, 9, 0, 4, 7, 6, 4, 1, 1, 0, 1, 4, 0, 4, 2, 6, 8, 4, 7, 4, 9, 1, 9, 0, 4, 8, 4, 8, 8, 0, 6, 4, 4, 3, 8, 5, 1, 5, 7, 3, 3, 5, 3, 8, 5, 6, 6, 2, 9, 3, 1, 7, 4, 4, 3, 2, 8, 8, 8, 8, 0, 5, 2, 1, 0, 7, 9, 8, 2, 3, 2, 6, 5, 4, 0, 3, 4, 7, 3, 9, 1, 9, 5, 1, 6, 1, 5, 0, 8, 2, 7, 4, 9, 1, 6, 1, 4, 4, 4, 3, 2, 6, 4, 8, 9, 8, 5, 7, 3, 4, 4, 2, 1, 5, 8, 9, 7, 2, 2, 3, 4, 2, 1, 1, 0, 8, 8, 6, 6, 4, 7, 4, 7, 7, 8, 8, 5, 4, 6, 5, 3, 8, 9, 9, 1, 0, 2, 6, 9, 6, 5, 8, 2, 7, 5, 7, 2, 4, 6, 6, 3, 6, 3, 9, 4, 3, 7, 6, 8, 2, 5, 0, 4, 6, 9, 4, 1, 1, 6, 8, 5, 4, 6, 4, 8, 8, 3, 8, 1, 9, 4, 3, 8, 2, 4, 1, 8, 3, 7, 9, 9, 6, 6, 2, 6, 9, 9, 6, 0, 4, 9, 2, 4, 2, 6, 8, 7, 8, 1, 4, 4, 9, 5, 8, 3, 7, 2, 5, 4, 1, 2, 6, 7, 9, 6, 0, 5, 9, 8, 5, 9, 7, 1, 6, 6, 2, 2, 8, 9, 9, 9, 7, 9, 0, 7, 2, 9, 2, 3, 7, 2, 8, 3, 2, 1, 3, 7, 1, 9, 7, 6, 6, 2, 9, 1, 4, 8, 4, 5, 9, 8, 4, 7, 2, 9, 1, 6, 8, 9, 4, 5, 7, 5, 3, 0, 5, 7, 6, 8, 5, 8, 2, 4, 6, 3, 3, 8, 1, 6, 3, 4, 5, 0, 9, 9, 8, 3, 3, 1, 4, 8, 4, 3, 5, 7, 8, 6, 0, 9, 3, 9, 1, 8, 6, 2, 0, 3, 7, 4, 3, 7, 3, 7, 4, 0, 8, 4, 7, 2, 5, 5, 9, 6, 7, 1, 3, 3, 3, 7, 2, 5, 2, 8, 7, 0, 4, 6, 9, 5, 9, 4, 5, 6, 4, 8, 2, 1, 2, 6, 6, 1, 5, 8, 9, 6, 1, 6, 1, 2, 4, 0, 5, 9, 8, 5, 4, 1, 5, 2, 5, 5, 9, 8, 7, 9, 2, 2, 7, 2, 8, 3, 1, 9, 2, 5, 6, 8, 6, 5, 4, 8, 3, 2, 8, 2, 5, 7, 0, 8, 4, 5, 3, 9, 7, 1, 7, 8, 8, 5, 8, 7, 8, 7, 5, 4, 3, 8, 9, 7, 0, 6, 6, 8, 7, 0, 4, 8, 4, 6, 1, 6, 2, 0, 7, 3, 5, 3, 9, 1, 4, 3, 5, 7, 5, 6, 7, 8, 5, 3, 5, 9, 6, 5, 6, 4, 4, 1, 9, 3, 3, 2, 5, 5, 3, 0, 5, 2, 2, 9, 8, 6, 4, 3, 5, 5, 7, 7, 1, 8, 8, 8, 7, 9, 6, 2, 1, 0, 3, 3, 8, 5, 0, 2, 2, 0, 7, 2, 4, 8, 3, 6, 6, 6, 2, 6, 1, 8, 7, 5, 9, 4, 4, 6, 1, 3, 0, 8, 8, 1, 3, 8, 5, 6, 4, 5, 1, 0, 3, 4, 8, 8, 4, 7, 3, 6, 3, 7, 0, 3, 7, 1, 9, 4, 5, 9, 7, 7, 5, 6, 9, 7, 1, 4, 8, 8, 1, 9, 2, 6, 9, 3, 2, 7, 4, 9, 5, 6, 9, 9, 6, 0, 6, 1, 9, 3, 8, 3, 8, 0, 5, 2, 5, 3, 3, 1, 1, 6, 5, 8, 7, 8, 1, 2, 3, 2, 5, 4, 1, 4, 9, 5, 8, 0, 9, 3, 9, 7, 3, 3, 3, 3, 1, 4, 2, 9, 1, 1, 5, 1, 4, 2, 9, 2, 4, 5, 5, 8, 8, 4, 4, 6, 4, 2, 4, 6, 6, 2, 1, 8, 2, 3, 6, 5, 3, 7, 5, 1, 9, 7, 6, 8, 6, 5, 5, 4, 0, 9, 1, 9, 1, 7, 7, 2, 4, 3, 0, 5, 5, 3, 2, 8, 2, 0, 3, 9, 0, 9, 2, 7, 7, 9, 0, 1, 9, 6, 6, 3, 8, 5, 6, 6, 8, 8, 2, 5, 6, 5, 4, 6, 4, 6, 1, 0, 3, 2, 9, 1, 5, 1, 4, 1, 4, 6, 9, 6, 3, 0, 4, 6, 3, 6, 0, 0, 9, 9, 3, 7, 3, 5, 9, 3, 7, 3, 9, 9, 1, 1, 1, 5, 5, 0, 8, 7, 2, 0, 0, 7, 0, 7, 3, 4, 2, 3, 9, 1, 6, 5, 6, 0, 5, 4, 7, 4, 6, 8, 8, 6, 2, 9, 7, 8, 5, 0, 8, 1, 7, 4, 3, 7, 9, 3, 6, 6, 2, 1, 6, 1, 0, 2, 3, 7, 8, 3, 4, 4, 3, 6, 0, 0, 1, 5, 3, 3, 3, 9, 1, 5, 6, 0, 8, 3, 3, 0, 8, 5, 3, 9, 0, 5, 5, 8, 3, 8, 8, 4, 6, 1, 8, 2, 2, 4, 8, 7, 7, 7, 2, 0, 3, 4, 1, 8, 1, 8, 7, 3, 2, 3, 6, 4, 5, 3, 6, 0, 2, 4, 8, 2, 8, 0, 2, 5, 5, 7, 9, 0, 5, 8, 5, 4, 2, 6, 3, 5, 6, 3, 4, 8, 8, 3, 2, 4, 3, 8, 8, 4, 1, 7, 2, 5, 4, 3, 0, 1, 3, 2, 7, 7, 1, 1, 4, 2, 0, 7, 5, 4, 2, 4, 3, 2, 4, 5, 6, 5, 6, 5, 9, 8, 6, 8, 2, 3, 8, 1, 6, 5, 1, 0, 7, 6, 8, 8, 0, 0, 3, 7, 7, 6, 9, 2, 3, 2, 2, 2, 5, 4, 9, 3, 8, 4, 3, 7, 4, 9, 2, 0, 6, 4, 9, 8, 7, 8, 7, 2, 0, 0, 6, 1, 2, 3, 4, 1, 0, 3, 3, 3, 5, 1, 9, 6, 7, 6, 0, 3, 3, 5, 2, 5, 6, 1, 9, 6, 0, 0, 8, 4, 8, 4, 0, 7, 5, 6, 9, 8, 0, 8, 3, 5, 9, 2, 0, 0, 2, 1, 5, 8, 0, 5, 9, 7, 7, 2, 1, 4, 9, 9, 9, 4, 1, 4, 9, 2, 3, 9, 0, 9, 3, 1, 3, 4, 2, 9, 4, 9, 2, 7, 5, 8, 5, 8, 7, 7, 2, 1, 8, 5, 6, 0, 1, 0, 2, 3, 2, 5, 9, 2, 9, 3, 0, 5, 7, 0, 1, 7, 4, 9, 3, 9, 8, 5, 0, 2, 4, 8, 9, 0, 8, 5, 7, 8, 7, 3, 9, 8, 5, 5, 1, 1, 7, 5, 6, 4, 9, 2, 0, 7, 3, 2, 3, 1, 1, 1, 2, 5, 8, 8, 8, 0, 8, 0, 1, 3, 6, 9, 3, 4, 7, 1, 0, 0, 8, 9, 4, 7, 9, 0, 3, 8, 2, 6, 8, 5, 0, 8, 6, 2, 5, 8, 4, 0, 2, 6, 4, 9, 9, 4, 9, 4, 4, 5, 9, 0, 7, 2, 5, 1, 8, 9, 4, 4, 6, 7, 5, 1, 2, 1, 7, 2, 3, 2, 3, 0, 4, 6, 3, 7, 0, 9, 5, 2, 5, 3, 2, 4, 3, 7, 3, 7, 2, 5, 8, 0, 4, 4, 3, 2, 1, 1, 8, 9, 0, 2, 9, 7, 6, 5, 2, 3, 0, 1, 3, 5, 0, 9, 4, 6, 5, 9, 7, 6, 4, 9, 5, 8, 3, 6, 7, 1, 1, 7, 9, 3, 8, 0, 1, 1, 5, 6, 7, 2, 1, 0, 0, 2, 7, 0, 2, 9, 2, 3, 0, 3, 4, 4, 6, 3, 2, 8, 1, 5, 4, 8, 1, 3, 2, 7, 0, 0, 5, 1, 5, 0, 5, 1, 6, 1, 2, 1, 2, 0, 5, 6, 6, 1, 6, 5, 8, 5, 3, 1, 6, 0, 3, 5, 5, 8, 5, 1, 5, 5, 2, 3, 2, 0, 0, 0, 8, 8, 3, 4, 7, 7, 2, 8, 0, 7, 4, 6, 0, 3, 6, 6, 1, 7, 9, 1, 2, 3, 9, 6, 5, 3, 8, 0, 9, 1, 2, 4, 0, 6, 6, 2, 5, 6, 8, 3, 3, 9, 6, 5, 0, 7, 2, 5, 8, 9, 0, 7, 3, 0, 6, 0, 1, 4, 6, 7, 5, 4, 9, 8, 1, 9, 7, 4, 9, 6, 9, 3, 2, 2, 5, 5, 9, 3, 4, 2, 0, 5, 8, 9, 8, 0, 8, 5, 9, 1, 7, 9, 5, 1, 9, 8, 1, 2, 1, 9, 5, 5, 7, 1, 7, 0, 5, 3, 4, 7, 6, 0, 3, 0, 7, 8, 4, 5, 7, 7, 5, 7, 5, 1, 0, 3, 8, 4, 5, 9, 3, 0, 9, 5, 6, 4, 9, 2, 3, 9, 8, 9, 4, 5, 9, 7, 9, 9, 9, 9, 7, 1, 0, 5, 8, 7, 0, 8, 5, 6, 8, 3, 7, 3, 9, 0, 5, 0, 0, 0, 5, 1, 1, 7, 5, 8, 1, 8, 6, 6, 7, 8, 8, 4, 9, 2, 2, 9, 7, 4, 2, 9, 7, 8, 3, 3, 2, 5, 6, 1, 7, 3, 4, 0, 4, 2, 0, 4, 6, 3, 4, 9, 4, 6, 1, 2, 7, 9, 4, 9, 5, 5, 9, 5, 6, 1, 0, 8, 6, 4, 5, 1, 7, 7, 2, 2, 5, 9, 9, 0, 9, 1, 8, 2, 8, 1, 5, 7, 7, 8, 9, 4, 7, 1, 6, 5, 8, 2, 2, 3, 7, 3, 2, 2, 0, 8, 5, 3, 4, 8, 0, 1, 5, 3, 5, 8, 1, 8, 0, 4, 3, 5, 3, 0, 5, 6, 5, 2, 5, 1, 0, 4, 5, 5, 4, 4, 7, 3, 5, 8, 1, 9, 4, 6, 7, 0, 0, 4, 8, 7, 9, 2, 7, 3, 8, 2, 0, 1, 2, 1, 4, 5, 8, 2, 5, 9, 7, 1, 8, 1, 0, 5, 9, 7, 0, 7, 2, 0, 7, 6, 1, 9, 1, 1, 2, 2, 6, 3, 7, 7, 4, 1, 5, 1, 8, 3, 4, 2, 4, 9, 6, 0, 9, 4, 7, 6, 9, 2, 4, 3, 9, 7, 2, 1, 4, 4, 3, 1, 9, 2, 0, 4, 7, 0, 7, 3, 7, 0, 7, 0, 3, 0, 0, 3, 6, 0, 5, 5, 2, 0, 0, 9, 0, 9, 8, 8, 9, 4, 4, 7, 6, 4, 1, 8, 5, 6, 2, 6, 0, 7, 5, 5, 5, 2, 6, 1, 9, 1, 1, 7, 9, 2, 6, 1, 2, 7, 8, 4, 0, 8, 1, 8, 0, 8, 0, 7, 7, 4, 4, 5, 7, 5, 8, 1, 8, 2, 8, 3, 8, 6, 2, 0, 4, 8, 0, 0, 4, 0, 9, 7, 6, 4, 8, 3, 2, 9, 3, 8, 4, 5, 7, 0, 9, 9, 0, 7, 1, 5, 4, 9, 9, 0, 9, 8, 0, 2, 0, 6, 9, 4, 9, 7, 3, 5, 4, 4, 6, 0, 8, 0, 5, 9, 2, 2, 6, 2, 1, 6, 7, 0, 1, 0, 7, 7, 9, 3, 5, 6, 6, 7, 3, 0, 9, 1, 6, 6, 0, 6, 3, 8, 5, 3, 6, 5, 2, 4, 0, 6, 5, 0, 4, 4, 5, 3, 2, 2, 5, 3, 1, 5, 6, 2, 6, 2, 9, 3, 4, 9, 5, 8, 5, 2, 5, 4, 9, 9, 6, 7, 9, 7, 4, 3, 1, 0, 9, 7, 3, 5, 0, 3, 8, 5, 1, 4, 8, 1, 2, 4, 1, 6, 9, 4, 3, 1, 3, 1, 8, 5, 6, 6, 3, 2, 1, 0, 7, 6, 3, 3, 5, 7, 0, 7, 7, 0, 8, 8, 2, 1, 2, 1, 6, 1, 9, 4, 4, 7, 4, 9, 7, 4, 9, 6, 0, 6, 0, 1, 9, 2, 0, 3, 2, 1, 2, 7, 4, 9, 2, 2, 6, 8, 8, 7, 0, 6, 2, 5, 3, 7, 4, 1, 7, 8, 8, 8, 4, 8, 4, 9, 8, 1, 0, 1, 9, 5, 5, 4, 4, 6, 5, 4, 6, 8, 5, 4, 2, 2, 1, 6, 8, 9, 9, 7, 1, 6, 9, 1, 3, 4, 0, 8, 5, 9, 6, 6, 0, 8, 6, 3, 8, 9, 7, 8, 5, 9, 5, 5, 9, 4, 7, 3, 3, 2, 8, 1, 6, 5, 7, 2, 2, 0, 0, 0, 8, 1, 3, 7, 3, 3, 0, 1, 9, 5, 0, 9, 0, 9, 0, 8, 2, 7, 9, 2, 9, 9, 1, 3, 1, 1, 3, 1, 6, 8, 9, 2, 0, 6, 8, 5, 9, 4, 3, 2, 2, 5, 3, 3, 8, 7, 5, 0, 2, 6, 5, 2, 7, 5, 8, 6, 4, 3, 3, 4, 5, 0, 3, 2, 9, 8, 1, 8, 7, 7, 1, 2, 8, 6, 5, 0, 9, 6, 5, 8, 9, 6, 1, 8, 0, 6, 9, 0, 9, 5, 5, 8, 0, 1, 5, 1, 3, 8, 7, 5, 1, 8, 5, 8, 5, 8, 9, 5, 9, 3, 9, 6, 8, 6, 8, 7, 4, 4, 3, 4, 0, 2, 3, 0, 2, 3, 0, 8, 8, 2, 6, 5, 6, 3, 4, 8, 5, 2, 7, 8, 3, 5, 6, 8, 3, 1, 8, 2, 8, 7, 8, 3, 9, 8, 6, 0, 7, 1, 4, 3, 1, 3, 9, 8, 8, 7, 1, 2, 5, 3, 0, 2, 3, 0, 2, 8, 4, 7, 4, 6, 4, 8, 4, 0, 1, 7, 0, 3, 4, 4, 4, 6, 8, 2, 6, 6, 9, 9, 8, 6, 8, 7, 8, 0, 4, 5, 2, 8, 7, 6, 8, 7, 4, 3, 5, 8, 9, 9, 3, 7, 5, 1, 3, 3, 2, 2, 5, 0, 4, 4, 4, 2, 5, 0, 5, 6, 3, 0, 4, 3, 5, 5, 4, 4, 7, 7, 0, 1, 9, 4, 5, 1, 0, 2, 3, 6, 2, 2, 6, 5, 1, 2, 7, 3, 0, 9, 8, 0, 8, 2, 5, 3, 4, 5, 6, 5, 1, 2, 2, 2, 9, 8, 6, 6, 3, 5, 6, 0, 9, 1, 0, 3, 8, 4, 3, 8, 4, 6, 5, 8, 6, 1, 0, 3, 7, 6, 9, 8, 1, 5, 1, 8, 0, 8, 8, 0, 3, 7, 3, 3, 8, 1, 0, 2, 1, 5, 3, 5, 3, 4, 0, 5, 5, 2, 0, 2, 2, 4, 9, 4, 3, 7, 1, 6, 4, 0, 2, 0, 6, 3, 7, 1, 9, 0, 9, 9, 7, 1, 3, 4, 3, 3, 7, 8, 6, 8, 3, 4, 6, 5, 6, 5, 9, 3, 1, 0, 7, 5, 6, 3, 0, 7, 9, 3, 3, 2, 6, 7, 6, 4, 0, 6, 0, 6, 2, 2, 1, 8, 5, 1, 6, 4, 8, 2, 5, 9, 3, 1, 4, 3, 2, 2, 4, 2, 2, 0, 2, 0, 3, 9, 7, 0, 2, 2, 6, 7, 0, 9, 8, 0, 0, 5, 7, 3, 1, 5, 1, 9, 2, 3, 0, 8, 9, 1, 9, 8, 8, 9, 8, 1, 9, 0, 3, 3, 8, 3, 5, 0, 2, 1, 5, 9, 1, 6, 4, 3, 0, 2, 0, 0, 7, 9, 9, 9, 7, 6, 5, 8, 3, 8, 4, 6, 5, 3, 4, 8, 9, 7, 6, 8, 2, 3, 9, 4, 1, 0, 8, 6, 7, 9, 4, 7, 5, 1, 3, 6, 1, 3, 0, 6, 5, 6, 4, 9, 5, 2, 4, 9, 0, 7, 5, 3, 6, 4, 6, 7, 2, 6, 5, 5, 0, 9, 4, 0, 8, 6, 1, 4, 0, 6, 7, 5, 4, 2, 4, 1, 8, 9, 8, 4, 6, 6, 9, 2, 3, 1, 4, 7, 7, 9, 0, 5, 6, 2, 3, 2, 5, 0, 8, 3, 8, 2, 2, 0, 8, 0, 7, 7, 0, 7, 2, 9, 8, 3, 1, 1, 7, 0, 6, 9, 1, 2, 8, 7, 8, 5, 1, 9, 6, 9, 1, 0, 8, 2, 7, 9, 3, 8, 2, 2, 0, 2, 0, 9, 1, 1, 0, 3, 8, 6, 8, 2, 5, 5, 5, 7, 4, 3, 7, 9, 4, 1, 8, 1, 9, 2, 3, 8, 0, 0, 5, 8, 2, 1, 2, 0, 6, 3, 0, 5, 9, 5, 3, 9, 8, 4, 8, 8, 6, 4, 9, 9, 5, 8, 7, 2, 9, 3, 0, 2, 7, 0, 4, 6, 9, 2, 0, 5, 7, 1, 0, 4, 6, 5, 0, 2, 2, 2, 4, 3, 6, 2, 9, 8, 6, 8, 1, 3, 3, 0, 8, 8, 5, 7, 5, 2, 9, 7, 9, 2, 0, 3, 2, 2, 8, 4, 5, 6, 5, 5, 4, 6, 6, 3, 5, 2, 9, 6, 4, 9, 3, 3, 5, 5, 4, 2, 0, 0, 2, 5, 0, 7, 5, 5, 7, 0, 4, 3, 2, 0, 4, 0, 9, 8, 4, 9, 9, 7, 5, 7, 9, 8, 1, 9, 3, 5, 8, 6, 4, 6, 9, 9, 9, 3, 7, 5, 9, 7, 8, 0, 8, 6, 9, 8, 6, 7, 1, 7, 7, 9, 8, 0, 9, 2, 6, 5, 8, 0, 5, 4, 3, 2, 8, 2, 6, 4, 0, 7, 7, 4, 0, 7, 8, 0, 2, 3, 5, 1, 6, 2, 2, 8, 2, 4, 9, 2, 4, 3, 3, 0, 9, 5, 6, 6, 4, 0, 1, 0, 3, 2, 6, 0, 4, 2, 7, 3, 6, 6, 7, 1, 4, 2, 2, 6, 4, 8, 5, 3, 5, 4, 1, 3, 8, 6, 3, 9, 2, 0, 2, 7, 2, 8, 7, 8, 2, 0, 5, 0, 0, 8, 9, 0, 3, 8, 4, 1, 6, 5, 7, 9, 8, 1, 5, 3, 5, 1, 6, 7, 9, 7, 7, 0, 7, 6, 8, 1, 3, 7, 0, 4, 2, 9, 4, 3, 6, 2, 1, 7, 8, 2, 3, 6, 3, 8, 1, 8, 4, 9, 6, 2, 3, 1, 8, 1, 4, 3, 9, 4, 1, 0, 6, 7, 4, 9, 9, 5, 5, 9, 6, 2, 3, 5, 1, 5, 9, 4, 0, 1, 4, 3, 1, 1, 8, 7, 0, 1, 5, 9, 8, 9, 7, 6, 2, 9, 0, 9, 1, 1, 3, 6, 6, 5, 7, 9, 0, 6, 6, 5, 1, 8, 1, 8, 0, 9, 5, 5, 1, 2, 0, 8, 7, 9, 1, 9, 5, 7, 5, 3, 0, 7, 4, 8, 0, 2, 5, 2, 7, 9, 7, 8, 4, 8, 5, 2, 2, 5, 9, 1, 4, 5, 1, 6, 5, 2, 9, 7, 5, 4, 7, 9, 3, 7, 2, 3, 6, 5, 8, 8, 7, 1, 0, 5, 4, 7, 2, 9, 2, 5, 8, 4, 2, 1, 7, 3, 9, 8, 2, 1, 6, 0, 1, 5, 9, 8, 6, 5, 8, 8, 8, 3, 7, 4, 3, 3, 3, 2, 6, 9, 7, 3, 9, 6, 6, 3, 7, 8, 5, 3, 0, 0, 2, 4, 4, 0, 2, 2, 5, 5, 4, 0, 6, 2, 1, 0, 8, 8, 6, 4, 5, 3, 1, 2, 4, 6, 7, 6, 8, 1, 4, 3, 9, 9, 7, 4, 7, 3, 7, 9, 5, 1, 6, 1, 8, 5, 7, 4, 4, 7, 9, 5, 7, 3, 2, 5, 2, 3, 2, 8, 7, 8, 9, 1, 6, 0, 5, 0, 1, 3, 0, 7, 3, 0, 0, 0, 7, 6, 6, 0, 7, 7, 0, 4, 0, 4, 9, 8, 7, 6, 3, 9, 0, 2, 8, 8, 2, 8, 4, 4, 8, 4, 4, 3, 4, 5, 5, 4, 2, 6, 9, 6, 4, 5, 0, 4, 2, 2, 6, 4, 6, 1, 1, 5, 1, 4, 7, 6, 8, 2, 3, 0, 3, 5, 8, 3, 6, 3, 1, 9, 1, 7, 9, 8, 9, 2, 7, 0, 6, 0, 7, 3, 6, 0, 3, 6, 3, 5, 5, 8, 4, 7, 0, 6, 6, 6, 8, 2, 4, 3, 6, 7, 9, 4, 2, 3, 8, 1, 4, 6, 3, 0, 8, 7, 4, 1, 9, 8, 8, 3, 5, 0, 4, 1, 0, 1, 2, 6, 1, 3, 6, 0, 0, 5, 6, 9, 6, 8, 4, 0, 9, 2, 2, 8, 5, 5, 3, 2, 1, 9, 4, 9, 3, 8, 9, 4, 9, 0, 5, 0, 8, 2, 3, 7, 8, 9, 4, 5, 3, 2, 5, 0, 7, 2, 1, 1, 4, 4, 8, 9, 4, 6, 9, 4, 9, 3, 5, 6, 9, 9, 7, 7, 6, 1, 6, 8, 8, 3, 1, 6, 7, 7, 2, 0, 7, 5, 2, 3, 4, 6, 9, 7, 6, 1, 6, 6, 7, 9, 9, 1, 0, 2, 2, 5, 7, 9, 9, 9, 1, 6, 4, 3, 3, 1, 3, 6, 3, 1, 1, 9, 9, 6, 3, 8, 0, 0, 2, 6, 6, 1, 4, 4, 2, 0, 2, 8, 7, 2, 5, 2, 0, 8, 7, 6, 5, 9, 5, 4, 8, 7, 3, 5, 6, 5, 1, 1, 9, 9, 9, 7, 8, 0, 6, 0, 3, 7, 7, 8, 6, 1, 1, 4, 7, 3, 7, 3, 3, 8, 6, 3, 9, 1, 0, 1, 1, 8, 2, 4, 5, 2, 3, 9, 2, 8, 8, 7, 1, 0, 8, 8, 9, 0, 0, 3, 6, 5, 1, 0, 7, 0, 8, 3, 2, 8, 9, 8, 7, 8, 5, 1, 4, 5, 0, 3, 8, 6, 9, 9, 8, 1, 3, 7, 4, 6, 8, 7, 7, 4, 0, 9, 4, 9, 6, 6, 9, 6, 4, 6, 5, 8, 9, 3, 0, 8, 1, 3, 3, 2, 1, 7, 3, 9, 7, 1, 7, 1, 3, 1, 8, 0, 4, 9, 1, 3, 7, 5, 4, 9, 0, 7, 8, 2, 9, 8, 4, 4, 8, 5, 0, 2, 8, 8, 5, 9, 6, 7, 0, 7, 6, 9, 5, 2, 1, 7, 5, 7, 3, 2, 2, 0, 7, 9, 6, 3, 7, 2, 1, 9, 6, 1, 9, 5, 6, 2, 8, 4, 7, 5, 9, 6, 2, 3, 3, 9, 5, 6, 0, 5, 6, 3, 6, 0, 7, 7, 6, 6, 1, 1, 5, 5, 4, 4, 3, 6, 8, 3, 7, 5, 3, 1, 5, 2, 2, 8, 2, 7, 5, 5, 7, 3, 1, 9, 0, 0, 7, 2, 6, 0, 1, 0, 8, 1, 0, 7, 6, 4, 6, 1, 4, 1, 2, 8, 0, 9, 6, 1, 7, 6, 4, 3, 3, 3, 9, 9, 0, 8, 0, 8, 0, 1, 7, 8, 8, 5, 1, 6, 1, 3, 9, 3, 0, 8, 8, 4, 7, 1, 8, 6, 2, 7, 2, 9, 5, 8, 1, 4, 9, 6, 9, 6, 7, 3, 1, 0, 1, 6, 7, 4, 8, 1, 9, 6, 2, 0, 4, 5, 0, 3, 9, 1, 9, 5, 8, 3, 5, 2, 6, 8, 1, 1, 5, 1, 0, 6, 0, 9, 3, 3, 8, 8, 1, 3, 2, 2, 7, 5, 9, 7, 5, 7, 2, 2, 6, 9, 9, 6, 3, 6, 8, 3, 5, 3, 1, 7, 2, 5, 8, 5, 4, 7, 9, 3, 8, 4, 3, 5, 1, 5, 7, 1, 1, 4, 1, 0, 1, 3, 5, 1, 5, 6, 0, 0, 3, 3, 8, 9, 1, 4, 1, 4, 0, 5, 1, 0, 0, 6, 0, 5, 4, 6, 0, 4, 5, 9, 8, 5, 5, 7, 0, 1, 2, 0, 7, 0, 5, 8, 6, 9, 0, 2, 6, 2, 1, 9, 5, 8, 8, 3, 3, 9, 5, 5, 2, 6, 8, 5, 8, 1, 0, 0, 0, 2, 0, 2, 1, 1, 3, 4, 5, 1, 8, 8, 1, 8, 8, 1, 2, 3, 4, 3, 5, 7, 5, 9, 6, 3, 9, 6, 1, 4, 1, 1, 1, 1, 8, 7, 1, 1, 4, 9, 4, 4, 3, 3, 9, 3, 6, 1, 4, 7, 6, 4, 3, 7, 9, 5, 1, 3, 0, 1, 2, 3, 3, 7, 6, 4, 6, 6, 8, 3, 7, 0, 1, 7, 8, 3, 0, 9, 0, 6, 9, 5, 6, 7, 0, 9, 1, 5, 4, 3, 5, 7, 5, 7, 0, 1, 6, 8, 6, 0, 8, 1, 7, 0, 5, 9, 1, 9, 5, 2, 6, 3, 4, 9, 0, 0, 7, 1, 5, 1, 8, 2, 8, 5, 8, 5, 2, 2, 4, 2, 4, 9, 7, 4, 3, 3, 2, 9, 7, 8, 8, 6, 4, 2, 3, 1, 5, 6, 1, 7, 5, 6, 5, 2, 0, 8, 3, 5, 5, 1, 0, 4, 4, 5, 2, 5, 0, 2, 2, 3, 4, 7, 5, 2, 7, 9, 1, 0, 0, 2, 7, 7, 0, 4, 3, 3, 4, 8, 7, 8, 6, 1, 4, 9, 4, 8, 5, 6, 2, 2, 8, 4, 1, 7, 0, 3, 7, 8, 7, 9, 8, 1, 1, 3, 6, 7, 3, 7, 3, 6, 1, 8, 9, 9, 2, 8, 9, 2, 9, 3, 1, 8, 8, 3, 3, 3, 9, 7, 1, 7, 5, 6, 0, 2, 7, 2, 5, 6, 4, 4, 3, 6, 7, 5, 7, 4, 6, 7, 7, 9, 2, 6, 3, 1, 8, 3, 9, 4, 3, 5, 8, 8, 6, 8, 9, 3, 9, 6, 3, 6, 0, 8, 3, 3, 7, 9, 7, 9, 5, 7, 1, 5, 1, 7, 8, 8, 6, 6, 3, 0, 8, 2, 5, 9, 8, 6, 0, 9, 8, 5, 5, 0, 0, 2, 1, 3, 1, 6, 1, 8, 2, 9, 9, 9, 2, 5, 5, 5, 7, 1, 8, 2, 9, 5, 0, 6, 7, 1, 4, 3, 8, 4, 8, 3, 3, 4, 7, 9, 8, 3, 7, 9, 6, 8, 9, 7, 1, 2, 8, 8, 9, 3, 1, 5, 0, 3, 6, 8, 7, 9, 5, 6, 6, 0, 9, 1, 1, 3, 7, 8, 1, 5, 7, 3, 0, 7, 7, 3, 9, 4, 4, 6, 6, 4, 4, 6, 8, 4, 8, 2, 5, 3, 1, 8, 7, 6, 9, 5, 7, 6, 8, 8, 2, 3, 9, 2, 1, 4, 3, 8, 1, 7, 3, 5, 4, 3, 3, 4, 8, 7, 2, 5, 1, 4, 2, 0, 1, 0, 2, 6, 9, 1, 1]\n"
          ]
        }
      ]
    },
    {
      "cell_type": "code",
      "source": [
        "print(labels[0:5])\n",
        "print(labels[-5:])"
      ],
      "metadata": {
        "colab": {
          "base_uri": "https://localhost:8080/"
        },
        "id": "Gi0VM5xgrWPI",
        "outputId": "51add45f-f815-480e-f744-690e3a8d74b0"
      },
      "execution_count": 45,
      "outputs": [
        {
          "output_type": "stream",
          "name": "stdout",
          "text": [
            "[6, 9, 9, 4, 1]\n",
            "[2, 6, 9, 1, 1]\n"
          ]
        }
      ]
    },
    {
      "cell_type": "code",
      "source": [
        "#displaying sample image\n",
        "import cv2\n",
        "from google.colab.patches import cv2_imshow\n",
        "\n",
        "img=cv2.imread('/content/train/7796.png')\n",
        "cv2_imshow(img)"
      ],
      "metadata": {
        "colab": {
          "base_uri": "https://localhost:8080/",
          "height": 49
        },
        "id": "8w-nUGwIrgx6",
        "outputId": "5a92049c-7352-4f54-f2d5-a5781bf0409d"
      },
      "execution_count": 46,
      "outputs": [
        {
          "output_type": "display_data",
          "data": {
            "text/plain": [
              "<PIL.Image.Image image mode=RGB size=32x32>"
            ],
            "image/png": "[encoded data removed]",
            "image/jpeg": "[encoded data removed]"
          },
          "metadata": {}
        }
      ]
    },
    {
      "cell_type": "code",
      "source": [
        "import cv2\n",
        "from google.colab.patches import cv2_imshow\n",
        "\n",
        "img=cv2.imread('/content/train/45888.png')\n",
        "cv2_imshow(img)"
      ],
      "metadata": {
        "colab": {
          "base_uri": "https://localhost:8080/",
          "height": 49
        },
        "id": "dYsHp1zgsQ6B",
        "outputId": "c3b8e65b-3afe-43c9-9cf7-e47f5511aeaf"
      },
      "execution_count": 47,
      "outputs": [
        {
          "output_type": "display_data",
          "data": {
            "text/plain": [
              "<PIL.Image.Image image mode=RGB size=32x32>"
            ],
            "image/png": "[encoded data removed]",
            "image/jpeg": "[encoded data removed]"
          },
          "metadata": {}
        }
      ]
    },
    {
      "cell_type": "code",
      "source": [
        "labels_df.head()"
      ],
      "metadata": {
        "id": "kvGn4uC7syW0",
        "colab": {
          "base_uri": "https://localhost:8080/",
          "height": 206
        },
        "outputId": "30fc258e-502a-4dd6-cbd1-3ef52281f464"
      },
      "execution_count": 48,
      "outputs": [
        {
          "output_type": "execute_result",
          "data": {
            "text/plain": [
              "   id       label\n",
              "0   1        frog\n",
              "1   2       truck\n",
              "2   3       truck\n",
              "3   4        deer\n",
              "4   5  automobile"
            ],
            "text/html": [
              "\n",
              "  <div id=\"df-9ebd1517-fdbf-4482-9dd8-4129c9358281\" class=\"colab-df-container\">\n",
              "    <div>\n",
              "<style scoped>\n",
              "    .dataframe tbody tr th:only-of-type {\n",
              "        vertical-align: middle;\n",
              "    }\n",
              "\n",
              "    .dataframe tbody tr th {\n",
              "        vertical-align: top;\n",
              "    }\n",
              "\n",
              "    .dataframe thead th {\n",
              "        text-align: right;\n",
              "    }\n",
              "</style>\n",
              "<table border=\"1\" class=\"dataframe\">\n",
              "  <thead>\n",
              "    <tr style=\"text-align: right;\">\n",
              "      <th></th>\n",
              "      <th>id</th>\n",
              "      <th>label</th>\n",
              "    </tr>\n",
              "  </thead>\n",
              "  <tbody>\n",
              "    <tr>\n",
              "      <th>0</th>\n",
              "      <td>1</td>\n",
              "      <td>frog</td>\n",
              "    </tr>\n",
              "    <tr>\n",
              "      <th>1</th>\n",
              "      <td>2</td>\n",
              "      <td>truck</td>\n",
              "    </tr>\n",
              "    <tr>\n",
              "      <th>2</th>\n",
              "      <td>3</td>\n",
              "      <td>truck</td>\n",
              "    </tr>\n",
              "    <tr>\n",
              "      <th>3</th>\n",
              "      <td>4</td>\n",
              "      <td>deer</td>\n",
              "    </tr>\n",
              "    <tr>\n",
              "      <th>4</th>\n",
              "      <td>5</td>\n",
              "      <td>automobile</td>\n",
              "    </tr>\n",
              "  </tbody>\n",
              "</table>\n",
              "</div>\n",
              "    <div class=\"colab-df-buttons\">\n",
              "\n",
              "  <div class=\"colab-df-container\">\n",
              "    <button class=\"colab-df-convert\" onclick=\"convertToInteractive('df-9ebd1517-fdbf-4482-9dd8-4129c9358281')\"\n",
              "            title=\"Convert this dataframe to an interactive table.\"\n",
              "            style=\"display:none;\">\n",
              "\n",
              "  <svg xmlns=\"http://www.w3.org/2000/svg\" height=\"24px\" viewBox=\"0 -960 960 960\">\n",
              "    <path d=\"M120-120v-720h720v720H120Zm60-500h600v-160H180v160Zm220 220h160v-160H400v160Zm0 220h160v-160H400v160ZM180-400h160v-160H180v160Zm440 0h160v-160H620v160ZM180-180h160v-160H180v160Zm440 0h160v-160H620v160Z\"/>\n",
              "  </svg>\n",
              "    </button>\n",
              "\n",
              "  <style>\n",
              "    .colab-df-container {\n",
              "      display:flex;\n",
              "      gap: 12px;\n",
              "    }\n",
              "\n",
              "    .colab-df-convert {\n",
              "      background-color: #E8F0FE;\n",
              "      border: none;\n",
              "      border-radius: 50%;\n",
              "      cursor: pointer;\n",
              "      display: none;\n",
              "      fill: #1967D2;\n",
              "      height: 32px;\n",
              "      padding: 0 0 0 0;\n",
              "      width: 32px;\n",
              "    }\n",
              "\n",
              "    .colab-df-convert:hover {\n",
              "      background-color: #E2EBFA;\n",
              "      box-shadow: 0px 1px 2px rgba(60, 64, 67, 0.3), 0px 1px 3px 1px rgba(60, 64, 67, 0.15);\n",
              "      fill: #174EA6;\n",
              "    }\n",
              "\n",
              "    .colab-df-buttons div {\n",
              "      margin-bottom: 4px;\n",
              "    }\n",
              "\n",
              "    [theme=dark] .colab-df-convert {\n",
              "      background-color: #3B4455;\n",
              "      fill: #D2E3FC;\n",
              "    }\n",
              "\n",
              "    [theme=dark] .colab-df-convert:hover {\n",
              "      background-color: #434B5C;\n",
              "      box-shadow: 0px 1px 3px 1px rgba(0, 0, 0, 0.15);\n",
              "      filter: drop-shadow(0px 1px 2px rgba(0, 0, 0, 0.3));\n",
              "      fill: #FFFFFF;\n",
              "    }\n",
              "  </style>\n",
              "\n",
              "    <script>\n",
              "      const buttonEl =\n",
              "        document.querySelector('#df-9ebd1517-fdbf-4482-9dd8-4129c9358281 button.colab-df-convert');\n",
              "      buttonEl.style.display =\n",
              "        google.colab.kernel.accessAllowed ? 'block' : 'none';\n",
              "\n",
              "      async function convertToInteractive(key) {\n",
              "        const element = document.querySelector('#df-9ebd1517-fdbf-4482-9dd8-4129c9358281');\n",
              "        const dataTable =\n",
              "          await google.colab.kernel.invokeFunction('convertToInteractive',\n",
              "                                                    [key], {});\n",
              "        if (!dataTable) return;\n",
              "\n",
              "        const docLinkHtml = 'Like what you see? Visit the ' +\n",
              "          '<a target=\"_blank\" href=https://colab.research.google.com/notebooks/data_table.ipynb>data table notebook</a>'\n",
              "          + ' to learn more about interactive tables.';\n",
              "        element.innerHTML = '';\n",
              "        dataTable['output_type'] = 'display_data';\n",
              "        await google.colab.output.renderOutput(dataTable, element);\n",
              "        const docLink = document.createElement('div');\n",
              "        docLink.innerHTML = docLinkHtml;\n",
              "        element.appendChild(docLink);\n",
              "      }\n",
              "    </script>\n",
              "  </div>\n",
              "\n",
              "\n",
              "<div id=\"df-5737a762-9ded-4ce0-8347-6043fc78d20f\">\n",
              "  <button class=\"colab-df-quickchart\" onclick=\"quickchart('df-5737a762-9ded-4ce0-8347-6043fc78d20f')\"\n",
              "            title=\"Suggest charts\"\n",
              "            style=\"display:none;\">\n",
              "\n",
              "<svg xmlns=\"http://www.w3.org/2000/svg\" height=\"24px\"viewBox=\"0 0 24 24\"\n",
              "     width=\"24px\">\n",
              "    <g>\n",
              "        <path d=\"M19 3H5c-1.1 0-2 .9-2 2v14c0 1.1.9 2 2 2h14c1.1 0 2-.9 2-2V5c0-1.1-.9-2-2-2zM9 17H7v-7h2v7zm4 0h-2V7h2v10zm4 0h-2v-4h2v4z\"/>\n",
              "    </g>\n",
              "</svg>\n",
              "  </button>\n",
              "\n",
              "<style>\n",
              "  .colab-df-quickchart {\n",
              "      --bg-color: #E8F0FE;\n",
              "      --fill-color: #1967D2;\n",
              "      --hover-bg-color: #E2EBFA;\n",
              "      --hover-fill-color: #174EA6;\n",
              "      --disabled-fill-color: #AAA;\n",
              "      --disabled-bg-color: #DDD;\n",
              "  }\n",
              "\n",
              "  [theme=dark] .colab-df-quickchart {\n",
              "      --bg-color: #3B4455;\n",
              "      --fill-color: #D2E3FC;\n",
              "      --hover-bg-color: #434B5C;\n",
              "      --hover-fill-color: #FFFFFF;\n",
              "      --disabled-bg-color: #3B4455;\n",
              "      --disabled-fill-color: #666;\n",
              "  }\n",
              "\n",
              "  .colab-df-quickchart {\n",
              "    background-color: var(--bg-color);\n",
              "    border: none;\n",
              "    border-radius: 50%;\n",
              "    cursor: pointer;\n",
              "    display: none;\n",
              "    fill: var(--fill-color);\n",
              "    height: 32px;\n",
              "    padding: 0;\n",
              "    width: 32px;\n",
              "  }\n",
              "\n",
              "  .colab-df-quickchart:hover {\n",
              "    background-color: var(--hover-bg-color);\n",
              "    box-shadow: 0 1px 2px rgba(60, 64, 67, 0.3), 0 1px 3px 1px rgba(60, 64, 67, 0.15);\n",
              "    fill: var(--button-hover-fill-color);\n",
              "  }\n",
              "\n",
              "  .colab-df-quickchart-complete:disabled,\n",
              "  .colab-df-quickchart-complete:disabled:hover {\n",
              "    background-color: var(--disabled-bg-color);\n",
              "    fill: var(--disabled-fill-color);\n",
              "    box-shadow: none;\n",
              "  }\n",
              "\n",
              "  .colab-df-spinner {\n",
              "    border: 2px solid var(--fill-color);\n",
              "    border-color: transparent;\n",
              "    border-bottom-color: var(--fill-color);\n",
              "    animation:\n",
              "      spin 1s steps(1) infinite;\n",
              "  }\n",
              "\n",
              "  @keyframes spin {\n",
              "    0% {\n",
              "      border-color: transparent;\n",
              "      border-bottom-color: var(--fill-color);\n",
              "      border-left-color: var(--fill-color);\n",
              "    }\n",
              "    20% {\n",
              "      border-color: transparent;\n",
              "      border-left-color: var(--fill-color);\n",
              "      border-top-color: var(--fill-color);\n",
              "    }\n",
              "    30% {\n",
              "      border-color: transparent;\n",
              "      border-left-color: var(--fill-color);\n",
              "      border-top-color: var(--fill-color);\n",
              "      border-right-color: var(--fill-color);\n",
              "    }\n",
              "    40% {\n",
              "      border-color: transparent;\n",
              "      border-right-color: var(--fill-color);\n",
              "      border-top-color: var(--fill-color);\n",
              "    }\n",
              "    60% {\n",
              "      border-color: transparent;\n",
              "      border-right-color: var(--fill-color);\n",
              "    }\n",
              "    80% {\n",
              "      border-color: transparent;\n",
              "      border-right-color: var(--fill-color);\n",
              "      border-bottom-color: var(--fill-color);\n",
              "    }\n",
              "    90% {\n",
              "      border-color: transparent;\n",
              "      border-bottom-color: var(--fill-color);\n",
              "    }\n",
              "  }\n",
              "</style>\n",
              "\n",
              "  <script>\n",
              "    async function quickchart(key) {\n",
              "      const quickchartButtonEl =\n",
              "        document.querySelector('#' + key + ' button');\n",
              "      quickchartButtonEl.disabled = true;  // To prevent multiple clicks.\n",
              "      quickchartButtonEl.classList.add('colab-df-spinner');\n",
              "      try {\n",
              "        const charts = await google.colab.kernel.invokeFunction(\n",
              "            'suggestCharts', [key], {});\n",
              "      } catch (error) {\n",
              "        console.error('Error during call to suggestCharts:', error);\n",
              "      }\n",
              "      quickchartButtonEl.classList.remove('colab-df-spinner');\n",
              "      quickchartButtonEl.classList.add('colab-df-quickchart-complete');\n",
              "    }\n",
              "    (() => {\n",
              "      let quickchartButtonEl =\n",
              "        document.querySelector('#df-5737a762-9ded-4ce0-8347-6043fc78d20f button');\n",
              "      quickchartButtonEl.style.display =\n",
              "        google.colab.kernel.accessAllowed ? 'block' : 'none';\n",
              "    })();\n",
              "  </script>\n",
              "</div>\n",
              "\n",
              "    </div>\n",
              "  </div>\n"
            ],
            "application/vnd.google.colaboratory.intrinsic+json": {
              "type": "dataframe",
              "variable_name": "labels_df",
              "summary": "{\n  \"name\": \"labels_df\",\n  \"rows\": 50000,\n  \"fields\": [\n    {\n      \"column\": \"id\",\n      \"properties\": {\n        \"dtype\": \"number\",\n        \"std\": 14433,\n        \"min\": 1,\n        \"max\": 50000,\n        \"num_unique_values\": 50000,\n        \"samples\": [\n          33554,\n          9428,\n          200\n        ],\n        \"semantic_type\": \"\",\n        \"description\": \"\"\n      }\n    },\n    {\n      \"column\": \"label\",\n      \"properties\": {\n        \"dtype\": \"category\",\n        \"num_unique_values\": 10,\n        \"samples\": [\n          \"dog\",\n          \"truck\",\n          \"horse\"\n        ],\n        \"semantic_type\": \"\",\n        \"description\": \"\"\n      }\n    }\n  ]\n}"
            }
          },
          "metadata": {},
          "execution_count": 48
        }
      ]
    },
    {
      "cell_type": "code",
      "source": [
        "id_list=list(labels_df['id'])"
      ],
      "metadata": {
        "id": "eyUZTWnwPzoi"
      },
      "execution_count": 50,
      "outputs": []
    },
    {
      "cell_type": "markdown",
      "source": [
        "Image processing"
      ],
      "metadata": {
        "id": "NyoN4RbwOu03"
      }
    },
    {
      "cell_type": "code",
      "source": [
        "#convert images to numpy arrays\n",
        "train_data_folder='/content/train/'\n",
        "data=[]\n",
        "for id in id_list:\n",
        "  # img_path=Image.open(train_data_folder + str(id)+'.png')\n",
        "  # print(img_path)\n",
        "\n",
        "  # if id>=5:\n",
        "  #   break\n",
        "  image=Image.open(train_data_folder + str(id) + '.png')\n",
        "  image=np.array(image)\n",
        "  data.append(image)"
      ],
      "metadata": {
        "id": "AZst_kooLnQL"
      },
      "execution_count": 59,
      "outputs": []
    },
    {
      "cell_type": "code",
      "source": [
        "type(data)"
      ],
      "metadata": {
        "colab": {
          "base_uri": "https://localhost:8080/"
        },
        "id": "6n_DeSZjPi_n",
        "outputId": "36d61ab1-93da-441f-b2b8-d73bf04d010a"
      },
      "execution_count": 60,
      "outputs": [
        {
          "output_type": "execute_result",
          "data": {
            "text/plain": [
              "list"
            ]
          },
          "metadata": {},
          "execution_count": 60
        }
      ]
    },
    {
      "cell_type": "code",
      "source": [
        "len(data)"
      ],
      "metadata": {
        "colab": {
          "base_uri": "https://localhost:8080/"
        },
        "id": "6Pgi8cZXRDck",
        "outputId": "188ba064-092a-43a2-e4a7-67ca53f90bfc"
      },
      "execution_count": 61,
      "outputs": [
        {
          "output_type": "execute_result",
          "data": {
            "text/plain": [
              "50000"
            ]
          },
          "metadata": {},
          "execution_count": 61
        }
      ]
    },
    {
      "cell_type": "code",
      "source": [
        "type(data[0])"
      ],
      "metadata": {
        "colab": {
          "base_uri": "https://localhost:8080/"
        },
        "id": "JnATgnmWREs7",
        "outputId": "8ebc9ed5-d905-479c-8159-023a01601752"
      },
      "execution_count": 62,
      "outputs": [
        {
          "output_type": "execute_result",
          "data": {
            "text/plain": [
              "numpy.ndarray"
            ]
          },
          "metadata": {},
          "execution_count": 62
        }
      ]
    },
    {
      "cell_type": "code",
      "source": [
        "data[0].shape"
      ],
      "metadata": {
        "colab": {
          "base_uri": "https://localhost:8080/"
        },
        "id": "Dh5GLJ0_RJ4Y",
        "outputId": "71736c77-2249-42b8-bdea-03e5b7717ecb"
      },
      "execution_count": 63,
      "outputs": [
        {
          "output_type": "execute_result",
          "data": {
            "text/plain": [
              "(32, 32, 3)"
            ]
          },
          "metadata": {},
          "execution_count": 63
        }
      ]
    },
    {
      "cell_type": "code",
      "source": [
        "data[0]"
      ],
      "metadata": {
        "colab": {
          "base_uri": "https://localhost:8080/",
          "height": 886
        },
        "id": "5_0Z6hbSROBT",
        "outputId": "d0a0511c-ce81-47e6-816d-5bd5b0351ec7"
      },
      "execution_count": 64,
      "outputs": [
        {
          "output_type": "execute_result",
          "data": {
            "text/plain": [
              "array([[[ 59,  62,  63],\n",
              "        [ 43,  46,  45],\n",
              "        [ 50,  48,  43],\n",
              "        ...,\n",
              "        [158, 132, 108],\n",
              "        [152, 125, 102],\n",
              "        [148, 124, 103]],\n",
              "\n",
              "       [[ 16,  20,  20],\n",
              "        [  0,   0,   0],\n",
              "        [ 18,   8,   0],\n",
              "        ...,\n",
              "        [123,  88,  55],\n",
              "        [119,  83,  50],\n",
              "        [122,  87,  57]],\n",
              "\n",
              "       [[ 25,  24,  21],\n",
              "        [ 16,   7,   0],\n",
              "        [ 49,  27,   8],\n",
              "        ...,\n",
              "        [118,  84,  50],\n",
              "        [120,  84,  50],\n",
              "        [109,  73,  42]],\n",
              "\n",
              "       ...,\n",
              "\n",
              "       [[208, 170,  96],\n",
              "        [201, 153,  34],\n",
              "        [198, 161,  26],\n",
              "        ...,\n",
              "        [160, 133,  70],\n",
              "        [ 56,  31,   7],\n",
              "        [ 53,  34,  20]],\n",
              "\n",
              "       [[180, 139,  96],\n",
              "        [173, 123,  42],\n",
              "        [186, 144,  30],\n",
              "        ...,\n",
              "        [184, 148,  94],\n",
              "        [ 97,  62,  34],\n",
              "        [ 83,  53,  34]],\n",
              "\n",
              "       [[177, 144, 116],\n",
              "        [168, 129,  94],\n",
              "        [179, 142,  87],\n",
              "        ...,\n",
              "        [216, 184, 140],\n",
              "        [151, 118,  84],\n",
              "        [123,  92,  72]]], dtype=uint8)"
            ],
            "text/html": [
              "<style>\n",
              "      .ndarray_repr .ndarray_raw_data {\n",
              "        display: none;\n",
              "      }\n",
              "      .ndarray_repr.show_array .ndarray_raw_data {\n",
              "        display: block;\n",
              "      }\n",
              "      .ndarray_repr.show_array .ndarray_image_preview {\n",
              "        display: none;\n",
              "      }\n",
              "      </style>\n",
              "      <div id=\"id-ef183409-62a5-482b-b246-741b719c08d2\" class=\"ndarray_repr\"><pre>ndarray (32, 32, 3) <button style=\"padding: 0 2px;\">show data</button></pre><img src=\"data:image/png;base64,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\" class=\"ndarray_image_preview\" /><pre class=\"ndarray_raw_data\">array([[[ 59,  62,  63],\n",
              "        [ 43,  46,  45],\n",
              "        [ 50,  48,  43],\n",
              "        ...,\n",
              "        [158, 132, 108],\n",
              "        [152, 125, 102],\n",
              "        [148, 124, 103]],\n",
              "\n",
              "       [[ 16,  20,  20],\n",
              "        [  0,   0,   0],\n",
              "        [ 18,   8,   0],\n",
              "        ...,\n",
              "        [123,  88,  55],\n",
              "        [119,  83,  50],\n",
              "        [122,  87,  57]],\n",
              "\n",
              "       [[ 25,  24,  21],\n",
              "        [ 16,   7,   0],\n",
              "        [ 49,  27,   8],\n",
              "        ...,\n",
              "        [118,  84,  50],\n",
              "        [120,  84,  50],\n",
              "        [109,  73,  42]],\n",
              "\n",
              "       ...,\n",
              "\n",
              "       [[208, 170,  96],\n",
              "        [201, 153,  34],\n",
              "        [198, 161,  26],\n",
              "        ...,\n",
              "        [160, 133,  70],\n",
              "        [ 56,  31,   7],\n",
              "        [ 53,  34,  20]],\n",
              "\n",
              "       [[180, 139,  96],\n",
              "        [173, 123,  42],\n",
              "        [186, 144,  30],\n",
              "        ...,\n",
              "        [184, 148,  94],\n",
              "        [ 97,  62,  34],\n",
              "        [ 83,  53,  34]],\n",
              "\n",
              "       [[177, 144, 116],\n",
              "        [168, 129,  94],\n",
              "        [179, 142,  87],\n",
              "        ...,\n",
              "        [216, 184, 140],\n",
              "        [151, 118,  84],\n",
              "        [123,  92,  72]]], dtype=uint8)</pre></div><script>\n",
              "      (() => {\n",
              "      const titles = ['show data', 'hide data'];\n",
              "      let index = 0\n",
              "      document.querySelector('#id-ef183409-62a5-482b-b246-741b719c08d2 button').onclick = (e) => {\n",
              "        document.querySelector('#id-ef183409-62a5-482b-b246-741b719c08d2').classList.toggle('show_array');\n",
              "        index = (++index) % 2;\n",
              "        document.querySelector('#id-ef183409-62a5-482b-b246-741b719c08d2 button').textContent = titles[index];\n",
              "        e.preventDefault();\n",
              "        e.stopPropagation();\n",
              "      }\n",
              "      })();\n",
              "    </script>"
            ]
          },
          "metadata": {},
          "execution_count": 64
        }
      ]
    },
    {
      "cell_type": "code",
      "source": [
        "#convert images list and label list to numpy arrays\n",
        "X=np.array(data)\n",
        "Y=np.array(labels)"
      ],
      "metadata": {
        "id": "5BAZrW_aSWhg"
      },
      "execution_count": 65,
      "outputs": []
    },
    {
      "cell_type": "code",
      "source": [
        "type(X)"
      ],
      "metadata": {
        "colab": {
          "base_uri": "https://localhost:8080/"
        },
        "id": "UEC9zuq0S_2k",
        "outputId": "2a4dfed5-129f-4492-f098-88bf72115fb1"
      },
      "execution_count": 66,
      "outputs": [
        {
          "output_type": "execute_result",
          "data": {
            "text/plain": [
              "numpy.ndarray"
            ]
          },
          "metadata": {},
          "execution_count": 66
        }
      ]
    },
    {
      "cell_type": "code",
      "source": [
        "print(X.shape) #50k numpy arrays or 50k images of shape 32*32 with 3 color channels\n",
        "print(Y.shape)"
      ],
      "metadata": {
        "colab": {
          "base_uri": "https://localhost:8080/"
        },
        "id": "mezYBsHmTBVZ",
        "outputId": "cca535bd-e002-4a3b-ae2e-2da367f12225"
      },
      "execution_count": 68,
      "outputs": [
        {
          "output_type": "stream",
          "name": "stdout",
          "text": [
            "(50000, 32, 32, 3)\n",
            "(50000,)\n"
          ]
        }
      ]
    },
    {
      "cell_type": "markdown",
      "source": [
        "Train Test SPlit"
      ],
      "metadata": {
        "id": "Y8c05tr3ThRp"
      }
    },
    {
      "cell_type": "code",
      "source": [
        "X_train,X_test,Y_train,Y_test=train_test_split(X,Y,test_size=0.2,random_state=2)"
      ],
      "metadata": {
        "id": "CkEdfQhGTFQh"
      },
      "execution_count": 69,
      "outputs": []
    },
    {
      "cell_type": "code",
      "source": [
        "print(X.shape,X_train.shape,X_test.shape)"
      ],
      "metadata": {
        "colab": {
          "base_uri": "https://localhost:8080/"
        },
        "id": "Tor8NLm_T2gW",
        "outputId": "53166885-e707-42da-98cf-5aa2920e7e98"
      },
      "execution_count": 70,
      "outputs": [
        {
          "output_type": "stream",
          "name": "stdout",
          "text": [
            "(50000, 32, 32, 3) (40000, 32, 32, 3) (10000, 32, 32, 3)\n"
          ]
        }
      ]
    },
    {
      "cell_type": "code",
      "source": [
        "#Scaling the data\n"
      ],
      "metadata": {
        "id": "hKT6pqvnUIJz"
      },
      "execution_count": null,
      "outputs": []
    }
  ]
}